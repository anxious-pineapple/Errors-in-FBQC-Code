{
 "cells": [
  {
   "cell_type": "markdown",
   "metadata": {},
   "source": [
    "# Summary\n",
    "<br>\n",
    "Code based on https://arxiv.org/abs/1902.09833 \n",
    "<br> Simulating a two level system emmiting a photon into <u><b>mulitple</b></u> cavities using MPO's (opposed to qutip)\n",
    "<br> Unsure how this is different form code 1\n",
    "\n",
    "---"
   ]
  },
  {
   "cell_type": "code",
   "execution_count": 1,
   "metadata": {},
   "outputs": [],
   "source": [
    "from einops import rearrange, reduce, repeat\n",
    "import qutip\n",
    "import numpy as np\n",
    "import matplotlib.pyplot as plt\n",
    "from scipy.interpolate import interp1d\n",
    "from scipy.integrate import odeint"
   ]
  },
  {
   "cell_type": "code",
   "execution_count": 2,
   "metadata": {},
   "outputs": [],
   "source": [
    "t_final = 10\n",
    "\n",
    "g = 1\n",
    "rg = g**0.5\n",
    "\n",
    "no_cav = 3\n",
    "cav_dim = 2"
   ]
  },
  {
   "cell_type": "markdown",
   "metadata": {},
   "source": [
    "# Finding $g_i(t)$'s"
   ]
  },
  {
   "cell_type": "code",
   "execution_count": 3,
   "metadata": {},
   "outputs": [],
   "source": [
    "res = 500\n",
    "c_time = np.linspace(0,t_final,res)\n",
    "corel_c = qutip.destroy(2)\n",
    "corel = qutip.correlation_2op_2t(qutip.qeye(2), qutip.fock(2,1), c_time, c_time, [rg*corel_c,], rg*corel_c.dag(), rg*corel_c)\n",
    "\n",
    "#converting qutip format to t,t' format in paper\n",
    "tdash_corel = np.zeros_like(corel)\n",
    "for i in range(res):\n",
    "    tdash_corel[i][i:] = corel[i][:(res-i)]\n",
    "tdash_corel = tdash_corel + tdash_corel.T - (tdash_corel*np.eye(res))\n",
    "\n",
    "\n",
    "n, func = np.linalg.eig(tdash_corel)\n",
    "n = n/np.sum(n)                                     #renormalising for one photon\n",
    "func_ = func/np.sqrt(c_time[1])                       #renormalising integration to one\n",
    "\n",
    "v_funct = dict()\n",
    "alpha_funct = dict()\n",
    "g_funct = dict()\n",
    "# format -> cav_no(i) influenced by cav_no(j)\n",
    "# cav_no(i) if influenced by 0, means uninfluenced\n",
    "#cavities are indexed 1 to no_cav\n",
    "\n",
    "def da_vi_j(alpha, t ,i ,j ):\n",
    "    da_vi_j = -(g_funct[j](t) * v_funct[i,j-1](t)) - (0.5*alpha*(g_funct[j](t))**2)\n",
    "    return da_vi_j\n",
    "\n",
    "def g_cnstr(v_list):\n",
    "    return np.real(-v_list/(c_time[1]*np.cumsum(v_list**2))**0.5)\n",
    "\n",
    "for i in range(1, no_cav+1):\n",
    "    #cavity no is i \n",
    "    v_funct[i,0] = interp1d(c_time, np.real(func_[:,i-1]), kind='cubic', fill_value='extrapolate')\n",
    "\n",
    "    for j in range(1,i):\n",
    "        #cavity no i, influenced by cavity j\n",
    "        # till j = i-1\n",
    "\n",
    "        # generate alpha[i,j]\n",
    "        alpha_list = odeint(da_vi_j,0,c_time,args=(i,j))[:,0]\n",
    "        alpha_funct[i,j] = interp1d(c_time, alpha_list, kind='cubic',fill_value='extrapolate')\n",
    "\n",
    "        #generate v[i,j]\n",
    "        v_funct[i,j] = interp1d(c_time, (v_funct[i,j-1](c_time) + (g_funct[j](c_time) * alpha_funct[i,j](c_time))), kind='cubic',fill_value='extrapolate')\n",
    "\n",
    "    # generate g[i]\n",
    "    g_funct[i] = qutip.interpolate.Cubic_Spline(0, t_final, g_cnstr(v_funct[i,i-1](c_time)))\n",
    "\n",
    "\n",
    "del (c_time, corel_c, corel, n, func, v_funct, alpha_funct )\n"
   ]
  },
  {
   "cell_type": "code",
   "execution_count": 4,
   "metadata": {},
   "outputs": [
    {
     "data": {
      "image/png": "[encoded data removed]",
      "text/plain": [
       "<Figure size 640x480 with 1 Axes>"
      ]
     },
     "metadata": {},
     "output_type": "display_data"
    }
   ],
   "source": [
    "for i in range(1,1+no_cav):\n",
    "    plt.plot(np.linspace(0,t_final,res), g_funct[i](np.linspace(0,t_final,res)))"
   ]
  },
  {
   "cell_type": "markdown",
   "metadata": {},
   "source": [
    "# Initialising System"
   ]
  },
  {
   "cell_type": "code",
   "execution_count": 5,
   "metadata": {},
   "outputs": [],
   "source": [
    "#atom_a \n",
    "c = qutip.destroy(2).full()\n",
    "\n",
    "#atom_adag\n",
    "cd = qutip.destroy(2).dag().full()\n",
    "\n",
    "#cav_a \n",
    "a = qutip.destroy(cav_dim).full()\n",
    "\n",
    "#cav_adag \n",
    "ad = qutip.destroy(cav_dim).dag().full()"
   ]
  },
  {
   "cell_type": "code",
   "execution_count": 6,
   "metadata": {},
   "outputs": [],
   "source": [
    "mpo_list = list()\n",
    "\n",
    "#adding atom\n",
    "mpo_list.append(qutip.fock_dm(2,1).full()[np.newaxis,:,np.newaxis,:])\n",
    "\n",
    "#adding cavities\n",
    "for i in range(no_cav):\n",
    "    mpo_list.append(qutip.fock_dm(cav_dim,0).full()[np.newaxis,:,np.newaxis,:])"
   ]
  },
  {
   "cell_type": "markdown",
   "metadata": {},
   "source": [
    "# Functions"
   ]
  },
  {
   "cell_type": "code",
   "execution_count": 7,
   "metadata": {},
   "outputs": [],
   "source": [
    "def svd_red(list_mpo):\n",
    "\n",
    "    mpo_copy = list_mpo.copy()\n",
    "\n",
    "    if mpo_copy[0].shape[0] > 1 :\n",
    "        #print(mpo_copy[0].shape)\n",
    "        mpo_copy[0] = np.sum(mpo_copy[0], axis=0)[np.newaxis, :, :, :]\n",
    "    if mpo_copy[-1].shape[2] > 1 :\n",
    "        #print(mpo_copy[-1].shape)\n",
    "        mpo_copy[-1] = np.sum(mpo_copy[-1], axis=2)[ :, :, np.newaxis, :]\n",
    "\n",
    "    reduced_list = [mpo_copy[0],]\n",
    "\n",
    "    for i in range(no_cav):\n",
    "        combine_mpo = rearrange( np.einsum( 'a b c d, c e f g-> a b e f d g' , reduced_list[i], mpo_copy[i+1]), 'a b e f d g -> (a b d) (e g f)')\n",
    "        u, s, v = np.linalg.svd( combine_mpo , full_matrices=False)\n",
    "        reduced_list[i] = rearrange( u, '(a b d) x -> a b x d', a=reduced_list[i].shape[0], b=reduced_list[i].shape[1], d=reduced_list[i].shape[3])\n",
    "        reduced_list.append( rearrange(np.diag(s)@v, 'x (e g f) -> x e f g', e=mpo_copy[i+1].shape[1], g=mpo_copy[i+1].shape[3], f=mpo_copy[i+1].shape[2] ) )\n",
    "    \n",
    "    del(mpo_copy, combine_mpo, u, s, v)\n",
    "    \n",
    "    return reduced_list"
   ]
  },
  {
   "cell_type": "code",
   "execution_count": 8,
   "metadata": {},
   "outputs": [],
   "source": [
    "def mpo_add(list1, list2):\n",
    "    #assuming length of list1 and list 2 is the same\n",
    "    sum_list = list()\n",
    "\n",
    "    for i in range(len(list1)):\n",
    "        #immutable axes are 1,3 of 0,1,2,3 \n",
    "        s1 = list1[i].shape[1]\n",
    "        s3 = list1[i].shape[3]\n",
    "        '''\n",
    "        if list1[i].shape[0] == 1 :\n",
    "            sum_list.append(np.append( list1[i], list2[i], axis = 2 ))\n",
    "        elif list1[i].shape[2] == 1 :\n",
    "            sum_list.append(np.append( list1[i], list2[i], axis = 0 ))\n",
    "        else: '''\n",
    "        top = np.append( list1[i], np.zeros((list2[i].shape[0],s1,list1[i].shape[2],s3)), axis=0)\n",
    "        bottom = np.append(np.zeros((list1[i].shape[0],s1,list2[i].shape[2],s3)),list2[i], axis =0)\n",
    "        sum_list.append(np.append( top, bottom, axis=2 ))\n",
    "\n",
    "    del( i, s1, s3, top, bottom)\n",
    "\n",
    "    return svd_red(sum_list)\n"
   ]
  },
  {
   "cell_type": "code",
   "execution_count": 9,
   "metadata": {},
   "outputs": [],
   "source": [
    "def mpo_mul(list1, list2):\n",
    "\n",
    "    mul_list = list()\n",
    "\n",
    "    for i in range(len(list1)):\n",
    "        combine_term = np.einsum( 'a b c d, e d f g -> a e b c f g', list1[i], list2[i])\n",
    "        combine_term = rearrange( combine_term, 'a e b c f g -> (a e) b (c f) g')\n",
    "        mul_list.append(combine_term)\n",
    "\n",
    "    del( combine_term)\n",
    "\n",
    "    return svd_red(mul_list)"
   ]
  },
  {
   "cell_type": "code",
   "execution_count": 10,
   "metadata": {},
   "outputs": [],
   "source": [
    "def mpo_trace(mpo_list):\n",
    "    mpo_red = np.einsum('a b d b', mpo_list[0])\n",
    "    for i in range(1,1+no_cav):\n",
    "        combine_mpo =  np.einsum( 'a c, c e f e-> a f' , mpo_red, mpo_list[i])\n",
    "        mpo_red = np.copy(combine_mpo)\n",
    "    del(combine_mpo)\n",
    "    return mpo_red[0,0]\n",
    "\n",
    "def exp_val(mpo_list, cav_num = -1):\n",
    "    if cav_num == -1 :\n",
    "        return mpo_trace(mpo_list)\n",
    "    else:\n",
    "        n_op = ad@a\n",
    "        if cav_num == 0:\n",
    "            n_op = cd@c\n",
    "        list_copy = mpo_list.copy()\n",
    "        list_copy[cav_num] = np.einsum( 'x b, a b c d-> a x c d' , n_op, mpo_list[cav_num])\n",
    "        return mpo_trace(list_copy) \n"
   ]
  },
  {
   "cell_type": "markdown",
   "metadata": {},
   "source": [
    "# Setting up Hamiltonian"
   ]
  },
  {
   "cell_type": "code",
   "execution_count": 11,
   "metadata": {},
   "outputs": [],
   "source": [
    "pre_term = list([0,]*(no_cav+1))\n",
    "post_term = list([0,]*(no_cav+1))\n",
    "L_term = list([0,]*(no_cav+1))\n",
    "Ld_term = list([0,]*(no_cav+1))"
   ]
  },
  {
   "cell_type": "code",
   "execution_count": 12,
   "metadata": {},
   "outputs": [],
   "source": [
    "mpo_dim = 1 + no_cav + int((no_cav*0.5*(no_cav+1)))"
   ]
  },
  {
   "cell_type": "code",
   "execution_count": 13,
   "metadata": {},
   "outputs": [],
   "source": [
    "for i in range(no_cav+1):\n",
    "    #initialising mpo with appropriate size, all matrices at first\n",
    "    if i == 0:\n",
    "        pre_term[i] = np.array( list([ list([ np.zeros((2,2))])*mpo_dim ])*mpo_dim ) *0j\n",
    "        post_term[i] = np.array( list([ list([ np.zeros((2,2))])*mpo_dim ])*mpo_dim ) *0j\n",
    "        L_term[i] = np.array( list([ list([ np.zeros((2,2))])*(no_cav+1) ])*(no_cav+1) ) *0j\n",
    "        Ld_term[i] = np.array( list([ list([ np.zeros((2,2))])*(no_cav+1) ])*(no_cav+1) ) *0j\n",
    "\n",
    "        pre_term[i][0][0] = 0.5*g*cd@c\n",
    "        post_term[i][0][0] = 0.5*g*cd@c\n",
    "        L_term[i][0][0] = rg*c\n",
    "        Ld_term[i][0][0] = rg*cd\n",
    "\n",
    "        for j in range(1,1+no_cav):\n",
    "            pre_term[i][j][j]  = rg*c\n",
    "            post_term[i][j][j] = rg*cd\n",
    "            L_term[i][j][j] = np.eye(2)\n",
    "            Ld_term[i][j][j] = np.eye(2)\n",
    "\n",
    "        for j in range(no_cav+1, mpo_dim):\n",
    "            pre_term[i][j][j] = np.eye(2)\n",
    "            post_term[i][j][j] = np.eye(2)\n",
    "        \n",
    "        pre_term[i] *= -1.0\n",
    "        post_term[i] *= -1.0\n",
    "        \n",
    "    else:\n",
    "        pre_term[i] = np.array( list([ list([ np.zeros((cav_dim,cav_dim))])*mpo_dim ])*mpo_dim ) *0j\n",
    "        post_term[i] = np.array( list([ list([ np.zeros((cav_dim,cav_dim))])*mpo_dim ])*mpo_dim ) *0j\n",
    "        L_term[i] = np.array( list([ list([ np.zeros((cav_dim,cav_dim))])*(no_cav+1) ])*(no_cav+1) ) *0j\n",
    "        Ld_term[i] = np.array( list([ list([ np.zeros((cav_dim,cav_dim))])*(no_cav+1) ])*(no_cav+1) ) *0j\n",
    "\n",
    "        pre_term[i][0][0] = np.eye(cav_dim)\n",
    "        post_term[i][0][0] = np.eye(cav_dim)\n",
    "        L_term[i][0][0] = np.eye(cav_dim)\n",
    "        Ld_term[i][0][0] = np.eye(cav_dim)\n",
    "\n",
    "        for j in range(1,1+no_cav):\n",
    "            pre_term[i][j][j] = np.eye(cav_dim)\n",
    "            post_term[i][j][j] = np.eye(cav_dim)\n",
    "            L_term[i][j][j] = np.eye(cav_dim)\n",
    "            Ld_term[i][j][j] = np.eye(cav_dim)\n",
    "            if j==i :\n",
    "                pre_term[i][j][j] = ad\n",
    "                post_term[i][j][j] = a\n",
    "                L_term[i][j][j] = a\n",
    "                Ld_term[i][j][j] = ad\n",
    "                \n",
    "        index = 1 + no_cav\n",
    "        \n",
    "        for j in range(no_cav):\n",
    "            for k in range(j+1):\n",
    "                pre_term[i][index][index] = np.eye(cav_dim)\n",
    "                post_term[i][index][index] = np.eye(cav_dim)\n",
    "                if i == (j+1):\n",
    "                    if j==k:\n",
    "                        pre_term[i][index][index] = 0.5*ad@a\n",
    "                        post_term[i][index][index] = 0.5*ad@a\n",
    "                    else:\n",
    "                        pre_term[i][index][index] = ad\n",
    "                        post_term[i][index][index] = a\n",
    "                else:\n",
    "                    if i==k+1:\n",
    "                        pre_term[i][index][index] = a\n",
    "                        post_term[i][index][index] = ad\n",
    "                index += 1\n",
    "    \n",
    "    pre_term[i] = rearrange(pre_term[i], 'a b c d-> a c b d')\n",
    "    post_term[i] = rearrange(post_term[i], 'a b c d-> a c b d')\n",
    "    L_term[i] = rearrange(L_term[i], 'a b c d-> a c b d')\n",
    "    Ld_term[i] = rearrange(Ld_term[i], 'a b c d-> a c b d')\n"
   ]
  },
  {
   "cell_type": "code",
   "execution_count": 14,
   "metadata": {},
   "outputs": [],
   "source": [
    "#to add time updating Mpo \n",
    "\n",
    "def time_update(time_):\n",
    "\n",
    "    for i in range(1,no_cav+1):\n",
    "        #initialising mpo with appropriate size, all matrices at first\n",
    "        for j in range(1,1+no_cav):\n",
    "            if j==i :\n",
    "                pre_term[i][j,:,j,:] = g_funct[i](time_) * ad\n",
    "                post_term[i][j,:,j,:] = g_funct[i](time_) * a\n",
    "                L_term[i][j,:,j,:] = g_funct[i](time_) * a\n",
    "                Ld_term[i][j,:,j,:] = g_funct[i](time_) * ad          \n",
    "        index = 1 + no_cav\n",
    "        for j in range(no_cav):\n",
    "            for k in range(j+1):\n",
    "                if i == (j+1):\n",
    "                    if j==k:\n",
    "                        pre_term[i][index,:,index,:] = 0.5 * np.square(g_funct[i](time_)) * ad@a\n",
    "                        post_term[i][index,:,index,:] = 0.5 * np.square(g_funct[i](time_)) * ad@a\n",
    "                    else:\n",
    "                        pre_term[i][index,:,index,:] = g_funct[i](time_) * ad\n",
    "                        post_term[i][index,:,index,:] = g_funct[i](time_) * a\n",
    "                else:\n",
    "                    if i==k+1:\n",
    "                        pre_term[i][index,:,index,:] = g_funct[i](time_) * a\n",
    "                        post_term[i][index,:,index,:] = g_funct[i](time_) * ad\n",
    "                index += 1\n",
    "    "
   ]
  },
  {
   "cell_type": "markdown",
   "metadata": {},
   "source": [
    "# Time Evolution"
   ]
  },
  {
   "cell_type": "code",
   "execution_count": 15,
   "metadata": {},
   "outputs": [],
   "source": [
    "time_series = np.linspace(0,t_final,50)\n",
    "dt = time_series[1]\n",
    "\n",
    "#mpo at ith time step\n",
    "mpo_i = mpo_list.copy()\n",
    "\n",
    "exp_values_list = list()\n",
    "for i in range(1+no_cav):\n",
    "    exp_values_list.append(list([exp_val(mpo_i,i)]))\n",
    "exp_values_list.append(list([exp_val(mpo_i)]))\n",
    "\n",
    "for time_ in time_series[1:]:\n",
    "\n",
    "    time_update(time_)\n",
    "    \n",
    "    term_1 = mpo_mul(pre_term,mpo_i)\n",
    "    term_2 = mpo_mul(mpo_i, post_term)\n",
    "    term_3 = mpo_mul(mpo_mul(L_term, mpo_i), Ld_term)\n",
    "\n",
    "    d_rho = mpo_add(mpo_add(term_1, term_2), term_3)\n",
    "    d_rho[0] *= dt\n",
    "\n",
    "    mpo_i = mpo_add(mpo_i, d_rho)\n",
    "    trace_ = exp_val(mpo_i)\n",
    "    mpo_i[0] /= trace_\n",
    "\n",
    "    for i in range(1+no_cav):\n",
    "        exp_values_list[i].append(exp_val(mpo_i,i))\n",
    "    exp_values_list[-1].append(exp_val(mpo_i, -1))\n"
   ]
  },
  {
   "cell_type": "code",
   "execution_count": 16,
   "metadata": {},
   "outputs": [
    {
     "name": "stderr",
     "output_type": "stream",
     "text": [
      "/Users/ygup3491/Library/Python/3.9/lib/python/site-packages/matplotlib/cbook/__init__.py:1345: ComplexWarning: Casting complex values to real discards the imaginary part\n",
      "  return np.asarray(x, float)\n"
     ]
    },
    {
     "data": {
      "image/png": "[encoded data removed]",
      "text/plain": [
       "<Figure size 640x480 with 1 Axes>"
      ]
     },
     "metadata": {},
     "output_type": "display_data"
    }
   ],
   "source": [
    "\n",
    "for i in range(1+no_cav):\n",
    "    plt.plot(time_series, exp_values_list[i])\n",
    "#plt.plot(time_evol, cav_2)"
   ]
  },
  {
   "cell_type": "code",
   "execution_count": null,
   "metadata": {},
   "outputs": [],
   "source": []
  },
  {
   "cell_type": "code",
   "execution_count": 4,
   "metadata": {},
   "outputs": [
    {
     "data": {
      "text/plain": [
       "array([[-1.+1.2246468e-16j,  1.+0.0000000e+00j,  1.+0.0000000e+00j],\n",
       "       [ 1.+0.0000000e+00j, -1.+1.2246468e-16j,  1.+0.0000000e+00j],\n",
       "       [ 1.+0.0000000e+00j,  1.+0.0000000e+00j, -1.+1.2246468e-16j]])"
      ]
     },
     "execution_count": 4,
     "metadata": {},
     "output_type": "execute_result"
    }
   ],
   "source": [
    "np.exp(1j*np.pi*np.eye(3))"
   ]
  },
  {
   "cell_type": "code",
   "execution_count": 6,
   "metadata": {},
   "outputs": [
    {
     "name": "stderr",
     "output_type": "stream",
     "text": [
      "/var/folders/s9/whvhj6gs5cx001kw71n2wfqr0000gq/T/ipykernel_82924/1906294815.py:1: RuntimeWarning: divide by zero encountered in log\n",
      "  np.eye(2)*2 @ np.log(np.eye(2)*2)\n",
      "/var/folders/s9/whvhj6gs5cx001kw71n2wfqr0000gq/T/ipykernel_82924/1906294815.py:1: RuntimeWarning: invalid value encountered in matmul\n",
      "  np.eye(2)*2 @ np.log(np.eye(2)*2)\n"
     ]
    },
    {
     "data": {
      "text/plain": [
       "array([[ nan, -inf],\n",
       "       [-inf,  nan]])"
      ]
     },
     "execution_count": 6,
     "metadata": {},
     "output_type": "execute_result"
    }
   ],
   "source": [
    "np.eye(2)*2 @ np.log(np.eye(2)*2)"
   ]
  },
  {
   "cell_type": "code",
   "execution_count": null,
   "metadata": {},
   "outputs": [],
   "source": []
  }
 ],
 "metadata": {
  "kernelspec": {
   "display_name": "Python 3",
   "language": "python",
   "name": "python3"
  },
  "language_info": {
   "codemirror_mode": {
    "name": "ipython",
    "version": 3
   },
   "file_extension": ".py",
   "mimetype": "text/x-python",
   "name": "python",
   "nbconvert_exporter": "python",
   "pygments_lexer": "ipython3",
   "version": "3.9.6"
  },
  "orig_nbformat": 4
 },
 "nbformat": 4,
 "nbformat_minor": 2
}
