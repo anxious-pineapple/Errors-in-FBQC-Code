{
 "cells": [
  {
   "cell_type": "markdown",
   "metadata": {},
   "source": [
    "# Summary\n",
    "<br>\n",
    "Code based on https://arxiv.org/abs/1902.09833 \n",
    "<br> Simulating a cavity, emmiting to a two level system, emmiting a photon into a cavity using qutip.\n",
    "<br>\n",
    "\n",
    "---"
   ]
  },
  {
   "cell_type": "code",
   "execution_count": 21,
   "metadata": {
    "id": "h-pVvLguMetr"
   },
   "outputs": [],
   "source": [
    "import qutip\n",
    "import numpy as np\n",
    "import matplotlib.pyplot as plt\n",
    "from scipy.integrate import quad\n",
    "from scipy.special import erf\n",
    "#from scipy import constants as const"
   ]
  },
  {
   "cell_type": "code",
   "execution_count": 44,
   "metadata": {},
   "outputs": [],
   "source": [
    "#Number of fock states in the inputoutput cavity\n",
    "N_u = 2\n",
    "N_v = 2\n",
    "\n",
    "#Coupling constant         \n",
    "mu = 3\n",
    "sigma = 0.8\n",
    "gamma = 0.2"
   ]
  },
  {
   "cell_type": "code",
   "execution_count": 45,
   "metadata": {
    "id": "eQQ0IWPha1Ar"
   },
   "outputs": [],
   "source": [
    "\n",
    "#Defining the shape of the output pulse as a function of time\n",
    "def v(t,args=None):\n",
    "    b = (t-mu+(0.5*gamma*sigma*sigma))/(sigma*np.sqrt(2))\n",
    "    term = (erf(-1*b)+1) * np.exp(b**2) * 0.5 * gamma * np.sqrt(np.pi**0.5)\n",
    "    term_2 = (1 - term) * u(t,None)\n",
    "  #return 4*np.exp(-0.5*16*(t-5)**2)/(2*np.pi)**0.5\n",
    "    #return 0.5 + (np.arctan(5*(-t))/np.pi)\n",
    "    return term_2\n",
    "    #return 10\n",
    "    #return np.sqrt(gamma)*np.exp(-t*gamma/2)\n",
    "#*np.heaviside()\n",
    "\n",
    "#Defining |v(t)|^2 \n",
    "def v_2(t):\n",
    "    return np.conj(v(t))*v(t)\n",
    "\n",
    "#Defining the time dependent coupling\n",
    "def g_v(t, args):\n",
    "    integral = quad(v_2, 0, t)[0]\n",
    "    #return -np.conj(v(t))/ ( integral**0.5 )\n",
    "  #return -1*np.conj(v(t))/ ( 1 - np.exp(-t*gamma) )**0.5\n",
    "  #return (-1/( np.exp(t*gamma) - 1 )**0.5)\n",
    "    return 0\n",
    "\n",
    "###########################################\n",
    "    \n",
    "def u(t,args=None):\n",
    "    #gauss = np.exp(-0.5*( (t-mu)/sigma )**2)/(sigma*(2*np.pi)**0.5)\n",
    "    gauss = np.exp(-0.5*( (t-mu)/sigma )**2)/(np.pi**0.25)\n",
    "    #return np.sqrt(gamma)*np.exp(-t*gamma/2)\n",
    "    return gauss\n",
    "\n",
    "#Defining |u(t)|^2 \n",
    "def u_2(t):\n",
    "    return np.conj(u(t))*u(t)\n",
    "    \n",
    "\n",
    "\n",
    "#Defining the time dependent coupling\n",
    "def g_u(t, args):\n",
    "    integral = quad(u_2, 0, t)[0]\n",
    "    return np.conj(u(t))/ (1-integral)**0.5 \n",
    "    #return 0\n",
    "\n",
    "def g_uv(t,args):\n",
    "    return g_u(t,None)*g_v(t,None)\n"
   ]
  },
  {
   "cell_type": "code",
   "execution_count": 46,
   "metadata": {},
   "outputs": [
    {
     "data": {
      "text/plain": [
       "[<matplotlib.lines.Line2D at 0x12cc03b20>]"
      ]
     },
     "execution_count": 46,
     "metadata": {},
     "output_type": "execute_result"
    },
    {
     "data": {
      "image/png": "[encoded data removed]",
      "text/plain": [
       "<Figure size 640x480 with 1 Axes>"
      ]
     },
     "metadata": {},
     "output_type": "display_data"
    }
   ],
   "source": [
    "\n",
    "t_no = 10\n",
    "\n",
    "#Plotting out the output pulse and time dependent coupling\n",
    "times = np.linspace(0.1, 15, t_no)\n",
    "\n",
    "plt.plot(times, [v(t) for t in times]) \n",
    "plt.plot(times, [u(t) for t in times]) \n",
    "plt.plot(times, [g_v(t, None) for t in times]) \n",
    "plt.plot(times, [g_u(t, None) for t in times]) \n"
   ]
  },
  {
   "cell_type": "code",
   "execution_count": 47,
   "metadata": {
    "colab": {
     "base_uri": "https://localhost:8080/",
     "height": 510
    },
    "id": "CXGvgCbXNYwQ",
    "outputId": "23874224-34ce-4d35-c631-33e706020a69"
   },
   "outputs": [],
   "source": [
    "\n",
    "#Defining initial state of the system and cavity, with the system in excited state \n",
    "psi0 = qutip.tensor(qutip.fock(N_u, 1), qutip.fock(2,0), qutip.fock(N_v, 0))\n",
    "\n",
    "#Anihilation operator of the cavity\n",
    "a_u  = qutip.tensor(qutip.destroy(N_u), qutip.qeye(2), qutip.qeye(N_v))\n",
    "a_v  = qutip.tensor(qutip.qeye(N_u), qutip.qeye(2), qutip.destroy(N_v))\n",
    "\n",
    "#Lowering operator of the system\n",
    "c = qutip.tensor(qutip.qeye(N_u), qutip.destroy(2), qutip.qeye(N_v))\n",
    "\n",
    "H = [ c.dag()*c , [ 0.5j*(gamma**0.5)*( (c.dag()*a_v)-(a_v.dag()*c) ) , g_v], [  0.5j*(gamma**0.5)*( (a_u.dag()*c)-(c.dag()*a_u) ) ,g_u], [0.5j*((a_u.dag()*a_v)- (a_v.dag()*a_u)) ,g_uv]]                     #Net time dependent Hamiltonian (Eq 5 in the Quantum Pulses paper)\n",
    "\n",
    "L_0 = [ (gamma**0.5)*c, [a_v, g_v], [a_u, g_u]]                                                #Lindblad operator 0 (Eq 6)\n",
    "L_0dag = [ (gamma**0.5)*c.dag(), [a_v.dag(), g_v], [a_u.dag(), g_u]]\n",
    "\n",
    "I = qutip.tensor(qutip.qeye(N_u), qutip.qeye(2), qutip.qeye(N_v))\n",
    "\n",
    "result = qutip.mesolve(H, psi0, times, [L_0], [a_u.dag()*a_u, c.dag()*c, a_v.dag()*a_v])            #Evolving the system , with output c*c and a*a\n"
   ]
  },
  {
   "cell_type": "code",
   "execution_count": 48,
   "metadata": {},
   "outputs": [],
   "source": [
    "result_states = qutip.mesolve(H, psi0, times, [L_0,], [])            #Evolving the system , with output of rho's at various times\n",
    "I_0 = list()\n",
    "for q in range(t_no):\n",
    "    L_0t = ( (gamma**0.5)*c + a_v*g_v(times[q], None) + a_u*g_u(times[q], None)) \n",
    "    I_0.append( (L_0t.dag() * L_0t * result_states.states[q]).tr() )"
   ]
  },
  {
   "cell_type": "code",
   "execution_count": 49,
   "metadata": {
    "colab": {
     "base_uri": "https://localhost:8080/",
     "height": 297
    },
    "id": "51s5qwgDzOVN",
    "outputId": "e288560f-69e1-4ea6-a40b-db0926aaa02e"
   },
   "outputs": [
    {
     "data": {
      "image/png": "[encoded data removed]",
      "text/plain": [
       "<Figure size 640x480 with 1 Axes>"
      ]
     },
     "metadata": {},
     "output_type": "display_data"
    },
    {
     "data": {
      "text/plain": [
       "0.2"
      ]
     },
     "execution_count": 49,
     "metadata": {},
     "output_type": "execute_result"
    }
   ],
   "source": [
    "plt.figure() \n",
    "plt.plot(times, result.expect[0]) \n",
    "plt.plot(times, result.expect[1]) \n",
    "plt.plot(times, result.expect[2]) \n",
    "#plt.plot(times, result.expect[1]+result.expect[2]) \n",
    "#plt.plot(times, (np.cumsum(I_0)-I_0[0])*(times[1]-times[0]) )\n",
    "\n",
    "plt.plot([times[0], times[-1]], [result.expect[0][-1], result.expect[0][-1]],'--') \n",
    "#plt.plot([times[0], times[-1]], [result.expect[1][-1], result.expect[1][-1]],'--')\n",
    "#plt.plot(times, (np.cumsum(I_0)-I_0[0])*(times[1]-times[0]) )\n",
    "#plt.plot(times, (np.cumsum(I_0)-I_0[0])*(times[1]-times[0]) + result.expect[1] , 'b')\n",
    "#plt.plot(times, result.expect[2]) \n",
    "#plt.plot(times, result.expect[3]) \n",
    "\n",
    "plt.xlabel('Time') \n",
    "plt.ylabel('Expectation values') \n",
    "plt.legend((\"input cavity photon no\", \"atom excitation probability\", \"output cavity photon no\")) \n",
    "plt.show() \n",
    "gamma"
   ]
  },
  {
   "cell_type": "code",
   "execution_count": 50,
   "metadata": {},
   "outputs": [
    {
     "data": {
      "text/plain": [
       "(0.7702140469270591+4.512247756146114e-17j)"
      ]
     },
     "execution_count": 50,
     "metadata": {},
     "output_type": "execute_result"
    }
   ],
   "source": [
    "((np.cumsum(I_0)-I_0[0])*(times[1]-times[0]) + result.expect[1])[-1]"
   ]
  },
  {
   "cell_type": "code",
   "execution_count": 29,
   "metadata": {},
   "outputs": [
    {
     "data": {
      "text/latex": [
       "Quantum object: dims = [[2, 2, 2], [2, 2, 2]], shape = (8, 8), type = oper, isherm = True $ \\\\ \\left(\\begin{matrix}1.0 & 0.0 & 0.0 & 0.0 & 0.0 & 0.0 & 0.0 & 0.0\\\\0.0 & 1.0 & 0.0 & 0.0 & 0.0 & 0.0 & 0.0 & 0.0\\\\0.0 & 0.0 & 1.0 & 0.0 & 0.0 & 0.0 & 0.0 & 0.0\\\\0.0 & 0.0 & 0.0 & 1.0 & 0.0 & 0.0 & 0.0 & 0.0\\\\0.0 & 0.0 & 0.0 & 0.0 & 1.0 & 0.0 & 0.0 & 0.0\\\\0.0 & 0.0 & 0.0 & 0.0 & 0.0 & 1.0 & 0.0 & 0.0\\\\0.0 & 0.0 & 0.0 & 0.0 & 0.0 & 0.0 & 1.0 & 0.0\\\\0.0 & 0.0 & 0.0 & 0.0 & 0.0 & 0.0 & 0.0 & 1.0\\\\\\end{matrix}\\right)$"
      ],
      "text/plain": [
       "Quantum object: dims = [[2, 2, 2], [2, 2, 2]], shape = (8, 8), type = oper, isherm = True\n",
       "Qobj data =\n",
       "[[1. 0. 0. 0. 0. 0. 0. 0.]\n",
       " [0. 1. 0. 0. 0. 0. 0. 0.]\n",
       " [0. 0. 1. 0. 0. 0. 0. 0.]\n",
       " [0. 0. 0. 1. 0. 0. 0. 0.]\n",
       " [0. 0. 0. 0. 1. 0. 0. 0.]\n",
       " [0. 0. 0. 0. 0. 1. 0. 0.]\n",
       " [0. 0. 0. 0. 0. 0. 1. 0.]\n",
       " [0. 0. 0. 0. 0. 0. 0. 1.]]"
      ]
     },
     "execution_count": 29,
     "metadata": {},
     "output_type": "execute_result"
    }
   ],
   "source": [
    "I"
   ]
  },
  {
   "cell_type": "code",
   "execution_count": 13,
   "metadata": {},
   "outputs": [
    {
     "data": {
      "text/plain": [
       "array([[1.+0.j, 1.+0.j],\n",
       "       [1.+0.j, 1.+0.j]])"
      ]
     },
     "execution_count": 13,
     "metadata": {},
     "output_type": "execute_result"
    }
   ],
   "source": [
    "qutip.correlation_2op_2t(H, psi0, [0,0.1], [0,0.2], [L_0], I , I )"
   ]
  },
  {
   "cell_type": "code",
   "execution_count": 14,
   "metadata": {},
   "outputs": [
    {
     "data": {
      "text/plain": [
       "0j"
      ]
     },
     "execution_count": 14,
     "metadata": {},
     "output_type": "execute_result"
    }
   ],
   "source": [
    "qutip.correlation_2op_2t(H, psi0, [0,0.2], [0,0.3], [L_0], c , c )[1][1]"
   ]
  },
  {
   "cell_type": "code",
   "execution_count": null,
   "metadata": {},
   "outputs": [],
   "source": [
    "t_tau_corel = "
   ]
  },
  {
   "cell_type": "code",
   "execution_count": 51,
   "metadata": {
    "id": "G44eQuTgMYqG"
   },
   "outputs": [
    {
     "name": "stderr",
     "output_type": "stream",
     "text": [
      "/var/folders/s9/whvhj6gs5cx001kw71n2wfqr0000gq/T/ipykernel_54264/272441443.py:11: ComplexWarning: Casting complex values to real discards the imaginary part\n",
      "  corel[i][j] = qutip.correlation_2op_2t(H, psi0, [0,t_], [0,(t-t_)], [L_0], A , B )[1][1]\n"
     ]
    },
    {
     "name": "stdout",
     "output_type": "stream",
     "text": [
      "0\n",
      "0\n",
      "0\n",
      "0\n",
      "0\n",
      "0\n",
      "0\n",
      "0\n",
      "0\n",
      "0\n",
      "1\n",
      "1\n",
      "1\n",
      "1\n",
      "1\n",
      "1\n",
      "1\n",
      "1\n",
      "1\n",
      "1\n",
      "2\n",
      "2\n",
      "2\n",
      "2\n",
      "2\n",
      "2\n",
      "2\n",
      "2\n",
      "2\n",
      "2\n",
      "3\n",
      "3\n",
      "3\n",
      "3\n",
      "3\n",
      "3\n",
      "3\n",
      "3\n",
      "3\n",
      "3\n",
      "4\n",
      "4\n",
      "4\n",
      "4\n",
      "4\n",
      "4\n",
      "4\n",
      "4\n",
      "4\n",
      "4\n",
      "5\n",
      "5\n",
      "5\n",
      "5\n",
      "5\n",
      "5\n",
      "5\n"
     ]
    },
    {
     "name": "stderr",
     "output_type": "stream",
     "text": [
      "/var/folders/s9/whvhj6gs5cx001kw71n2wfqr0000gq/T/ipykernel_54264/4112932328.py:4: RuntimeWarning: overflow encountered in exp\n",
      "  term = (erf(-1*b)+1) * np.exp(b**2) * 0.5 * gamma * np.sqrt(np.pi**0.5)\n",
      "/var/folders/s9/whvhj6gs5cx001kw71n2wfqr0000gq/T/ipykernel_54264/4112932328.py:4: RuntimeWarning: invalid value encountered in scalar multiply\n",
      "  term = (erf(-1*b)+1) * np.exp(b**2) * 0.5 * gamma * np.sqrt(np.pi**0.5)\n",
      "/var/folders/s9/whvhj6gs5cx001kw71n2wfqr0000gq/T/ipykernel_54264/4112932328.py:19: IntegrationWarning: The occurrence of roundoff error is detected, which prevents \n",
      "  the requested tolerance from being achieved.  The error may be \n",
      "  underestimated.\n",
      "  integral = quad(v_2, 0, t)[0]\n"
     ]
    },
    {
     "name": "stdout",
     "output_type": "stream",
     "text": [
      "5\n",
      "5\n",
      "5\n",
      "6\n",
      "6\n",
      "6\n",
      "6\n",
      "6\n",
      "6\n",
      "6\n",
      "6\n",
      "6\n",
      "6\n",
      "7\n",
      "7\n",
      "7\n",
      "7\n",
      "7\n",
      "7\n",
      "7\n",
      "7\n",
      "7\n",
      "7\n",
      "8\n",
      "8\n",
      "8\n",
      "8\n",
      "8\n",
      "8\n",
      "8\n",
      "8\n",
      "8\n",
      "8\n",
      "9\n",
      "9\n",
      "9\n",
      "9\n",
      "9\n",
      "9\n",
      "9\n",
      "9\n",
      "9\n",
      "9\n"
     ]
    }
   ],
   "source": [
    "times[0] = 0\n",
    "corel = np.zeros(shape=(t_no,t_no))          #t' , tau\n",
    "\n",
    "for i in range(t_no):\n",
    "    for j in range(t_no):\n",
    "        # i is t' , j is tau\n",
    "        t_ = times[i]\n",
    "        t = times[j] + t_\n",
    "        A =  (gamma**0.5)*c.dag() + (a_u.dag()*g_u(t,None))\n",
    "        B =  (gamma**0.5)*c + (a_u*g_u(t_,None))\n",
    "        corel[i][j] = qutip.correlation_2op_2t(H, psi0, [0,t_], [0,(t-t_)], [L_0], A , B )[1][1]\n",
    "        print(i)\n",
    "\n"
   ]
  },
  {
   "cell_type": "code",
   "execution_count": 52,
   "metadata": {
    "colab": {
     "base_uri": "https://localhost:8080/",
     "height": 276
    },
    "id": "Po3VfUinN6VR",
    "outputId": "aa9c6299-7b84-4a91-a3c0-b395d59086c9"
   },
   "outputs": [
    {
     "data": {
      "text/plain": [
       "<matplotlib.colorbar.Colorbar at 0x13c8d3be0>"
      ]
     },
     "execution_count": 52,
     "metadata": {},
     "output_type": "execute_result"
    },
    {
     "data": {
      "image/png": "[encoded data removed]",
      "text/plain": [
       "<Figure size 480x480 with 2 Axes>"
      ]
     },
     "metadata": {},
     "output_type": "display_data"
    }
   ],
   "source": [
    "plt.matshow(corel)\n",
    "plt.colorbar()\n",
    "#plotting v(t) vs v(tau)"
   ]
  },
  {
   "cell_type": "code",
   "execution_count": 53,
   "metadata": {},
   "outputs": [
    {
     "data": {
      "text/plain": [
       "[<matplotlib.lines.Line2D at 0x13cbe4b50>]"
      ]
     },
     "execution_count": 53,
     "metadata": {},
     "output_type": "execute_result"
    },
    {
     "data": {
      "image/png": "[encoded data removed]",
      "text/plain": [
       "<Figure size 640x480 with 1 Axes>"
      ]
     },
     "metadata": {},
     "output_type": "display_data"
    }
   ],
   "source": [
    "plt.plot(np.real(corel).T[0])\n"
   ]
  },
  {
   "cell_type": "code",
   "execution_count": 19,
   "metadata": {
    "colab": {
     "base_uri": "https://localhost:8080/"
    },
    "id": "N_BEXnWXeoLU",
    "outputId": "32561ac1-086a-4dd3-e140-790b1edd4acd"
   },
   "outputs": [
    {
     "ename": "NameError",
     "evalue": "name 'correlation' is not defined",
     "output_type": "error",
     "traceback": [
      "\u001b[0;31m---------------------------------------------------------------------------\u001b[0m",
      "\u001b[0;31mNameError\u001b[0m                                 Traceback (most recent call last)",
      "\u001b[1;32m/Users/ygup3491/Documents/FBQC_Cavity_codes/Errors-in-FBQC-Code/Quantum Pulses (Example With Input).ipynb Cell 15\u001b[0m line \u001b[0;36m1\n\u001b[0;32m----> <a href='vscode-notebook-cell:/Users/ygup3491/Documents/FBQC_Cavity_codes/Errors-in-FBQC-Code/Quantum%20Pulses%20%28Example%20With%20Input%29.ipynb#X15sZmlsZQ%3D%3D?line=0'>1</a>\u001b[0m correlation[\u001b[39m0\u001b[39m][\u001b[39m0\u001b[39m]\u001b[39m/\u001b[39mgamma\n",
      "\u001b[0;31mNameError\u001b[0m: name 'correlation' is not defined"
     ]
    }
   ],
   "source": [
    "correlation[0][0]/gamma"
   ]
  },
  {
   "cell_type": "code",
   "execution_count": null,
   "metadata": {
    "colab": {
     "base_uri": "https://localhost:8080/",
     "height": 283
    },
    "id": "JTZtlootOQD7",
    "outputId": "061a9ee3-7729-4eb3-99f6-b078eed19ffe"
   },
   "outputs": [],
   "source": [
    "plt.plot(np.real(correlation.T)[0]/np.real(correlation[0])[0], 'r')\n",
    "plt.plot(range(t), [np.exp(-times[x]*gamma) for x in range(t)], '.')\n",
    "plt.legend((\"v(2t)\", \"fitted function\")) "
   ]
  },
  {
   "cell_type": "code",
   "execution_count": null,
   "metadata": {
    "colab": {
     "base_uri": "https://localhost:8080/",
     "height": 283
    },
    "id": "n0o0DBgjOkn1",
    "outputId": "84e12096-31b7-4de6-cab9-c32c068af01e"
   },
   "outputs": [],
   "source": [
    "plt.plot(np.real(correlation)[0]/np.real(correlation[0])[0], 'r')\n",
    "plt.plot(range(t), [np.exp(-times[x]*gamma/2) for x in range(t)], '.')\n",
    "plt.legend((\"v(tau)\", \"fitted function\")) "
   ]
  },
  {
   "cell_type": "code",
   "execution_count": null,
   "metadata": {
    "colab": {
     "base_uri": "https://localhost:8080/",
     "height": 283
    },
    "id": "v2ImAFFVlp84",
    "outputId": "cbf9ab5c-ce0a-4e16-a070-dff12de3e03b"
   },
   "outputs": [],
   "source": [
    "t = np.linspace(0,10,101)\n",
    "plt.plot(t,4*np.exp(-0.5*16*(t-5)**2)/(2*np.pi)**0.5)\n",
    "plt.plot(t, np.sqrt(gamma)*np.exp(-gamma/2*t))"
   ]
  },
  {
   "cell_type": "code",
   "execution_count": null,
   "metadata": {},
   "outputs": [],
   "source": [
    "plt.plot(times, [0.5 + (np.arctan(5*(10-x))/np.pi) for x in times]) "
   ]
  },
  {
   "cell_type": "code",
   "execution_count": null,
   "metadata": {
    "id": "785eDvbGhKza"
   },
   "outputs": [],
   "source": [
    "g = 0.3\n",
    "n = 100\n",
    "times = np.linspace(0, 20, n)\n",
    "\n",
    "#testing out the propogator \n",
    "rx, ry, rz = [2,1,-1]\n",
    "norm = (rx**2 + ry**2 + rz**2 )**0.5 \n",
    "rx = rx/norm\n",
    "ry = ry/norm\n",
    "rz = rz/norm\n",
    "\n",
    "rho_0 = 0.5*(qutip.qeye(2) + (rz*qutip.sigmaz()) + (ry*qutip.sigmay()) + (rx*qutip.sigmax()))\n",
    "#qutip.fock(2,1).full()\n",
    "\n",
    "d = qutip.destroy(2)\n",
    "\n",
    "#result = qutip.mesolve(qutip.qeye(2), rho_0, times, [(g**0.5)*d], [d,])         # H, rho(0), times, collapse op, obserbables"
   ]
  },
  {
   "cell_type": "code",
   "execution_count": null,
   "metadata": {
    "colab": {
     "base_uri": "https://localhost:8080/",
     "height": 276
    },
    "id": "jllzn56HFGbA",
    "outputId": "38630017-fe13-44eb-f0c3-a55a079fc64e"
   },
   "outputs": [],
   "source": [
    "plt.matshow( (np.real(correlation)/np.real(correlation[0][0])) - np.real(correlation_2) )\n",
    "plt.colorbar()"
   ]
  }
 ],
 "metadata": {
  "colab": {
   "provenance": []
  },
  "kernelspec": {
   "display_name": "Python 3",
   "language": "python",
   "name": "python3"
  },
  "language_info": {
   "codemirror_mode": {
    "name": "ipython",
    "version": 3
   },
   "file_extension": ".py",
   "mimetype": "text/x-python",
   "name": "python",
   "nbconvert_exporter": "python",
   "pygments_lexer": "ipython3",
   "version": "3.9.6"
  }
 },
 "nbformat": 4,
 "nbformat_minor": 1
}
