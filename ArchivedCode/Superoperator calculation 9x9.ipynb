{
 "cells": [
  {
   "cell_type": "markdown",
   "metadata": {},
   "source": [
    "# Summary\n",
    "<br>\n",
    "Code based on https://arxiv.org/abs/1902.09833 \n",
    "<br> Simulating a two level system, emmiting a photon into a cavity using, and the superoperator of this system in a reduced basis 9x9\n",
    "<br>\n",
    "\n",
    "---"
   ]
  },
  {
   "cell_type": "code",
   "execution_count": 13,
   "metadata": {},
   "outputs": [],
   "source": [
    "from sympy import symbols\n",
    "import qutip\n",
    "import numpy as np\n",
    "import matplotlib.pyplot as plt"
   ]
  },
  {
   "cell_type": "code",
   "execution_count": 14,
   "metadata": {},
   "outputs": [],
   "source": [
    "import sympy as sp\n",
    "from math import factorial as fact"
   ]
  },
  {
   "cell_type": "code",
   "execution_count": 53,
   "metadata": {},
   "outputs": [],
   "source": [
    "from sympy import latex"
   ]
  },
  {
   "cell_type": "code",
   "execution_count": 17,
   "metadata": {},
   "outputs": [],
   "source": [
    "g = symbols('g ', real=True)\n",
    "y = symbols('y', positive=True)                      #reprsents gamma\n",
    "t = symbols('t', positive=True)                 \n"
   ]
  },
  {
   "cell_type": "code",
   "execution_count": 42,
   "metadata": {},
   "outputs": [
    {
     "data": {
      "text/latex": [
       "$\\displaystyle L$"
      ],
      "text/plain": [
       "L"
      ]
     },
     "execution_count": 42,
     "metadata": {},
     "output_type": "execute_result"
    }
   ],
   "source": [
    "d = symbols('d')\n",
    "dt = symbols('dt')\n",
    "L = symbols('L')\n"
   ]
  },
  {
   "cell_type": "code",
   "execution_count": 31,
   "metadata": {},
   "outputs": [],
   "source": [
    "m1 , m2, m3 = symbols('m_1'), symbols('m_2'), symbols('m_3')\n",
    "m4 , m5, m6 = symbols('m_4'), symbols('m_5'), symbols('m_6')\n",
    "m7 , m8, m9 = symbols('m_7'), symbols('m_8'), symbols('m_9')\n",
    "rho_vec = sp.Matrix(9,1,[m1, m2, m3, m4, m5, m6, m7, m8, m9])\n",
    "rho_mat = sp.Matrix(3,3,[m1, m2, m3, m4, m5, m6, m7, m8, m9])"
   ]
  },
  {
   "cell_type": "code",
   "execution_count": 19,
   "metadata": {},
   "outputs": [],
   "source": [
    "basis = list()\n",
    "for i in range(9):\n",
    "    test_b = [0,]*9\n",
    "    test_b[i] = 1\n",
    "    basis.append(sp.Matrix(3,3,test_b))"
   ]
  },
  {
   "cell_type": "code",
   "execution_count": 20,
   "metadata": {},
   "outputs": [
    {
     "data": {
      "text/latex": [
       "$\\displaystyle \\left[\\begin{matrix}1 & 0 & 0\\\\0 & 0 & 0\\\\0 & 0 & 0\\end{matrix}\\right]$"
      ],
      "text/plain": [
       "Matrix([\n",
       "[1, 0, 0],\n",
       "[0, 0, 0],\n",
       "[0, 0, 0]])"
      ]
     },
     "execution_count": 20,
     "metadata": {},
     "output_type": "execute_result"
    }
   ],
   "source": [
    "basis[0]          #example"
   ]
  },
  {
   "cell_type": "code",
   "execution_count": 21,
   "metadata": {},
   "outputs": [],
   "source": [
    "c = sp.Matrix(3,3,[0,0,1,0,0,0,0,0,0])\n",
    "c_d = c.conjugate().T\n",
    "\n",
    "a = sp.Matrix(3,3,[0,1,0,0,0,0,0,0,0])\n",
    "a_d = a.conjugate().T\n",
    "\n",
    "L0 = sp.sqrt(y)*c + g*a \n",
    "L0_d = L0.conjugate().T\n",
    "\n",
    "H = 1j*0.5*g* sp.sqrt(y) *(c_d@a - a_d@c)"
   ]
  },
  {
   "cell_type": "code",
   "execution_count": 22,
   "metadata": {},
   "outputs": [],
   "source": [
    "#Superoperator application function\n",
    "\n",
    "def L(m):\n",
    "    #d_rho = -1j*( (H@m) - (m@H) )  +  (L0@m@L0_d) - 0.5*( (L0_d@L0@m) + (m@L0_d@L0) ) \n",
    "    d_rho = 1j*m@H - 1j*H@m   +  L0@m@L0_d - 0.5*L0_d@L0@m - 0.5*m@L0_d@L0 \n",
    "    return d_rho"
   ]
  },
  {
   "cell_type": "code",
   "execution_count": 23,
   "metadata": {},
   "outputs": [
    {
     "data": {
      "text/latex": [
       "$\\displaystyle \\left[\\begin{matrix}0 & 0 & 0\\\\0 & 0 & 0\\\\0 & 0 & 0\\end{matrix}\\right]$"
      ],
      "text/plain": [
       "Matrix([\n",
       "[0, 0, 0],\n",
       "[0, 0, 0],\n",
       "[0, 0, 0]])"
      ]
     },
     "execution_count": 23,
     "metadata": {},
     "output_type": "execute_result"
    }
   ],
   "source": [
    "L(basis[0])              #example"
   ]
  },
  {
   "cell_type": "code",
   "execution_count": 24,
   "metadata": {},
   "outputs": [],
   "source": [
    "#calculating the superoperator\n",
    "\n",
    "super_op = 0*sp.eye( 9 )\n",
    "for i in range(9):\n",
    "    for j in range(9):\n",
    "        super_op[i,j] = sp.trace( basis[i].T @ L(basis[j]) )\n",
    "\n",
    "super_op = sp.simplify(super_op)"
   ]
  },
  {
   "cell_type": "code",
   "execution_count": 26,
   "metadata": {},
   "outputs": [
    {
     "data": {
      "text/latex": [
       "$\\displaystyle \\left[\\begin{matrix}0 & 0 & 0 & 0 & g^{2} & g \\sqrt{y} & 0 & g \\sqrt{y} & y\\\\0 & - 0.5 g^{2} & - 1.0 g \\sqrt{y} & 0 & 0 & 0 & 0 & 0 & 0\\\\0 & 0 & - 0.5 y & 0 & 0 & 0 & 0 & 0 & 0\\\\0 & 0 & 0 & - 0.5 g^{2} & 0 & 0 & - 1.0 g \\sqrt{y} & 0 & 0\\\\0 & 0 & 0 & 0 & - 1.0 g^{2} & - 1.0 g \\sqrt{y} & 0 & - 1.0 g \\sqrt{y} & 0\\\\0 & 0 & 0 & 0 & 0 & - 0.5 g^{2} - 0.5 y & 0 & 0 & - 1.0 g \\sqrt{y}\\\\0 & 0 & 0 & 0 & 0 & 0 & - 0.5 y & 0 & 0\\\\0 & 0 & 0 & 0 & 0 & 0 & 0 & - 0.5 g^{2} - 0.5 y & - 1.0 g \\sqrt{y}\\\\0 & 0 & 0 & 0 & 0 & 0 & 0 & 0 & - 1.0 y\\end{matrix}\\right]$"
      ],
      "text/plain": [
       "Matrix([\n",
       "[0,         0,              0,         0,      g**2,         g*sqrt(y),              0,         g*sqrt(y),              y],\n",
       "[0, -0.5*g**2, -1.0*g*sqrt(y),         0,         0,                 0,              0,                 0,              0],\n",
       "[0,         0,         -0.5*y,         0,         0,                 0,              0,                 0,              0],\n",
       "[0,         0,              0, -0.5*g**2,         0,                 0, -1.0*g*sqrt(y),                 0,              0],\n",
       "[0,         0,              0,         0, -1.0*g**2,    -1.0*g*sqrt(y),              0,    -1.0*g*sqrt(y),              0],\n",
       "[0,         0,              0,         0,         0, -0.5*g**2 - 0.5*y,              0,                 0, -1.0*g*sqrt(y)],\n",
       "[0,         0,              0,         0,         0,                 0,         -0.5*y,                 0,              0],\n",
       "[0,         0,              0,         0,         0,                 0,              0, -0.5*g**2 - 0.5*y, -1.0*g*sqrt(y)],\n",
       "[0,         0,              0,         0,         0,                 0,              0,                 0,         -1.0*y]])"
      ]
     },
     "execution_count": 26,
     "metadata": {},
     "output_type": "execute_result"
    }
   ],
   "source": [
    "super_op"
   ]
  },
  {
   "cell_type": "markdown",
   "metadata": {},
   "source": [
    "---"
   ]
  },
  {
   "cell_type": "markdown",
   "metadata": {},
   "source": [
    "basis : \n",
    "<br> |0>|0> = $\\begin{pmatrix}\n",
    "1\\\\0\\\\0\\\\\n",
    "\\end{pmatrix}$\n",
    "<br> |0>|1> = $\\begin{pmatrix}\n",
    "0\\\\1\\\\0\\\\\n",
    "\\end{pmatrix}$\n",
    "<br> |1>|0> = $\\begin{pmatrix}\n",
    "0\\\\0\\\\1\\\\\n",
    "\\end{pmatrix}$"
   ]
  },
  {
   "cell_type": "markdown",
   "metadata": {},
   "source": [
    "$$\\frac{d}{dt}\\rho = \\mathcal{L}(\\rho)$$"
   ]
  },
  {
   "cell_type": "markdown",
   "metadata": {},
   "source": [
    "$$\\rho = \\begin{pmatrix}\n",
    "m_{1}&m_{2}&m_3\\\\\n",
    "m_4&m_5&m_6\\\\\n",
    "m_7&m_8&m_9\\\\\n",
    "\\end{pmatrix}$$"
   ]
  },
  {
   "cell_type": "markdown",
   "metadata": {},
   "source": [
    "$$\\frac{d}{dt}\\rho = \\frac{d}{dt}\\begin{pmatrix}\n",
    "m_{1}\\\\m_{2}\\\\m_3\\\\\n",
    "m_4\\\\m_5\\\\m_6\\\\\n",
    "m_7\\\\m_8\\\\m_9\\\\\n",
    "\\end{pmatrix} = \\mathcal{L}(\\begin{pmatrix}\n",
    "m_{1}&m_{2}&m_3\\\\\n",
    "m_4&m_5&m_6\\\\\n",
    "m_7&m_8&m_9\\\\\n",
    "\\end{pmatrix})$$"
   ]
  },
  {
   "cell_type": "markdown",
   "metadata": {},
   "source": [
    "---"
   ]
  },
  {
   "cell_type": "code",
   "execution_count": 57,
   "metadata": {},
   "outputs": [
    {
     "data": {
      "text/latex": [
       "$\\displaystyle \\left[\\begin{matrix}\\frac{d m_{1}}{dt} - g^{2} m_{5} - g m_{6} \\sqrt{y} - g m_{8} \\sqrt{y} - m_{9} y\\\\\\frac{d m_{2}}{dt} + g \\left(0.5 g m_{2} + 1.0 m_{3} \\sqrt{y}\\right)\\\\\\frac{d m_{3}}{dt} + 0.5 m_{3} y\\\\\\frac{d m_{4}}{dt} + g \\left(0.5 g m_{4} + 1.0 m_{7} \\sqrt{y}\\right)\\\\\\frac{d m_{5}}{dt} + 1.0 g \\left(g m_{5} + m_{6} \\sqrt{y} + m_{8} \\sqrt{y}\\right)\\\\\\frac{d m_{6}}{dt} + 1.0 g m_{9} \\sqrt{y} + 0.5 m_{6} \\left(g^{2} + y\\right)\\\\\\frac{d m_{7}}{dt} + 0.5 m_{7} y\\\\\\frac{d m_{8}}{dt} + 1.0 g m_{9} \\sqrt{y} + 0.5 m_{8} \\left(g^{2} + y\\right)\\\\\\frac{d m_{9}}{dt} + 1.0 m_{9} y\\end{matrix}\\right]$"
      ],
      "text/plain": [
       "Matrix([\n",
       "[d*m_1/dt - g**2*m_5 - g*m_6*sqrt(y) - g*m_8*sqrt(y) - m_9*y],\n",
       "[                 d*m_2/dt + g*(0.5*g*m_2 + 1.0*m_3*sqrt(y))],\n",
       "[                                       d*m_3/dt + 0.5*m_3*y],\n",
       "[                 d*m_4/dt + g*(0.5*g*m_4 + 1.0*m_7*sqrt(y))],\n",
       "[       d*m_5/dt + 1.0*g*(g*m_5 + m_6*sqrt(y) + m_8*sqrt(y))],\n",
       "[          d*m_6/dt + 1.0*g*m_9*sqrt(y) + 0.5*m_6*(g**2 + y)],\n",
       "[                                       d*m_7/dt + 0.5*m_7*y],\n",
       "[          d*m_8/dt + 1.0*g*m_9*sqrt(y) + 0.5*m_8*(g**2 + y)],\n",
       "[                                       d*m_9/dt + 1.0*m_9*y]])"
      ]
     },
     "execution_count": 57,
     "metadata": {},
     "output_type": "execute_result"
    }
   ],
   "source": [
    "(d/dt)*rho_vec - sp.simplify(super_op*rho_vec)                           #is equal to zero"
   ]
  },
  {
   "cell_type": "markdown",
   "metadata": {},
   "source": [
    "with intial conditions: $\\rho (0) = \\begin{pmatrix}\n",
    "0&0&0\\\\\n",
    "0&0&0\\\\\n",
    "0&0&1\\\\\n",
    "\\end{pmatrix}$\n",
    "<br> $g_v(t) = \\frac{-1}{\\sqrt{e^{\\gamma t}-1}}$"
   ]
  },
  {
   "cell_type": "markdown",
   "metadata": {},
   "source": [
    "$$m_9 = e^{-t\\gamma}$$\n",
    "$$m_7, m_3 = 0$$\n",
    "$$m_2, m_4 = 0$$"
   ]
  },
  {
   "cell_type": "markdown",
   "metadata": {},
   "source": [
    "$$m_8 = m_6$$\n",
    "<br> $$\\frac{d}{dt}m_8 = -m_8(\\frac{g^2_v(t)+\\gamma}{2}) - g_v(t)\\sqrt{\\gamma}e^{-t\\gamma}$$\n",
    "<br> Solving this :\n",
    "<br> $$m_8 = \\frac{2\\sqrt{\\gamma}}{\\gamma + 1} \\sqrt{e^{-t\\gamma}(1-e^{-t\\gamma})}$$"
   ]
  },
  {
   "cell_type": "markdown",
   "metadata": {},
   "source": [
    " $$m_5 = \\frac{-4\\gamma}{(\\gamma + 1)^2} (1-e^{-t\\gamma})$$"
   ]
  },
  {
   "cell_type": "markdown",
   "metadata": {},
   "source": [
    " $$m_1 = (1 - \\frac{4}{\\gamma+1} - \\frac{4}{(\\gamma+1)^2}) (1-e^{-t\\gamma})$$"
   ]
  },
  {
   "cell_type": "markdown",
   "metadata": {},
   "source": [
    "however : \n",
    "$$Tr(\\rho) = m_1 + m_5 + m_8 = 1 - \\frac{8}{\\gamma +1}(1-e^{-t\\gamma})$$"
   ]
  }
 ],
 "metadata": {
  "kernelspec": {
   "display_name": "Python 3",
   "language": "python",
   "name": "python3"
  },
  "language_info": {
   "codemirror_mode": {
    "name": "ipython",
    "version": 3
   },
   "file_extension": ".py",
   "mimetype": "text/x-python",
   "name": "python",
   "nbconvert_exporter": "python",
   "pygments_lexer": "ipython3",
   "version": "3.8.5"
  }
 },
 "nbformat": 4,
 "nbformat_minor": 4
}
