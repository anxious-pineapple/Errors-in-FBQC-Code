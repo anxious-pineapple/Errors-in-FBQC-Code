{
  "cells": [
    {
      "cell_type": "code",
      "execution_count": 106,
      "metadata": {
        "colab": {
          "base_uri": "https://localhost:8080/"
        },
        "id": "pPSARg31Ax_9",
        "outputId": "07976745-c0b0-4c5f-a326-8d78f68cc44b"
      },
      "outputs": [],
      "source": [
        "from einops import rearrange, reduce, repeat\n",
        "import qutip\n",
        "import numpy as np\n",
        "import matplotlib.pyplot as plt"
      ]
    },
    {
      "cell_type": "code",
      "execution_count": 107,
      "metadata": {},
      "outputs": [],
      "source": [
        "from scipy.interpolate import interp1d\n",
        "from scipy.integrate import odeint"
      ]
    },
    {
      "cell_type": "code",
      "execution_count": 341,
      "metadata": {},
      "outputs": [],
      "source": [
        "no_cav = 2\n",
        "cav_dim = 2\n",
        "\n",
        "g = 5                #gamma\n",
        "rg = g**0.5"
      ]
    },
    {
      "cell_type": "markdown",
      "metadata": {},
      "source": [
        "# Deveriving $g_i(t)$ coupling functions"
      ]
    },
    {
      "cell_type": "code",
      "execution_count": 261,
      "metadata": {},
      "outputs": [],
      "source": [
        "t_final = 10\n",
        "res = 500\n",
        "c_time = np.linspace(0, t_final, res)\n",
        "corel_c = qutip.destroy(2)\n",
        "corel = qutip.correlation_2op_2t(qutip.qeye(2), qutip.fock(2,1), c_time, c_time, [rg*corel_c,], rg*corel_c.dag(), rg*corel_c)"
      ]
    },
    {
      "cell_type": "code",
      "execution_count": 476,
      "metadata": {},
      "outputs": [],
      "source": [
        "#converting qutip format to t,t' format in paper\n",
        "tdash_corel = np.zeros_like(corel)\n",
        "for i in range(res):\n",
        "    tdash_corel[i][i:] = corel[i][:(res-i)]\n",
        "tdash_corel = tdash_corel + tdash_corel.T - (tdash_corel*np.eye(res))\n",
        "\n",
        "\n",
        "n, func = np.linalg.eig(tdash_corel)\n",
        "n = n/np.sum(n)                                     #renormalising for one photon\n",
        "func_ = func/np.sqrt(c_time[1])                       #renormalising integration to one\n",
        "\n",
        "v_funct = dict()\n",
        "alpha_funct = dict()\n",
        "g_funct = dict()\n",
        "# format -> cav_no(i) influenced by cav_no(j)\n",
        "# cav_no(i) if influenced by 0, means uninfluenced\n",
        "#cavities are indexed 1 to no_cav\n",
        "\n",
        "def da_vi_j(alpha, t ,i ,j ):\n",
        "    da_vi_j = -(g_funct[j](t) * v_funct[i,j-1](t)) - (0.5*alpha*(g_funct[j](t))**2)\n",
        "    return da_vi_j\n",
        "\n",
        "def g_cnstr(v_list):\n",
        "    return np.real(-v_list/(c_time[1]*np.cumsum(v_list**2))**0.5)\n",
        "\n",
        "for i in range(1, no_cav+1):\n",
        "    #cavity no is i \n",
        "    v_funct[i,0] = interp1d(c_time, np.real(func_[:,i-1]), kind='cubic', fill_value='extrapolate')\n",
        "\n",
        "    for j in range(1,i):\n",
        "        #cavity no i, influenced by cavity j\n",
        "        # till j = i-1\n",
        "\n",
        "        # generate alpha[i,j]\n",
        "        alpha_list = odeint(da_vi_j,0,c_time,args=(i,j))[:,0]\n",
        "        alpha_funct[i,j] = interp1d(c_time, alpha_list, kind='cubic',fill_value='extrapolate')\n",
        "\n",
        "        #generate v[i,j]\n",
        "        v_funct[i,j] = interp1d(c_time, (v_funct[i,j-1](c_time) + (g_funct[j](c_time) * alpha_funct[i,j](c_time))), kind='cubic',fill_value='extrapolate')\n",
        "\n",
        "    # generate g[i]\n",
        "    g_funct[i] = qutip.interpolate.Cubic_Spline(0, t_final, 10 + 0*g_cnstr(v_funct[i,i-1](c_time)))"
      ]
    },
    {
      "cell_type": "code",
      "execution_count": 477,
      "metadata": {},
      "outputs": [
        {
          "data": {
            "image/png": "[encoded data removed]",
            "text/plain": [
              "<Figure size 640x480 with 1 Axes>"
            ]
          },
          "metadata": {},
          "output_type": "display_data"
        }
      ],
      "source": [
        "for i in range(1,1+no_cav):\n",
        "    plt.plot(c_time, g_funct[i](c_time))"
      ]
    },
    {
      "cell_type": "markdown",
      "metadata": {},
      "source": [
        "# Functions"
      ]
    },
    {
      "cell_type": "code",
      "execution_count": 478,
      "metadata": {
        "id": "lwU_h9bFyFZ7"
      },
      "outputs": [],
      "source": [
        "def add_mpo( A, B, is_first = False, is_last = False):\n",
        "  s0, s1, s2 = A.shape[:3]\n",
        "\n",
        "  if is_first:\n",
        "    #immutable axes are 0,2\n",
        "    C = np.append(A, B, axis=1)\n",
        "\n",
        "  elif is_last:\n",
        "    #immutable axes are 1,2\n",
        "    C = np.append(A, B, axis=0)\n",
        "\n",
        "  else:\n",
        "    #immutable axes are 1,3\n",
        "    s3 = A.shape[3]\n",
        "    top = np.append( A, np.zeros((B.shape[0],s1,A.shape[2],s3)), axis=0)\n",
        "    bottom = np.append(np.zeros((A.shape[0],s1,B.shape[2],s3)),B, axis =0)\n",
        "    C = np.append( top, bottom, axis=2 )\n",
        "\n",
        "  return C"
      ]
    },
    {
      "cell_type": "code",
      "execution_count": 479,
      "metadata": {},
      "outputs": [],
      "source": [
        "def svd_red(mpo_list, no_cav = no_cav, cav_dim = cav_dim):\n",
        "    #Assuming there are at least two cavitites\n",
        "\n",
        "    red_mpo_list = list()\n",
        "\n",
        "    u, s, v = np.linalg.svd(rearrange(np.einsum('a b c, b d e f-> a d e c f', mpo_list[0], mpo_list[1]), 'a d e c f-> (a c) (d e f)'), full_matrices=False)\n",
        "    red_mpo_list.append(rearrange(u,'(a c) g-> a g c', a=2, c=2))\n",
        "    red_mpo_list.append(rearrange(np.diag(s)@v, 'g (d e f)-> g d e f', d=cav_dim, f=cav_dim))\n",
        "\n",
        "    for i in range(1,no_cav):\n",
        "\n",
        "        if i == no_cav-1:\n",
        "            u, s, v = np.linalg.svd(rearrange(np.einsum('a b c d, c e f -> a b e d f ', red_mpo_list[-1], mpo_list[i+1]), 'a b e d f-> (a b d) (e f)'), full_matrices=False)\n",
        "            red_mpo_list.pop()\n",
        "            red_mpo_list.append( rearrange(u, '(a b d) h-> a b h d', b=cav_dim, d=cav_dim))\n",
        "            red_mpo_list.append( rearrange(np.diag(s)@v, 'h (e f)-> h e f', e=cav_dim, f=cav_dim))\n",
        "\n",
        "        else:\n",
        "            u, s, v = np.linalg.svd(rearrange(np.einsum('a b c d, c e f g-> a b e f d g', red_mpo_list[-1], mpo_list[i+1]), 'a b e f d g-> (a b d) (e f g)'), full_matrices=False)\n",
        "            red_mpo_list.pop()\n",
        "            red_mpo_list.append( rearrange(u, '(a b d) h-> a b h d', b=cav_dim, d=cav_dim))\n",
        "            red_mpo_list.append( rearrange(np.diag(s)@v, 'h (e f g)-> h e f g', e=cav_dim, g=cav_dim))\n",
        "\n",
        "    return red_mpo_list\n"
      ]
    },
    {
      "cell_type": "code",
      "execution_count": 480,
      "metadata": {},
      "outputs": [],
      "source": [
        "#overall svd, too slow, redundant for genralised cavities\n",
        "def svd(mpo_x):\n",
        "    u, s, v = np.linalg.svd((rearrange(mpo_x, 'a c e g b d f h-> (a b c d e f) (g h)')), full_matrices=False)\n",
        "    cell_0 = rearrange(np.diag(s)@v, 'c (a b)-> c a b', a=3, b=3)\n",
        "\n",
        "    u, s, v = np.linalg.svd((rearrange(u, '(a b c d e f) g -> (a b c d) (e f g)', a=2, b=2, c=3, d=3, e=3, f=3)), full_matrices=False)\n",
        "    cell_1 = rearrange(np.diag(s)@v, 's (e f g)-> s e g f', e=3, f=3)\n",
        "\n",
        "    u, s, v = np.linalg.svd((rearrange(u, '(a b c d) s -> (a b) (c d s)', a=2, b=2, c=3, d=3)), full_matrices=False)\n",
        "    cell_2 = rearrange(np.diag(s)@v, 't (c d s)-> t c s d', c=3, d=3)\n",
        "\n",
        "    cell_3 = rearrange(u, '(a b) t-> a t b', a=2, b=2)\n",
        "\n",
        "    return cell_3, cell_2, cell_1, cell_0"
      ]
    },
    {
      "cell_type": "code",
      "execution_count": 481,
      "metadata": {},
      "outputs": [],
      "source": [
        "#not general\n",
        "def mpo_make(cell_list):\n",
        "    length = len(cell_list)\n",
        "    if length > 2 :\n",
        "        mpo = cell_list[0]\n",
        "        for i in range(length-2):\n",
        "            mpo  = np.einsum('a t b, t c s d-> a c s d', cell_list[0], cell_list[1] )\n",
        "    if length == 2 :\n",
        "        mpo = np.einsum('a t b, t c s-> a c b s', cell_list[0], cell_list[1] )\n",
        "\n",
        "    return np.einsum('a t b, t c s d, s e q f, q g h-> a c e g b d f h', cell_3, cell_2, cell_1, cell_0 )"
      ]
    },
    {
      "cell_type": "code",
      "execution_count": 482,
      "metadata": {},
      "outputs": [],
      "source": [
        "def exp_value(mpo_list, cav_no = -1):\n",
        "\n",
        "    mpo_copy = list(mpo_list)\n",
        "\n",
        "    if cav_no == 0:\n",
        "        mpo_copy[0] = np.einsum( 'a b, b c d-> a c d', cd@c, mpo_copy[0])\n",
        "    elif cav_no == no_cav:\n",
        "        mpo_copy[cav_no] = np.einsum( 'a c, b c d-> b a d', ad@a, mpo_copy[cav_no])\n",
        "    elif cav_no < 0:\n",
        "        pass\n",
        "    else:\n",
        "        mpo_copy[cav_no] = np.einsum( 'a c, b c d e-> b a d e', ad@a, mpo_copy[cav_no])\n",
        "\n",
        "    mpo_copy[0] = np.einsum( 'a b a', mpo_copy[0])\n",
        "\n",
        "    for i in range(1,no_cav+1):\n",
        "        if i == (no_cav):\n",
        "            mpo_copy[i] =  np.einsum('a, a b b', mpo_copy[i-1], mpo_copy[i])\n",
        "        else:\n",
        "            mpo_copy[i] = np.einsum('a, a b c b', mpo_copy[i-1], mpo_copy[i])\n",
        "\n",
        "    return mpo_copy[-1]\n"
      ]
    },
    {
      "cell_type": "code",
      "execution_count": 483,
      "metadata": {},
      "outputs": [],
      "source": [
        "def g1(t=0):\n",
        "    return 0\n",
        "\n",
        "def g2(t=0):\n",
        "    return 0\n",
        "\n",
        "def g3(t=0):\n",
        "    return 0\n"
      ]
    },
    {
      "cell_type": "markdown",
      "metadata": {},
      "source": [
        "# Initialising system"
      ]
    },
    {
      "cell_type": "code",
      "execution_count": 484,
      "metadata": {},
      "outputs": [],
      "source": [
        "#atom-cavity list\n",
        "ac_list = list()\n",
        "\n",
        "ac_list.append(qutip.fock_dm(2,1).full()[:,np.newaxis,:])\n",
        "for i in range(no_cav):\n",
        "    if i == no_cav-1:\n",
        "        ac_list.append(qutip.fock_dm(cav_dim,0).full()[np.newaxis, :, :])\n",
        "    else:\n",
        "        ac_list.append(qutip.fock_dm(cav_dim,0).full()[np.newaxis, :, np.newaxis, :])"
      ]
    },
    {
      "cell_type": "code",
      "execution_count": 485,
      "metadata": {},
      "outputs": [],
      "source": [
        "A = svd_red(ac_list)"
      ]
    },
    {
      "cell_type": "code",
      "execution_count": 486,
      "metadata": {
        "id": "RHdtf7pVTHx4"
      },
      "outputs": [
        {
          "data": {
            "text/plain": [
              "\"\\nmpo_0 = np.einsum('a b, c d, e f, g h-> a c e g b d f h', ac_list[0], ac_list[1], ac_list[2], ac_list[3])\\n\\nu, s, v = np.linalg.svd((rearrange(mpo_0, 'a c e g b d f h-> (a b c d e f) (g h)')), full_matrices=False)\\ncell_0 = rearrange(np.diag(s)@v, 'c (a b)-> c a b', a=3, b=3)\\n\\nu, s, v = np.linalg.svd((rearrange(u, '(a b c d e f) g -> (a b c d) (e f g)', a=2, b=2, c=3, d=3, e=3, f=3)), full_matrices=False)\\ncell_1 = rearrange(np.diag(s)@v, 's (e f g)-> s e g f', e=3, f=3)\\n\\nu, s, v = np.linalg.svd((rearrange(u, '(a b c d) s -> (a b) (c d s)', a=2, b=2, c=3, d=3)), full_matrices=False)\\ncell_2 = rearrange(np.diag(s)@v, 't (c d s)-> t c s d', c=3, d=3)\\n\\ncell_3 = rearrange(u, '(a b) t-> a t b', a=2, b=2)\\n\\nac_list = [cell_3, cell_2, cell_1, cell_0]\\n\""
            ]
          },
          "execution_count": 486,
          "metadata": {},
          "output_type": "execute_result"
        }
      ],
      "source": [
        "# mpo conversion and storage\n",
        "'''\n",
        "mpo_0 = np.einsum('a b, c d, e f, g h-> a c e g b d f h', ac_list[0], ac_list[1], ac_list[2], ac_list[3])\n",
        "\n",
        "u, s, v = np.linalg.svd((rearrange(mpo_0, 'a c e g b d f h-> (a b c d e f) (g h)')), full_matrices=False)\n",
        "cell_0 = rearrange(np.diag(s)@v, 'c (a b)-> c a b', a=3, b=3)\n",
        "\n",
        "u, s, v = np.linalg.svd((rearrange(u, '(a b c d e f) g -> (a b c d) (e f g)', a=2, b=2, c=3, d=3, e=3, f=3)), full_matrices=False)\n",
        "cell_1 = rearrange(np.diag(s)@v, 's (e f g)-> s e g f', e=3, f=3)\n",
        "\n",
        "u, s, v = np.linalg.svd((rearrange(u, '(a b c d) s -> (a b) (c d s)', a=2, b=2, c=3, d=3)), full_matrices=False)\n",
        "cell_2 = rearrange(np.diag(s)@v, 't (c d s)-> t c s d', c=3, d=3)\n",
        "\n",
        "cell_3 = rearrange(u, '(a b) t-> a t b', a=2, b=2)\n",
        "\n",
        "ac_list = [cell_3, cell_2, cell_1, cell_0]\n",
        "'''"
      ]
    },
    {
      "cell_type": "code",
      "execution_count": 487,
      "metadata": {
        "id": "kJbFbtNeYjPp"
      },
      "outputs": [],
      "source": [
        "#atom_a \n",
        "c = qutip.destroy(2).full()\n",
        "#atom_a = np.eye(2)\n",
        "#atom_adag\n",
        "cd = qutip.destroy(2).dag().full()\n",
        "#atom_adag = np.eye(2)\n",
        "#cav_a \n",
        "a = qutip.destroy(cav_dim).full()\n",
        "#cav_a = np.eye(3)\n",
        "#cav_adag \n",
        "ad = qutip.destroy(cav_dim).dag().full()\n",
        "#cav_adag = np.eye(3)"
      ]
    },
    {
      "cell_type": "code",
      "execution_count": 488,
      "metadata": {},
      "outputs": [],
      "source": [
        "n_sum = int((no_cav*0.5*(no_cav+1)))\n",
        "mpo_dim = 1 + no_cav + n_sum\n",
        "zero_mpo_matrix = np.array( list([ list([ np.zeros((cav_dim,cav_dim))])*mpo_dim ])*mpo_dim ) *0j"
      ]
    },
    {
      "cell_type": "code",
      "execution_count": 489,
      "metadata": {},
      "outputs": [],
      "source": [
        "tem = 1"
      ]
    },
    {
      "cell_type": "code",
      "execution_count": 505,
      "metadata": {},
      "outputs": [],
      "source": [
        "pre_term = list([0,]*(no_cav+1))\n",
        "post_term = list([0,]*(no_cav+1))\n",
        "L_term = list([0,]*(no_cav+1))\n",
        "Ld_term = list([0,]*(no_cav+1))\n",
        "\n",
        "pre_term[0] = rearrange( np.array( list([g*cd@c,]) + (list([rg*c,])*no_cav) + (list([np.eye(2),])*n_sum) ), 'c a b-> a c b')\n",
        "post_term[0] = rearrange( np.array( list([g*cd@c,]) + (list([rg*cd,])*no_cav) + (list([np.eye(2),])*n_sum) ), 'c a b-> a c b')\n",
        "L_term[0] = rearrange( np.array( list([rg*c,]) +  (list([np.eye(2),])*no_cav) ) , 'c a b-> a c b')\n",
        "Ld_term[0] = rearrange( np.array( list([rg*cd,]) +  (list([np.eye(2),])*no_cav) ) , 'c a b-> a c b')\n",
        "\n",
        "for i in range(1,no_cav+1):\n",
        "    if i == no_cav:\n",
        "        #last term\n",
        "        pre_term[i] = np.array( list([ np.zeros((cav_dim,cav_dim))])*mpo_dim )* 0j\n",
        "        pre_term[i][0][:][:] = np.eye(cav_dim)\n",
        "\n",
        "        post_term[i] = np.array( list([ np.zeros((cav_dim,cav_dim))])*mpo_dim )* 0j\n",
        "        post_term[i][0][:][:] = np.eye(cav_dim)\n",
        "\n",
        "        L_term[i] = np.array((list([np.eye(cav_dim),])*(no_cav+1)) ) * 0j\n",
        "        Ld_term[i] = np.array((list([np.eye(cav_dim),])*(no_cav+1)) ) * 0j\n",
        "        L_term[i][0][:][:] = np.eye(cav_dim)\n",
        "        Ld_term[i][0][:][:] = np.eye(cav_dim)\n",
        "\n",
        "        for j in range(1, no_cav+1):\n",
        "            if j==i:\n",
        "                pre_term[i][j][:][:] = ad * g_funct[i](tem)\n",
        "                post_term[i][j][:][:] = a * g_funct[i](tem)\n",
        "                L_term[i][j][:][:] = a * g_funct[i](tem)\n",
        "                Ld_term[i][j][:][:] = ad * g_funct[i](tem)\n",
        "            else:\n",
        "                pre_term[i][j][:][:] = np.eye(cav_dim)\n",
        "                post_term[i][j][:][:] = np.eye(cav_dim)\n",
        "\n",
        "        for s in range(no_cav):\n",
        "            for t in range(s+1):\n",
        "            \n",
        "                index = 1 + no_cav + t + int(0.5*s*(s+1))\n",
        "\n",
        "                if s+1 == i:\n",
        "                    if t+1 == i:\n",
        "                        pre_term[i][index][:][:] = ad@a * g_funct[i](tem)**2\n",
        "                    else:\n",
        "                        pre_term[i][index][:][:] = ad * g_funct[i](tem)\n",
        "\n",
        "                else:\n",
        "                    if t+1 == i:\n",
        "                        pre_term[i][index][:][:] = a * g_funct[i](tem)\n",
        "                    else:\n",
        "                        pre_term[i][index][:][:] = np.eye(cav_dim)\n",
        "\n",
        "            for t in range(no_cav-s):\n",
        "\n",
        "                index_ = 1 + (no_cav*(1+s)) - int(0.5*s*(s-1)) + t\n",
        "\n",
        "                if s+1 == i:\n",
        "                    if t+1+s == i:\n",
        "                        post_term[i][index_][:][:] = ad@a * g_funct[i](tem)**2\n",
        "                    else:\n",
        "                        post_term[i][index_][:][:] = ad * g_funct[i](tem)\n",
        "\n",
        "                else:\n",
        "                    if t+1+s == i:\n",
        "                        post_term[i][index_][:][:] = a * g_funct[i](tem)\n",
        "                    else:\n",
        "                        post_term[i][index_][:][:] = np.eye(cav_dim)\n",
        "    else:\n",
        "\n",
        "        pre_term[i] = np.copy(zero_mpo_matrix)\n",
        "        post_term[i] = np.copy(zero_mpo_matrix)\n",
        "        L_term[i] = np.array( list([ list([ np.zeros((cav_dim,cav_dim))])*(no_cav+1) ])*(no_cav+1) ) *0j\n",
        "        Ld_term[i] = np.array( list([ list([ np.zeros((cav_dim,cav_dim))])*(no_cav+1) ])*(no_cav+1) ) *0j\n",
        "\n",
        "        pre_term[i][0][0][:][:] = np.eye(cav_dim)\n",
        "        post_term[i][0][0][:][:] = np.eye(cav_dim)\n",
        "        L_term[i][0][0][:][:] = np.eye(cav_dim)\n",
        "        Ld_term[i][0][0][:][:] = np.eye(cav_dim)\n",
        "\n",
        "        for j in range(1, no_cav+1):\n",
        "            if j==i:\n",
        "                pre_term[i][j][j][:][:] = ad * g_funct[i](tem)\n",
        "                post_term[i][j][j][:][:] = a * g_funct[i](tem)\n",
        "                L_term[i][j][j][:][:] = a * g_funct[i](tem)\n",
        "                Ld_term[i][j][j][:][:] = ad * g_funct[i](tem)\n",
        "            else:\n",
        "                pre_term[i][j][j][:][:] = np.eye(cav_dim)\n",
        "                post_term[i][j][j][:][:] = np.eye(cav_dim)\n",
        "                L_term[i][j][j][:][:] = np.eye(cav_dim)\n",
        "                Ld_term[i][j][j][:][:] = np.eye(cav_dim)\n",
        "            \n",
        "        for s in range(no_cav):\n",
        "            for t in range(s+1):\n",
        "            \n",
        "                index = 1 + no_cav + t + int(0.5*s*(s+1))\n",
        "\n",
        "                if s+1 == i:\n",
        "                    if t+1 == i:\n",
        "                        pre_term[i][index][index][:][:] = ad@a * g_funct[i](tem)**2\n",
        "                    else:\n",
        "                        pre_term[i][index][index][:][:] = ad * g_funct[i](tem)\n",
        "\n",
        "                else:\n",
        "                    if t+1 == i:\n",
        "                        pre_term[i][index][index][:][:] = a * g_funct[i](tem)\n",
        "                    else:\n",
        "                        pre_term[i][index][index][:][:] = np.eye(cav_dim)\n",
        "            \n",
        "            for t in range(no_cav-s):\n",
        "\n",
        "                index_ = 1 + (no_cav*(1+s)) - int(0.5*s*(s-1)) + t\n",
        "\n",
        "                if s+1 == i:\n",
        "                    if t+1+s == i:\n",
        "                        post_term[i][index_][index_][:][:] = ad@a * g_funct[i](tem)**2\n",
        "                    else:\n",
        "                        post_term[i][index_][index_][:][:] = ad * g_funct[i](tem)\n",
        "\n",
        "                else:\n",
        "                    if t+1+s == i:\n",
        "                        post_term[i][index_][index_][:][:] = a * g_funct[i](tem)\n",
        "                    else:\n",
        "                        post_term[i][index_][index_][:][:] = np.eye(cav_dim)\n",
        "        \n",
        "        pre_term[i] = rearrange(pre_term[i], 'a b c d-> a c b d')\n",
        "        post_term[i] = rearrange(post_term[i], 'a b c d-> a c b d')\n",
        "        L_term[i] = rearrange(L_term[i], 'a b c d-> a c b d')\n",
        "        Ld_term[i] = rearrange(Ld_term[i], 'a b c d-> a c b d')\n",
        "        \n",
        "        \n"
      ]
    },
    {
      "cell_type": "code",
      "execution_count": 506,
      "metadata": {},
      "outputs": [],
      "source": [
        "def time_update_mpo(t_ = 0):\n",
        "\n",
        "    for i in range(1,no_cav+1):\n",
        "        if i == no_cav:\n",
        "            for j in range(1, no_cav+1):\n",
        "                if j==i:\n",
        "                    pre_term[i][j][:][:] = ad * g_funct[i](t_)\n",
        "                    post_term[i][j][:][:] = a * g_funct[i](t_)\n",
        "                    L_term[i][j][:][:] = a * g_funct[i](t_)\n",
        "                    Ld_term[i][j][:][:] = ad * g_funct[i](t_)\n",
        "            for s in range(no_cav):\n",
        "                for t in range(s+1):\n",
        "                \n",
        "                    index = 1 + no_cav + t + int(0.5*s*(s+1))\n",
        "\n",
        "                    if s+1 == i:\n",
        "                        if t+1 == i:\n",
        "                            pre_term[i][index][:][:] = ad@a * g_funct[i](t_)**2\n",
        "                        else:\n",
        "                            pre_term[i][index][:][:] = ad * g_funct[i](t_)\n",
        "\n",
        "                    else:\n",
        "                        if t+1 == i:\n",
        "                            pre_term[i][index][:][:] = a * g_funct[i](t_)\n",
        "                for t in range(no_cav-s):\n",
        "\n",
        "                    index_ = 1 + (no_cav*(1+s)) - int(0.5*s*(s-1)) + t\n",
        "\n",
        "                    if s+1 == i:\n",
        "                        if t+1+s == i:\n",
        "                            post_term[i][index_][:][:] = ad@a * g_funct[i](t_)**2\n",
        "                        else:\n",
        "                            post_term[i][index_][:][:] = ad * g_funct[i](t_)\n",
        "\n",
        "                    else:\n",
        "                        if t+1+s == i:\n",
        "                            post_term[i][index_][:][:] = a * g_funct[i](t_)\n",
        "        else:\n",
        "            for j in range(1, no_cav+1):\n",
        "                if j==i:\n",
        "                    pre_term[i][j,:,j,:] = ad * g_funct[i](t_)\n",
        "                    post_term[i][j,:,j,:]  = a * g_funct[i](t_)\n",
        "                    L_term[i][j,:,j,:]  = a * g_funct[i](t_)\n",
        "                    Ld_term[i][j,:,j,:]  = ad * g_funct[i](t_)       \n",
        "            for s in range(no_cav):\n",
        "                for t in range(s+1):\n",
        "                \n",
        "                    index = 1 + no_cav + t + int(0.5*s*(s+1))\n",
        "\n",
        "                    if s+1 == i:\n",
        "                        if t+1 == i:\n",
        "                            pre_term[i][index,:,index,:] = ad@a * g_funct[i](t_)**2\n",
        "                        else:\n",
        "                            pre_term[i][index,:,index,:] = ad * g_funct[i](t_)\n",
        "\n",
        "                    else:\n",
        "                        if t+1 == i:\n",
        "                            pre_term[i][index,:,index,:] = a * g_funct[i](t_)\n",
        "                \n",
        "                for t in range(no_cav-s):\n",
        "\n",
        "                    index_ = 1 + (no_cav*(1+s)) - int(0.5*s*(s-1)) + t\n",
        "\n",
        "                    if s+1 == i:\n",
        "                        if t+1+s == i:\n",
        "                            post_term[i][index_,:,index_,:] = ad@a * g_funct[i](t_)**2\n",
        "                        else:\n",
        "                            post_term[i][index_,:,index_,:] = ad * g_funct[i](t_)\n",
        "\n",
        "                    else:\n",
        "                        if t+1+s == i:\n",
        "                            post_term[i][index_,:,index_,:] = a * g_funct[i](t_)    \n"
      ]
    },
    {
      "cell_type": "code",
      "execution_count": 507,
      "metadata": {},
      "outputs": [],
      "source": [
        "def drhodt_(mpo_list, t_=1000):\n",
        "\n",
        "    term1_ = dict()\n",
        "    term2_ = dict()\n",
        "    term3_ = dict()\n",
        "\n",
        "    #time_update_mpo(t_)\n",
        "    \n",
        "\n",
        "    term1_[0] = -0.5 * rearrange(np.einsum('a b c, c d e-> a b d e', pre_term[0], ac_list[0]), 'a b d e-> a (b d) e')\n",
        "    term2_[0] = -0.5 * rearrange(np.einsum('a b c, c d e-> a b d e', ac_list[0], post_term[0]), 'a b d e-> a (b d) e')\n",
        "    term3_[0] = rearrange(np.einsum('a b c, c d e, e f g-> a b d f g', L_term[0], ac_list[0], Ld_term[0]), 'a b d f g-> a (b d f) g')\n",
        "    '''\n",
        "    for i in range(1, no_cav+1):\n",
        "        if i == no_cav:\n",
        "            term1_[i] = rearrange(np.einsum('a b c, d c e-> a d b e', pre_term[i], ac_list[i]), 'a d b e-> (a d) b e')\n",
        "            term2_[i] = rearrange(np.einsum('a b c, d c e-> a d b e', ac_list[i], post_term[i]), 'a d b e-> (a d) b e')\n",
        "            term3_[i] = rearrange(np.einsum('a b c, d c e, f e g-> a d f b g', L_term[i], ac_list[i], Ld_term[i]), 'a d f b g-> (a d f) b g')\n",
        "        else:\n",
        "            term1_[i] = rearrange(np.einsum('a b c d, e d f g-> a e b c f g', pre_term[i], ac_list[i]), 'a e b c f g-> (a e) b (c f) g')\n",
        "            term2_[i] = rearrange(np.einsum('a b c d, e d f g-> a e b c f g', ac_list[i], post_term[i]), 'a e b c f g-> (a e) b (c f) g')\n",
        "            term3_[i] = rearrange(np.einsum('a b c d, f d e g, h g i j-> a f h b c e i j', L_term[i], ac_list[i], Ld_term[i]), 'a f h b c e i j-> (a f h) b (c e i) j')\n",
        "    '''\n",
        "    for i in range(1, no_cav+1):\n",
        "        if i == no_cav:\n",
        "            term1_[i] = rearrange(np.einsum('a b c, d c e-> a d b e', 0*pre_term[i], ac_list[i]), 'a d b e-> (a d) b e')\n",
        "            term2_[i] = rearrange(np.einsum('a b c, d c e-> a d b e', ac_list[i], 0*post_term[i]), 'a d b e-> (a d) b e')\n",
        "            term3_[i] = rearrange(np.einsum('a b c, d c e, f e g-> a d f b g', 0*L_term[i], ac_list[i], 0*Ld_term[i]), 'a d f b g-> (a d f) b g')\n",
        "        else:\n",
        "            term1_[i] = rearrange(np.einsum('a b c d, e d f g-> a e b c f g', 0*pre_term[i], ac_list[i]), 'a e b c f g-> (a e) b (c f) g')\n",
        "            term2_[i] = rearrange(np.einsum('a b c d, e d f g-> a e b c f g', ac_list[i], 0*post_term[i]), 'a e b c f g-> (a e) b (c f) g')\n",
        "            term3_[i] = rearrange(np.einsum('a b c d, f d e g, h g i j-> a f h b c e i j', 0*L_term[i], ac_list[i], 0*Ld_term[i]), 'a f h b c e i j-> (a f h) b (c e i) j')\n",
        "    '''\n",
        "    term1_ = svd_red(term1_)\n",
        "    term2_ = svd_red(term2_)\n",
        "    term3_ = svd_red(term3_)\n",
        "    '''\n",
        "    sum_term = dict()\n",
        "    sum_term[0] = add_mpo(add_mpo(term1_[0], term2_[0], is_first=True), term3_[0], is_first=True) \n",
        "    for i in range(1, no_cav+1):\n",
        "        if i == no_cav:\n",
        "            sum_term[i] =  add_mpo(add_mpo(term1_[i], term2_[i], is_last=True), term3_[i], is_last=True) \n",
        "        else:\n",
        "            sum_term[i] = add_mpo(add_mpo(term1_[i], term2_[i]), term3_[i]) \n",
        "    #sum_term = svd_red(sum_term)\n",
        "\n",
        "    return sum_term\n",
        "    #return svd_red(term3_)"
      ]
    },
    {
      "cell_type": "code",
      "execution_count": 508,
      "metadata": {},
      "outputs": [],
      "source": [
        "exp_value_list = list()\n",
        "exp_value_list.append(list())\n",
        "for i in range(no_cav):\n",
        "    exp_value_list.append(list())"
      ]
    },
    {
      "cell_type": "code",
      "execution_count": 509,
      "metadata": {},
      "outputs": [],
      "source": [
        "##With dynamic mpo\n",
        "\n",
        "evol_time = np.linspace(0,1,10)\n",
        "dt = evol_time[1]\n",
        "#dt = 0\n",
        "test_list = list()\n",
        "mpo_i = list(ac_list)\n",
        "\n",
        "test_list.append(exp_value(mpo_i))\n",
        "for i in range(no_cav+1):\n",
        "    exp_value_list[i].append(exp_value(mpo_i, i))\n",
        "\n",
        "for i in evol_time[1:]:\n",
        "\n",
        "  drho_list = drhodt_(mpo_i)\n",
        "  #drho_list = mpo_i\n",
        "  \n",
        "  sum_term = list()\n",
        "  sum_term.append( add_mpo(dt*drho_list[0], mpo_i[0], is_first=True) )\n",
        "  for i in range(1, no_cav+1):\n",
        "    if i == no_cav:\n",
        "      sum_term.append( add_mpo(drho_list[i], mpo_i[i], is_last=True) )\n",
        "    else:\n",
        "      sum_term.append( add_mpo(drho_list[i], mpo_i[i]) )\n",
        "  #sum_term = svd_red(sum_term)\n",
        "  '''\n",
        "  mpo_i = sum_term\n",
        "  '''\n",
        "  mpo_i[0] = sum_term[0]/exp_value(sum_term)\n",
        "  for i in range(1,no_cav+1):\n",
        "    mpo_i[i] = sum_term[i]\n",
        "  \n",
        "\n",
        "  norm = exp_value(mpo_i)\n",
        "  test_list.append(norm)\n",
        "\n",
        "  for i in range(no_cav+1):\n",
        "    exp_value_list[i].append(exp_value(mpo_i, i))\n"
      ]
    },
    {
      "cell_type": "code",
      "execution_count": 510,
      "metadata": {},
      "outputs": [
        {
          "data": {
            "text/plain": [
              "[<matplotlib.lines.Line2D at 0x281a9cd30>]"
            ]
          },
          "execution_count": 510,
          "metadata": {},
          "output_type": "execute_result"
        },
        {
          "data": {
            "image/png": "[encoded data removed]",
            "text/plain": [
              "<Figure size 640x480 with 1 Axes>"
            ]
          },
          "metadata": {},
          "output_type": "display_data"
        }
      ],
      "source": [
        "for i in range(no_cav+1):\n",
        "    plt.plot(evol_time, exp_value_list[i])\n",
        "plt.plot(evol_time, test_list, 'o')\n",
        "#plt.plot(evol_time, np.exp(evol_time), 'o')\n",
        "plt.plot(evol_time, evol_time*0, '--')"
      ]
    },
    {
      "cell_type": "markdown",
      "metadata": {
        "id": "mkoASr7C7DHv"
      },
      "source": [
        "#Archive"
      ]
    },
    {
      "cell_type": "markdown",
      "metadata": {},
      "source": []
    }
  ],
  "metadata": {
    "colab": {
      "provenance": []
    },
    "kernelspec": {
      "display_name": "Python 3",
      "name": "python3"
    },
    "language_info": {
      "codemirror_mode": {
        "name": "ipython",
        "version": 3
      },
      "file_extension": ".py",
      "mimetype": "text/x-python",
      "name": "python",
      "nbconvert_exporter": "python",
      "pygments_lexer": "ipython3",
      "version": "3.9.6"
    }
  },
  "nbformat": 4,
  "nbformat_minor": 0
}
