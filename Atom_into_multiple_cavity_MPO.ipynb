{
  "cells": [
    {
      "cell_type": "code",
      "execution_count": 2,
      "metadata": {
        "colab": {
          "base_uri": "https://localhost:8080/"
        },
        "id": "pPSARg31Ax_9",
        "outputId": "07976745-c0b0-4c5f-a326-8d78f68cc44b"
      },
      "outputs": [],
      "source": [
        "from einops import rearrange, reduce, repeat\n",
        "\n",
        "import qutip\n",
        "\n",
        "import numpy as np\n",
        "import matplotlib.pyplot as plt"
      ]
    },
    {
      "cell_type": "code",
      "execution_count": 30,
      "metadata": {},
      "outputs": [],
      "source": [
        "from scipy.linalg import block_diag"
      ]
    },
    {
      "cell_type": "code",
      "execution_count": 3,
      "metadata": {
        "id": "lwU_h9bFyFZ7"
      },
      "outputs": [],
      "source": [
        "def add_mpo( A, B, is_first = False, is_last = False):\n",
        "  s0, s1, s2 = A.shape[:3]\n",
        "\n",
        "  if is_first:\n",
        "    #immutable axes are 0,2\n",
        "    C = np.append(A, B, axis=1)\n",
        "\n",
        "  elif is_last:\n",
        "    #immutable axes are 0,1\n",
        "    C = np.append(A, B, axis=2)\n",
        "\n",
        "  else:\n",
        "    #immutable axes are 0,2\n",
        "    top = np.append( A, np.zeros((s0,B.shape[1],s2,A.shape[3])), axis=1)\n",
        "    bottom = np.append(np.zeros((s0,A.shape[1],s2,B.shape[3])),B, axis =1)\n",
        "    C = np.append( top, bottom, axis=3 )\n",
        "\n",
        "  return C"
      ]
    },
    {
      "cell_type": "code",
      "execution_count": 4,
      "metadata": {
        "id": "uSOAGN9IHpdP"
      },
      "outputs": [],
      "source": [
        "def exp_val(cell_0, cell_1, cell_no=0):\n",
        "  if not cell_no:\n",
        "    return np.einsum('b c a, e e c, a b', cell_0, cell_1, atom_adag@atom_a)\n",
        "  elif cell_no:\n",
        "    return np.einsum('a c a, f e c, e f', cell_0, cell_1, cav_adag@cav_a)\n",
        "  else:\n",
        "    return np.einsum('a c a, f f c', cell_0, cell_1)\n"
      ]
    },
    {
      "cell_type": "code",
      "execution_count": 5,
      "metadata": {},
      "outputs": [],
      "source": [
        "no_cav = 3\n",
        "ac_list = list()\n",
        "\n",
        "ac_list.append(qutip.fock_dm(2,1).full())\n",
        "\n",
        "for i in range(no_cav):\n",
        "    ac_list.append(qutip.fock_dm(3,0).full())"
      ]
    },
    {
      "cell_type": "code",
      "execution_count": 79,
      "metadata": {
        "id": "RHdtf7pVTHx4"
      },
      "outputs": [],
      "source": [
        "# mpo conversion and storage\n",
        "\n",
        "mpo_0 = np.einsum('a b, c d, e f, g h-> a c e g b d f h', ac_list[0], ac_list[1], ac_list[2], ac_list[3])\n",
        "\n",
        "u, s, v = np.linalg.svd((rearrange(mpo_0, 'a c e g b d f h-> (a b c d e f) (g h)')), full_matrices=False)\n",
        "cell_0 = rearrange(np.diag(s)@v, 'c (a b)-> c a b', a=3, b=3)\n",
        "\n",
        "u, s, v = np.linalg.svd((rearrange(u, '(a b c d e f) g -> (a b c d) (e f g)', a=2, b=2, c=3, d=3, e=3, f=3)), full_matrices=False)\n",
        "cell_1 = rearrange(np.diag(s)@v, 's (e f g)-> s e g f', e=3, f=3)\n",
        "\n",
        "u, s, v = np.linalg.svd((rearrange(u, '(a b c d) s -> (a b) (c d s)', a=2, b=2, c=3, d=3)), full_matrices=False)\n",
        "cell_2 = rearrange(np.diag(s)@v, 't (c d s)-> t c s d', c=3, d=3)\n",
        "\n",
        "cell_3 = rearrange(u, '(a b) t-> a t b', a=2, b=2)\n",
        "\n",
        "ac_list = [cell_3, cell_2, cell_1, cell_0]"
      ]
    },
    {
      "cell_type": "code",
      "execution_count": 80,
      "metadata": {},
      "outputs": [],
      "source": [
        "def svd(mpo_x):\n",
        "    u, s, v = np.linalg.svd((rearrange(mpo_x, 'a c e g b d f h-> (a b c d e f) (g h)')), full_matrices=False)\n",
        "    cell_0 = rearrange(np.diag(s)@v, 'c (a b)-> c a b', a=3, b=3)\n",
        "\n",
        "    u, s, v = np.linalg.svd((rearrange(u, '(a b c d e f) g -> (a b c d) (e f g)', a=2, b=2, c=3, d=3, e=3, f=3)), full_matrices=False)\n",
        "    cell_1 = rearrange(np.diag(s)@v, 's (e f g)-> s e g f', e=3, f=3)\n",
        "\n",
        "    u, s, v = np.linalg.svd((rearrange(u, '(a b c d) s -> (a b) (c d s)', a=2, b=2, c=3, d=3)), full_matrices=False)\n",
        "    cell_2 = rearrange(np.diag(s)@v, 't (c d s)-> t c s d', c=3, d=3)\n",
        "\n",
        "    cell_3 = rearrange(u, '(a b) t-> a t b', a=2, b=2)\n",
        "\n",
        "    return cell_3, cell_2, cell_1, cell_0"
      ]
    },
    {
      "cell_type": "code",
      "execution_count": 81,
      "metadata": {},
      "outputs": [],
      "source": [
        "mpo_i = np.einsum('a t b, t c s d, s e q f, q g h-> a c e g b d f h', cell_3, cell_2, cell_1, cell_0 )"
      ]
    },
    {
      "cell_type": "code",
      "execution_count": 82,
      "metadata": {},
      "outputs": [
        {
          "data": {
            "text/plain": [
              "True"
            ]
          },
          "execution_count": 82,
          "metadata": {},
          "output_type": "execute_result"
        }
      ],
      "source": [
        "np.isclose(mpo_i, mpo_0).all()"
      ]
    },
    {
      "cell_type": "code",
      "execution_count": 84,
      "metadata": {},
      "outputs": [
        {
          "data": {
            "text/plain": [
              "(2, 40, 2)"
            ]
          },
          "execution_count": 84,
          "metadata": {},
          "output_type": "execute_result"
        }
      ],
      "source": [
        "rearrange(np.einsum('a b c, c d e-> a b d e', pre_mpo[0], ac_list[0]), 'a b d e-> a (b d) e').shape"
      ]
    },
    {
      "cell_type": "code",
      "execution_count": 75,
      "metadata": {},
      "outputs": [],
      "source": [
        "def g1(t=0):\n",
        "    return 1\n",
        "\n",
        "def g2(t=0):\n",
        "    return 1\n",
        "\n",
        "def g3(t=0):\n",
        "    return 1\n",
        "\n",
        "g = 1                  #gamma\n",
        "rg = g**0.5"
      ]
    },
    {
      "cell_type": "code",
      "execution_count": 105,
      "metadata": {},
      "outputs": [],
      "source": [
        "dim = int(1 + no_cav + (no_cav*0.5*(no_cav+1)))\n",
        "zero_mpo_matrix = np.array( list([ list([ np.zeros((3,3))])*dim ])*dim ) *0j\n",
        "\n",
        "pre_term1 = zero_mpo_matrix\n",
        "pre_term1[0][0][:][:] = np.eye(3)\n",
        "pre_term1[1][1][:][:] = ad * g1()\n",
        "pre_term1[2][2][:][:] = np.eye(3)\n",
        "pre_term1[3][3][:][:] = np.eye(3)\n",
        "pre_term1[4][4][:][:] = ad@a * g1()**2\n",
        "pre_term1[5][5][:][:] = a * g1()\n",
        "pre_term1[6][6][:][:] = np.eye(3)\n",
        "pre_term1[7][7][:][:] = a * g1()\n",
        "pre_term1[8][8][:][:] = np.eye(3)\n",
        "pre_term1[9][9][:][:] = np.eye(3)\n",
        "\n",
        "pre_term2 = zero_mpo_matrix\n",
        "pre_term2[0][0][:][:] = np.eye(3)\n",
        "pre_term2[1][1][:][:] = np.eye(3)\n",
        "pre_term2[2][2][:][:] = ad * g2()\n",
        "pre_term2[3][3][:][:] = np.eye(3)\n",
        "pre_term2[4][4][:][:] = np.eye(3)\n",
        "pre_term2[5][5][:][:] = ad * g2()\n",
        "pre_term2[6][6][:][:] = ad@a * g2()**2\n",
        "pre_term2[7][7][:][:] = np.eye(3)\n",
        "pre_term2[8][8][:][:] = a * g2()\n",
        "pre_term2[9][9][:][:] = np.eye(3)\n",
        "\n",
        "post_term1 = zero_mpo_matrix\n",
        "post_term1[0][0][:][:] = np.eye(3)\n",
        "post_term1[1][1][:][:] = a * g1()\n",
        "post_term1[2][2][:][:] = np.eye(3)\n",
        "post_term1[3][3][:][:] = np.eye(3)\n",
        "post_term1[4][4][:][:] = ad@a * g1()**2\n",
        "post_term1[5][5][:][:] = ad * g1()\n",
        "post_term1[6][6][:][:] = ad * g1()\n",
        "post_term1[7][7][:][:] = np.eye(3)\n",
        "post_term1[8][8][:][:] = np.eye(3)\n",
        "post_term1[9][9][:][:] = np.eye(3)\n",
        "\n",
        "post_term2 = zero_mpo_matrix\n",
        "post_term2[0][0][:][:] = np.eye(3)\n",
        "post_term2[1][1][:][:] = np.eye(3)\n",
        "post_term2[2][2][:][:] = a * g2()\n",
        "post_term2[3][3][:][:] = np.eye(3)\n",
        "post_term2[4][4][:][:] = np.eye(3)\n",
        "post_term2[5][5][:][:] = a * g2()\n",
        "post_term2[6][6][:][:] = np.eye(3)\n",
        "post_term2[7][7][:][:] = ad@a * g2()**2\n",
        "post_term2[8][8][:][:] = ad * g2()\n",
        "post_term2[9][9][:][:] = np.eye(3)\n",
        "\n",
        "L_term1 = np.array( list([ list([ np.zeros((3,3))])*(no_cav+1) ])*(no_cav+1) ) *0j\n",
        "L_term1[0][0][:][:] = np.eye(3)\n",
        "L_term1[1][1][:][:] = g1() * a\n",
        "L_term1[2][2][:][:] = np.eye(3)\n",
        "L_term1[3][3][:][:] = np.eye(3)\n",
        "\n",
        "L_term2 = np.array( list([ list([ np.zeros((3,3))])*(no_cav+1) ])*(no_cav+1) ) *0j\n",
        "L_term1[0][0][:][:] = np.eye(3)\n",
        "L_term1[1][1][:][:] = np.eye(3)\n",
        "L_term1[2][2][:][:] = g2() * a\n",
        "L_term1[3][3][:][:] = np.eye(3)\n",
        "\n",
        "Ld_term1 = np.array( list([ list([ np.zeros((3,3))])*(no_cav+1) ])*(no_cav+1) ) *0j\n",
        "Ld_term1[0][0][:][:] = np.eye(3)\n",
        "Ld_term1[1][1][:][:] = g1() * ad\n",
        "Ld_term1[2][2][:][:] = np.eye(3)\n",
        "Ld_term1[3][3][:][:] = np.eye(3)\n",
        "\n",
        "Ld_term2 = np.array( list([ list([ np.zeros((3,3))])*(no_cav+1) ])*(no_cav+1) ) *0j\n",
        "Ld_term1[0][0][:][:] = np.eye(3)\n",
        "Ld_term1[1][1][:][:] = np.eye(3)\n",
        "Ld_term1[2][2][:][:] = g2() * ad\n",
        "Ld_term1[3][3][:][:] = np.eye(3)\n"
      ]
    },
    {
      "cell_type": "code",
      "execution_count": 109,
      "metadata": {},
      "outputs": [],
      "source": [
        "pre_mpo = list([\n",
        "                -0.5 * rearrange( np.array( [ g*cd@c, rg*c, rg*c, rg*c, np.eye(2), np.eye(2), np.eye(2),np.eye(2),np.eye(2),np.eye(2) ] ) , 'c a b-> a c b'),\n",
        "\n",
        "                rearrange(pre_term1, 'a b c d-> a c b d') , \n",
        "\n",
        "                rearrange(pre_term2, 'a b c d-> a c b d') ,\n",
        "\n",
        "                np.array( [ np.eye(3), np.eye(3), np.eye(3), g3()*ad, np.eye(3), np.eye(3), np.eye(3), g3()*ad, g3()*ad, g3()**2 * ad@a ] )    \n",
        "])\n",
        "\n",
        "post_mpo = list([\n",
        "                -0.5 * rearrange( np.array( [ g*cd@c, rg*cd, rg*cd, rg*cd, np.eye(2), np.eye(2), np.eye(2),np.eye(2),np.eye(2),np.eye(2) ] ) , 'c a b-> a c b'),\n",
        "\n",
        "                rearrange(post_term1, 'a b c d-> a c b d') , \n",
        "\n",
        "                rearrange(post_term2, 'a b c d-> a c b d') ,\n",
        "\n",
        "                np.array( [ np.eye(3), np.eye(3), np.eye(3), g3()*a, np.eye(3), np.eye(3), a*g3(), np.eye(3), g3()*a, g3()**2 * ad@a ] )   \n",
        "])\n",
        "\n",
        "L_mpo = list([\n",
        "                rearrange( np.array( [ rg*c, np.eye(2), np.eye(2), np.eye(2), np.eye(2) ] ) , 'c a b-> a c b'),\n",
        "\n",
        "                rearrange(L_term1, 'a b c d-> a c b d') , \n",
        "\n",
        "                rearrange(L_term2, 'a b c d-> a c b d') ,\n",
        "\n",
        "                np.array( [ np.eye(3), np.eye(3), np.eye(3), g3()*a ] ) \n",
        "])\n",
        "\n",
        "Ld_mpo = list([\n",
        "                rearrange( np.array( [ rg*cd, np.eye(2), np.eye(2), np.eye(2), np.eye(2) ] ) , 'c a b-> a c b'),\n",
        "\n",
        "                rearrange(Ld_term1, 'a b c d-> a c b d') , \n",
        "\n",
        "                rearrange(Ld_term2, 'a b c d-> a c b d') ,\n",
        "\n",
        "                np.array( [ np.eye(3), np.eye(3), np.eye(3), g3()*ad ] )\n",
        "])"
      ]
    },
    {
      "cell_type": "code",
      "execution_count": null,
      "metadata": {
        "id": "kJbFbtNeYjPp"
      },
      "outputs": [],
      "source": [
        "#atom_a \n",
        "c = qutip.destroy(2).full()\n",
        "#atom_a = np.eye(2)\n",
        "#atom_adag\n",
        "cd = qutip.destroy(2).dag().full()\n",
        "#atom_adag = np.eye(2)\n",
        "#cav_a \n",
        "a = qutip.destroy(3).full()\n",
        "#cav_a = np.eye(3)\n",
        "#cav_adag \n",
        "ad = qutip.destroy(3).dag().full()\n",
        "#cav_adag = np.eye(3)"
      ]
    },
    {
      "cell_type": "code",
      "execution_count": 110,
      "metadata": {},
      "outputs": [],
      "source": [
        "term1 = list([\n",
        "            rearrange(np.einsum('a b c, c d e-> a b d e', pre_mpo[0], ac_list[0]), 'a b d e-> a (b d) e'), \n",
        "            rearrange(np.einsum('a b c d, e d f g-> a e b c f g', pre_mpo[1], ac_list[1]), 'a e b c f g-> (a e) b (c f) g'), \n",
        "            rearrange(np.einsum('a b c d, e d f g-> a e b c f g', pre_mpo[2], ac_list[2]), 'a e b c f g-> (a e) b (c f) g'),\n",
        "            rearrange(np.einsum('a b c, d c e-> a d b e', pre_mpo[3], ac_list[3]), 'a d b e-> (a d) b e'), \n",
        "])\n",
        "\n",
        "term2 = list([\n",
        "            rearrange(np.einsum('a b c, c d e-> a b d e', ac_list[0], post_mpo[0]), 'a b d e-> a (b d) e'), \n",
        "            rearrange(np.einsum('a b c d, e d f g-> a e b c f g', ac_list[1], post_mpo[1]), 'a e b c f g-> (a e) b (c f) g'), \n",
        "            rearrange(np.einsum('a b c d, e d f g-> a e b c f g', ac_list[2], post_mpo[2]), 'a e b c f g-> (a e) b (c f) g'),\n",
        "            rearrange(np.einsum('a b c, d c e-> a d b e', ac_list[3], post_mpo[3]), 'a d b e-> (a d) b e'), \n",
        "])\n",
        "\n",
        "term3 = list([\n",
        "            rearrange(np.einsum('a b c, c d e, e f g-> a b d f g', L_mpo[0], ac_list[0], Ld_mpo[0]), 'a b d f g-> a (b d f) g'),\n",
        "            rearrange(np.einsum('a b c d, f d e g, h g i j-> a f h b c e i j', L_mpo[1], ac_list[1], Ld_mpo[1]), 'a f h b c e i j-> (a f h) b (c e i) j'),\n",
        "            rearrange(np.einsum('a b c d, f d e g, h g i j-> a f h b c e i j', L_mpo[2], ac_list[2], Ld_mpo[2]), 'a f h b c e i j-> (a f h) b (c e i) j'),\n",
        "            rearrange(np.einsum('a b c, d c e, f e g-> a d c b g', L_mpo[3], ac_list[3], Ld_mpo[3]), 'a d c b g-> (a d c) b g')\n",
        "])"
      ]
    },
    {
      "cell_type": "code",
      "execution_count": null,
      "metadata": {},
      "outputs": [],
      "source": [
        "sum_term ="
      ]
    },
    {
      "cell_type": "code",
      "execution_count": null,
      "metadata": {
        "colab": {
          "base_uri": "https://localhost:8080/"
        },
        "id": "FTzO74hsUbxW",
        "outputId": "7abe969a-1b7e-4137-d7c6-b04458664548"
      },
      "outputs": [
        {
          "data": {
            "text/plain": [
              "True"
            ]
          },
          "execution_count": 13,
          "metadata": {},
          "output_type": "execute_result"
        }
      ],
      "source": [
        "np.isclose(matrc,\n",
        "           rearrange(np.einsum(\n",
        "           'a b c, d e b-> a d c e',\n",
        "           rearrange(np.einsum('a b c, c d e-> a b d e', cell_0, Ldag_atom), 'a b d e-> a (b d) e'),\n",
        "           rearrange(np.einsum('a b c, b e d-> a e c d', cell_1, Ldag_cav), 'a e c d-> a e (c d)')),\n",
        "                     'a c b d-> (a c) (b d)')\n",
        "\n",
        "\n",
        "           ).all()"
      ]
    },
    {
      "cell_type": "code",
      "execution_count": null,
      "metadata": {
        "id": "1RZLS7lnEJAA"
      },
      "outputs": [],
      "source": [
        "def drhodt(cell_0, cell_1):\n",
        "\n",
        "  # L rho Ldag\n",
        "  atom_0 = rearrange(np.einsum('a b c, c d e, e f g-> a b d f g', L_atom, cell_0, Ldag_atom), 'a b d f g-> a (b d f) g')\n",
        "  cav_0 = rearrange(np.einsum('a b c, b d e, d f g-> a f c e g', L_cav, cell_1, Ldag_cav), 'a f c e g-> a f (c e g)')\n",
        "\n",
        "  # rho H'\n",
        "  atom_1 = rearrange(np.einsum('a b c, c d e-> a b d e', cell_0, post_atom), 'a b d e-> a (b d) e')\n",
        "  cav_1 = rearrange(np.einsum('a b c, b e d-> a e c d', cell_1, post_cav), 'a b c d-> a b (c d)')\n",
        "\n",
        "  # H' rho\n",
        "  atom_2 = rearrange(np.einsum('a b c, c d e-> a b d e', pre_atom, cell_0), 'a b d e-> a (b d) e')\n",
        "  cav_2 = rearrange(np.einsum('a b c, b e d-> a e c d', pre_cav, cell_1), 'a b c d-> a b (c d)')\n",
        "\n",
        "  dcell_0 = add_mpo(add_mpo(atom_0, atom_1, is_first=True), atom_2, is_first=True)\n",
        "  dcell_1 = add_mpo(add_mpo(cav_0, cav_1, is_last=True), cav_2, is_last=True)\n",
        "\n",
        "  return dcell_0, dcell_1"
      ]
    },
    {
      "cell_type": "code",
      "execution_count": null,
      "metadata": {
        "id": "GyQvWGTyGGbp"
      },
      "outputs": [],
      "source": [
        "time = np.linspace(0,10,5000)\n",
        "dt = time[1]\n",
        "list1= list()\n",
        "list2 = list()\n",
        "\n",
        "for i in time:\n",
        "\n",
        "  dcell_0, dcell_1 = drhodt(cell_0, cell_1)\n",
        "  cell_n0 = add_mpo(cell_0, (dt*dcell_0), is_first=True)\n",
        "  cell_n1 = add_mpo(cell_1, (dcell_1), is_last=True)\n",
        "\n",
        "  list1.append( exp_val(cell_n0, cell_n1) )\n",
        "  list2.append( exp_val(cell_n0, cell_n1, cell_no=1) )\n",
        "\n",
        "  mpo_i = np.einsum('a c b, e f c-> a e b f', cell_n0, cell_n1)\n",
        "  u, s, v = np.linalg.svd((rearrange(mpo_i, 'a c b d-> (a b) (c d)')), full_matrices=False)\n",
        "  cell_0 = rearrange(u, '(a b) c-> a c b', a=2, b=2)\n",
        "  cell_1 = rearrange(np.diag(s)@v, 'c (a b)-> a b c', a=3, b=3)"
      ]
    },
    {
      "cell_type": "code",
      "execution_count": null,
      "metadata": {
        "colab": {
          "base_uri": "https://localhost:8080/",
          "height": 448
        },
        "id": "ZcKNnFCyKop6",
        "outputId": "80f43684-ff57-46c8-def8-522a7fbbcd1a"
      },
      "outputs": [
        {
          "name": "stderr",
          "output_type": "stream",
          "text": [
            "/Users/ygup3491/Library/Python/3.9/lib/python/site-packages/matplotlib/cbook/__init__.py:1345: ComplexWarning: Casting complex values to real discards the imaginary part\n",
            "  return np.asarray(x, float)\n"
          ]
        },
        {
          "data": {
            "text/plain": [
              "[<matplotlib.lines.Line2D at 0x12e255340>]"
            ]
          },
          "execution_count": 16,
          "metadata": {},
          "output_type": "execute_result"
        },
        {
          "data": {
            "image/png": "[encoded data removed]",
            "text/plain": [
              "<Figure size 640x480 with 1 Axes>"
            ]
          },
          "metadata": {},
          "output_type": "display_data"
        }
      ],
      "source": [
        "plt.plot(time, list1)\n",
        "plt.plot(time,list2)"
      ]
    },
    {
      "cell_type": "markdown",
      "metadata": {
        "id": "mkoASr7C7DHv"
      },
      "source": [
        "#Archive"
      ]
    },
    {
      "cell_type": "code",
      "execution_count": null,
      "metadata": {
        "id": "xFjtYYPJk2xc"
      },
      "outputs": [],
      "source": [
        "# H rho\n",
        "\n",
        "Hrho_0 = rearrange(np.einsum('a b c, c d e-> a b d e', H_atom, cell_0), 'a b d e-> a (b d) e')\n",
        "Hrho_1 = rearrange(np.einsum('a b c, b e d-> a e c d', H_cav, cell_1), 'a e c d-> a e (c d)')"
      ]
    },
    {
      "cell_type": "code",
      "execution_count": null,
      "metadata": {
        "id": "zAiVsy8uwMOC"
      },
      "outputs": [],
      "source": [
        "# rho H\n",
        "\n",
        "rhoH_0 = rearrange(np.einsum('a b c, c d e-> a b d e', cell_0, H_atom), 'a b d e-> a (b d) e')\n",
        "rhoH_1 = rearrange(np.einsum('a b c, b e d-> a e c d', cell_1, H_cav), 'a b c d-> a b (c d)')"
      ]
    },
    {
      "cell_type": "code",
      "execution_count": null,
      "metadata": {
        "id": "uME0pB4FAaBD"
      },
      "outputs": [],
      "source": [
        "dcell_0 = add_mpo(Hrho_0,-rhoH_0, is_first=True)\n",
        "dcell_1 = add_mpo(Hrho_1,rhoH_1, is_last=True)"
      ]
    },
    {
      "cell_type": "code",
      "execution_count": null,
      "metadata": {
        "id": "atoxYMRl7g92"
      },
      "outputs": [],
      "source": [
        "matrc = np.kron((atom_a@atom_0),(cav_adag@cav_0))+ np.kron((atom_adag@atom_0),(cav_a@cav_0)) - np.kron((atom_0@atom_a),(cav_0@cav_adag))- np.kron((atom_0@atom_adag),(cav_0@cav_a))"
      ]
    },
    {
      "cell_type": "code",
      "execution_count": null,
      "metadata": {
        "id": "KmG3E7sIE0im"
      },
      "outputs": [],
      "source": [
        "dcell_i0, dcell_i1 = drhodt(cell_0, cell_1)"
      ]
    },
    {
      "cell_type": "code",
      "execution_count": null,
      "metadata": {
        "colab": {
          "base_uri": "https://localhost:8080/"
        },
        "id": "RS6TkoKNpIfv",
        "outputId": "a3fc1d40-67ff-40d3-9ae9-04b15c7c4870"
      },
      "outputs": [
        {
          "data": {
            "text/plain": [
              "False"
            ]
          },
          "execution_count": 213,
          "metadata": {},
          "output_type": "execute_result"
        }
      ],
      "source": [
        "\n",
        "np.isclose( matrc, rearrange(np.einsum('a b c, d e b-> a d c e',dcell_i0, dcell_i1 ), 'a c b d-> (a c) (b d)' ) ).all()"
      ]
    },
    {
      "cell_type": "code",
      "execution_count": null,
      "metadata": {
        "colab": {
          "base_uri": "https://localhost:8080/"
        },
        "id": "oeghqNU29z1u",
        "outputId": "923fa9d2-a222-4b2f-df2b-876c15d1ca51"
      },
      "outputs": [
        {
          "data": {
            "text/plain": [
              "array([[ True,  True,  True,  True,  True,  True],\n",
              "       [ True,  True,  True,  True,  True,  True],\n",
              "       [ True,  True,  True,  True,  True,  True],\n",
              "       [ True,  True,  True,  True,  True,  True],\n",
              "       [ True,  True,  True,  True,  True,  True],\n",
              "       [ True,  True,  True,  True,  True,  True]])"
            ]
          },
          "execution_count": 76,
          "metadata": {},
          "output_type": "execute_result"
        }
      ],
      "source": [
        "np.isclose(np.kron(atom_0, cav_0)- np.kron(atom_0, cav_0), rearrange(np.einsum('a b c, d e b-> a d c e', add_mpo(cell_0,-cell_0, is_first=True), add_mpo(cell_1,cell_1, is_last=True)), 'a c b d-> (a c) (b d)'))"
      ]
    },
    {
      "cell_type": "code",
      "execution_count": null,
      "metadata": {
        "colab": {
          "base_uri": "https://localhost:8080/"
        },
        "id": "SDycupxv8mIX",
        "outputId": "39bd2e00-da6e-4bf5-decc-f6d7db0cf12a"
      },
      "outputs": [
        {
          "data": {
            "text/plain": [
              "array([[0.+0.j, 0.+0.j, 0.+0.j, 0.+0.j, 0.+0.j, 0.+0.j],\n",
              "       [0.+0.j, 0.+0.j, 0.+0.j, 0.+0.j, 0.+0.j, 0.+0.j],\n",
              "       [0.+0.j, 0.+0.j, 0.+0.j, 0.+0.j, 0.+0.j, 0.+0.j],\n",
              "       [0.+0.j, 0.+0.j, 0.+0.j, 0.+0.j, 0.+0.j, 0.+0.j],\n",
              "       [0.+0.j, 0.+0.j, 0.+0.j, 0.+0.j, 1.+0.j, 0.+0.j],\n",
              "       [0.+0.j, 0.+0.j, 0.+0.j, 0.+0.j, 0.+0.j, 0.+0.j]])"
            ]
          },
          "execution_count": 64,
          "metadata": {},
          "output_type": "execute_result"
        }
      ],
      "source": [
        "A = np.random.rand()"
      ]
    },
    {
      "cell_type": "code",
      "execution_count": null,
      "metadata": {
        "colab": {
          "base_uri": "https://localhost:8080/"
        },
        "id": "zciqPI_X8rqZ",
        "outputId": "171dc0eb-2cd0-43f2-9e7d-4be06f41f312"
      },
      "outputs": [
        {
          "data": {
            "text/plain": [
              "array([[0.+0.j, 0.+0.j, 0.+0.j, 0.+0.j, 0.+0.j, 0.+0.j],\n",
              "       [0.+0.j, 0.+0.j, 0.+0.j, 0.+0.j, 0.+0.j, 0.+0.j],\n",
              "       [0.+0.j, 0.+0.j, 0.+0.j, 0.+0.j, 0.+0.j, 0.+0.j],\n",
              "       [0.+0.j, 0.+0.j, 0.+0.j, 0.+0.j, 0.+0.j, 0.+0.j],\n",
              "       [0.+0.j, 0.+0.j, 0.+0.j, 0.+0.j, 0.+0.j, 0.+0.j],\n",
              "       [0.+0.j, 0.+0.j, 0.+0.j, 0.+0.j, 0.+0.j, 0.+0.j]])"
            ]
          },
          "execution_count": 67,
          "metadata": {},
          "output_type": "execute_result"
        }
      ],
      "source": [
        "np.kron(atom_0, cav_0)-np.kron(atom_0, cav_0)"
      ]
    },
    {
      "cell_type": "code",
      "execution_count": null,
      "metadata": {
        "colab": {
          "base_uri": "https://localhost:8080/"
        },
        "id": "PZUQZQGi1LeV",
        "outputId": "3e83990d-d5fc-4628-fc3b-0a26830c35cc"
      },
      "outputs": [
        {
          "data": {
            "text/plain": [
              "(2, 3, 2, 3)"
            ]
          },
          "execution_count": 41,
          "metadata": {},
          "output_type": "execute_result"
        }
      ],
      "source": [
        "np.einsum('a b c, d e b-> a d c e',add_mpo(cell_0,-cell_0, is_first=True), add_mpo(cell_1,-cell_1, is_last=True) ).shape"
      ]
    },
    {
      "cell_type": "code",
      "execution_count": null,
      "metadata": {
        "colab": {
          "base_uri": "https://localhost:8080/"
        },
        "id": "HVGJ8UxG2v4V",
        "outputId": "54f6256c-7d75-4805-c1da-e67c5ed4521c"
      },
      "outputs": [
        {
          "data": {
            "text/plain": [
              "array([[ True,  True,  True,  True,  True,  True],\n",
              "       [ True,  True,  True,  True,  True,  True],\n",
              "       [ True,  True,  True,  True,  True,  True],\n",
              "       [ True,  True,  True,  True,  True,  True],\n",
              "       [ True,  True,  True,  True, False,  True],\n",
              "       [ True,  True,  True,  True,  True,  True]])"
            ]
          },
          "execution_count": 48,
          "metadata": {},
          "output_type": "execute_result"
        }
      ],
      "source": [
        "np.isclose(np.kron((atom_0+atom_0), (cav_0+cav_0)), (np.kron(atom_0, cav_0)+np.kron(atom_0, cav_0)))"
      ]
    },
    {
      "cell_type": "code",
      "execution_count": null,
      "metadata": {
        "colab": {
          "base_uri": "https://localhost:8080/"
        },
        "id": "SctjXfm0rm14",
        "outputId": "b0578896-822d-4616-d701-3f8342f08c09"
      },
      "outputs": [
        {
          "data": {
            "text/plain": [
              "True"
            ]
          },
          "execution_count": 24,
          "metadata": {},
          "output_type": "execute_result"
        }
      ],
      "source": [
        "np.isclose( np.kron(atom_0, (cav_adag@cav_0)), rearrange(np.einsum('a b c, d e b-> a d c e', cell_0, np.einsum('a d, d e c-> a e c', cav_adag, cell_1)), 'a c b d-> (a c) (b d)')).all()"
      ]
    },
    {
      "cell_type": "code",
      "execution_count": null,
      "metadata": {
        "colab": {
          "base_uri": "https://localhost:8080/"
        },
        "id": "-DIgKQ-8k20d",
        "outputId": "c1742ddf-f154-4eaa-bd29-a79188c84832"
      },
      "outputs": [
        {
          "data": {
            "text/plain": [
              "(3, 3, 2)"
            ]
          },
          "execution_count": 25,
          "metadata": {},
          "output_type": "execute_result"
        }
      ],
      "source": [
        "H_cav.shape"
      ]
    },
    {
      "cell_type": "code",
      "execution_count": null,
      "metadata": {
        "colab": {
          "base_uri": "https://localhost:8080/"
        },
        "id": "9P1l6vkqmg3X",
        "outputId": "fab47464-b29e-44dc-93ad-c284f5698f70"
      },
      "outputs": [
        {
          "data": {
            "text/plain": [
              "True"
            ]
          },
          "execution_count": 27,
          "metadata": {},
          "output_type": "execute_result"
        }
      ],
      "source": [
        "np.isclose((np.kron((atom_a@atom_0),(cav_adag@cav_0))+ np.kron((atom_adag@atom_0),(cav_a@cav_0))), rearrange(np.einsum('a b c, d e b-> a d c e', Hrho_0, Hrho_1),'a c b d->(a c) (b d)')).all()"
      ]
    },
    {
      "cell_type": "code",
      "execution_count": null,
      "metadata": {
        "colab": {
          "base_uri": "https://localhost:8080/"
        },
        "id": "-7C8OJPlwm7I",
        "outputId": "462b610b-5d02-4dad-f68b-238dabe383b5"
      },
      "outputs": [
        {
          "data": {
            "text/plain": [
              "True"
            ]
          },
          "execution_count": 29,
          "metadata": {},
          "output_type": "execute_result"
        }
      ],
      "source": [
        "np.isclose((np.kron((atom_0@atom_a),(cav_0@cav_adag))+ np.kron((atom_0@atom_adag),(cav_0@cav_a))), rearrange(np.einsum('a b c, d e b-> a d c e', rhoH_0, rhoH_1),'a c b d->(a c) (b d)')).all()"
      ]
    },
    {
      "cell_type": "code",
      "execution_count": null,
      "metadata": {
        "colab": {
          "base_uri": "https://localhost:8080/"
        },
        "id": "rjT0BTJ7Y41R",
        "outputId": "51b5bbc7-905e-47f6-97f6-38a4e0a58b40"
      },
      "outputs": [
        {
          "data": {
            "text/plain": [
              "True"
            ]
          },
          "execution_count": 47,
          "metadata": {},
          "output_type": "execute_result"
        }
      ],
      "source": [
        "np.isclose(np.kron(atom_a, cav_a)@np.kron(atom_0,cav_0), rearrange(np.einsum('t a, a c b, c e f, s e-> t s b f', atom_a, cell_0, cell_1, cav_a),'a c b d-> (a c) (b d)')).all()"
      ]
    },
    {
      "cell_type": "code",
      "execution_count": null,
      "metadata": {
        "colab": {
          "base_uri": "https://localhost:8080/"
        },
        "id": "emIPvIo1aGbv",
        "outputId": "bda006de-1a7a-4d41-b4b9-6f08b4c6c9b8"
      },
      "outputs": [
        {
          "data": {
            "text/plain": [
              "(1+0j)"
            ]
          },
          "execution_count": 48,
          "metadata": {},
          "output_type": "execute_result"
        }
      ],
      "source": [
        "np.einsum('a c a c',mpo_0)"
      ]
    },
    {
      "cell_type": "code",
      "execution_count": null,
      "metadata": {
        "colab": {
          "base_uri": "https://localhost:8080/"
        },
        "id": "bRkT9n9ecBRD",
        "outputId": "e987e9ed-bf00-47a8-a221-c1308dcc2a55"
      },
      "outputs": [
        {
          "data": {
            "text/plain": [
              "(1+0j)"
            ]
          },
          "execution_count": 50,
          "metadata": {},
          "output_type": "execute_result"
        }
      ],
      "source": [
        "np.trace(np.kron(atom_0, cav_0))"
      ]
    },
    {
      "cell_type": "code",
      "execution_count": null,
      "metadata": {
        "id": "n1gYcV_GcFIj"
      },
      "outputs": [],
      "source": []
    }
  ],
  "metadata": {
    "colab": {
      "provenance": []
    },
    "kernelspec": {
      "display_name": "Python 3",
      "name": "python3"
    },
    "language_info": {
      "codemirror_mode": {
        "name": "ipython",
        "version": 3
      },
      "file_extension": ".py",
      "mimetype": "text/x-python",
      "name": "python",
      "nbconvert_exporter": "python",
      "pygments_lexer": "ipython3",
      "version": "3.9.6"
    }
  },
  "nbformat": 4,
  "nbformat_minor": 0
}
