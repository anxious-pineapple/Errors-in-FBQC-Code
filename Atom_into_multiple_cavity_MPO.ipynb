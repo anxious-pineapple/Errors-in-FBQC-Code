{
  "cells": [
    {
      "cell_type": "code",
      "execution_count": 1,
      "metadata": {
        "colab": {
          "base_uri": "https://localhost:8080/"
        },
        "id": "pPSARg31Ax_9",
        "outputId": "07976745-c0b0-4c5f-a326-8d78f68cc44b"
      },
      "outputs": [],
      "source": [
        "from einops import rearrange, reduce, repeat\n",
        "import qutip\n",
        "import numpy as np\n",
        "import matplotlib.pyplot as plt"
      ]
    },
    {
      "cell_type": "code",
      "execution_count": 2,
      "metadata": {},
      "outputs": [],
      "source": [
        "from scipy.interpolate import interp1d\n",
        "from scipy.integrate import odeint"
      ]
    },
    {
      "cell_type": "code",
      "execution_count": 3,
      "metadata": {},
      "outputs": [],
      "source": [
        "no_cav = 3\n",
        "cav_dim = 3\n",
        "\n",
        "g = 5                #gamma\n",
        "rg = g**0.5"
      ]
    },
    {
      "cell_type": "markdown",
      "metadata": {},
      "source": [
        "# Deveriving $g_i(t)$ coupling functions"
      ]
    },
    {
      "cell_type": "code",
      "execution_count": 4,
      "metadata": {},
      "outputs": [],
      "source": [
        "t_final = 10\n",
        "res = 500\n",
        "c_time = np.linspace(0, t_final, res)\n",
        "corel_c = qutip.destroy(2)\n",
        "corel = qutip.correlation_2op_2t(qutip.qeye(2), qutip.fock(2,1), c_time, c_time, [rg*corel_c,], rg*corel_c.dag(), rg*corel_c)"
      ]
    },
    {
      "cell_type": "code",
      "execution_count": 41,
      "metadata": {},
      "outputs": [],
      "source": [
        "#converting qutip format to t,t' format in paper\n",
        "tdash_corel = np.zeros_like(corel)\n",
        "for i in range(res):\n",
        "    tdash_corel[i][i:] = corel[i][:(res-i)]\n",
        "tdash_corel = tdash_corel + tdash_corel.T - (tdash_corel*np.eye(res))\n",
        "\n",
        "\n",
        "n, func = np.linalg.eig(tdash_corel)\n",
        "n = n/np.sum(n)                                     #renormalising for one photon\n",
        "func_ = func/np.sqrt(c_time[1])                       #renormalising integration to one\n",
        "\n",
        "v_funct = dict()\n",
        "alpha_funct = dict()\n",
        "g_funct = dict()\n",
        "# format -> cav_no(i) influenced by cav_no(j)\n",
        "# cav_no(i) if influenced by 0, means uninfluenced\n",
        "#cavities are indexed 1 to no_cav\n",
        "\n",
        "def da_vi_j(alpha, t ,i ,j ):\n",
        "    da_vi_j = -(g_funct[j](t) * v_funct[i,j-1](t)) - (0.5*alpha*(g_funct[j](t))**2)\n",
        "    return da_vi_j\n",
        "\n",
        "def g_cnstr(v_list):\n",
        "    return np.real(-v_list/(c_time[1]*np.cumsum(v_list**2))**0.5)\n",
        "\n",
        "for i in range(1, no_cav+1):\n",
        "    #cavity no is i \n",
        "    v_funct[i,0] = interp1d(c_time, np.real(func_[:,i-1]), kind='cubic', fill_value='extrapolate')\n",
        "\n",
        "    for j in range(1,i):\n",
        "        #cavity no i, influenced by cavity j\n",
        "        # till j = i-1\n",
        "\n",
        "        # generate alpha[i,j]\n",
        "        alpha_list = odeint(da_vi_j,0,c_time,args=(i,j))[:,0]\n",
        "        alpha_funct[i,j] = interp1d(c_time, alpha_list, kind='cubic',fill_value='extrapolate')\n",
        "\n",
        "        #generate v[i,j]\n",
        "        v_funct[i,j] = interp1d(c_time, (v_funct[i,j-1](c_time) + (g_funct[j](c_time) * alpha_funct[i,j](c_time))), kind='cubic',fill_value='extrapolate')\n",
        "\n",
        "    # generate g[i]\n",
        "    g_funct[i] = qutip.interpolate.Cubic_Spline(0, t_final, 1 + 0*g_cnstr(v_funct[i,i-1](c_time)))"
      ]
    },
    {
      "cell_type": "code",
      "execution_count": 42,
      "metadata": {},
      "outputs": [
        {
          "data": {
            "image/png": "[encoded data removed]",
            "text/plain": [
              "<Figure size 640x480 with 1 Axes>"
            ]
          },
          "metadata": {},
          "output_type": "display_data"
        }
      ],
      "source": [
        "for i in range(1,1+no_cav):\n",
        "    plt.plot(c_time, g_funct[i](c_time))"
      ]
    },
    {
      "cell_type": "markdown",
      "metadata": {},
      "source": [
        "# Functions"
      ]
    },
    {
      "cell_type": "code",
      "execution_count": 43,
      "metadata": {
        "id": "lwU_h9bFyFZ7"
      },
      "outputs": [],
      "source": [
        "def add_mpo( A, B, is_first = False, is_last = False):\n",
        "  s0, s1, s2 = A.shape[:3]\n",
        "\n",
        "  if is_first:\n",
        "    #immutable axes are 0,2\n",
        "    C = np.append(A, B, axis=1)\n",
        "\n",
        "  elif is_last:\n",
        "    #immutable axes are 1,2\n",
        "    C = np.append(A, B, axis=0)\n",
        "\n",
        "  else:\n",
        "    #immutable axes are 1,3\n",
        "    s3 = A.shape[3]\n",
        "    top = np.append( A, np.zeros((B.shape[0],s1,A.shape[2],s3)), axis=0)\n",
        "    bottom = np.append(np.zeros((A.shape[0],s1,B.shape[2],s3)),B, axis =0)\n",
        "    C = np.append( top, bottom, axis=2 )\n",
        "\n",
        "  return C"
      ]
    },
    {
      "cell_type": "code",
      "execution_count": 44,
      "metadata": {},
      "outputs": [],
      "source": [
        "def svd_red(mpo_list, no_cav = no_cav, cav_dim = cav_dim):\n",
        "    #Assuming there are at least two cavitites\n",
        "\n",
        "    red_mpo_list = list()\n",
        "\n",
        "    u, s, v = np.linalg.svd(rearrange(np.einsum('a b c, b d e f-> a d e c f', mpo_list[0], mpo_list[1]), 'a d e c f-> (a c) (d e f)'), full_matrices=False)\n",
        "    red_mpo_list.append(rearrange(u,'(a c) g-> a g c', a=2, c=2))\n",
        "    red_mpo_list.append(rearrange(np.diag(s)@v, 'g (d e f)-> g d e f', d=cav_dim, f=cav_dim))\n",
        "\n",
        "    for i in range(1,no_cav):\n",
        "\n",
        "        if i == no_cav-1:\n",
        "            u, s, v = np.linalg.svd(rearrange(np.einsum('a b c d, c e f -> a b e d f ', red_mpo_list[-1], mpo_list[i+1]), 'a b e d f-> (a b d) (e f)'), full_matrices=False)\n",
        "            red_mpo_list.pop()\n",
        "            red_mpo_list.append( rearrange(u, '(a b d) h-> a b h d', b=cav_dim, d=cav_dim))\n",
        "            red_mpo_list.append( rearrange(np.diag(s)@v, 'h (e f)-> h e f', e=cav_dim, f=cav_dim))\n",
        "\n",
        "        else:\n",
        "            u, s, v = np.linalg.svd(rearrange(np.einsum('a b c d, c e f g-> a b e f d g', red_mpo_list[-1], mpo_list[i+1]), 'a b e f d g-> (a b d) (e f g)'), full_matrices=False)\n",
        "            red_mpo_list.pop()\n",
        "            red_mpo_list.append( rearrange(u, '(a b d) h-> a b h d', b=cav_dim, d=cav_dim))\n",
        "            red_mpo_list.append( rearrange(np.diag(s)@v, 'h (e f g)-> h e f g', e=cav_dim, g=cav_dim))\n",
        "\n",
        "    return red_mpo_list\n"
      ]
    },
    {
      "cell_type": "code",
      "execution_count": 45,
      "metadata": {},
      "outputs": [],
      "source": [
        "#overall svd, too slow, redundant for genralised cavities\n",
        "def svd(mpo_x):\n",
        "    u, s, v = np.linalg.svd((rearrange(mpo_x, 'a c e g b d f h-> (a b c d e f) (g h)')), full_matrices=False)\n",
        "    cell_0 = rearrange(np.diag(s)@v, 'c (a b)-> c a b', a=3, b=3)\n",
        "\n",
        "    u, s, v = np.linalg.svd((rearrange(u, '(a b c d e f) g -> (a b c d) (e f g)', a=2, b=2, c=3, d=3, e=3, f=3)), full_matrices=False)\n",
        "    cell_1 = rearrange(np.diag(s)@v, 's (e f g)-> s e g f', e=3, f=3)\n",
        "\n",
        "    u, s, v = np.linalg.svd((rearrange(u, '(a b c d) s -> (a b) (c d s)', a=2, b=2, c=3, d=3)), full_matrices=False)\n",
        "    cell_2 = rearrange(np.diag(s)@v, 't (c d s)-> t c s d', c=3, d=3)\n",
        "\n",
        "    cell_3 = rearrange(u, '(a b) t-> a t b', a=2, b=2)\n",
        "\n",
        "    return cell_3, cell_2, cell_1, cell_0"
      ]
    },
    {
      "cell_type": "code",
      "execution_count": 46,
      "metadata": {},
      "outputs": [],
      "source": [
        "#not general\n",
        "def mpo_make(cell_3, cell_2, cell_1, cell_0):\n",
        "    return np.einsum('a t b, t c s d, s e q f, q g h-> a c e g b d f h', cell_3, cell_2, cell_1, cell_0 )"
      ]
    },
    {
      "cell_type": "code",
      "execution_count": 47,
      "metadata": {},
      "outputs": [],
      "source": [
        "def exp_value(mpo_list, cav_no = -1):\n",
        "\n",
        "    mpo_copy = list(mpo_list)\n",
        "\n",
        "    if cav_no == 0:\n",
        "        mpo_copy[0] = np.einsum( 'a b, b c d-> a c d', cd@c, mpo_copy[0])\n",
        "    elif cav_no == no_cav:\n",
        "        mpo_copy[cav_no] = np.einsum( 'a c, b c d-> b a d', ad@a, mpo_copy[cav_no])\n",
        "    elif cav_no < 0:\n",
        "        pass\n",
        "    else:\n",
        "        mpo_copy[cav_no] = np.einsum( 'a c, b c d e-> b a d e', ad@a, mpo_copy[cav_no])\n",
        "\n",
        "    mpo_copy[0] = np.einsum( 'a b a', mpo_copy[0])\n",
        "\n",
        "    for i in range(1,no_cav+1):\n",
        "        if i == (no_cav):\n",
        "            mpo_copy[i] =  np.einsum('a, a b b', mpo_copy[i-1], mpo_copy[i])\n",
        "        else:\n",
        "            mpo_copy[i] = np.einsum('a, a b c b', mpo_copy[i-1], mpo_copy[i])\n",
        "\n",
        "    return mpo_copy[-1]\n"
      ]
    },
    {
      "cell_type": "code",
      "execution_count": 48,
      "metadata": {},
      "outputs": [],
      "source": [
        "def g1(t=0):\n",
        "    return 0\n",
        "\n",
        "def g2(t=0):\n",
        "    return 0\n",
        "\n",
        "def g3(t=0):\n",
        "    return 0\n"
      ]
    },
    {
      "cell_type": "markdown",
      "metadata": {},
      "source": [
        "# Initialising system"
      ]
    },
    {
      "cell_type": "code",
      "execution_count": 94,
      "metadata": {},
      "outputs": [],
      "source": [
        "#atom-cavity list\n",
        "ac_list = list()\n",
        "\n",
        "ac_list.append(qutip.fock_dm(2,1).full())\n",
        "for i in range(no_cav):\n",
        "    ac_list.append(qutip.fock_dm(cav_dim,1).full())"
      ]
    },
    {
      "cell_type": "code",
      "execution_count": 95,
      "metadata": {
        "id": "RHdtf7pVTHx4"
      },
      "outputs": [],
      "source": [
        "# mpo conversion and storage\n",
        "\n",
        "mpo_0 = np.einsum('a b, c d, e f, g h-> a c e g b d f h', ac_list[0], ac_list[1], ac_list[2], ac_list[3])\n",
        "\n",
        "u, s, v = np.linalg.svd((rearrange(mpo_0, 'a c e g b d f h-> (a b c d e f) (g h)')), full_matrices=False)\n",
        "cell_0 = rearrange(np.diag(s)@v, 'c (a b)-> c a b', a=3, b=3)\n",
        "\n",
        "u, s, v = np.linalg.svd((rearrange(u, '(a b c d e f) g -> (a b c d) (e f g)', a=2, b=2, c=3, d=3, e=3, f=3)), full_matrices=False)\n",
        "cell_1 = rearrange(np.diag(s)@v, 's (e f g)-> s e g f', e=3, f=3)\n",
        "\n",
        "u, s, v = np.linalg.svd((rearrange(u, '(a b c d) s -> (a b) (c d s)', a=2, b=2, c=3, d=3)), full_matrices=False)\n",
        "cell_2 = rearrange(np.diag(s)@v, 't (c d s)-> t c s d', c=3, d=3)\n",
        "\n",
        "cell_3 = rearrange(u, '(a b) t-> a t b', a=2, b=2)\n",
        "\n",
        "ac_list = [cell_3, cell_2, cell_1, cell_0]"
      ]
    },
    {
      "cell_type": "code",
      "execution_count": 96,
      "metadata": {
        "id": "kJbFbtNeYjPp"
      },
      "outputs": [],
      "source": [
        "#atom_a \n",
        "c = qutip.destroy(2).full()\n",
        "#atom_a = np.eye(2)\n",
        "#atom_adag\n",
        "cd = qutip.destroy(2).dag().full()\n",
        "#atom_adag = np.eye(2)\n",
        "#cav_a \n",
        "a = qutip.destroy(3).full()\n",
        "#cav_a = np.eye(3)\n",
        "#cav_adag \n",
        "ad = qutip.destroy(3).dag().full()\n",
        "#cav_adag = np.eye(3)"
      ]
    },
    {
      "cell_type": "code",
      "execution_count": 97,
      "metadata": {},
      "outputs": [],
      "source": [
        "n_sum = int((no_cav*0.5*(no_cav+1)))\n",
        "mpo_dim = 1 + no_cav + n_sum\n",
        "zero_mpo_matrix = np.array( list([ list([ np.zeros((cav_dim,cav_dim))])*mpo_dim ])*mpo_dim ) *0j"
      ]
    },
    {
      "cell_type": "code",
      "execution_count": 98,
      "metadata": {},
      "outputs": [],
      "source": [
        "no_cav = 3\n",
        "cav_dim = 3"
      ]
    },
    {
      "cell_type": "code",
      "execution_count": 116,
      "metadata": {},
      "outputs": [],
      "source": [
        "tem = 1"
      ]
    },
    {
      "cell_type": "code",
      "execution_count": 117,
      "metadata": {},
      "outputs": [
        {
          "data": {
            "text/plain": [
              "1.0"
            ]
          },
          "execution_count": 117,
          "metadata": {},
          "output_type": "execute_result"
        }
      ],
      "source": [
        "g_funct[1](1)"
      ]
    },
    {
      "cell_type": "code",
      "execution_count": null,
      "metadata": {},
      "outputs": [],
      "source": []
    },
    {
      "cell_type": "code",
      "execution_count": 118,
      "metadata": {},
      "outputs": [],
      "source": [
        "pre_term = dict()\n",
        "post_term = dict()\n",
        "L_term = dict()\n",
        "Ld_term = dict()\n",
        "\n",
        "pre_term[0] = -0.5 * rearrange( np.array( list([g*cd@c,]) + (list([rg*c,])*no_cav) + (list([np.eye(2),])*n_sum) ), 'c a b-> a c b')\n",
        "post_term[0] = -0.5 * rearrange( np.array( list([g*cd@c,]) + (list([rg*cd,])*no_cav) + (list([np.eye(2),])*n_sum) ), 'c a b-> a c b')\n",
        "L_term[0] = rearrange( np.array( list([rg*c,]) +  (list([np.eye(2),])*no_cav) ) , 'c a b-> a c b')\n",
        "Ld_term[0] = rearrange( np.array( list([rg*cd,]) +  (list([np.eye(2),])*no_cav) ) , 'c a b-> a c b')\n",
        "\n",
        "for i in range(1,no_cav+1):\n",
        "    if i == no_cav:\n",
        "        #last term\n",
        "        pre_term[i] = np.array( list([ np.zeros((cav_dim,cav_dim))])*mpo_dim )* 0j\n",
        "        pre_term[i][0][:][:] = np.eye(cav_dim)\n",
        "\n",
        "        post_term[i] = np.array( list([ np.zeros((cav_dim,cav_dim))])*mpo_dim )* 0j\n",
        "        post_term[i][0][:][:] = np.eye(cav_dim)\n",
        "\n",
        "        L_term[i] = np.array((list([np.eye(cav_dim),])*(no_cav+1)) ) * 0j\n",
        "        Ld_term[i] = np.array((list([np.eye(cav_dim),])*(no_cav+1)) ) * 0j\n",
        "\n",
        "        for j in range(1, no_cav+1):\n",
        "            if j==i:\n",
        "                pre_term[i][j][:][:] = ad * g_funct[i](tem)\n",
        "                post_term[i][j][:][:] = a * g_funct[i](tem)\n",
        "                L_term[i][j][:][:] = a * g_funct[i](tem)\n",
        "                Ld_term[i][j][:][:] = ad * g_funct[i](tem)\n",
        "            else:\n",
        "                pre_term[i][j][:][:] = np.eye(cav_dim)\n",
        "                post_term[i][j][:][:] = np.eye(cav_dim)\n",
        "\n",
        "        for s in range(no_cav):\n",
        "            for t in range(s+1):\n",
        "            \n",
        "                index = 1 + no_cav + t + int(0.5*s*(s+1))\n",
        "\n",
        "                if s+1 == i:\n",
        "                    if t+1 == i:\n",
        "                        pre_term[i][index][:][:] = ad@a * g_funct[i](tem)**2\n",
        "                    else:\n",
        "                        pre_term[i][index][:][:] = ad * g_funct[i](tem)\n",
        "\n",
        "                else:\n",
        "                    if t+1 == i:\n",
        "                        pre_term[i][index][:][:] = a * g_funct[i](tem)\n",
        "                    else:\n",
        "                        pre_term[i][index][:][:] = np.eye(cav_dim)\n",
        "\n",
        "            for t in range(no_cav-s):\n",
        "\n",
        "                index_ = 1 + (no_cav*(1+s)) - int(0.5*s*(s-1)) + t\n",
        "\n",
        "                if s+1 == i:\n",
        "                    if t+1+s == i:\n",
        "                        post_term[i][index_][:][:] = ad@a * g_funct[i](tem)**2\n",
        "                    else:\n",
        "                        post_term[i][index_][:][:] = ad * g_funct[i](tem)\n",
        "\n",
        "                else:\n",
        "                    if t+1+s == i:\n",
        "                        post_term[i][index_][:][:] = a * g_funct[i](tem)\n",
        "                    else:\n",
        "                        post_term[i][index_][:][:] = np.eye(cav_dim)\n",
        "    else:\n",
        "\n",
        "        pre_term[i] = np.copy(zero_mpo_matrix)\n",
        "        post_term[i] = np.copy(zero_mpo_matrix)\n",
        "        L_term[i] = np.array( list([ list([ np.zeros((cav_dim,cav_dim))])*(no_cav+1) ])*(no_cav+1) ) *0j\n",
        "        Ld_term[i] = np.array( list([ list([ np.zeros((cav_dim,cav_dim))])*(no_cav+1) ])*(no_cav+1) ) *0j\n",
        "\n",
        "        pre_term[i][0][0][:][:] = np.eye(cav_dim)\n",
        "        post_term[i][0][0][:][:] = np.eye(cav_dim)\n",
        "        L_term[i][0][0][:][:] = np.eye(cav_dim)\n",
        "        Ld_term[i][0][0][:][:] = np.eye(cav_dim)\n",
        "\n",
        "        for j in range(1, no_cav+1):\n",
        "            if j==i:\n",
        "                pre_term[i][j][j][:][:] = ad * g_funct[i](tem)\n",
        "                post_term[i][j][j][:][:] = a * g_funct[i](tem)\n",
        "                L_term[i][j][j][:][:] = a * g_funct[i](tem)\n",
        "                Ld_term[i][j][j][:][:] = ad * g_funct[i](tem)\n",
        "            else:\n",
        "                pre_term[i][j][j][:][:] = np.eye(cav_dim)\n",
        "                post_term[i][j][j][:][:] = np.eye(cav_dim)\n",
        "                L_term[i][j][j][:][:] = np.eye(cav_dim)\n",
        "                Ld_term[i][j][j][:][:] = np.eye(cav_dim)\n",
        "            \n",
        "        for s in range(no_cav):\n",
        "            for t in range(s+1):\n",
        "            \n",
        "                index = 1 + no_cav + t + int(0.5*s*(s+1))\n",
        "\n",
        "                if s+1 == i:\n",
        "                    if t+1 == i:\n",
        "                        pre_term[i][index][index][:][:] = ad@a * g_funct[i](tem)**2\n",
        "                    else:\n",
        "                        pre_term[i][index][index][:][:] = ad * g_funct[i](tem)\n",
        "\n",
        "                else:\n",
        "                    if t+1 == i:\n",
        "                        pre_term[i][index][index][:][:] = a * g_funct[i](tem)\n",
        "                    else:\n",
        "                        pre_term[i][index][index][:][:] = np.eye(cav_dim)\n",
        "            \n",
        "            for t in range(no_cav-s):\n",
        "\n",
        "                index_ = 1 + (no_cav*(1+s)) - int(0.5*s*(s-1)) + t\n",
        "\n",
        "                if s+1 == i:\n",
        "                    if t+1+s == i:\n",
        "                        post_term[i][index_][index_][:][:] = ad@a * g_funct[i](tem)**2\n",
        "                    else:\n",
        "                        post_term[i][index_][index_][:][:] = ad * g_funct[i](tem)\n",
        "\n",
        "                else:\n",
        "                    if t+1+s == i:\n",
        "                        post_term[i][index_][index_][:][:] = a * g_funct[i](tem)\n",
        "                    else:\n",
        "                        post_term[i][index_][index_][:][:] = np.eye(cav_dim)\n",
        "        \n",
        "        pre_term[i] = rearrange(pre_term[i], 'a b c d-> a c b d')\n",
        "        post_term[i] = rearrange(post_term[i], 'a b c d-> a c b d')\n",
        "        L_term[i] = rearrange(L_term[i], 'a b c d-> a c b d')\n",
        "        Ld_term[i] = rearrange(Ld_term[i], 'a b c d-> a c b d')\n",
        "        \n"
      ]
    },
    {
      "cell_type": "code",
      "execution_count": 119,
      "metadata": {},
      "outputs": [],
      "source": [
        "def time_update_mpo(t_ = 0):\n",
        "\n",
        "    for i in range(1,no_cav+1):\n",
        "        if i == no_cav:\n",
        "            for j in range(1, no_cav+1):\n",
        "                if j==i:\n",
        "                    pre_term[i][j][:][:] = ad * g_funct[i](t_)\n",
        "                    post_term[i][j][:][:] = a * g_funct[i](t_)\n",
        "                    L_term[i][j][:][:] = a * g_funct[i](t_)\n",
        "                    Ld_term[i][j][:][:] = ad * g_funct[i](t_)\n",
        "            for s in range(no_cav):\n",
        "                for t in range(s+1):\n",
        "                \n",
        "                    index = 1 + no_cav + t + int(0.5*s*(s+1))\n",
        "\n",
        "                    if s+1 == i:\n",
        "                        if t+1 == i:\n",
        "                            pre_term[i][index][:][:] = ad@a * g_funct[i](t_)**2\n",
        "                        else:\n",
        "                            pre_term[i][index][:][:] = ad * g_funct[i](t_)\n",
        "\n",
        "                    else:\n",
        "                        if t+1 == i:\n",
        "                            pre_term[i][index][:][:] = a * g_funct[i](t_)\n",
        "                for t in range(no_cav-s):\n",
        "\n",
        "                    index_ = 1 + (no_cav*(1+s)) - int(0.5*s*(s-1)) + t\n",
        "\n",
        "                    if s+1 == i:\n",
        "                        if t+1+s == i:\n",
        "                            post_term[i][index_][:][:] = ad@a * g_funct[i](t_)**2\n",
        "                        else:\n",
        "                            post_term[i][index_][:][:] = ad * g_funct[i](t_)\n",
        "\n",
        "                    else:\n",
        "                        if t+1+s == i:\n",
        "                            post_term[i][index_][:][:] = a * g_funct[i](t_)\n",
        "        else:\n",
        "            for j in range(1, no_cav+1):\n",
        "                if j==i:\n",
        "                    pre_term[i][j,:,j,:] = ad * g_funct[i](t_)\n",
        "                    post_term[i][j,:,j,:]  = a * g_funct[i](t_)\n",
        "                    L_term[i][j,:,j,:]  = a * g_funct[i](t_)\n",
        "                    Ld_term[i][j,:,j,:]  = ad * g_funct[i](t_)       \n",
        "            for s in range(no_cav):\n",
        "                for t in range(s+1):\n",
        "                \n",
        "                    index = 1 + no_cav + t + int(0.5*s*(s+1))\n",
        "\n",
        "                    if s+1 == i:\n",
        "                        if t+1 == i:\n",
        "                            pre_term[i][index,:,index,:] = ad@a * g_funct[i](t_)**2\n",
        "                        else:\n",
        "                            pre_term[i][index,:,index,:] = ad * g_funct[i](t_)\n",
        "\n",
        "                    else:\n",
        "                        if t+1 == i:\n",
        "                            pre_term[i][index,:,index,:] = a * g_funct[i](t_)\n",
        "                \n",
        "                for t in range(no_cav-s):\n",
        "\n",
        "                    index_ = 1 + (no_cav*(1+s)) - int(0.5*s*(s-1)) + t\n",
        "\n",
        "                    if s+1 == i:\n",
        "                        if t+1+s == i:\n",
        "                            post_term[i][index_,:,index_,:] = ad@a * g_funct[i](t_)**2\n",
        "                        else:\n",
        "                            post_term[i][index_,:,index_,:] = ad * g_funct[i](t_)\n",
        "\n",
        "                    else:\n",
        "                        if t+1+s == i:\n",
        "                            post_term[i][index_,:,index_,:] = a * g_funct[i](t_)    \n"
      ]
    },
    {
      "cell_type": "code",
      "execution_count": 120,
      "metadata": {},
      "outputs": [],
      "source": [
        "def drhodt_(mpo_list, t_=1000):\n",
        "\n",
        "    term1_ = dict()\n",
        "    term2_ = dict()\n",
        "    term3_ = dict()\n",
        "\n",
        "    #time_update_mpo(t_)\n",
        "\n",
        "    term1_[0] = rearrange(np.einsum('a b c, c d e-> a b d e', pre_term[0], ac_list[0]), 'a b d e-> a (b d) e')\n",
        "    term2_[0] = rearrange(np.einsum('a b c, c d e-> a b d e', ac_list[0], post_term[0]), 'a b d e-> a (b d) e')\n",
        "    term3_[0] = rearrange(np.einsum('a b c, c d e, e f g-> a b d f g', L_term[0], ac_list[0], Ld_term[0]), 'a b d f g-> a (b d f) g')\n",
        "\n",
        "    for i in range(1, no_cav+1):\n",
        "        if i == no_cav:\n",
        "            term1_[i] = rearrange(np.einsum('a b c, d c e-> a d b e', pre_term[i], ac_list[i]), 'a d b e-> (a d) b e')\n",
        "            term2_[i] = rearrange(np.einsum('a b c, d c e-> a d b e', ac_list[i], post_term[i]), 'a d b e-> (a d) b e')\n",
        "            term3_[i] = rearrange(np.einsum('a b c, d c e, f e g-> a d f b g', L_term[i], ac_list[i], Ld_term[i]), 'a d f b g-> (a d f) b g')\n",
        "        else:\n",
        "            term1_[i] = rearrange(np.einsum('a b c d, e d f g-> a e b c f g', pre_term[i], ac_list[i]), 'a e b c f g-> (a e) b (c f) g')\n",
        "            term2_[i] = rearrange(np.einsum('a b c d, e d f g-> a e b c f g', ac_list[i], post_term[i]), 'a e b c f g-> (a e) b (c f) g')\n",
        "            term3_[i] = rearrange(np.einsum('a b c d, f d e g, h g i j-> a f h b c e i j', L_term[i], ac_list[i], Ld_term[i]), 'a f h b c e i j-> (a f h) b (c e i) j')\n",
        "\n",
        "    term1_ = svd_red(term1_)\n",
        "    term2_ = svd_red(term2_)\n",
        "    term3_ = svd_red(term3_)\n",
        "\n",
        "    sum_term = dict()\n",
        "    sum_term[0] = add_mpo(add_mpo(term1[0], term2[0], is_first=True), term3[0], is_first=True) \n",
        "    for i in range(1, no_cav+1):\n",
        "        if i == no_cav:\n",
        "            sum_term[i] =  add_mpo(add_mpo(term1[i], term2[i], is_last=True), term3[i], is_last=True) \n",
        "        else:\n",
        "            sum_term[i] = add_mpo(add_mpo(term1[i], term2[i]), term3[i]) \n",
        "    sum_term = svd_red(sum_term)\n",
        "\n",
        "    return sum_term"
      ]
    },
    {
      "cell_type": "code",
      "execution_count": 121,
      "metadata": {},
      "outputs": [],
      "source": [
        "\n",
        "\n",
        "pre_term1 = np.copy(zero_mpo_matrix)\n",
        "pre_term1[0][0][:][:] = np.eye(3)\n",
        "pre_term1[1][1][:][:] = ad * g1()\n",
        "pre_term1[2][2][:][:] = np.eye(3)\n",
        "pre_term1[3][3][:][:] = np.eye(3)\n",
        "pre_term1[4][4][:][:] = ad@a * g1()**2\n",
        "pre_term1[5][5][:][:] = a * g1()\n",
        "pre_term1[6][6][:][:] = np.eye(3)\n",
        "pre_term1[7][7][:][:] = a * g1()\n",
        "pre_term1[8][8][:][:] = np.eye(3)\n",
        "pre_term1[9][9][:][:] = np.eye(3)\n",
        "\n",
        "pre_term2 = np.copy(zero_mpo_matrix)\n",
        "pre_term2[0][0][:][:] = np.eye(3)\n",
        "pre_term2[1][1][:][:] = np.eye(3)\n",
        "pre_term2[2][2][:][:] = ad * g2()\n",
        "pre_term2[3][3][:][:] = np.eye(3)\n",
        "pre_term2[4][4][:][:] = np.eye(3)\n",
        "pre_term2[5][5][:][:] = ad * g2()\n",
        "pre_term2[6][6][:][:] = ad@a * g2()**2\n",
        "pre_term2[7][7][:][:] = np.eye(3)\n",
        "pre_term2[8][8][:][:] = a * g2()\n",
        "pre_term2[9][9][:][:] = np.eye(3)\n",
        "\n",
        "post_term1 = np.copy(zero_mpo_matrix)\n",
        "post_term1[0][0][:][:] = np.eye(3)\n",
        "post_term1[1][1][:][:] = a * g1()\n",
        "post_term1[2][2][:][:] = np.eye(3)\n",
        "post_term1[3][3][:][:] = np.eye(3)\n",
        "post_term1[4][4][:][:] = ad@a * (g1()**2)\n",
        "post_term1[5][5][:][:] = ad * g1()\n",
        "post_term1[6][6][:][:] = ad * g1()\n",
        "post_term1[7][7][:][:] = np.eye(3)\n",
        "post_term1[8][8][:][:] = np.eye(3)\n",
        "post_term1[9][9][:][:] = np.eye(3)\n",
        "\n",
        "post_term2 = np.copy(zero_mpo_matrix)\n",
        "post_term2[0][0][:][:] = np.eye(3)\n",
        "post_term2[1][1][:][:] = np.eye(3)\n",
        "post_term2[2][2][:][:] = a * g2()\n",
        "post_term2[3][3][:][:] = np.eye(3)\n",
        "post_term2[4][4][:][:] = np.eye(3)\n",
        "post_term2[5][5][:][:] = a * g2()\n",
        "post_term2[6][6][:][:] = np.eye(3)\n",
        "post_term2[7][7][:][:] = ad@a * (g2()**2)\n",
        "post_term2[8][8][:][:] = ad * g2()\n",
        "post_term2[9][9][:][:] = np.eye(3)\n",
        "\n",
        "L_term1 = np.array( list([ list([ np.zeros((3,3))])*(no_cav+1) ])*(no_cav+1) ) *0j\n",
        "L_term1[0][0][:][:] = np.eye(3)\n",
        "L_term1[1][1][:][:] = g1() * a\n",
        "L_term1[2][2][:][:] = np.eye(3)\n",
        "L_term1[3][3][:][:] = np.eye(3)\n",
        "\n",
        "L_term2 = np.array( list([ list([ np.zeros((3,3))])*(no_cav+1) ])*(no_cav+1) ) *0j\n",
        "L_term2[0][0][:][:] = np.eye(3)\n",
        "L_term2[1][1][:][:] = np.eye(3)\n",
        "L_term2[2][2][:][:] = g2() * a\n",
        "L_term2[3][3][:][:] = np.eye(3)\n",
        "\n",
        "Ld_term1 = np.array( list([ list([ np.zeros((3,3))])*(no_cav+1) ])*(no_cav+1) ) *0j\n",
        "Ld_term1[0][0][:][:] = np.eye(3)\n",
        "Ld_term1[1][1][:][:] = g1() * ad\n",
        "Ld_term1[2][2][:][:] = np.eye(3)\n",
        "Ld_term1[3][3][:][:] = np.eye(3)\n",
        "\n",
        "Ld_term2 = np.array( list([ list([ np.zeros((3,3))])*(no_cav+1) ])*(no_cav+1) ) *0j\n",
        "Ld_term2[0][0][:][:] = np.eye(3)\n",
        "Ld_term2[1][1][:][:] = np.eye(3)\n",
        "Ld_term2[2][2][:][:] = g2() * ad\n",
        "Ld_term2[3][3][:][:] = np.eye(3)\n"
      ]
    },
    {
      "cell_type": "code",
      "execution_count": 122,
      "metadata": {},
      "outputs": [],
      "source": [
        "pre_mpo = list([\n",
        "                -0.5 * rearrange( np.array( [ g*cd@c, rg*c, rg*c, rg*c, np.eye(2), np.eye(2), np.eye(2),np.eye(2),np.eye(2),np.eye(2) ] ) , 'c a b-> a c b'),\n",
        "\n",
        "                rearrange(pre_term1, 'a b c d-> a c b d') , \n",
        "\n",
        "                rearrange(pre_term2, 'a b c d-> a c b d') ,\n",
        "\n",
        "                np.array( [ np.eye(3), np.eye(3), np.eye(3), g3()*ad, np.eye(3), np.eye(3), np.eye(3), g3()*ad, g3()*ad, (g3()**2 * ad@a) ] )    \n",
        "])\n",
        "\n",
        "post_mpo = list([\n",
        "                -0.5 * rearrange( np.array( [ g*cd@c, rg*cd, rg*cd, rg*cd, np.eye(2), np.eye(2), np.eye(2),np.eye(2),np.eye(2),np.eye(2) ] ) , 'c a b-> a c b'),\n",
        "\n",
        "                rearrange(post_term1, 'a b c d-> a c b d') , \n",
        "\n",
        "                rearrange(post_term2, 'a b c d-> a c b d') ,\n",
        "\n",
        "                np.array( [ np.eye(3), np.eye(3), np.eye(3), g3()*a, np.eye(3), np.eye(3), a*g3(), np.eye(3), g3()*a, g3()**2 * ad@a ] )   \n",
        "])\n",
        "\n",
        "L_mpo = list([\n",
        "                rearrange( np.array( [ rg*c, np.eye(2), np.eye(2), np.eye(2) ] ) , 'c a b-> a c b'),\n",
        "\n",
        "                rearrange(L_term1, 'a b c d-> a c b d') , \n",
        "\n",
        "                rearrange(L_term2, 'a b c d-> a c b d') ,\n",
        "\n",
        "                np.array( [ np.eye(3), np.eye(3), np.eye(3), g3()*a ] ) \n",
        "])\n",
        "\n",
        "Ld_mpo = list([\n",
        "                rearrange( np.array( [ rg*cd, np.eye(2), np.eye(2), np.eye(2) ] ) , 'c a b-> a c b'),\n",
        "\n",
        "                rearrange(Ld_term1, 'a b c d-> a c b d') , \n",
        "\n",
        "                rearrange(Ld_term2, 'a b c d-> a c b d') ,\n",
        "\n",
        "                np.array( [ np.eye(3), np.eye(3), np.eye(3), g3()*ad ] )\n",
        "])"
      ]
    },
    {
      "cell_type": "code",
      "execution_count": 123,
      "metadata": {},
      "outputs": [],
      "source": [
        "term1 = list([\n",
        "            rearrange(np.einsum('a b c, c d e-> a b d e', pre_mpo[0], ac_list[0]), 'a b d e-> a (b d) e'), \n",
        "            rearrange(np.einsum('a b c d, e d f g-> a e b c f g', pre_mpo[1], ac_list[1]), 'a e b c f g-> (a e) b (c f) g'), \n",
        "            rearrange(np.einsum('a b c d, e d f g-> a e b c f g', pre_mpo[2], ac_list[2]), 'a e b c f g-> (a e) b (c f) g'),\n",
        "            rearrange(np.einsum('a b c, d c e-> a d b e', pre_mpo[3], ac_list[3]), 'a d b e-> (a d) b e'), \n",
        "])\n",
        "\n",
        "term2 = list([\n",
        "            rearrange(np.einsum('a b c, c d e-> a b d e', ac_list[0], post_mpo[0]), 'a b d e-> a (b d) e'), \n",
        "            rearrange(np.einsum('a b c d, e d f g-> a e b c f g', ac_list[1], post_mpo[1]), 'a e b c f g-> (a e) b (c f) g'), \n",
        "            rearrange(np.einsum('a b c d, e d f g-> a e b c f g', ac_list[2], post_mpo[2]), 'a e b c f g-> (a e) b (c f) g'),\n",
        "            rearrange(np.einsum('a b c, d c e-> a d b e', ac_list[3], post_mpo[3]), 'a d b e-> (a d) b e'), \n",
        "])\n",
        "\n",
        "term3 = list([\n",
        "            rearrange(np.einsum('a b c, c d e, e f g-> a b d f g', L_mpo[0], ac_list[0], Ld_mpo[0]), 'a b d f g-> a (b d f) g'),\n",
        "            rearrange(np.einsum('a b c d, f d e g, h g i j-> a f h b c e i j', L_mpo[1], ac_list[1], Ld_mpo[1]), 'a f h b c e i j-> (a f h) b (c e i) j'),\n",
        "            rearrange(np.einsum('a b c d, f d e g, h g i j-> a f h b c e i j', L_mpo[2], ac_list[2], Ld_mpo[2]), 'a f h b c e i j-> (a f h) b (c e i) j'),\n",
        "            rearrange(np.einsum('a b c, d c e, f e g-> a d f b g', L_mpo[3], ac_list[3], Ld_mpo[3]), 'a d f b g-> (a d f) b g')\n",
        "])"
      ]
    },
    {
      "cell_type": "code",
      "execution_count": 124,
      "metadata": {},
      "outputs": [
        {
          "name": "stdout",
          "output_type": "stream",
          "text": [
            "---- 0 ----\n",
            "Term1  (2, 40, 2)\n",
            "Term2  (2, 40, 2)\n",
            "Term3  (2, 64, 2)\n",
            "---- 1 ----\n",
            "Term1  (40, 3, 360, 3)\n",
            "Term2  (40, 3, 360, 3)\n",
            "Term3  (64, 3, 576, 3)\n",
            "---- 2 ----\n",
            "Term1  (360, 3, 90, 3)\n",
            "Term2  (360, 3, 90, 3)\n",
            "Term3  (576, 3, 144, 3)\n",
            "---- 3 ----\n",
            "Term1  (90, 3, 3)\n",
            "Term2  (90, 3, 3)\n",
            "Term3  (144, 3, 3)\n"
          ]
        }
      ],
      "source": [
        "for i in range(no_cav+1):\n",
        "    print(\"----\",i,\"----\")\n",
        "    print(\"Term1 \",term1[i].shape)\n",
        "    print(\"Term2 \",term2[i].shape)\n",
        "    print(\"Term3 \",term3[i].shape)"
      ]
    },
    {
      "cell_type": "code",
      "execution_count": 125,
      "metadata": {},
      "outputs": [],
      "source": [
        "def drhodt(mpo_list):\n",
        "    \n",
        "    term1 = list([\n",
        "                rearrange(np.einsum('a b c, c d e-> a b d e', pre_mpo[0], mpo_list[0]), 'a b d e-> a (b d) e'), \n",
        "                rearrange(np.einsum('a b c d, e d f g-> a e b c f g', pre_mpo[1], mpo_list[1]), 'a e b c f g-> (a e) b (c f) g'), \n",
        "                rearrange(np.einsum('a b c d, e d f g-> a e b c f g', pre_mpo[2], mpo_list[2]), 'a e b c f g-> (a e) b (c f) g'),\n",
        "                rearrange(np.einsum('a b c, d c e-> a d b e', pre_mpo[3], mpo_list[3]), 'a d b e-> (a d) b e'), \n",
        "    ])\n",
        "\n",
        "    term2 = list([\n",
        "                rearrange(np.einsum('a b c, c d e-> a b d e', mpo_list[0], post_mpo[0]), 'a b d e-> a (b d) e'), \n",
        "                rearrange(np.einsum('a b c d, e d f g-> a e b c f g', mpo_list[1], post_mpo[1]), 'a e b c f g-> (a e) b (c f) g'), \n",
        "                rearrange(np.einsum('a b c d, e d f g-> a e b c f g', mpo_list[2], post_mpo[2]), 'a e b c f g-> (a e) b (c f) g'),\n",
        "                rearrange(np.einsum('a b c, d c e-> a d b e', mpo_list[3], post_mpo[3]), 'a d b e-> (a d) b e'), \n",
        "    ])\n",
        "\n",
        "    term3 = list([\n",
        "                rearrange(np.einsum('a b c, c d e, e f g-> a b d f g', L_mpo[0], mpo_list[0], Ld_mpo[0]), 'a b d f g-> a (b d f) g'),\n",
        "                rearrange(np.einsum('a b c d, f d e g, h g i j-> a f h b c e i j', L_mpo[1], mpo_list[1], Ld_mpo[1]), 'a f h b c e i j-> (a f h) b (c e i) j'),\n",
        "                rearrange(np.einsum('a b c d, f d e g, h g i j-> a f h b c e i j', L_mpo[2], mpo_list[2], Ld_mpo[2]), 'a f h b c e i j-> (a f h) b (c e i) j'),\n",
        "                rearrange(np.einsum('a b c, d c e, f e g-> a d f b g', L_mpo[3], mpo_list[3], Ld_mpo[3]), 'a d f b g-> (a d f) b g')\n",
        "    ])\n",
        "\n",
        "    term1 = svd_red(term1)\n",
        "    term2 = svd_red(term2)\n",
        "    term3 = svd_red(term3)\n",
        "\n",
        "    sum_term = list()\n",
        "    sum_term.append( add_mpo(add_mpo(term1[0], term2[0], is_first=True), term3[0], is_first=True) )\n",
        "    for i in range(1, no_cav+1):\n",
        "        if i == no_cav:\n",
        "            sum_term.append( add_mpo(add_mpo(term1[i], term2[i], is_last=True), term3[i], is_last=True) )\n",
        "        else:\n",
        "            sum_term.append( add_mpo(add_mpo(term1[i], term2[i]), term3[i]) )\n",
        "    sum_term = svd_red(sum_term)\n",
        "\n",
        "    return sum_term"
      ]
    },
    {
      "cell_type": "code",
      "execution_count": 126,
      "metadata": {},
      "outputs": [],
      "source": [
        "exp_value_list = list()\n",
        "exp_value_list.append(list())\n",
        "for i in range(no_cav):\n",
        "    exp_value_list.append(list())"
      ]
    },
    {
      "cell_type": "code",
      "execution_count": 127,
      "metadata": {},
      "outputs": [],
      "source": [
        "##With dynamic mpo\n",
        "\n",
        "time = np.linspace(0,10,10)\n",
        "dt = time[1]\n",
        "#dt = 0\n",
        "test_list = list()\n",
        "mpo_i = list(ac_list)\n",
        "\n",
        "test_list.append(exp_value(mpo_i))\n",
        "\n",
        "for i in range(no_cav+1):\n",
        "    exp_value_list[i].append(exp_value(mpo_i, i))\n",
        "\n",
        "for i in time[1:]:\n",
        "\n",
        "  drho_list = drhodt_(mpo_i)\n",
        "\n",
        "  sum_term = list()\n",
        "  sum_term.append( add_mpo(dt*drho_list[0], mpo_i[0], is_first=True) )\n",
        "  for i in range(1, no_cav+1):\n",
        "    if i == no_cav:\n",
        "      sum_term.append( add_mpo(drho_list[i], mpo_i[i], is_last=True) )\n",
        "    else:\n",
        "      sum_term.append( add_mpo(drho_list[i], mpo_i[i]) )\n",
        "  sum_term = svd_red(sum_term)\n",
        "\n",
        "  \n",
        "  \n",
        "  mpo_i[0] = sum_term[0]/exp_value(sum_term)\n",
        "  for i in range(1,no_cav+1):\n",
        "    mpo_i[i] = sum_term[i]\n",
        "    \n",
        "\n",
        "  norm = exp_value(mpo_i)\n",
        "  test_list.append(norm)\n",
        "\n",
        "  for i in range(no_cav+1):\n",
        "    exp_value_list[i].append(exp_value(mpo_i, i))\n"
      ]
    },
    {
      "cell_type": "code",
      "execution_count": 128,
      "metadata": {},
      "outputs": [
        {
          "data": {
            "text/plain": [
              "[<matplotlib.lines.Line2D at 0x176141130>]"
            ]
          },
          "execution_count": 128,
          "metadata": {},
          "output_type": "execute_result"
        },
        {
          "data": {
            "image/png": "[encoded data removed]",
            "text/plain": [
              "<Figure size 640x480 with 1 Axes>"
            ]
          },
          "metadata": {},
          "output_type": "display_data"
        }
      ],
      "source": [
        "plt.plot(time, test_list)\n",
        "plt.plot([0,1,2],[1,2,3])"
      ]
    },
    {
      "cell_type": "code",
      "execution_count": 129,
      "metadata": {},
      "outputs": [
        {
          "data": {
            "text/plain": [
              "[<matplotlib.lines.Line2D at 0x1761df430>]"
            ]
          },
          "execution_count": 129,
          "metadata": {},
          "output_type": "execute_result"
        },
        {
          "data": {
            "image/png": "[encoded data removed]",
            "text/plain": [
              "<Figure size 640x480 with 1 Axes>"
            ]
          },
          "metadata": {},
          "output_type": "display_data"
        }
      ],
      "source": [
        "plt.plot(time, exp_value_list[0])\n",
        "plt.plot(time,exp_value_list[1])\n",
        "plt.plot(time,exp_value_list[2])\n",
        "plt.plot(time,exp_value_list[3])\n",
        "plt.plot(time, test_list)\n",
        "plt.plot(time, time*0, '--')"
      ]
    },
    {
      "cell_type": "code",
      "execution_count": 122,
      "metadata": {
        "id": "GyQvWGTyGGbp"
      },
      "outputs": [],
      "source": [
        "#static no of cavities\n",
        "\n",
        "time = np.linspace(0,10,50)\n",
        "dt = time[1]\n",
        "#dt = 0\n",
        "test_list = list()\n",
        "mpo_i = list(ac_list)\n",
        "\n",
        "test_list.append(exp_value(mpo_i))\n",
        "\n",
        "for i in range(no_cav+1):\n",
        "    exp_value_list[i].append(exp_value(mpo_i, i))\n",
        "\n",
        "for i in time[1:]:\n",
        "\n",
        "  drho_list = drhodt(mpo_i)\n",
        "\n",
        "  sum_term = list()\n",
        "  sum_term.append( add_mpo(dt*drho_list[0], mpo_i[0], is_first=True) )\n",
        "  for i in range(1, no_cav+1):\n",
        "    if i == no_cav:\n",
        "      sum_term.append( add_mpo(drho_list[i], mpo_i[i], is_last=True) )\n",
        "    else:\n",
        "      sum_term.append( add_mpo(drho_list[i], mpo_i[i]) )\n",
        "  sum_term = svd_red(sum_term)\n",
        "\n",
        "  \n",
        "  \n",
        "  mpo_i[0] = sum_term[0]/exp_value(sum_term)\n",
        "  for i in range(1,no_cav+1):\n",
        "    mpo_i[i] = sum_term[i]\n",
        "    \n",
        "\n",
        "  norm = exp_value(mpo_i)\n",
        "  test_list.append(norm)\n",
        "\n",
        "  for i in range(no_cav+1):\n",
        "    exp_value_list[i].append(exp_value(mpo_i, i))\n"
      ]
    },
    {
      "cell_type": "code",
      "execution_count": 125,
      "metadata": {
        "colab": {
          "base_uri": "https://localhost:8080/",
          "height": 448
        },
        "id": "ZcKNnFCyKop6",
        "outputId": "80f43684-ff57-46c8-def8-522a7fbbcd1a"
      },
      "outputs": [
        {
          "data": {
            "text/plain": [
              "[<matplotlib.lines.Line2D at 0x14ce84430>]"
            ]
          },
          "execution_count": 125,
          "metadata": {},
          "output_type": "execute_result"
        },
        {
          "data": {
            "image/png": "[encoded data removed]",
            "text/plain": [
              "<Figure size 640x480 with 1 Axes>"
            ]
          },
          "metadata": {},
          "output_type": "display_data"
        }
      ],
      "source": [
        "plt.plot(time, exp_value_list[0])\n",
        "plt.plot(time,exp_value_list[1])\n",
        "plt.plot(time,exp_value_list[2])\n",
        "plt.plot(time,exp_value_list[3])\n",
        "plt.plot(time, time*0, '--')"
      ]
    },
    {
      "cell_type": "markdown",
      "metadata": {
        "id": "mkoASr7C7DHv"
      },
      "source": [
        "#Archive"
      ]
    }
  ],
  "metadata": {
    "colab": {
      "provenance": []
    },
    "kernelspec": {
      "display_name": "Python 3",
      "name": "python3"
    },
    "language_info": {
      "codemirror_mode": {
        "name": "ipython",
        "version": 3
      },
      "file_extension": ".py",
      "mimetype": "text/x-python",
      "name": "python",
      "nbconvert_exporter": "python",
      "pygments_lexer": "ipython3",
      "version": "3.9.6"
    }
  },
  "nbformat": 4,
  "nbformat_minor": 0
}
