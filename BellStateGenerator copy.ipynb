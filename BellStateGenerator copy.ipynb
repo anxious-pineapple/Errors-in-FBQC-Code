{
 "cells": [
  {
   "cell_type": "markdown",
   "metadata": {},
   "source": [
    "# Notes"
   ]
  },
  {
   "cell_type": "markdown",
   "metadata": {},
   "source": [
    "~ how to find trace?\n"
   ]
  },
  {
   "cell_type": "markdown",
   "metadata": {},
   "source": [
    "# Packages"
   ]
  },
  {
   "cell_type": "code",
   "execution_count": 1,
   "metadata": {},
   "outputs": [],
   "source": [
    "using ITensors"
   ]
  },
  {
   "cell_type": "code",
   "execution_count": 2,
   "metadata": {},
   "outputs": [],
   "source": [
    "using Plots"
   ]
  },
  {
   "cell_type": "code",
   "execution_count": 3,
   "metadata": {},
   "outputs": [],
   "source": [
    "using QuantumOptics\n"
   ]
  },
  {
   "cell_type": "code",
   "execution_count": 4,
   "metadata": {},
   "outputs": [],
   "source": [
    "using LinearAlgebra"
   ]
  },
  {
   "cell_type": "code",
   "execution_count": 5,
   "metadata": {},
   "outputs": [],
   "source": [
    "using Interpolations\n"
   ]
  },
  {
   "cell_type": "code",
   "execution_count": 6,
   "metadata": {},
   "outputs": [],
   "source": [
    "using Metal"
   ]
  },
  {
   "cell_type": "markdown",
   "metadata": {},
   "source": [
    "# Functions"
   ]
  },
  {
   "cell_type": "markdown",
   "metadata": {},
   "source": [
    "## State Definition"
   ]
  },
  {
   "cell_type": "code",
   "execution_count": 22,
   "metadata": {},
   "outputs": [],
   "source": [
    "function ITensors.op(::OpName\"Ground\" , ::SiteType\"Qudit\" , d::Int)\n",
    "    mat = zeros(d, d)\n",
    "    mat[1,1] = 1\n",
    "    return (mat)\n",
    "end\n",
    "function ITensors.op(::OpName\"Ground\" , ::SiteType\"Qubit\" )\n",
    "    mat = zeros(2, 2)\n",
    "    mat[1,1] = 1\n",
    "    return mat\n",
    "end"
   ]
  },
  {
   "cell_type": "code",
   "execution_count": 23,
   "metadata": {},
   "outputs": [],
   "source": [
    "function ITensors.op(::OpName\"Excite1\" , ::SiteType\"Qudit\" , d::Int)\n",
    "    mat = zeros(d, d)\n",
    "    mat[2,2] = 1\n",
    "    return (mat)\n",
    "end\n",
    "function ITensors.op(::OpName\"Excite1\" , ::SiteType\"Qubit\")\n",
    "    mat = zeros(2, 2)\n",
    "    mat[2,2] = 1\n",
    "    return mat\n",
    "end"
   ]
  },
  {
   "cell_type": "code",
   "execution_count": null,
   "metadata": {},
   "outputs": [],
   "source": [
    "function ITensors.op(::OpName\"Sz\" , ::SiteType\"Qudit\" , d::Int)\n",
    "    mat = zeros(d, d)\n",
    "    mat[1,1] = 1\n",
    "    mat[2,2] = -1\n",
    "    return mat\n",
    "end"
   ]
  },
  {
   "cell_type": "markdown",
   "metadata": {},
   "source": [
    "## Operations on the MPO (Beamsplitter/Swap/Copy)"
   ]
  },
  {
   "cell_type": "code",
   "execution_count": null,
   "metadata": {},
   "outputs": [],
   "source": [
    "#can try beamsplitter with opsum?\n"
   ]
  },
  {
   "cell_type": "code",
   "execution_count": null,
   "metadata": {},
   "outputs": [],
   "source": [
    "function beamsplitter!(MPO_i, index_1, index_2, site_list)\n",
    "    #cutoff = 1E-20\n",
    "\n",
    "    op_1 = ((op(\"A\",sys_sites[index_1]) * op(\"Adag\",sys_sites[index_2])) + (op(\"A\",sys_sites[index_2]) * op(\"Adag\",sys_sites[index_1])))\n",
    "    H_ = exp((-im/4) * pi * op_1)\n",
    "    H_ = MPO(H_, site_list)\n",
    "    H2 = apply(H_, MPO_i ; alg=\"zipup\")\n",
    "    #easier to use apply since preserves MPO data type and doesnt change to iTensor type\n",
    "    #requires iTensor be applied to an MPO in that order particularly hence double dagger\n",
    "    H3 = conj(swapprime( apply( H_, swapprime(conj(H2), 1,0); alg=\"zipup\" ), 1,0))\n",
    "\n",
    "    MPO_i[:] = H3\n",
    "    MPO_i /= tr(MPO_i)\n",
    "\n",
    "    return nothing\n",
    "end"
   ]
  },
  {
   "cell_type": "code",
   "execution_count": null,
   "metadata": {},
   "outputs": [],
   "source": [
    "function swap!(MPO_i, index_1, index_2, site_list)\n",
    "    cutoff = 1E-20\n",
    "\n",
    "    op_1 = ((op(\"A\",site_list[index_1]) * op(\"Adag\",site_list[index_2])) + (op(\"A\",site_list[index_2]) * op(\"Adag\",site_list[index_1])))\n",
    "    H_ = exp((-im/2) * pi * op_1)\n",
    "\n",
    "    H2 = apply(H_, MPO_i ; cutoff)\n",
    "    H3 = conj(swapprime( apply( H_, swapprime(conj(H2), 1,0); cutoff ), 1,0))\n",
    "\n",
    "\n",
    "    MPO_i[:] = H3\n",
    "    return nothing\n",
    "end"
   ]
  },
  {
   "cell_type": "code",
   "execution_count": null,
   "metadata": {},
   "outputs": [],
   "source": [
    "function n_copy_mpo(n, mpo_i, sites)\n",
    "    #Assuming qudit\n",
    "    l = length(mpo_i)\n",
    "    new_inds = siteinds(\"Qudit\", n*l, dim=dim(sites[1]))\n",
    "    I_mpo = MPO(l*n)\n",
    "    I_op = OpSum()\n",
    "    for i=1:l\n",
    "        for j=1:n\n",
    "            ind = i + (l*(j-1))\n",
    "            I_mpo[ind] = deepcopy(mpo_i[i])\n",
    "            replaceind!(I_mpo[ind], sites[i], new_inds[ind])\n",
    "            replaceind!(I_mpo[ind], sites[i]', new_inds[ind]')\n",
    "            I_op += \"I\",ind\n",
    "        end\n",
    "    end\n",
    "    #applying I to change up link indices\n",
    "    I_op = MPO(I_op, new_inds)\n",
    "    I_mpo = apply(I_op, I_mpo)\n",
    "    I_mpo /= tr(I_mpo)\n",
    "    #normalize!(I_mpo)\n",
    "    return I_mpo, new_inds\n",
    "end"
   ]
  },
  {
   "cell_type": "markdown",
   "metadata": {},
   "source": [
    "## Calc derevative"
   ]
  },
  {
   "cell_type": "markdown",
   "metadata": {},
   "source": [
    "For m output cavities\n",
    "$$H(t) = H_{sys}(t) + \\frac{i}{2}~\\left[~~\\sum_{i=1}^{m}{\\left(\\sqrt{\\gamma}\\hat{c}^\\dagger + \\sum_{j}^{i-1}{g_{v_j}(t)\\hat{a}_j^\\dagger}\\right) g_{v_i}^*(t)\\hat{a}_i} - h.c.~~\\right]$$\n",
    "We're taking system Hamiltonian as identity for the time being"
   ]
  },
  {
   "cell_type": "code",
   "execution_count": 71,
   "metadata": {},
   "outputs": [
    {
     "data": {
      "text/plain": [
       "drho (generic function with 1 method)"
      ]
     },
     "metadata": {},
     "output_type": "display_data"
    }
   ],
   "source": [
    "#func calc drho___/dt\n",
    "function drho(sites, rho, gv_f, rg; t=0,  deph = 0)\n",
    "    #drho_(sites, rho, t)\n",
    "    #(H_int * rho) + (rho * H_int) + sum(Ld rho L)\n",
    "\n",
    "    no_cavs = length(sites) - 1\n",
    "\n",
    "    H = OpSum()\n",
    "    H += -2f0im,\"I\",1\n",
    "    L_0 = OpSum()\n",
    "    L_0 += rg,\"A\",1\n",
    "\n",
    "    for i=2:no_cavs+1\n",
    "\n",
    "        L_0 += gv_f[i-1](t),\"A\",i\n",
    "        H += (rg*gv_f[i-1](t)),\"Adag\",1,\"A\",i\n",
    "        H -= (rg*gv_f[i-1](t)),\"A\",1,\"Adag\",i\n",
    "\n",
    "        #L_0 += exp(t/2),\"A\",i\n",
    "        #H += (rg*exp(t/2)),\"Adag\",1,\"A\",i\n",
    "        #H -= (rg*exp(t/2)),\"A\",1,\"Adag\",i\n",
    "\n",
    "        for j=2:i-1\n",
    "\n",
    "            H += (gv_f[j-1](t)*gv_f[i-1](t)),\"Adag\",j,\"A\",i\n",
    "            H -= (gv_f[j-1](t)*gv_f[i-1](t)),\"A\",j,\"Adag\",i\n",
    "        end\n",
    "    end\n",
    "\n",
    "    H = mtl(MPO(H, sites))\n",
    "    #H *= im/2\n",
    "    drho_ = 0.5f0*( apply(H, rho; alg=\"zipup\") - apply(rho, H; alg=\"zipup\") )\n",
    "\n",
    "    #L dagger\n",
    "    L_0 = mtl(MPO(L_0, sites))\n",
    "    L_0d = swapprime(conj(L_0), 1,0)\n",
    "    LdL = 0.5f0 * apply(L_0d , L_0; alg=\"zipup\")\n",
    "\n",
    "    drho_ += apply(apply(L_0 , rho; alg=\"zipup\"), L_0d; alg=\"zipup\")\n",
    "    drho_ -= apply(LdL, rho; alg=\"zipup\")\n",
    "    drho_ -= apply(rho, LdL; alg=\"zipup\")\n",
    "\n",
    "    if deph!= 0 \n",
    "        #println(\"Deph\")\n",
    "        L_1 = OpSum()\n",
    "        L_1 += sqrt(deph),\"Sz\",1\n",
    "        L_1 = mtl(MPO(L_1, sites))\n",
    "        drho_ += apply(apply(L_1 , rho; alg=\"zipup\"), L_1; alg=\"zipup\")\n",
    "        drho_ -= deph*rho*1f0\n",
    "    end\n",
    "\n",
    "    return drho_\n",
    "end"
   ]
  },
  {
   "cell_type": "markdown",
   "metadata": {},
   "source": [
    "## Measurements/Expectations"
   ]
  },
  {
   "cell_type": "code",
   "execution_count": 83,
   "metadata": {},
   "outputs": [
    {
     "data": {
      "text/plain": [
       "trace (generic function with 1 method)"
      ]
     },
     "metadata": {},
     "output_type": "display_data"
    }
   ],
   "source": [
    "function trace(MPO_i, sites_i)\n",
    "    tr_ = 1f0\n",
    "    for i in 1:length(sites_i)\n",
    "        tr_ *= delta(sites_i[i], sites_i[i]') * MPO_i[i]\n",
    "    end\n",
    "    return tr_[1]\n",
    "end"
   ]
  },
  {
   "cell_type": "code",
   "execution_count": null,
   "metadata": {},
   "outputs": [],
   "source": [
    "function ITensors.expect(MPO_i, sites_i)\n",
    "    list_exp = []\n",
    "    for i in 1:length(sites_i)\n",
    "        append!(list_exp, trace(apply( op(\"n\", sites_i[i]), MPO_i), sites_i))\n",
    "    end\n",
    "    return list_exp\n",
    "end"
   ]
  },
  {
   "cell_type": "code",
   "execution_count": null,
   "metadata": {},
   "outputs": [],
   "source": [
    "#measures <a1 a2 rho adag1 adag2> at sites 1 and 2\n",
    "function measure_corel(mpo_i, sites, site1, site2)\n",
    "    AA_op = OpSum()\n",
    "    AA_op += \"A\",site1,\"A\",site2\n",
    "    AA_op = MPO(AA_op, sites)\n",
    "    AdAd_op = swapprime(conj(AA_op), 1,0)\n",
    "    val = tr(apply(AA_op, apply(mpo_i, AdAd_op)))\n",
    "    return val\n",
    "end "
   ]
  },
  {
   "cell_type": "code",
   "execution_count": null,
   "metadata": {},
   "outputs": [],
   "source": [
    "#measures <a1 a2 rho adag1 adag2> at sites 1 and 2\n",
    "function measure_a(mpo_i, sites, site1)\n",
    "    A_op = OpSum()\n",
    "    A_op += \"A\",site1\n",
    "    A_op = MPO(A_op, sites)\n",
    "    Ad_op = swapprime(conj(A_op), 1,0)\n",
    "    val = tr(apply(A_op, apply(mpo_i, Ad_op)))\n",
    "    return val\n",
    "end "
   ]
  },
  {
   "cell_type": "code",
   "execution_count": null,
   "metadata": {},
   "outputs": [],
   "source": [
    "function projection(mpo_i, mps_i)\n",
    "\n",
    "end"
   ]
  },
  {
   "cell_type": "code",
   "execution_count": null,
   "metadata": {},
   "outputs": [],
   "source": [
    "function g_34(mpo_i, sites, no_cavs)\n",
    "    # measuring G_34 t, tau integrated\n",
    "    G_34 = 0.0\n",
    "    denom1 = 0.0\n",
    "    denom2 = 0.0\n",
    "    for i=1:no_cavs\n",
    "        for j=1:no_cavs\n",
    "            #if v^2 integrates out to 1\n",
    "            term = measure_corel(mpo_i, sites, i, no_cavs+j)\n",
    "            #println(ITensors.expect(double, double_sites))\n",
    "            #println(term)\n",
    "            G_34 += 0.5 * term\n",
    "        end\n",
    "        denom1 += measure_a(mpo_i, sites, i)\n",
    "        #println(ITensors.expect(mpo_i, sites))\n",
    "        denom2 += measure_a(mpo_i, sites, no_cavs+i)\n",
    "    end\n",
    "    denom =0.5 * denom1 * denom2\n",
    "\n",
    "    return G_34/denom\n",
    "end\n"
   ]
  },
  {
   "cell_type": "markdown",
   "metadata": {},
   "source": [
    "## Atom to cavity loop "
   ]
  },
  {
   "cell_type": "code",
   "execution_count": 52,
   "metadata": {},
   "outputs": [
    {
     "data": {
      "text/plain": [
       "create_MPO (generic function with 1 method)"
      ]
     },
     "metadata": {},
     "output_type": "display_data"
    }
   ],
   "source": [
    "function create_MPO(no_cavs, depha, gamma, dt, t_final)\n",
    "\n",
    "    #creating initial state and sites\n",
    "    sys_sites = siteinds(\"Qudit\", no_cavs+1, dim=3)\n",
    "    input_list = repeat([\"Ground\",],no_cavs+1)\n",
    "    input_list[1] = \"Excite1\"\n",
    "    sys = MPO(sys_sites, input_list)\n",
    "\n",
    "    #Generating G2\n",
    "    #gamma = 1\n",
    "    g_f, eval_ = g2(gamma, depha, t_final, dt/5, no_cavs)\n",
    "    println(\"genfunctions\")\n",
    "    \n",
    "    #expect_list = Array{Float64}(undef, Int(t_final/dt + 1), no_cavs+1)\n",
    "    #expect_list *= 0\n",
    "    #ldl_list = [;]\n",
    "    #j = 1\n",
    "    \n",
    "    \"\"\"\n",
    "    #evolving atom-cavity system\n",
    "    for i=0:dt:t_final\n",
    "        d_rho , ldl = drho(sys_sites, sys, g_f, sqrt(gamma); t=i, deph=depha)\n",
    "        sys +=  dt * d_rho\n",
    "        sys /= tr(sys)\n",
    "\n",
    "        push!(ldl_list, ldl)\n",
    "        expect_list[j,:] = real(ITensors.expect(sys, sys_sites))\n",
    "        j += 1\n",
    "        #println(i)\n",
    "    end\n",
    "    \"\"\"\n",
    "    #bonddim = [;]\n",
    "\n",
    "    for i=0:dt:t_final\n",
    "        d_rho1 = drho(sys_sites, sys, g_f, sqrt(gamma); t=i, deph=depha)\n",
    "        sys1 = sys + (d_rho1*dt/2)\n",
    "        sys1 /=tr(sys1)\n",
    "        d_rho2 = drho(sys_sites, sys1, g_f, sqrt(gamma); t=(i+(dt/2)), deph=depha)\n",
    "        sys2 = sys + (d_rho2*dt/2)\n",
    "        sys2 /=tr(sys2)\n",
    "        d_rho3  = drho(sys_sites, sys2, g_f, sqrt(gamma); t=(i+(dt/2)), deph=depha)\n",
    "        sys3 = sys + (d_rho3*dt)\n",
    "        sys3 /=tr(sys3)\n",
    "        d_rho4  = drho(sys_sites, sys3, g_f, sqrt(gamma); t=(i+dt), deph=depha)\n",
    "        sys +=  (dt * (d_rho1 + (2f0*d_rho2) + (2f0*d_rho3) + d_rho4)/6)\n",
    "        sys /= trace(sys, sys_sites)\n",
    "\n",
    "        #push!(ldl_list, (ldl+2*ldl2+2*ldl3+ldl4)/6)\n",
    "        #println(\"max bond dim at time: \", maximum(linkdims(sys)), \" \", i)\n",
    "        #append!(bonddim, maximum(linkdims(sys)))\n",
    "        #expect_list[j,:] = real(ITensors.expect(sys, sys_sites))\n",
    "        #j += 1\n",
    "    end\n",
    "    \n",
    "    #trace out atom\n",
    "    copy_sys = MPO(no_cavs)\n",
    "    copy_sys[1] = sys[1] * delta(sys_sites[1], sys_sites[1]') * sys[2]\n",
    "    for i=2:no_cavs\n",
    "        copy_sys[i] = deepcopy(sys[i+1]) \n",
    "    end\n",
    "    copy_sys /= tr(copy_sys)\n",
    "\n",
    "    return copy_sys, sys_sites[2:end]\n",
    "    #return sys, sys_sites\n",
    "    #, g_f\n",
    "    #, expect_list, ldl_list\n",
    "end"
   ]
  },
  {
   "cell_type": "markdown",
   "metadata": {},
   "source": [
    "## G2 function maker"
   ]
  },
  {
   "cell_type": "code",
   "execution_count": 17,
   "metadata": {},
   "outputs": [
    {
     "data": {
      "text/plain": [
       "g2 (generic function with 1 method)"
      ]
     },
     "metadata": {},
     "output_type": "display_data"
    }
   ],
   "source": [
    "#make a g2 function, outputs the cavity functions\n",
    "\n",
    "function g2(gamma, deph, t_fin, dt, no_cavs)\n",
    "\n",
    "    \n",
    "    basis = SpinBasis(1//2)\n",
    "    a = sigmam(basis)\n",
    "    at = sigmap(basis)\n",
    "    H =  identityoperator(basis)\n",
    "    J = [sqrt(gamma)*a, sqrt(deph)*sigmaz(basis)]\n",
    "\n",
    "    t_list = [0:dt:t_fin;]\n",
    "    t_size = length(t_list)\n",
    "    corel_m = Array{ComplexF64}(undef, t_size, t_size)\n",
    "    corel_m *= 0\n",
    "    \n",
    "    ρ₀ = spinup(basis) ⊗ dagger(spinup(basis))\n",
    "    \n",
    "    tout, ρt_master = timeevolution.master(t_list, ρ₀, H, J; dt=dt)\n",
    "    for i=1:t_size-1\n",
    "        rhot = ρt_master[i]\n",
    "        corel_m[i,i:end] = timecorrelations.correlation(t_list[1:(t_size-i+1)], rhot, H, J, at, a)\n",
    "    end\n",
    "    corel_m[t_size,t_size] = 0.0\n",
    "    corel_m = -diagm((diag(corel_m))) + corel_m + conj(corel_m)'\n",
    "    corel_m = real(corel_m)\n",
    "    eigenvals, eigens = eigen(corel_m; sortby=-)\n",
    "    \n",
    "    gv = Dict()\n",
    "    alpha = Dict()\n",
    "    gv_f = [;]\n",
    "    for i=1:Int(no_cavs)\n",
    "        for j=1:Int(i-1)\n",
    "            alpha[[i,j]] = [0.0,]\n",
    "            for t=1:Int(t_size-1)\n",
    "                at_ = -(gv[j][t]*eigens[t,i]*dt)\n",
    "                for k=1:Int(j-1)\n",
    "                    at_ -= gv[j][t]*gv[k][t]*alpha[[i,k]][t]*dt\n",
    "                end\n",
    "                at_ += (1-(dt*0.5*(gv[j][t])^2))*(alpha[[i,j]][end])\n",
    "                push!(alpha[[i,j]], at_)\n",
    "\n",
    "            end\n",
    "        end\n",
    "        v_ = eigens[:,Int(i)]\n",
    "\n",
    "        for k=1:Int(i-1)\n",
    "            v_ += (gv[k].* alpha[[i,k]])\n",
    "        end\n",
    "        norm = dt * cumsum(v_.^2)\n",
    "        #norm[1] = 1E-3\n",
    "        gv[i] = -v_./sqrt.(norm)\n",
    "        #i > 1 ? gv[i][1] = 0 : nothing\n",
    "        extrap = cubic_spline_interpolation(0:dt:t_fin, gv[i]; extrapolation_bc=0)\n",
    "        push!(gv_f, extrap)\n",
    "    end\n",
    "    \n",
    "    return gv_f, eigenvals[1:Int(no_cavs)]/sum(eigenvals)\n",
    "end"
   ]
  },
  {
   "cell_type": "markdown",
   "metadata": {},
   "source": [
    "# \n",
    "---"
   ]
  },
  {
   "cell_type": "markdown",
   "metadata": {},
   "source": [
    "# Test create MPO with GPU"
   ]
  },
  {
   "cell_type": "code",
   "execution_count": 24,
   "metadata": {},
   "outputs": [
    {
     "data": {
      "text/plain": [
       "2"
      ]
     },
     "metadata": {},
     "output_type": "display_data"
    }
   ],
   "source": [
    "no_cavs = 2"
   ]
  },
  {
   "cell_type": "code",
   "execution_count": 92,
   "metadata": {},
   "outputs": [
    {
     "data": {
      "text/plain": [
       "MPO\n",
       "[1] ((dim=3|id=61|\"Qudit,Site,n=1\")', (dim=3|id=61|\"Qudit,Site,n=1\"), (dim=1|id=181|\"Link,l=1\"))\n",
       "[2] ((dim=3|id=653|\"Qudit,Site,n=2\")', (dim=3|id=653|\"Qudit,Site,n=2\"), (dim=1|id=754|\"Link,l=2\"), (dim=1|id=181|\"Link,l=1\"))\n",
       "[3] ((dim=3|id=836|\"Qudit,Site,n=3\")', (dim=3|id=836|\"Qudit,Site,n=3\"), (dim=1|id=754|\"Link,l=2\"))\n"
      ]
     },
     "metadata": {},
     "output_type": "display_data"
    }
   ],
   "source": [
    "sys_sites = siteinds(\"Qudit\", no_cavs+1, dim=3)\n",
    "input_list = repeat([\"Ground\",],no_cavs+1)\n",
    "input_list[1] = \"Excite1\"\n",
    "sys = MPO(sys_sites, input_list)\n",
    "sys2 = MPO(sys_sites, input_list)"
   ]
  },
  {
   "cell_type": "code",
   "execution_count": 93,
   "metadata": {},
   "outputs": [
    {
     "data": {
      "text/plain": [
       "MPO\n",
       "[1] ((dim=3|id=61|\"Qudit,Site,n=1\")', (dim=3|id=61|\"Qudit,Site,n=1\"), (dim=1|id=181|\"Link,l=1\"))\n",
       "[2] ((dim=3|id=653|\"Qudit,Site,n=2\")', (dim=3|id=653|\"Qudit,Site,n=2\"), (dim=1|id=754|\"Link,l=2\"), (dim=1|id=181|\"Link,l=1\"))\n",
       "[3] ((dim=3|id=836|\"Qudit,Site,n=3\")', (dim=3|id=836|\"Qudit,Site,n=3\"), (dim=1|id=754|\"Link,l=2\"))\n"
      ]
     },
     "metadata": {},
     "output_type": "display_data"
    }
   ],
   "source": [
    "sys_m = mtl(sys)\n",
    "sys2_m = mtl(sys2)"
   ]
  },
  {
   "cell_type": "code",
   "execution_count": 49,
   "metadata": {},
   "outputs": [
    {
     "data": {
      "text/plain": [
       "MPO\n",
       "[1] ((dim=3|id=721|\"Qudit,Site,n=1\")', (dim=3|id=721|\"Qudit,Site,n=1\"), (dim=3|id=529|\"Link,l=1\"))\n",
       "[2] ((dim=3|id=589|\"Qudit,Site,n=2\")', (dim=3|id=589|\"Qudit,Site,n=2\"), (dim=1|id=684|\"Link,l=2\"), (dim=3|id=529|\"Link,l=1\"))\n",
       "[3] ((dim=3|id=260|\"Qudit,Site,n=3\")', (dim=3|id=260|\"Qudit,Site,n=3\"), (dim=1|id=684|\"Link,l=2\"))\n"
      ]
     },
     "metadata": {},
     "output_type": "display_data"
    }
   ],
   "source": [
    "\n",
    "t = 0\n",
    "H = OpSum()\n",
    "H += -2im,\"I\",1\n",
    "i = 2\n",
    "j = 3\n",
    "\n",
    "\n",
    "H += (g_f[i-1](t)),\"Adag\",1,\"A\",i\n",
    "H -= (g_f[i-1](t)),\"A\",1,\"Adag\",i\n",
    "\n",
    "H += (g_f[j-1](t)*g_f[i-1](t)),\"Adag\",j,\"A\",i\n",
    "H -= (g_f[j-1](t)*g_f[i-1](t)),\"A\",j,\"Adag\",i\n",
    "\n",
    "\n",
    "H = mtl(MPO(H, sys_sites))\n",
    "#H *= im/2\n",
    "drho_ = 0.5f0 *( apply(H, sys_m; alg=\"zipup\") - apply(sys_m, H; alg=\"zipup\") )"
   ]
  },
  {
   "cell_type": "code",
   "execution_count": 51,
   "metadata": {},
   "outputs": [
    {
     "data": {
      "text/plain": [
       "MPO\n",
       "[1] ((dim=3|id=721|\"Qudit,Site,n=1\")', (dim=3|id=721|\"Qudit,Site,n=1\"), (dim=7|id=744|\"Link,l=1\"))\n",
       "[2] ((dim=3|id=589|\"Qudit,Site,n=2\")', (dim=3|id=589|\"Qudit,Site,n=2\"), (dim=4|id=337|\"Link,l=2\"), (dim=7|id=744|\"Link,l=1\"))\n",
       "[3] ((dim=3|id=260|\"Qudit,Site,n=3\")', (dim=3|id=260|\"Qudit,Site,n=3\"), (dim=4|id=337|\"Link,l=2\"))\n"
      ]
     },
     "metadata": {},
     "output_type": "display_data"
    }
   ],
   "source": [
    "drho(sys_sites, sys_m, g_f, gamma; t=0,  deph = 0)"
   ]
  },
  {
   "cell_type": "code",
   "execution_count": 56,
   "metadata": {},
   "outputs": [
    {
     "data": {
      "text/plain": [
       "10.0f0"
      ]
     },
     "metadata": {},
     "output_type": "display_data"
    }
   ],
   "source": [
    "dt = 0.1f0\n",
    "t_final = 10f0"
   ]
  },
  {
   "cell_type": "code",
   "execution_count": 66,
   "metadata": {},
   "outputs": [
    {
     "data": {
      "text/plain": [
       "MPO\n",
       "[1] ((dim=3|id=721|\"Qudit,Site,n=1\")', (dim=3|id=721|\"Qudit,Site,n=1\"), (dim=15|id=693|\"Link,l=1\"))\n",
       "[2] ((dim=3|id=589|\"Qudit,Site,n=2\")', (dim=3|id=589|\"Qudit,Site,n=2\"), (dim=8|id=70|\"Link,l=2\"), (dim=15|id=693|\"Link,l=1\"))\n",
       "[3] ((dim=3|id=260|\"Qudit,Site,n=3\")', (dim=3|id=260|\"Qudit,Site,n=3\"), (dim=8|id=70|\"Link,l=2\"))\n"
      ]
     },
     "metadata": {},
     "output_type": "display_data"
    }
   ],
   "source": [
    "d_rho = drho(sys_sites, sys_m , g_f, sqrt(gamma); t=0)"
   ]
  },
  {
   "cell_type": "code",
   "execution_count": 99,
   "metadata": {},
   "outputs": [
    {
     "ename": "ErrorException",
     "evalue": "Setting the type parameter of the type `DenseVector` at position `NDTensors.SetParameters.Position{1}()` to `Float64` is not currently defined. Either that type parameter position doesn't exist in the type, or `set_parameter` has not been overloaded for this type.",
     "output_type": "error",
     "traceback": [
      "Setting the type parameter of the type `DenseVector` at position `NDTensors.SetParameters.Position{1}()` to `Float64` is not currently defined. Either that type parameter position doesn't exist in the type, or `set_parameter` has not been overloaded for this type.\n",
      "\n",
      "Stacktrace:\n",
      "  [1] error(s::String)\n",
      "    @ Base ./error.jl:35\n",
      "  [2] set_parameter(type::Type, position::NDTensors.SetParameters.Position{1}, parameter::Type)\n",
      "    @ NDTensors.SetParameters ~/.julia/packages/NDTensors/9WMtv/src/lib/SetParameters/src/interface.jl:10\n",
      "  [3] set_eltype(::Type{SimpleTraits.Not{NDTensors.Unwrap.IsWrappedArray{DenseVector}}}, type::Type{DenseVector}, elt::Type)\n",
      "    @ NDTensors.SetParameters ~/.julia/packages/NDTensors/9WMtv/src/lib/SetParameters/src/Base/abstractarray.jl:7\n",
      "  [4] set_eltype\n",
      "    @ ~/.julia/packages/SimpleTraits/l1ZsK/src/SimpleTraits.jl:331 [inlined]\n",
      "  [5] similartype(::Type{SimpleTraits.Not{NDTensors.Unwrap.IsWrappedArray{DenseVector}}}, arraytype::Type{DenseVector}, eltype::Type)\n",
      "    @ NDTensors ~/.julia/packages/NDTensors/9WMtv/src/abstractarray/similar.jl:109\n",
      "  [6] similartype\n",
      "    @ ~/.julia/packages/SimpleTraits/l1ZsK/src/SimpleTraits.jl:331 [inlined]\n",
      "  [7] promote_rule(#unused#::Type{NDTensors.Dense{Float32, MtlVector{Float32, Metal.MTL.MTLResourceStorageModePrivate}}}, #unused#::Type{NDTensors.Dense{Float64, Vector{Float64}}})\n",
      "    @ NDTensors ~/.julia/packages/NDTensors/9WMtv/src/dense/dense.jl:127\n",
      "  [8] promote_type\n",
      "    @ ./promotion.jl:307 [inlined]\n",
      "  [9] promote_rule(#unused#::Type{NDTensors.DenseTensor{Float32, 3, Tuple{Index{Int64}, Index{Int64}, Index{Int64}}, NDTensors.Dense{Float32, MtlVector{Float32, Metal.MTL.MTLResourceStorageModePrivate}}}}, #unused#::Type{NDTensors.DenseTensor{Float64, 3, Tuple{Index{Int64}, Index{Int64}, Index{Int64}}, NDTensors.Dense{Float64, Vector{Float64}}}})\n",
      "    @ NDTensors ~/.julia/packages/NDTensors/9WMtv/src/tensor/tensor.jl:262\n",
      " [10] promote_type\n",
      "    @ ./promotion.jl:307 [inlined]\n",
      " [11] contraction_output_type(tensortype1::Type{NDTensors.DenseTensor{Float32, 3, Tuple{Index{Int64}, Index{Int64}, Index{Int64}}, NDTensors.Dense{Float32, MtlVector{Float32, Metal.MTL.MTLResourceStorageModePrivate}}}}, tensortype2::Type{NDTensors.DenseTensor{Float64, 3, Tuple{Index{Int64}, Index{Int64}, Index{Int64}}, NDTensors.Dense{Float64, Vector{Float64}}}}, inds::NTuple{4, Index{Int64}})\n",
      "    @ NDTensors ~/.julia/packages/NDTensors/9WMtv/src/tensoroperations/generic_tensor_operations.jl:53\n",
      " [12] contraction_output(tensor1::NDTensors.DenseTensor{Float32, 3, Tuple{Index{Int64}, Index{Int64}, Index{Int64}}, NDTensors.Dense{Float32, MtlVector{Float32, Metal.MTL.MTLResourceStorageModePrivate}}}, tensor2::NDTensors.DenseTensor{Float64, 3, Tuple{Index{Int64}, Index{Int64}, Index{Int64}}, NDTensors.Dense{Float64, Vector{Float64}}}, indsR::NTuple{4, Index{Int64}})\n",
      "    @ NDTensors ~/.julia/packages/NDTensors/9WMtv/src/dense/tensoralgebra/contract.jl:2\n",
      " [13] contraction_output(tensor1::NDTensors.DenseTensor{Float32, 3, Tuple{Index{Int64}, Index{Int64}, Index{Int64}}, NDTensors.Dense{Float32, MtlVector{Float32, Metal.MTL.MTLResourceStorageModePrivate}}}, labelstensor1::Tuple{Int64, Int64, Int64}, tensor2::NDTensors.DenseTensor{Float64, 3, Tuple{Index{Int64}, Index{Int64}, Index{Int64}}, NDTensors.Dense{Float64, Vector{Float64}}}, labelstensor2::Tuple{Int64, Int64, Int64}, labelsoutput_tensor::NTuple{4, Int64})\n",
      "    @ NDTensors ~/.julia/packages/NDTensors/9WMtv/src/tensoroperations/generic_tensor_operations.jl:62\n",
      " [14] contract(tensor1::NDTensors.DenseTensor{Float32, 3, Tuple{Index{Int64}, Index{Int64}, Index{Int64}}, NDTensors.Dense{Float32, MtlVector{Float32, Metal.MTL.MTLResourceStorageModePrivate}}}, labelstensor1::Tuple{Int64, Int64, Int64}, tensor2::NDTensors.DenseTensor{Float64, 3, Tuple{Index{Int64}, Index{Int64}, Index{Int64}}, NDTensors.Dense{Float64, Vector{Float64}}}, labelstensor2::Tuple{Int64, Int64, Int64}, labelsoutput_tensor::NTuple{4, Int64})\n",
      "    @ NDTensors ~/.julia/packages/NDTensors/9WMtv/src/tensoroperations/generic_tensor_operations.jl:108\n",
      " [15] contract(::Type{NDTensors.CanContract{NDTensors.DenseTensor{Float32, 3, Tuple{Index{Int64}, Index{Int64}, Index{Int64}}, NDTensors.Dense{Float32, MtlVector{Float32, Metal.MTL.MTLResourceStorageModePrivate}}}, NDTensors.DenseTensor{Float64, 3, Tuple{Index{Int64}, Index{Int64}, Index{Int64}}, NDTensors.Dense{Float64, Vector{Float64}}}}}, tensor1::NDTensors.DenseTensor{Float32, 3, Tuple{Index{Int64}, Index{Int64}, Index{Int64}}, NDTensors.Dense{Float32, MtlVector{Float32, Metal.MTL.MTLResourceStorageModePrivate}}}, labels_tensor1::Tuple{Int64, Int64, Int64}, tensor2::NDTensors.DenseTensor{Float64, 3, Tuple{Index{Int64}, Index{Int64}, Index{Int64}}, NDTensors.Dense{Float64, Vector{Float64}}}, labels_tensor2::Tuple{Int64, Int64, Int64})\n",
      "    @ NDTensors ~/.julia/packages/NDTensors/9WMtv/src/tensoroperations/generic_tensor_operations.jl:91\n",
      " [16] contract\n",
      "    @ ~/.julia/packages/SimpleTraits/l1ZsK/src/SimpleTraits.jl:331 [inlined]\n",
      " [17] _contract(A::NDTensors.DenseTensor{Float32, 3, Tuple{Index{Int64}, Index{Int64}, Index{Int64}}, NDTensors.Dense{Float32, MtlVector{Float32, Metal.MTL.MTLResourceStorageModePrivate}}}, B::NDTensors.DenseTensor{Float64, 3, Tuple{Index{Int64}, Index{Int64}, Index{Int64}}, NDTensors.Dense{Float64, Vector{Float64}}})\n",
      "    @ ITensors ~/.julia/packages/ITensors/WMeVS/src/tensor_operations/tensor_algebra.jl:3\n",
      " [18] _contract(A::ITensor, B::ITensor)\n",
      "    @ ITensors ~/.julia/packages/ITensors/WMeVS/src/tensor_operations/tensor_algebra.jl:9\n",
      " [19] contract(A::ITensor, B::ITensor)\n",
      "    @ ITensors ~/.julia/packages/ITensors/WMeVS/src/tensor_operations/tensor_algebra.jl:104\n",
      " [20] #231\n",
      "    @ ~/.julia/packages/ITensors/WMeVS/src/tensor_operations/tensor_algebra.jl:190 [inlined]\n",
      " [21] BottomRF\n",
      "    @ ./reduce.jl:81 [inlined]\n",
      " [22] afoldl\n",
      "    @ ./operators.jl:537 [inlined]\n",
      " [23] _foldl_impl\n",
      "    @ ./tuple.jl:329 [inlined]\n",
      " [24] foldl_impl\n",
      "    @ ./reduce.jl:48 [inlined]\n",
      " [25] mapfoldl_impl\n",
      "    @ ./reduce.jl:44 [inlined]\n",
      " [26] #mapfoldl#288\n",
      "    @ ./reduce.jl:170 [inlined]\n",
      " [27] mapfoldl\n",
      "    @ ./reduce.jl:170 [inlined]\n",
      " [28] #foldl#289\n",
      "    @ ./reduce.jl:193 [inlined]\n",
      " [29] foldl\n",
      "    @ ./reduce.jl:193 [inlined]\n",
      " [30] contract(As::Tuple{ITensor, ITensor, ITensor}; sequence::String, kwargs::Base.Pairs{Symbol, Union{}, Tuple{}, NamedTuple{(), Tuple{}}})\n",
      "    @ ITensors ~/.julia/packages/ITensors/WMeVS/src/tensor_operations/tensor_algebra.jl:190\n",
      " [31] contract\n",
      "    @ ~/.julia/packages/ITensors/WMeVS/src/tensor_operations/tensor_algebra.jl:186 [inlined]\n",
      " [32] #contract#235\n",
      "    @ ~/.julia/packages/ITensors/WMeVS/src/tensor_operations/tensor_algebra.jl:200 [inlined]\n",
      " [33] contract\n",
      "    @ ~/.julia/packages/ITensors/WMeVS/src/tensor_operations/tensor_algebra.jl:200 [inlined]\n",
      " [34] #*#237\n",
      "    @ ~/.julia/packages/ITensors/WMeVS/src/tensor_operations/tensor_algebra.jl:210 [inlined]\n",
      " [35] *\n",
      "    @ ~/.julia/packages/ITensors/WMeVS/src/tensor_operations/tensor_algebra.jl:210 [inlined]\n",
      " [36] contract(::NDTensors.AlgorithmSelection.Algorithm{:zipup, NamedTuple{(), Tuple{}}}, A::MPO, B::MPO; cutoff::Float64, maxdim::Int64, mindim::Int64, kwargs::Base.Pairs{Symbol, Union{}, Tuple{}, NamedTuple{(), Tuple{}}})\n",
      "    @ ITensors ~/.julia/packages/ITensors/WMeVS/src/mps/mpo.jl:836\n",
      " [37] contract(::NDTensors.AlgorithmSelection.Algorithm{:zipup, NamedTuple{(), Tuple{}}}, A::MPO, B::MPO)\n",
      "    @ ITensors ~/.julia/packages/ITensors/WMeVS/src/mps/mpo.jl:808\n",
      " [38] contract(A::MPO, B::MPO; alg::String, kwargs::Base.Pairs{Symbol, Union{}, Tuple{}, NamedTuple{(), Tuple{}}})\n",
      "    @ ITensors ~/.julia/packages/ITensors/WMeVS/src/mps/mpo.jl:801\n",
      " [39] contract\n",
      "    @ ~/.julia/packages/ITensors/WMeVS/src/mps/mpo.jl:800 [inlined]\n",
      " [40] #apply#1017\n",
      "    @ ~/.julia/packages/ITensors/WMeVS/src/mps/mpo.jl:878 [inlined]\n",
      " [41] product(A::MPO, B::MPO)\n",
      "    @ ITensors ~/.julia/packages/ITensors/WMeVS/src/mps/mpo.jl:877\n",
      " [42] top-level scope\n",
      "    @ ~/Documents/FBQC_Cavity_codes/Errors-in-FBQC-Code/BellStateGenerator copy.ipynb:1"
     ]
    }
   ],
   "source": [
    "apply(sys_m , sys)"
   ]
  },
  {
   "cell_type": "code",
   "execution_count": null,
   "metadata": {},
   "outputs": [],
   "source": []
  },
  {
   "cell_type": "code",
   "execution_count": 101,
   "metadata": {},
   "outputs": [
    {
     "ename": "ErrorException",
     "evalue": "Setting the type parameter of the type `DenseVector` at position `NDTensors.SetParameters.Position{1}()` to `Float64` is not currently defined. Either that type parameter position doesn't exist in the type, or `set_parameter` has not been overloaded for this type.",
     "output_type": "error",
     "traceback": [
      "Setting the type parameter of the type `DenseVector` at position `NDTensors.SetParameters.Position{1}()` to `Float64` is not currently defined. Either that type parameter position doesn't exist in the type, or `set_parameter` has not been overloaded for this type.\n",
      "\n",
      "Stacktrace:\n",
      "  [1] error(s::String)\n",
      "    @ Base ./error.jl:35\n",
      "  [2] set_parameter(type::Type, position::NDTensors.SetParameters.Position{1}, parameter::Type)\n",
      "    @ NDTensors.SetParameters ~/.julia/packages/NDTensors/9WMtv/src/lib/SetParameters/src/interface.jl:10\n",
      "  [3] set_eltype(::Type{SimpleTraits.Not{NDTensors.Unwrap.IsWrappedArray{DenseVector}}}, type::Type{DenseVector}, elt::Type)\n",
      "    @ NDTensors.SetParameters ~/.julia/packages/NDTensors/9WMtv/src/lib/SetParameters/src/Base/abstractarray.jl:7\n",
      "  [4] set_eltype\n",
      "    @ ~/.julia/packages/SimpleTraits/l1ZsK/src/SimpleTraits.jl:331 [inlined]\n",
      "  [5] similartype(::Type{SimpleTraits.Not{NDTensors.Unwrap.IsWrappedArray{DenseVector}}}, arraytype::Type{DenseVector}, eltype::Type)\n",
      "    @ NDTensors ~/.julia/packages/NDTensors/9WMtv/src/abstractarray/similar.jl:109\n",
      "  [6] similartype\n",
      "    @ ~/.julia/packages/SimpleTraits/l1ZsK/src/SimpleTraits.jl:331 [inlined]\n",
      "  [7] promote_rule(#unused#::Type{NDTensors.Dense{Float32, MtlVector{Float32, Metal.MTL.MTLResourceStorageModePrivate}}}, #unused#::Type{NDTensors.Dense{Float64, Vector{Float64}}})\n",
      "    @ NDTensors ~/.julia/packages/NDTensors/9WMtv/src/dense/dense.jl:127\n",
      "  [8] promote_type\n",
      "    @ ./promotion.jl:307 [inlined]\n",
      "  [9] promote_rule(#unused#::Type{NDTensors.DenseTensor{Float32, 3, Tuple{Index{Int64}, Index{Int64}, Index{Int64}}, NDTensors.Dense{Float32, MtlVector{Float32, Metal.MTL.MTLResourceStorageModePrivate}}}}, #unused#::Type{NDTensors.DenseTensor{Float64, 3, Tuple{Index{Int64}, Index{Int64}, Index{Int64}}, NDTensors.Dense{Float64, Vector{Float64}}}})\n",
      "    @ NDTensors ~/.julia/packages/NDTensors/9WMtv/src/tensor/tensor.jl:262\n",
      " [10] promote_type\n",
      "    @ ./promotion.jl:307 [inlined]\n",
      " [11] contraction_output_type(tensortype1::Type{NDTensors.DenseTensor{Float32, 3, Tuple{Index{Int64}, Index{Int64}, Index{Int64}}, NDTensors.Dense{Float32, MtlVector{Float32, Metal.MTL.MTLResourceStorageModePrivate}}}}, tensortype2::Type{NDTensors.DenseTensor{Float64, 3, Tuple{Index{Int64}, Index{Int64}, Index{Int64}}, NDTensors.Dense{Float64, Vector{Float64}}}}, inds::NTuple{4, Index{Int64}})\n",
      "    @ NDTensors ~/.julia/packages/NDTensors/9WMtv/src/tensoroperations/generic_tensor_operations.jl:53\n",
      " [12] contraction_output(tensor1::NDTensors.DenseTensor{Float32, 3, Tuple{Index{Int64}, Index{Int64}, Index{Int64}}, NDTensors.Dense{Float32, MtlVector{Float32, Metal.MTL.MTLResourceStorageModePrivate}}}, tensor2::NDTensors.DenseTensor{Float64, 3, Tuple{Index{Int64}, Index{Int64}, Index{Int64}}, NDTensors.Dense{Float64, Vector{Float64}}}, indsR::NTuple{4, Index{Int64}})\n",
      "    @ NDTensors ~/.julia/packages/NDTensors/9WMtv/src/dense/tensoralgebra/contract.jl:2\n",
      " [13] contraction_output(tensor1::NDTensors.DenseTensor{Float32, 3, Tuple{Index{Int64}, Index{Int64}, Index{Int64}}, NDTensors.Dense{Float32, MtlVector{Float32, Metal.MTL.MTLResourceStorageModePrivate}}}, labelstensor1::Tuple{Int64, Int64, Int64}, tensor2::NDTensors.DenseTensor{Float64, 3, Tuple{Index{Int64}, Index{Int64}, Index{Int64}}, NDTensors.Dense{Float64, Vector{Float64}}}, labelstensor2::Tuple{Int64, Int64, Int64}, labelsoutput_tensor::NTuple{4, Int64})\n",
      "    @ NDTensors ~/.julia/packages/NDTensors/9WMtv/src/tensoroperations/generic_tensor_operations.jl:62\n",
      " [14] contract(tensor1::NDTensors.DenseTensor{Float32, 3, Tuple{Index{Int64}, Index{Int64}, Index{Int64}}, NDTensors.Dense{Float32, MtlVector{Float32, Metal.MTL.MTLResourceStorageModePrivate}}}, labelstensor1::Tuple{Int64, Int64, Int64}, tensor2::NDTensors.DenseTensor{Float64, 3, Tuple{Index{Int64}, Index{Int64}, Index{Int64}}, NDTensors.Dense{Float64, Vector{Float64}}}, labelstensor2::Tuple{Int64, Int64, Int64}, labelsoutput_tensor::NTuple{4, Int64})\n",
      "    @ NDTensors ~/.julia/packages/NDTensors/9WMtv/src/tensoroperations/generic_tensor_operations.jl:108\n",
      " [15] contract(::Type{NDTensors.CanContract{NDTensors.DenseTensor{Float32, 3, Tuple{Index{Int64}, Index{Int64}, Index{Int64}}, NDTensors.Dense{Float32, MtlVector{Float32, Metal.MTL.MTLResourceStorageModePrivate}}}, NDTensors.DenseTensor{Float64, 3, Tuple{Index{Int64}, Index{Int64}, Index{Int64}}, NDTensors.Dense{Float64, Vector{Float64}}}}}, tensor1::NDTensors.DenseTensor{Float32, 3, Tuple{Index{Int64}, Index{Int64}, Index{Int64}}, NDTensors.Dense{Float32, MtlVector{Float32, Metal.MTL.MTLResourceStorageModePrivate}}}, labels_tensor1::Tuple{Int64, Int64, Int64}, tensor2::NDTensors.DenseTensor{Float64, 3, Tuple{Index{Int64}, Index{Int64}, Index{Int64}}, NDTensors.Dense{Float64, Vector{Float64}}}, labels_tensor2::Tuple{Int64, Int64, Int64})\n",
      "    @ NDTensors ~/.julia/packages/NDTensors/9WMtv/src/tensoroperations/generic_tensor_operations.jl:91\n",
      " [16] contract\n",
      "    @ ~/.julia/packages/SimpleTraits/l1ZsK/src/SimpleTraits.jl:331 [inlined]\n",
      " [17] _contract(A::NDTensors.DenseTensor{Float32, 3, Tuple{Index{Int64}, Index{Int64}, Index{Int64}}, NDTensors.Dense{Float32, MtlVector{Float32, Metal.MTL.MTLResourceStorageModePrivate}}}, B::NDTensors.DenseTensor{Float64, 3, Tuple{Index{Int64}, Index{Int64}, Index{Int64}}, NDTensors.Dense{Float64, Vector{Float64}}})\n",
      "    @ ITensors ~/.julia/packages/ITensors/WMeVS/src/tensor_operations/tensor_algebra.jl:3\n",
      " [18] _contract(A::ITensor, B::ITensor)\n",
      "    @ ITensors ~/.julia/packages/ITensors/WMeVS/src/tensor_operations/tensor_algebra.jl:9\n",
      " [19] contract(A::ITensor, B::ITensor)\n",
      "    @ ITensors ~/.julia/packages/ITensors/WMeVS/src/tensor_operations/tensor_algebra.jl:104\n",
      " [20] #231\n",
      "    @ ~/.julia/packages/ITensors/WMeVS/src/tensor_operations/tensor_algebra.jl:190 [inlined]\n",
      " [21] BottomRF\n",
      "    @ ./reduce.jl:81 [inlined]\n",
      " [22] afoldl\n",
      "    @ ./operators.jl:537 [inlined]\n",
      " [23] _foldl_impl\n",
      "    @ ./tuple.jl:329 [inlined]\n",
      " [24] foldl_impl\n",
      "    @ ./reduce.jl:48 [inlined]\n",
      " [25] mapfoldl_impl\n",
      "    @ ./reduce.jl:44 [inlined]\n",
      " [26] #mapfoldl#288\n",
      "    @ ./reduce.jl:170 [inlined]\n",
      " [27] mapfoldl\n",
      "    @ ./reduce.jl:170 [inlined]\n",
      " [28] #foldl#289\n",
      "    @ ./reduce.jl:193 [inlined]\n",
      " [29] foldl\n",
      "    @ ./reduce.jl:193 [inlined]\n",
      " [30] contract(As::Tuple{ITensor, ITensor, ITensor}; sequence::String, kwargs::Base.Pairs{Symbol, Union{}, Tuple{}, NamedTuple{(), Tuple{}}})\n",
      "    @ ITensors ~/.julia/packages/ITensors/WMeVS/src/tensor_operations/tensor_algebra.jl:190\n",
      " [31] contract\n",
      "    @ ~/.julia/packages/ITensors/WMeVS/src/tensor_operations/tensor_algebra.jl:186 [inlined]\n",
      " [32] #contract#235\n",
      "    @ ~/.julia/packages/ITensors/WMeVS/src/tensor_operations/tensor_algebra.jl:200 [inlined]\n",
      " [33] contract\n",
      "    @ ~/.julia/packages/ITensors/WMeVS/src/tensor_operations/tensor_algebra.jl:200 [inlined]\n",
      " [34] #*#237\n",
      "    @ ~/.julia/packages/ITensors/WMeVS/src/tensor_operations/tensor_algebra.jl:210 [inlined]\n",
      " [35] *\n",
      "    @ ~/.julia/packages/ITensors/WMeVS/src/tensor_operations/tensor_algebra.jl:210 [inlined]\n",
      " [36] contract(::NDTensors.AlgorithmSelection.Algorithm{:zipup, NamedTuple{(), Tuple{}}}, A::MPO, B::MPO; cutoff::Float64, maxdim::Int64, mindim::Int64, kwargs::Base.Pairs{Symbol, Union{}, Tuple{}, NamedTuple{(), Tuple{}}})\n",
      "    @ ITensors ~/.julia/packages/ITensors/WMeVS/src/mps/mpo.jl:836\n",
      " [37] contract(::NDTensors.AlgorithmSelection.Algorithm{:zipup, NamedTuple{(), Tuple{}}}, A::MPO, B::MPO)\n",
      "    @ ITensors ~/.julia/packages/ITensors/WMeVS/src/mps/mpo.jl:808\n",
      " [38] contract(A::MPO, B::MPO; alg::String, kwargs::Base.Pairs{Symbol, Union{}, Tuple{}, NamedTuple{(), Tuple{}}})\n",
      "    @ ITensors ~/.julia/packages/ITensors/WMeVS/src/mps/mpo.jl:801\n",
      " [39] contract\n",
      "    @ ~/.julia/packages/ITensors/WMeVS/src/mps/mpo.jl:800 [inlined]\n",
      " [40] #apply#1017\n",
      "    @ ~/.julia/packages/ITensors/WMeVS/src/mps/mpo.jl:878 [inlined]\n",
      " [41] product(A::MPO, B::MPO)\n",
      "    @ ITensors ~/.julia/packages/ITensors/WMeVS/src/mps/mpo.jl:877\n",
      " [42] top-level scope\n",
      "    @ ~/Documents/FBQC_Cavity_codes/Errors-in-FBQC-Code/BellStateGenerator copy.ipynb:1"
     ]
    }
   ],
   "source": [
    "apply(deepcopy(sys_m) , sys)"
   ]
  },
  {
   "cell_type": "code",
   "execution_count": 94,
   "metadata": {},
   "outputs": [
    {
     "ename": "ErrorException",
     "evalue": "Setting the type parameter of the type `DenseVector` at position `NDTensors.SetParameters.Position{1}()` to `Float64` is not currently defined. Either that type parameter position doesn't exist in the type, or `set_parameter` has not been overloaded for this type.",
     "output_type": "error",
     "traceback": [
      "Setting the type parameter of the type `DenseVector` at position `NDTensors.SetParameters.Position{1}()` to `Float64` is not currently defined. Either that type parameter position doesn't exist in the type, or `set_parameter` has not been overloaded for this type.\n",
      "\n",
      "Stacktrace:\n",
      "  [1] error(s::String)\n",
      "    @ Base ./error.jl:35\n",
      "  [2] set_parameter(type::Type, position::NDTensors.SetParameters.Position{1}, parameter::Type)\n",
      "    @ NDTensors.SetParameters ~/.julia/packages/NDTensors/9WMtv/src/lib/SetParameters/src/interface.jl:10\n",
      "  [3] set_eltype(::Type{SimpleTraits.Not{NDTensors.Unwrap.IsWrappedArray{DenseVector}}}, type::Type{DenseVector}, elt::Type)\n",
      "    @ NDTensors.SetParameters ~/.julia/packages/NDTensors/9WMtv/src/lib/SetParameters/src/Base/abstractarray.jl:7\n",
      "  [4] set_eltype\n",
      "    @ ~/.julia/packages/SimpleTraits/l1ZsK/src/SimpleTraits.jl:331 [inlined]\n",
      "  [5] similartype(::Type{SimpleTraits.Not{NDTensors.Unwrap.IsWrappedArray{DenseVector}}}, arraytype::Type{DenseVector}, eltype::Type)\n",
      "    @ NDTensors ~/.julia/packages/NDTensors/9WMtv/src/abstractarray/similar.jl:109\n",
      "  [6] similartype\n",
      "    @ ~/.julia/packages/SimpleTraits/l1ZsK/src/SimpleTraits.jl:331 [inlined]\n",
      "  [7] promote_rule(#unused#::Type{NDTensors.Dense{Float32, MtlVector{Float32, Metal.MTL.MTLResourceStorageModePrivate}}}, #unused#::Type{NDTensors.Dense{Float64, Vector{Float64}}})\n",
      "    @ NDTensors ~/.julia/packages/NDTensors/9WMtv/src/dense/dense.jl:127\n",
      "  [8] promote_type\n",
      "    @ ./promotion.jl:307 [inlined]\n",
      "  [9] promote_rule(#unused#::Type{NDTensors.DenseTensor{Float32, 3, Tuple{Index{Int64}, Index{Int64}, Index{Int64}}, NDTensors.Dense{Float32, MtlVector{Float32, Metal.MTL.MTLResourceStorageModePrivate}}}}, #unused#::Type{NDTensors.DenseTensor{Float64, 3, Tuple{Index{Int64}, Index{Int64}, Index{Int64}}, NDTensors.Dense{Float64, Vector{Float64}}}})\n",
      "    @ NDTensors ~/.julia/packages/NDTensors/9WMtv/src/tensor/tensor.jl:262\n",
      " [10] promote_type\n",
      "    @ ./promotion.jl:307 [inlined]\n",
      " [11] permutedims!!(R::NDTensors.DenseTensor{Float32, 3, Tuple{Index{Int64}, Index{Int64}, Index{Int64}}, NDTensors.Dense{Float32, MtlVector{Float32, Metal.MTL.MTLResourceStorageModePrivate}}}, T::NDTensors.DenseTensor{Float64, 3, Tuple{Index{Int64}, Index{Int64}, Index{Int64}}, NDTensors.Dense{Float64, Vector{Float64}}}, perm::Tuple{Int64, Int64, Int64}, f::Function)\n",
      "    @ NDTensors ~/.julia/packages/NDTensors/9WMtv/src/dense/densetensor.jl:198\n",
      " [12] _map!!(f::Function, R::NDTensors.DenseTensor{Float32, 3, Tuple{Index{Int64}, Index{Int64}, Index{Int64}}, NDTensors.Dense{Float32, MtlVector{Float32, Metal.MTL.MTLResourceStorageModePrivate}}}, T1::NDTensors.DenseTensor{Float32, 3, Tuple{Index{Int64}, Index{Int64}, Index{Int64}}, NDTensors.Dense{Float32, MtlVector{Float32, Metal.MTL.MTLResourceStorageModePrivate}}}, T2::NDTensors.DenseTensor{Float64, 3, Tuple{Index{Int64}, Index{Int64}, Index{Int64}}, NDTensors.Dense{Float64, Vector{Float64}}})\n",
      "    @ ITensors ~/.julia/packages/ITensors/WMeVS/src/itensor.jl:1960\n",
      " [13] map!(f::Function, R::ITensor, T1::ITensor, T2::ITensor)\n",
      "    @ ITensors ~/.julia/packages/ITensors/WMeVS/src/itensor.jl:1965\n",
      " [14] copyto!\n",
      "    @ ~/.julia/packages/ITensors/WMeVS/src/broadcast.jl:284 [inlined]\n",
      " [15] materialize!\n",
      "    @ ./broadcast.jl:884 [inlined]\n",
      " [16] materialize!\n",
      "    @ ./broadcast.jl:881 [inlined]\n",
      " [17] copyto!(R::ITensor, T::ITensor)\n",
      "    @ ITensors ~/.julia/packages/ITensors/WMeVS/src/itensor.jl:1930\n",
      " [18] top-level scope\n",
      "    @ ~/Documents/FBQC_Cavity_codes/Errors-in-FBQC-Code/BellStateGenerator copy.ipynb:2"
     ]
    }
   ],
   "source": [
    "for i=1:length(sys)\n",
    "    copyto!(sys_m[i], sys[i])\n",
    "end"
   ]
  },
  {
   "cell_type": "code",
   "execution_count": 84,
   "metadata": {},
   "outputs": [
    {
     "ename": "ErrorException",
     "evalue": "Metal does not support Float64 values, try using Float32 instead",
     "output_type": "error",
     "traceback": [
      "Metal does not support Float64 values, try using Float32 instead\n",
      "\n",
      "Stacktrace:\n",
      "  [1] error(s::String)\n",
      "    @ Base ./error.jl:35\n",
      "  [2] check_eltype(T::Type)\n",
      "    @ Metal ~/.julia/packages/Metal/lnkVP/src/array.jl:32\n",
      "  [3] MtlVector{ComplexF64, Metal.MTL.MTLResourceStorageModePrivate}(#unused#::UndefInitializer, dims::Tuple{Int64})\n",
      "    @ Metal ~/.julia/packages/Metal/lnkVP/src/array.jl:50\n",
      "  [4] similar(arraytype::Type{MtlVector{ComplexF64, Metal.MTL.MTLResourceStorageModePrivate}}, dims::Tuple{Int64})\n",
      "    @ NDTensors ~/.julia/packages/NDTensors/9WMtv/src/abstractarray/similar.jl:18\n",
      "  [5] similar(arraytype::Type{MtlVector{ComplexF64, Metal.MTL.MTLResourceStorageModePrivate}}, dims::Int64)\n",
      "    @ NDTensors ~/.julia/packages/NDTensors/9WMtv/src/abstractarray/similar.jl:23\n",
      "  [6] generic_zeros(arraytype::Type{MtlVector{ComplexF64, Metal.MTL.MTLResourceStorageModePrivate}}, dims::Int64)\n",
      "    @ NDTensors ~/.julia/packages/NDTensors/9WMtv/src/abstractarray/fill.jl:15\n",
      "  [7] generic_zeros(StoreT::Type{NDTensors.Dense{ComplexF64, MtlVector{ComplexF64, Metal.MTL.MTLResourceStorageModePrivate}}}, dim::Int64)\n",
      "    @ NDTensors ~/.julia/packages/NDTensors/9WMtv/src/dense/fill.jl:28\n",
      "  [8] _zeros(TensorT::Type{NDTensors.DenseTensor{ComplexF64, 1, Tuple{Index{Int64}}, NDTensors.Dense{ComplexF64, MtlVector{ComplexF64, Metal.MTL.MTLResourceStorageModePrivate}}}}, inds::Tuple{Index{Int64}})\n",
      "    @ NDTensors ~/.julia/packages/NDTensors/9WMtv/src/dense/densetensor.jl:49\n",
      "  [9] zeros(TensorT::Type{NDTensors.DenseTensor{ComplexF64, 1, Tuple{Index{Int64}}, NDTensors.Dense{ComplexF64, MtlVector{ComplexF64, Metal.MTL.MTLResourceStorageModePrivate}}}}, inds::Tuple{Index{Int64}})\n",
      "    @ NDTensors ~/.julia/packages/NDTensors/9WMtv/src/dense/densetensor.jl:53\n",
      " [10] zero_contraction_output(T1::NDTensors.DiagTensor{Float64, 2, Tuple{Index{Int64}, Index{Int64}}, NDTensors.Diag{Float64, Float64}}, T2::NDTensors.DenseTensor{ComplexF32, 3, Tuple{Index{Int64}, Index{Int64}, Index{Int64}}, NDTensors.Dense{ComplexF32, MtlVector{ComplexF32, Metal.MTL.MTLResourceStorageModePrivate}}}, indsR::Tuple{Index{Int64}})\n",
      "    @ NDTensors ~/.julia/packages/NDTensors/9WMtv/src/tensor/tensor.jl:392\n",
      " [11] contraction_output(T1::NDTensors.DiagTensor{Float64, 2, Tuple{Index{Int64}, Index{Int64}}, NDTensors.Diag{Float64, Float64}}, T2::NDTensors.DenseTensor{ComplexF32, 3, Tuple{Index{Int64}, Index{Int64}, Index{Int64}}, NDTensors.Dense{ComplexF32, MtlVector{ComplexF32, Metal.MTL.MTLResourceStorageModePrivate}}}, indsR::Tuple{Index{Int64}})\n",
      "    @ NDTensors ~/.julia/packages/NDTensors/9WMtv/src/diag/tensoralgebra/contract.jl:33\n",
      " [12] contraction_output(tensor1::NDTensors.DiagTensor{Float64, 2, Tuple{Index{Int64}, Index{Int64}}, NDTensors.Diag{Float64, Float64}}, labelstensor1::Tuple{Int64, Int64}, tensor2::NDTensors.DenseTensor{ComplexF32, 3, Tuple{Index{Int64}, Index{Int64}, Index{Int64}}, NDTensors.Dense{ComplexF32, MtlVector{ComplexF32, Metal.MTL.MTLResourceStorageModePrivate}}}, labelstensor2::Tuple{Int64, Int64, Int64}, labelsoutput_tensor::Tuple{Int64})\n",
      "    @ NDTensors ~/.julia/packages/NDTensors/9WMtv/src/tensoroperations/generic_tensor_operations.jl:62\n",
      " [13] contract(tensor1::NDTensors.DiagTensor{Float64, 2, Tuple{Index{Int64}, Index{Int64}}, NDTensors.Diag{Float64, Float64}}, labelstensor1::Tuple{Int64, Int64}, tensor2::NDTensors.DenseTensor{ComplexF32, 3, Tuple{Index{Int64}, Index{Int64}, Index{Int64}}, NDTensors.Dense{ComplexF32, MtlVector{ComplexF32, Metal.MTL.MTLResourceStorageModePrivate}}}, labelstensor2::Tuple{Int64, Int64, Int64}, labelsoutput_tensor::Tuple{Int64})\n",
      "    @ NDTensors ~/.julia/packages/NDTensors/9WMtv/src/tensoroperations/generic_tensor_operations.jl:108\n",
      " [14] contract(::Type{NDTensors.CanContract{NDTensors.DiagTensor{Float64, 2, Tuple{Index{Int64}, Index{Int64}}, NDTensors.Diag{Float64, Float64}}, NDTensors.DenseTensor{ComplexF32, 3, Tuple{Index{Int64}, Index{Int64}, Index{Int64}}, NDTensors.Dense{ComplexF32, MtlVector{ComplexF32, Metal.MTL.MTLResourceStorageModePrivate}}}}}, tensor1::NDTensors.DiagTensor{Float64, 2, Tuple{Index{Int64}, Index{Int64}}, NDTensors.Diag{Float64, Float64}}, labels_tensor1::Tuple{Int64, Int64}, tensor2::NDTensors.DenseTensor{ComplexF32, 3, Tuple{Index{Int64}, Index{Int64}, Index{Int64}}, NDTensors.Dense{ComplexF32, MtlVector{ComplexF32, Metal.MTL.MTLResourceStorageModePrivate}}}, labels_tensor2::Tuple{Int64, Int64, Int64})\n",
      "    @ NDTensors ~/.julia/packages/NDTensors/9WMtv/src/tensoroperations/generic_tensor_operations.jl:91\n",
      " [15] contract\n",
      "    @ ~/.julia/packages/SimpleTraits/l1ZsK/src/SimpleTraits.jl:331 [inlined]\n",
      " [16] _contract(A::NDTensors.DiagTensor{Float64, 2, Tuple{Index{Int64}, Index{Int64}}, NDTensors.Diag{Float64, Float64}}, B::NDTensors.DenseTensor{ComplexF32, 3, Tuple{Index{Int64}, Index{Int64}, Index{Int64}}, NDTensors.Dense{ComplexF32, MtlVector{ComplexF32, Metal.MTL.MTLResourceStorageModePrivate}}})\n",
      "    @ ITensors ~/.julia/packages/ITensors/WMeVS/src/tensor_operations/tensor_algebra.jl:3\n",
      " [17] _contract(A::ITensor, B::ITensor)\n",
      "    @ ITensors ~/.julia/packages/ITensors/WMeVS/src/tensor_operations/tensor_algebra.jl:9\n",
      " [18] contract(A::ITensor, B::ITensor)\n",
      "    @ ITensors ~/.julia/packages/ITensors/WMeVS/src/tensor_operations/tensor_algebra.jl:104\n",
      " [19] *\n",
      "    @ ~/.julia/packages/ITensors/WMeVS/src/tensor_operations/tensor_algebra.jl:91 [inlined]\n",
      " [20] trace(MPO_i::MPO, sites_i::Vector{Index{Int64}})\n",
      "    @ Main ~/Documents/FBQC_Cavity_codes/Errors-in-FBQC-Code/BellStateGenerator copy.ipynb:4\n",
      " [21] top-level scope\n",
      "    @ ~/Documents/FBQC_Cavity_codes/Errors-in-FBQC-Code/BellStateGenerator copy.ipynb:1"
     ]
    }
   ],
   "source": [
    "trace(sys_m, sys_sites)"
   ]
  },
  {
   "cell_type": "code",
   "execution_count": 79,
   "metadata": {},
   "outputs": [
    {
     "ename": "ErrorException",
     "evalue": "Metal does not support Float64 values, try using Float32 instead",
     "output_type": "error",
     "traceback": [
      "Metal does not support Float64 values, try using Float32 instead\n",
      "\n",
      "Stacktrace:\n",
      "  [1] error(s::String)\n",
      "    @ Base ./error.jl:35\n",
      "  [2] check_eltype(T::Type)\n",
      "    @ Metal ~/.julia/packages/Metal/lnkVP/src/array.jl:32\n",
      "  [3] MtlVector{ComplexF64, Metal.MTL.MTLResourceStorageModePrivate}(#unused#::UndefInitializer, dims::Tuple{Int64})\n",
      "    @ Metal ~/.julia/packages/Metal/lnkVP/src/array.jl:50\n",
      "  [4] similar(arraytype::Type{MtlVector{ComplexF64, Metal.MTL.MTLResourceStorageModePrivate}}, dims::Tuple{Int64})\n",
      "    @ NDTensors ~/.julia/packages/NDTensors/9WMtv/src/abstractarray/similar.jl:18\n",
      "  [5] similar(arraytype::Type{MtlVector{ComplexF64, Metal.MTL.MTLResourceStorageModePrivate}}, dims::Int64)\n",
      "    @ NDTensors ~/.julia/packages/NDTensors/9WMtv/src/abstractarray/similar.jl:23\n",
      "  [6] generic_zeros(arraytype::Type{MtlVector{ComplexF64, Metal.MTL.MTLResourceStorageModePrivate}}, dims::Int64)\n",
      "    @ NDTensors ~/.julia/packages/NDTensors/9WMtv/src/abstractarray/fill.jl:15\n",
      "  [7] generic_zeros(StoreT::Type{NDTensors.Dense{ComplexF64, MtlVector{ComplexF64, Metal.MTL.MTLResourceStorageModePrivate}}}, dim::Int64)\n",
      "    @ NDTensors ~/.julia/packages/NDTensors/9WMtv/src/dense/fill.jl:28\n",
      "  [8] _zeros(TensorT::Type{NDTensors.DenseTensor{ComplexF64, 1, Tuple{Index{Int64}}, NDTensors.Dense{ComplexF64, MtlVector{ComplexF64, Metal.MTL.MTLResourceStorageModePrivate}}}}, inds::Tuple{Index{Int64}})\n",
      "    @ NDTensors ~/.julia/packages/NDTensors/9WMtv/src/dense/densetensor.jl:49\n",
      "  [9] zeros(TensorT::Type{NDTensors.DenseTensor{ComplexF64, 1, Tuple{Index{Int64}}, NDTensors.Dense{ComplexF64, MtlVector{ComplexF64, Metal.MTL.MTLResourceStorageModePrivate}}}}, inds::Tuple{Index{Int64}})\n",
      "    @ NDTensors ~/.julia/packages/NDTensors/9WMtv/src/dense/densetensor.jl:53\n",
      " [10] zero_contraction_output(T1::NDTensors.DiagTensor{Float64, 2, Tuple{Index{Int64}, Index{Int64}}, NDTensors.Diag{Float64, Float64}}, T2::NDTensors.DenseTensor{ComplexF32, 3, Tuple{Index{Int64}, Index{Int64}, Index{Int64}}, NDTensors.Dense{ComplexF32, MtlVector{ComplexF32, Metal.MTL.MTLResourceStorageModePrivate}}}, indsR::Tuple{Index{Int64}})\n",
      "    @ NDTensors ~/.julia/packages/NDTensors/9WMtv/src/tensor/tensor.jl:392\n",
      " [11] contraction_output(T1::NDTensors.DiagTensor{Float64, 2, Tuple{Index{Int64}, Index{Int64}}, NDTensors.Diag{Float64, Float64}}, T2::NDTensors.DenseTensor{ComplexF32, 3, Tuple{Index{Int64}, Index{Int64}, Index{Int64}}, NDTensors.Dense{ComplexF32, MtlVector{ComplexF32, Metal.MTL.MTLResourceStorageModePrivate}}}, indsR::Tuple{Index{Int64}})\n",
      "    @ NDTensors ~/.julia/packages/NDTensors/9WMtv/src/diag/tensoralgebra/contract.jl:33\n",
      " [12] contraction_output(T1::NDTensors.DenseTensor{ComplexF32, 3, Tuple{Index{Int64}, Index{Int64}, Index{Int64}}, NDTensors.Dense{ComplexF32, MtlVector{ComplexF32, Metal.MTL.MTLResourceStorageModePrivate}}}, T2::NDTensors.DiagTensor{Float64, 2, Tuple{Index{Int64}, Index{Int64}}, NDTensors.Diag{Float64, Float64}}, indsR::Tuple{Index{Int64}})\n",
      "    @ NDTensors ~/.julia/packages/NDTensors/9WMtv/src/diag/tensoralgebra/contract.jl:35\n",
      " [13] contraction_output(tensor1::NDTensors.DenseTensor{ComplexF32, 3, Tuple{Index{Int64}, Index{Int64}, Index{Int64}}, NDTensors.Dense{ComplexF32, MtlVector{ComplexF32, Metal.MTL.MTLResourceStorageModePrivate}}}, labelstensor1::Tuple{Int64, Int64, Int64}, tensor2::NDTensors.DiagTensor{Float64, 2, Tuple{Index{Int64}, Index{Int64}}, NDTensors.Diag{Float64, Float64}}, labelstensor2::Tuple{Int64, Int64}, labelsoutput_tensor::Tuple{Int64})\n",
      "    @ NDTensors ~/.julia/packages/NDTensors/9WMtv/src/tensoroperations/generic_tensor_operations.jl:62\n",
      " [14] contract(tensor1::NDTensors.DenseTensor{ComplexF32, 3, Tuple{Index{Int64}, Index{Int64}, Index{Int64}}, NDTensors.Dense{ComplexF32, MtlVector{ComplexF32, Metal.MTL.MTLResourceStorageModePrivate}}}, labelstensor1::Tuple{Int64, Int64, Int64}, tensor2::NDTensors.DiagTensor{Float64, 2, Tuple{Index{Int64}, Index{Int64}}, NDTensors.Diag{Float64, Float64}}, labelstensor2::Tuple{Int64, Int64}, labelsoutput_tensor::Tuple{Int64})\n",
      "    @ NDTensors ~/.julia/packages/NDTensors/9WMtv/src/tensoroperations/generic_tensor_operations.jl:108\n",
      " [15] contract(::Type{NDTensors.CanContract{NDTensors.DenseTensor{ComplexF32, 3, Tuple{Index{Int64}, Index{Int64}, Index{Int64}}, NDTensors.Dense{ComplexF32, MtlVector{ComplexF32, Metal.MTL.MTLResourceStorageModePrivate}}}, NDTensors.DiagTensor{Float64, 2, Tuple{Index{Int64}, Index{Int64}}, NDTensors.Diag{Float64, Float64}}}}, tensor1::NDTensors.DenseTensor{ComplexF32, 3, Tuple{Index{Int64}, Index{Int64}, Index{Int64}}, NDTensors.Dense{ComplexF32, MtlVector{ComplexF32, Metal.MTL.MTLResourceStorageModePrivate}}}, labels_tensor1::Tuple{Int64, Int64, Int64}, tensor2::NDTensors.DiagTensor{Float64, 2, Tuple{Index{Int64}, Index{Int64}}, NDTensors.Diag{Float64, Float64}}, labels_tensor2::Tuple{Int64, Int64})\n",
      "    @ NDTensors ~/.julia/packages/NDTensors/9WMtv/src/tensoroperations/generic_tensor_operations.jl:91\n",
      " [16] contract\n",
      "    @ ~/.julia/packages/SimpleTraits/l1ZsK/src/SimpleTraits.jl:331 [inlined]\n",
      " [17] _contract(A::NDTensors.DenseTensor{ComplexF32, 3, Tuple{Index{Int64}, Index{Int64}, Index{Int64}}, NDTensors.Dense{ComplexF32, MtlVector{ComplexF32, Metal.MTL.MTLResourceStorageModePrivate}}}, B::NDTensors.DiagTensor{Float64, 2, Tuple{Index{Int64}, Index{Int64}}, NDTensors.Diag{Float64, Float64}})\n",
      "    @ ITensors ~/.julia/packages/ITensors/WMeVS/src/tensor_operations/tensor_algebra.jl:3\n",
      " [18] _contract(A::ITensor, B::ITensor)\n",
      "    @ ITensors ~/.julia/packages/ITensors/WMeVS/src/tensor_operations/tensor_algebra.jl:9\n",
      " [19] contract(A::ITensor, B::ITensor)\n",
      "    @ ITensors ~/.julia/packages/ITensors/WMeVS/src/tensor_operations/tensor_algebra.jl:104\n",
      " [20] *(A::ITensor, B::ITensor)\n",
      "    @ ITensors ~/.julia/packages/ITensors/WMeVS/src/tensor_operations/tensor_algebra.jl:91\n",
      " [21] _tr(T::ITensor; plev::Pair{Int64, Int64}, tags::Pair{TagSet, TagSet})\n",
      "    @ ITensors ~/.julia/packages/ITensors/WMeVS/src/tensor_operations/matrix_algebra.jl:9\n",
      " [22] _tr\n",
      "    @ ~/.julia/packages/ITensors/WMeVS/src/tensor_operations/matrix_algebra.jl:2 [inlined]\n",
      " [23] #tr#268\n",
      "    @ ~/.julia/packages/ITensors/WMeVS/src/tensor_operations/matrix_algebra.jl:20 [inlined]\n",
      " [24] tr\n",
      "    @ ~/.julia/packages/ITensors/WMeVS/src/tensor_operations/matrix_algebra.jl:19 [inlined]\n",
      " [25] tr(M::MPO; plev::Pair{Int64, Int64}, tags::Pair{TagSet, TagSet})\n",
      "    @ ITensors ~/.julia/packages/ITensors/WMeVS/src/mps/mpo.jl:545\n",
      " [26] tr(M::MPO)\n",
      "    @ ITensors ~/.julia/packages/ITensors/WMeVS/src/mps/mpo.jl:534\n",
      " [27] top-level scope\n",
      "    @ ~/Documents/FBQC_Cavity_codes/Errors-in-FBQC-Code/BellStateGenerator copy.ipynb:6"
     ]
    }
   ],
   "source": [
    "\n",
    "#evolving atom-cavity system\n",
    "for i=0:dt:t_final\n",
    "    d_rho = drho(sys_sites, sys_m , g_f, sqrt(gamma); t=0)\n",
    "    sys_m +=  dt * d_rho\n",
    "    sys_m = sys_m/trace(sys_m)\n",
    "end\n"
   ]
  },
  {
   "cell_type": "code",
   "execution_count": null,
   "metadata": {},
   "outputs": [],
   "source": []
  },
  {
   "cell_type": "code",
   "execution_count": null,
   "metadata": {},
   "outputs": [],
   "source": [
    "\n",
    "for i=0:dt:t_final\n",
    "    d_rho1 = drho(sys_sites, sys_m, g_f, sqrt(gamma); t=i, deph=depha)\n",
    "    sys1 = sys + (d_rho1*dt/2)\n",
    "    sys1 /=tr(sys1)\n",
    "    d_rho2 = drho(sys_sites, sys1, g_f, sqrt(gamma); t=(i+(dt/2)), deph=depha)\n",
    "    sys2 = sys + (d_rho2*dt/2)\n",
    "    sys2 /=tr(sys2)\n",
    "    d_rho3  = drho(sys_sites, sys2, g_f, sqrt(gamma); t=(i+(dt/2)), deph=depha)\n",
    "    sys3 = sys + (d_rho3*dt)\n",
    "    sys3 /=tr(sys3)\n",
    "    d_rho4  = drho(sys_sites, sys3, g_f, sqrt(gamma); t=(i+dt), deph=depha)\n",
    "    sys_m +=  (dt * (d_rho1 + (2f0*d_rho2) + (2f0*d_rho3) + d_rho4)/6)\n",
    "    sys_m /= trace(sys_m, sys_sites)\n",
    "end"
   ]
  },
  {
   "cell_type": "code",
   "execution_count": 59,
   "metadata": {},
   "outputs": [
    {
     "data": {
      "text/plain": [
       "0.1f0"
      ]
     },
     "metadata": {},
     "output_type": "display_data"
    }
   ],
   "source": []
  },
  {
   "cell_type": "code",
   "execution_count": 61,
   "metadata": {},
   "outputs": [
    {
     "data": {
      "text/plain": [
       "9"
      ]
     },
     "metadata": {},
     "output_type": "display_data"
    }
   ],
   "source": [
    "x = 9"
   ]
  },
  {
   "cell_type": "code",
   "execution_count": 64,
   "metadata": {},
   "outputs": [
    {
     "data": {
      "text/plain": [
       "0.1f0"
      ]
     },
     "metadata": {},
     "output_type": "display_data"
    }
   ],
   "source": [
    "gamma=1f0\n",
    "depha=0f0\n",
    "t_final=10f0\n",
    "dt = 1f-1 \n",
    "\n",
    "#g_f, eval_ = g2(gamma, depha, t_final, dt/5, no_cavs)\n"
   ]
  },
  {
   "cell_type": "code",
   "execution_count": null,
   "metadata": {},
   "outputs": [],
   "source": []
  }
 ],
 "metadata": {
  "kernelspec": {
   "display_name": "Julia 1.9.3",
   "language": "julia",
   "name": "julia-1.9"
  },
  "language_info": {
   "file_extension": ".jl",
   "mimetype": "application/julia",
   "name": "julia",
   "version": "1.9.3"
  }
 },
 "nbformat": 4,
 "nbformat_minor": 2
}
