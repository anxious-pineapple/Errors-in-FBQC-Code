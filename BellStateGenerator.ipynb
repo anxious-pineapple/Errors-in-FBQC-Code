{
 "cells": [
  {
   "cell_type": "markdown",
   "metadata": {},
   "source": [
    "# Packages"
   ]
  },
  {
   "cell_type": "code",
   "execution_count": 28,
   "metadata": {},
   "outputs": [],
   "source": [
    "using ITensors, Integrals, BenchmarkTools, Plots, QuantumOptics, LinearAlgebra, Interpolations, DifferentialEquations, Metal"
   ]
  },
  {
   "cell_type": "code",
   "execution_count": 29,
   "metadata": {},
   "outputs": [
    {
     "ename": "ArgumentError",
     "evalue": "ArgumentError: Package JlD2 not found in current path.\n- Run `import Pkg; Pkg.add(\"JlD2\")` to install the JlD2 package.",
     "output_type": "error",
     "traceback": [
      "ArgumentError: Package JlD2 not found in current path.\n",
      "- Run `import Pkg; Pkg.add(\"JlD2\")` to install the JlD2 package.\n",
      "\n",
      "Stacktrace:\n",
      "  [1] macro expansion\n",
      "    @ ./loading.jl:1772 [inlined]\n",
      "  [2] macro expansion\n",
      "    @ ./lock.jl:267 [inlined]\n",
      "  [3] __require(into::Module, mod::Symbol)\n",
      "    @ Base ./loading.jl:1753\n",
      "  [4] #invoke_in_world#3\n",
      "    @ ./essentials.jl:926 [inlined]\n",
      "  [5] invoke_in_world\n",
      "    @ ./essentials.jl:923 [inlined]\n",
      "  [6] require(into::Module, mod::Symbol)\n",
      "    @ Base ./loading.jl:1746\n",
      "  [7] eval\n",
      "    @ ./boot.jl:385 [inlined]\n",
      "  [8] include_string(mapexpr::typeof(REPL.softscope), mod::Module, code::String, filename::String)\n",
      "    @ Base ./loading.jl:2076\n",
      "  [9] #invokelatest#2\n",
      "    @ ./essentials.jl:892 [inlined]\n",
      " [10] invokelatest\n",
      "    @ ./essentials.jl:889 [inlined]\n",
      " [11] (::VSCodeServer.var\"#219#220\"{VSCodeServer.NotebookRunCellArguments, String})()\n",
      "    @ VSCodeServer ~/.vscode/extensions/julialang.language-julia-1.79.2/scripts/packages/VSCodeServer/src/serve_notebook.jl:19\n",
      " [12] withpath(f::VSCodeServer.var\"#219#220\"{VSCodeServer.NotebookRunCellArguments, String}, path::String)\n",
      "    @ VSCodeServer ~/.vscode/extensions/julialang.language-julia-1.79.2/scripts/packages/VSCodeServer/src/repl.jl:276\n",
      " [13] notebook_runcell_request(conn::VSCodeServer.JSONRPC.JSONRPCEndpoint{Base.PipeEndpoint, Base.PipeEndpoint}, params::VSCodeServer.NotebookRunCellArguments)\n",
      "    @ VSCodeServer ~/.vscode/extensions/julialang.language-julia-1.79.2/scripts/packages/VSCodeServer/src/serve_notebook.jl:13\n",
      " [14] dispatch_msg(x::VSCodeServer.JSONRPC.JSONRPCEndpoint{Base.PipeEndpoint, Base.PipeEndpoint}, dispatcher::VSCodeServer.JSONRPC.MsgDispatcher, msg::Dict{String, Any})\n",
      "    @ VSCodeServer.JSONRPC ~/.vscode/extensions/julialang.language-julia-1.79.2/scripts/packages/JSONRPC/src/typed.jl:67\n",
      " [15] serve_notebook(pipename::String, outputchannel_logger::Base.CoreLogging.SimpleLogger; crashreporting_pipename::String)\n",
      "    @ VSCodeServer ~/.vscode/extensions/julialang.language-julia-1.79.2/scripts/packages/VSCodeServer/src/serve_notebook.jl:139\n",
      " [16] top-level scope\n",
      "    @ ~/.vscode/extensions/julialang.language-julia-1.79.2/scripts/notebook/notebook.jl:35"
     ]
    }
   ],
   "source": [
    "using JlD2"
   ]
  },
  {
   "cell_type": "markdown",
   "metadata": {},
   "source": [
    "# To Do "
   ]
  },
  {
   "cell_type": "markdown",
   "metadata": {},
   "source": [
    "\n",
    "- Add comments explaining stuff\n",
    "- combine swap and beamsplitter into one function\n",
    "- Maybe not destroy the original MPO when taking a projection ✅\n",
    "- Finally actually check if we are getting the excpected state (bell state of sorts)✅(we are)\n",
    "- write out measuring the stabalisers\n",
    "- think about how to add noise cavities\n"
   ]
  },
  {
   "cell_type": "markdown",
   "metadata": {},
   "source": [
    "When with a simple just beamsplitter case, the partial trace multiplies in the probability of the projection into the density matrix\n",
    "<br/> (Confirming what we already knew)"
   ]
  },
  {
   "cell_type": "markdown",
   "metadata": {},
   "source": [
    "#Doubt if opsum works for diff dimensions for atom and cavities"
   ]
  },
  {
   "cell_type": "markdown",
   "metadata": {},
   "source": [
    "# Functions"
   ]
  },
  {
   "cell_type": "markdown",
   "metadata": {},
   "source": [
    "## State Definition"
   ]
  },
  {
   "cell_type": "code",
   "execution_count": 2,
   "metadata": {},
   "outputs": [],
   "source": [
    "function ITensors.op(::OpName\"Ground\" , ::SiteType\"Qudit\" , d::Int)\n",
    "    mat = zeros(d, d)\n",
    "    mat[1,1] = 1\n",
    "    return mat\n",
    "end\n",
    "function ITensors.op(::OpName\"Ground\" , ::SiteType\"Qubit\" )\n",
    "    mat = zeros(2, 2)\n",
    "    mat[1,1] = 1\n",
    "    return mat\n",
    "end"
   ]
  },
  {
   "cell_type": "code",
   "execution_count": 3,
   "metadata": {},
   "outputs": [],
   "source": [
    "function ITensors.op(::OpName\"Excite1\" , ::SiteType\"Qudit\" , d::Int)\n",
    "    mat = zeros(d, d)\n",
    "    mat[2,2] = 1\n",
    "    return mat\n",
    "end\n",
    "function ITensors.op(::OpName\"Excite1\" , ::SiteType\"Qubit\")\n",
    "    mat = zeros(2, 2)\n",
    "    mat[2,2] = 1\n",
    "    return mat\n",
    "end"
   ]
  },
  {
   "cell_type": "code",
   "execution_count": 4,
   "metadata": {},
   "outputs": [],
   "source": [
    "function ITensors.op(::OpName\"Sz\" , ::SiteType\"Qudit\" , d::Int)\n",
    "    mat = zeros(d, d)\n",
    "    mat[1,1] = 1\n",
    "    mat[2,2] = -1\n",
    "    return mat\n",
    "end"
   ]
  },
  {
   "cell_type": "markdown",
   "metadata": {},
   "source": [
    "## Operations on the MPO (Beamsplitter/Swap/Copy)"
   ]
  },
  {
   "cell_type": "code",
   "execution_count": 5,
   "metadata": {},
   "outputs": [],
   "source": [
    "#can try beamsplitter with opsum, but dont make the huge larger Itensor then mult in, is harder, makes a ITensor of 14+ indices that is erronous\n"
   ]
  },
  {
   "cell_type": "code",
   "execution_count": 1,
   "metadata": {},
   "outputs": [
    {
     "data": {
      "text/plain": [
       "beamsplitter_cunstruc (generic function with 1 method)"
      ]
     },
     "metadata": {},
     "output_type": "display_data"
    }
   ],
   "source": [
    "function beamsplitter_cunstruc(no_cavs, double_sites)\n",
    "    Iden = MPO(double_sites, \"I\")\n",
    "    beamsplitter = Iden\n",
    "    for i=1:no_cavs\n",
    "        op = ((op(\"A\",double_sites[i]) * op(\"Adag\",double_sites[i+no_cavs])) + (op(\"A\",double_sites[i+no_cavs]) * op(\"Adag\",double_sites[i])))\n",
    "        beamsplitter *= exp(-im * 0.25 * pi * op)\n",
    "    end\n",
    "    return beamsplitter\n",
    "end"
   ]
  },
  {
   "cell_type": "code",
   "execution_count": 6,
   "metadata": {},
   "outputs": [
    {
     "data": {
      "text/plain": [
       "beamsplitter! (generic function with 1 method)"
      ]
     },
     "metadata": {},
     "output_type": "display_data"
    }
   ],
   "source": [
    "\n",
    "\n",
    "function beamsplitter!(MPO_i, index_1, index_2, site_list)\n",
    "    cutoff = 1E-15\n",
    "    \n",
    "    op_1 = ((op(\"A\",site_list[index_1]) * op(\"Adag\",site_list[index_2])) + (op(\"A\",site_list[index_2]) * op(\"Adag\",site_list[index_1])))\n",
    "    H_ = exp((-im/4) * pi * op_1)\n",
    "    # for i=1:length(site_list)\n",
    "    #     (i==index_1 || i==index_2) ? nothing : H_*= op(\"I\",site_list[i])\n",
    "    # end\n",
    "    Iden = MPO(site_list, \"I\")\n",
    "    H_ = apply(H_, Iden)\n",
    "    H2 = apply(H_, MPO_i; cutoff=cutoff)\n",
    "    #easier to use apply since preserves MPO data type and doesnt change to iTensor type\n",
    "    #requires iTensor be applied to an MPO in that order particularly hence double dagger\n",
    "    H3 = apply(H2, H_; cutoff=cutoff)\n",
    "\n",
    "    MPO_i[:] = H3\n",
    "    MPO_i /= trace(MPO_i, site_list)\n",
    "\n",
    "    return nothing\n",
    "end"
   ]
  },
  {
   "cell_type": "code",
   "execution_count": 9,
   "metadata": {},
   "outputs": [
    {
     "data": {
      "text/plain": [
       "swap! (generic function with 1 method)"
      ]
     },
     "metadata": {},
     "output_type": "display_data"
    }
   ],
   "source": [
    "function swap!(MPO_i, index_1, index_2, site_list)\n",
    "    cutoff = 1E-20\n",
    "\n",
    "    op_1 = ((op(\"A\",site_list[index_1]) * op(\"Adag\",site_list[index_2])) + (op(\"A\",site_list[index_2]) * op(\"Adag\",site_list[index_1])))\n",
    "    H_ = exp((-im/2) * pi * op_1)\n",
    "\n",
    "    H2 = apply(H_, MPO_i ; cutoff)\n",
    "    H3 = conj(swapprime( apply( H_, swapprime(conj(H2), 1,0); cutoff ), 1,0))\n",
    "\n",
    "\n",
    "    MPO_i[:] = H3\n",
    "    MPO_i /= trace(MPO_i, site_list)\n",
    "    return nothing\n",
    "end"
   ]
  },
  {
   "cell_type": "code",
   "execution_count": 10,
   "metadata": {},
   "outputs": [
    {
     "data": {
      "text/plain": [
       "n_copy_mpo (generic function with 1 method)"
      ]
     },
     "metadata": {},
     "output_type": "display_data"
    }
   ],
   "source": [
    "function n_copy_mpo(n, mpo_i, sites)\n",
    "    #Assuming qudit\n",
    "    l = length(mpo_i)\n",
    "    new_inds = siteinds(\"Qudit\", n*l, dim=dim(sites[1]))\n",
    "    I_mpo = MPO(l*n)\n",
    "    I_op = OpSum()\n",
    "    for i=1:l\n",
    "        for j=1:n\n",
    "            ind = i + (l*(j-1))\n",
    "            I_mpo[ind] = deepcopy(mpo_i[i])\n",
    "            replaceind!(I_mpo[ind], sites[i], new_inds[ind])\n",
    "            replaceind!(I_mpo[ind], sites[i]', new_inds[ind]')\n",
    "            I_op += \"I\",ind\n",
    "        end\n",
    "    end\n",
    "    #applying I to change up link indices\n",
    "    I_op = MPO(I_op, new_inds)\n",
    "    I_mpo = apply(I_op, I_mpo)\n",
    "    I_mpo /= tr(I_mpo)\n",
    "    #normalize!(I_mpo)\n",
    "    return I_mpo, new_inds\n",
    "end"
   ]
  },
  {
   "cell_type": "markdown",
   "metadata": {},
   "source": [
    "## Calc derevative"
   ]
  },
  {
   "cell_type": "markdown",
   "metadata": {},
   "source": [
    "For m output cavities\n",
    "$$H(t) = H_{sys}(t) + \\frac{i}{2}~\\left[~~\\sum_{i=1}^{m}{\\left(\\sqrt{\\gamma}\\hat{c}^\\dagger + \\sum_{j}^{i-1}{g_{v_j}(t)\\hat{a}_j^\\dagger}\\right) g_{v_i}^*(t)\\hat{a}_i} - h.c.~~\\right]$$\n",
    "We're taking system Hamiltonian as identity for the time being"
   ]
  },
  {
   "cell_type": "code",
   "execution_count": 11,
   "metadata": {},
   "outputs": [
    {
     "data": {
      "text/plain": [
       "drho (generic function with 1 method)"
      ]
     },
     "metadata": {},
     "output_type": "display_data"
    }
   ],
   "source": [
    "#func calc drho/dt\n",
    "function drho(sites, rho, gv_f, rg; t=0,  deph = 0)\n",
    "    #drho(sites, rho, t)\n",
    "    #(H_int * rho) + (rho * H_int) + sum(Ld rho L)\n",
    "    cutoff = 1E-10\n",
    "    no_cavs = length(sites) - 1\n",
    "\n",
    "    H = OpSum()\n",
    "    H += -2im,\"I\",1\n",
    "    L_0 = OpSum()\n",
    "    L_0 += rg,\"A\",1\n",
    "\n",
    "    for i=2:no_cavs+1\n",
    "\n",
    "        L_0 += gv_f[i-1](t),\"A\",i\n",
    "        H += (rg*gv_f[i-1](t)),\"Adag\",1,\"A\",i\n",
    "        H -= (rg*gv_f[i-1](t)),\"A\",1,\"Adag\",i\n",
    "\n",
    "        #L_0 += exp(t/2),\"A\",i\n",
    "        #H += (rg*exp(t/2)),\"Adag\",1,\"A\",i\n",
    "        #H -= (rg*exp(t/2)),\"A\",1,\"Adag\",i\n",
    "\n",
    "        for j=2:i-1\n",
    "\n",
    "            H += (gv_f[j-1](t)*gv_f[i-1](t)),\"Adag\",j,\"A\",i\n",
    "            H -= (gv_f[j-1](t)*gv_f[i-1](t)),\"A\",j,\"Adag\",i\n",
    "        end\n",
    "    end\n",
    "\n",
    "    H = MPO(H, sites)\n",
    "    #H *= im/2\n",
    "    drho = 0.5*( apply(H, rho; alg=\"zipup\", cutoff=cutoff) - apply(rho, H; alg=\"zipup\", cutoff=cutoff) )\n",
    "\n",
    "    #L dagger\n",
    "    L_0 = MPO(L_0, sites)\n",
    "    L_0d = swapprime(conj(L_0), 1,0)\n",
    "    LdL = 0.5 * apply(L_0d , L_0; alg=\"zipup\")\n",
    "\n",
    "    drho += apply(apply(L_0 , rho; alg=\"zipup\", cutoff=cutoff), L_0d; alg=\"zipup\", cutoff=cutoff)\n",
    "    drho -= apply(LdL, rho; alg=\"zipup\", cutoff=cutoff)\n",
    "    drho -= apply(rho, LdL; alg=\"zipup\", cutoff=cutoff)\n",
    "\n",
    "    if deph!= 0 \n",
    "        #println(\"Deph\")\n",
    "        L_1 = OpSum()\n",
    "        L_1 += sqrt(deph),\"Sz\",1\n",
    "        L_1 = MPO(L_1, sites)\n",
    "        drho += apply(apply(L_1 , rho; alg=\"zipup\", cutoff=cutoff), L_1; alg=\"zipup\", cutoff=cutoff)\n",
    "        drho -= deph*rho\n",
    "    end\n",
    "\n",
    "    return drho\n",
    "end"
   ]
  },
  {
   "cell_type": "code",
   "execution_count": 12,
   "metadata": {},
   "outputs": [
    {
     "data": {
      "text/plain": [
       "drho2 (generic function with 1 method)"
      ]
     },
     "metadata": {},
     "output_type": "display_data"
    }
   ],
   "source": [
    "#func calc drho/dt\n",
    "function drho2(sites, rho, gv_f, rg; t=0, deph = 0, cut_off=1E-10, algo=\"naive\")\n",
    "    #drho(sites, rho, t)\n",
    "    #(H_int * rho) + (rho * H_int) + sum(Ld rho L)\n",
    "    \n",
    "    no_cavs = length(sites) - 1\n",
    "\n",
    "    H = OpSum()\n",
    "    H += \"I\",1\n",
    "    L_0 = OpSum()\n",
    "    L_0 += rg,\"A\",1\n",
    "\n",
    "    for i=2:no_cavs+1\n",
    "        L_0 += gv_f[i-1](t),\"A\",i\n",
    "        H += (0.5im*rg*gv_f[i-1](t)),\"Adag\",1,\"A\",i\n",
    "        H -= (0.5im*rg*gv_f[i-1](t)),\"A\",1,\"Adag\",i\n",
    "\n",
    "        for j=2:i-1\n",
    "            H += (0.5im*gv_f[j-1](t)*gv_f[i-1](t)),\"Adag\",j,\"A\",i\n",
    "            H -= (0.5im*gv_f[j-1](t)*gv_f[i-1](t)),\"A\",j,\"Adag\",i\n",
    "        end\n",
    "    end\n",
    "\n",
    "    H = MPO(H, sites; cutoff=cut_off)\n",
    "    H_rho = apply(H, rho; alg=algo, cutoff=cut_off)\n",
    "    \n",
    "    drho_ = -1im*(H_rho - swapprime(conj(deepcopy(H_rho)), 1,0))\n",
    "\n",
    "    #L dagger\n",
    "    L_0 = MPO(L_0, sites; cutoff=cut_off)\n",
    "    L_0d = swapprime(conj(deepcopy(L_0)), 1,0)\n",
    "    LdL = 0.5 * apply(L_0d , L_0; alg=algo, cutoff=cut_off)\n",
    "\n",
    "    drho_ += apply(apply(L_0 , rho; alg=algo, cutoff=cut_off), L_0d; alg=algo, cutoff=cut_off)\n",
    "    LdL_rho = apply(LdL, rho; alg=algo, cutoff=cut_off)\n",
    "    drho_ -= LdL_rho\n",
    "    drho_ -= swapprime(conj(deepcopy(LdL_rho)), 1,0)\n",
    "\n",
    "    if deph!= 0\n",
    "        L_1 = op(\"Sz\",sites[1])\n",
    "        drho_ += deph*conj(swapprime( apply( L_1, swapprime(conj(apply(L_1, rho; cutoff=cut_off)), 1,0) ; cutoff=cut_off), 1,0))\n",
    "        drho_ -= deph*rho\n",
    "    end\n",
    "\n",
    "    return drho_\n",
    "end"
   ]
  },
  {
   "cell_type": "code",
   "execution_count": 13,
   "metadata": {},
   "outputs": [
    {
     "data": {
      "text/plain": [
       "drho3 (generic function with 1 method)"
      ]
     },
     "metadata": {},
     "output_type": "display_data"
    }
   ],
   "source": [
    "#func calc drho/dt\n",
    "function drho3(rho, p, t)\n",
    "    #drho(sites, rho, t)\n",
    "    #(H_int * rho) + (rho * H_int) + sum(Ld rho L)\n",
    "    sites, gv_f, rg, deph = p\n",
    "    cut_off=1E-10\n",
    "    algo=\"naive\"\n",
    "    no_cavs = length(sites) - 1\n",
    "\n",
    "    H = OpSum()\n",
    "    H += \"I\",1\n",
    "    L_0 = OpSum()\n",
    "    L_0 += rg,\"A\",1\n",
    "\n",
    "    for i=2:no_cavs+1\n",
    "        L_0 += gv_f[i-1](t),\"A\",i\n",
    "        H += (0.5im*rg*gv_f[i-1](t)),\"Adag\",1,\"A\",i\n",
    "        H -= (0.5im*rg*gv_f[i-1](t)),\"A\",1,\"Adag\",i\n",
    "\n",
    "        for j=2:i-1\n",
    "            H += (0.5im*gv_f[j-1](t)*gv_f[i-1](t)),\"Adag\",j,\"A\",i\n",
    "            H -= (0.5im*gv_f[j-1](t)*gv_f[i-1](t)),\"A\",j,\"Adag\",i\n",
    "        end\n",
    "    end\n",
    "\n",
    "    H = MPO(H, sites; cutoff=cut_off)\n",
    "    H_rho = apply(H, rho; alg=algo, cutoff=cut_off)\n",
    "    \n",
    "    drho_ = -1im*(H_rho - swapprime(conj(deepcopy(H_rho)), 1,0))\n",
    "\n",
    "    #L dagger\n",
    "    L_0 = MPO(L_0, sites; cutoff=cut_off)\n",
    "    L_0d = swapprime(conj(deepcopy(L_0)), 1,0)\n",
    "    LdL = 0.5 * apply(L_0d , L_0; alg=algo, cutoff=cut_off)\n",
    "\n",
    "    drho_ += apply(apply(L_0 , rho; alg=algo, cutoff=cut_off), L_0d; alg=algo, cutoff=cut_off)\n",
    "    LdL_rho = apply(LdL, rho; alg=algo, cutoff=cut_off)\n",
    "    drho_ -= LdL_rho\n",
    "    drho_ -= swapprime(conj(deepcopy(LdL_rho)), 1,0)\n",
    "\n",
    "    if deph!= 0\n",
    "        L_1 = op(\"Sz\",sites[1])\n",
    "        drho_ += deph*conj(swapprime( apply( L_1, swapprime(conj(apply(L_1, rho; cutoff=cut_off)), 1,0) ; cutoff=cut_off), 1,0))\n",
    "        drho_ -= deph*rho\n",
    "    end\n",
    "\n",
    "    return drho_\n",
    "end"
   ]
  },
  {
   "cell_type": "markdown",
   "metadata": {},
   "source": [
    "## Measurements/Expectations"
   ]
  },
  {
   "cell_type": "code",
   "execution_count": 14,
   "metadata": {},
   "outputs": [
    {
     "data": {
      "text/plain": [
       "trace (generic function with 1 method)"
      ]
     },
     "metadata": {},
     "output_type": "display_data"
    }
   ],
   "source": [
    "function trace(MPO_i, sites_i)\n",
    "    tr_ = 1.0\n",
    "    for i in 1:length(sites_i)\n",
    "        tr_ *= delta(sites_i[i], sites_i[i]') * MPO_i[i]\n",
    "    end\n",
    "    return tr_[1]\n",
    "end"
   ]
  },
  {
   "cell_type": "code",
   "execution_count": 15,
   "metadata": {},
   "outputs": [],
   "source": [
    "function ITensors.expect(MPO_i, sites_i)\n",
    "    list_exp = []\n",
    "    for i in 1:length(sites_i)\n",
    "        append!(list_exp, trace(apply( op(\"n\", sites_i[i]), MPO_i), sites_i))\n",
    "    end\n",
    "    return list_exp\n",
    "end"
   ]
  },
  {
   "cell_type": "code",
   "execution_count": 16,
   "metadata": {},
   "outputs": [
    {
     "data": {
      "text/plain": [
       "measure_corel (generic function with 1 method)"
      ]
     },
     "metadata": {},
     "output_type": "display_data"
    }
   ],
   "source": [
    "#measures <a1 a2 rho adag1 adag2> at sites 1 and 2\n",
    "function measure_corel(mpo_i, sites, site1, site2)\n",
    "    AA_op = OpSum()\n",
    "    AA_op += \"A\",site1,\"A\",site2\n",
    "    AA_op = MPO(AA_op, sites)\n",
    "    AdAd_op = swapprime(conj(AA_op), 1,0)\n",
    "    val = trace(apply(AA_op, apply(mpo_i, AdAd_op)), sites)\n",
    "    return val\n",
    "end "
   ]
  },
  {
   "cell_type": "code",
   "execution_count": 17,
   "metadata": {},
   "outputs": [
    {
     "data": {
      "text/plain": [
       "measure_a (generic function with 1 method)"
      ]
     },
     "metadata": {},
     "output_type": "display_data"
    }
   ],
   "source": [
    "#measures <a1 a2 rho adag1 adag2> at sites 1 and 2\n",
    "function measure_a(mpo_i, sites, site1)\n",
    "    A_op = OpSum()\n",
    "    A_op += \"A\",site1\n",
    "    A_op = MPO(A_op, sites)\n",
    "    Ad_op = swapprime(conj(A_op), 1,0)\n",
    "    val = trace(apply(A_op, apply(mpo_i, Ad_op)), sites)\n",
    "    return val\n",
    "end "
   ]
  },
  {
   "cell_type": "code",
   "execution_count": 18,
   "metadata": {},
   "outputs": [
    {
     "data": {
      "text/plain": [
       "projection (generic function with 1 method)"
      ]
     },
     "metadata": {},
     "output_type": "display_data"
    }
   ],
   "source": [
    "function projection(mpo_i, mps_i)\n",
    "\n",
    "end"
   ]
  },
  {
   "cell_type": "code",
   "execution_count": 19,
   "metadata": {},
   "outputs": [
    {
     "data": {
      "text/plain": [
       "g_34 (generic function with 1 method)"
      ]
     },
     "metadata": {},
     "output_type": "display_data"
    }
   ],
   "source": [
    "function g_34(mpo_i, sites, no_cavs)\n",
    "    # measuring G_34 t, tau integrated\n",
    "    G_34 = 0.0\n",
    "    denom1 = 0.0\n",
    "    denom2 = 0.0\n",
    "    for i=1:no_cavs\n",
    "        for j=1:no_cavs\n",
    "            #if v^2 integrates out to 1\n",
    "            term = measure_corel(mpo_i, sites, i, no_cavs+j)\n",
    "            #println(ITensors.expect(double, double_sites))\n",
    "            #println(term)\n",
    "            G_34 += 0.5 * term\n",
    "        end\n",
    "        denom1 += measure_a(mpo_i, sites, i)\n",
    "        #println(ITensors.expect(mpo_i, sites))\n",
    "        denom2 += measure_a(mpo_i, sites, no_cavs+i)\n",
    "    end\n",
    "    denom =0.5 * denom1 * denom2\n",
    "\n",
    "    return G_34/denom\n",
    "end\n"
   ]
  },
  {
   "cell_type": "markdown",
   "metadata": {},
   "source": [
    "## Atom to cavity loop "
   ]
  },
  {
   "cell_type": "code",
   "execution_count": 20,
   "metadata": {},
   "outputs": [
    {
     "data": {
      "text/plain": [
       "create_MPO (generic function with 1 method)"
      ]
     },
     "metadata": {},
     "output_type": "display_data"
    }
   ],
   "source": [
    "function create_MPO(no_cavs, depha, gamma, dt, t_final; sites_provided = [;], reverse=false)\n",
    "\n",
    "    #creating initial state and sites\n",
    "    sys_sites = siteinds(\"Qudit\", no_cavs+1, dim=3)\n",
    "    if length(sites_provided)!=0\n",
    "        sys_sites = sites_provided\n",
    "    end\n",
    "    input_list = repeat([\"Ground\",],no_cavs+1)\n",
    "    input_list[1] = \"Excite1\"\n",
    "    sys = MPO(sys_sites, input_list)\n",
    "\n",
    "    #Generating G2\n",
    "    #gamma = 1\n",
    "    g_f = g2_(gamma, depha, t_final, dt/2, no_cavs)\n",
    "    \n",
    "    println(\"genfunctions\")\n",
    "    \n",
    "    expect_list = Array{Float64}(undef, Int(t_final/dt + 1), no_cavs+1)\n",
    "    expect_list *= 0\n",
    "    # #ldl_list = [;]\n",
    "    j = 1\n",
    "    \n",
    "    \"\"\"\n",
    "    #evolving atom-cavity system\n",
    "    for i=0:dt:t_final\n",
    "        d_rho , ldl = drho(sys_sites, sys, g_f, sqrt(gamma); t=i, deph=depha)\n",
    "        sys +=  dt * d_rho\n",
    "        sys /= tr(sys)\n",
    "\n",
    "        push!(ldl_list, ldl)\n",
    "        expect_list[j,:] = real(ITensors.expect(sys, sys_sites))\n",
    "        j += 1\n",
    "        #println(i)\n",
    "    end\n",
    "    \"\"\"\n",
    "    #bonddim = [;]\n",
    "\n",
    "    for i=0:dt:t_final\n",
    "        d_rho1 = drho2(sys_sites, sys, g_f, sqrt(gamma); t=i, deph=depha)\n",
    "        sys1 = sys + (d_rho1*dt/2)\n",
    "        #sys1 /=tr(sys1)\n",
    "        d_rho2 = drho2(sys_sites, sys1, g_f, sqrt(gamma); t=(i+(dt/2)), deph=depha)\n",
    "        sys2 = sys + (d_rho2*dt/2)\n",
    "        #sys2 /=tr(sys2)\n",
    "        d_rho3  = drho2(sys_sites, sys2, g_f, sqrt(gamma); t=(i+(dt/2)), deph=depha)\n",
    "        sys3 = sys + (d_rho3*dt)\n",
    "        #sys3 /=tr(sys3)\n",
    "        d_rho4  = drho2(sys_sites, sys3, g_f, sqrt(gamma); t=(i+dt), deph=depha)\n",
    "        sys +=  (dt * (d_rho1 + (2*d_rho2) + (2*d_rho3) + d_rho4)/6)\n",
    "        sys /= trace(sys, sys_sites)\n",
    "\n",
    "        #push!(ldl_list, (ldl+2*ldl2+2*ldl3+ldl4)/6)\n",
    "        #println(\"max bond dim at time: \", maximum(linkdims(sys)), \" \", i)\n",
    "        # #append!(bonddim, maximum(linkdims(sys)))\n",
    "        expect_list[j,:] = real(ITensors.expect(sys, sys_sites))\n",
    "        j += 1\n",
    "    end\n",
    "    \n",
    "    #trace out atom\n",
    "    copy_sys = MPO(no_cavs)\n",
    "    copy_sys[1] = sys[1] * delta(sys_sites[1], sys_sites[1]') * sys[2]\n",
    "    for i=2:no_cavs\n",
    "        copy_sys[i] = deepcopy(sys[i+1]) \n",
    "    end\n",
    "    copy_sys /= trace(copy_sys, sys_sites[2:end])\n",
    "\n",
    "    return copy_sys, sys_sites[2:end], expect_list\n",
    "    #return sys, sys_sites\n",
    "    #, g_f\n",
    "    # return expect_list\n",
    "end"
   ]
  },
  {
   "cell_type": "code",
   "execution_count": 21,
   "metadata": {},
   "outputs": [],
   "source": []
  },
  {
   "cell_type": "markdown",
   "metadata": {},
   "source": [
    "## G2 function maker"
   ]
  },
  {
   "cell_type": "code",
   "execution_count": 22,
   "metadata": {},
   "outputs": [
    {
     "data": {
      "text/plain": [
       "g2 (generic function with 1 method)"
      ]
     },
     "metadata": {},
     "output_type": "display_data"
    }
   ],
   "source": [
    "#make a g2 function, outputs the cavity functions\n",
    "\n",
    "function g2(gamma, deph, t_fin, dt, no_cavs)\n",
    "\n",
    "    \n",
    "    basis = SpinBasis(1//2)\n",
    "    a = sigmam(basis)\n",
    "    at = sigmap(basis)\n",
    "    H =  identityoperator(basis)\n",
    "    J = [sqrt(gamma)*a, sqrt(deph)*sigmaz(basis)]\n",
    "\n",
    "    t_list = [0:dt:t_fin;]\n",
    "    t_size = length(t_list)\n",
    "    corel_m = Array{ComplexF64}(undef, t_size, t_size)\n",
    "    corel_m *= 0\n",
    "    \n",
    "    ρ₀ = spinup(basis) ⊗ dagger(spinup(basis))\n",
    "    \n",
    "    tout, ρt_master = timeevolution.master(t_list, ρ₀, H, J; dt=dt)\n",
    "    for i=1:t_size-1\n",
    "        rhot = ρt_master[i]\n",
    "        corel_m[i,i:end] = timecorrelations.correlation(t_list[1:(t_size-i+1)], rhot, H, J, at, a)\n",
    "    end\n",
    "    corel_m[t_size,t_size] = 0.0\n",
    "    corel_m = -diagm((diag(corel_m))) + corel_m + conj(corel_m)'\n",
    "    corel_m = real(corel_m)\n",
    "    eigenvals, eigens = eigen(corel_m; sortby=-)\n",
    "    \n",
    "    # eigens2 = deepcopy(eigens)\n",
    "    # for i=1:Int(no_cavs)\n",
    "    #     eigens2[:,no_cavs-i+1] = deepcopy(eigens[:,i])\n",
    "    # end\n",
    "    # eigens = eigens2\n",
    "    \n",
    "    gv = Dict()\n",
    "    alpha = Dict()\n",
    "    gv_f = [;]\n",
    "    for i=1:Int(no_cavs)\n",
    "        for j=1:Int(i-1)\n",
    "            alpha[[i,j]] = [0.0,]\n",
    "            for t=1:Int(t_size-1)\n",
    "                at_ = -(gv[j][t]*eigens[t,i]*dt)\n",
    "                for k=1:Int(j-1)\n",
    "                    at_ -= gv[j][t]*gv[k][t]*alpha[[i,k]][t]*dt\n",
    "                end\n",
    "                at_ += (1-(dt*0.5*(gv[j][t])^2))*(alpha[[i,j]][end])\n",
    "                push!(alpha[[i,j]], at_)\n",
    "\n",
    "            end\n",
    "        end\n",
    "        v_ = eigens[:,Int(i)]\n",
    "\n",
    "        for k=1:Int(i-1)\n",
    "            v_ += (gv[k].* alpha[[i,k]])\n",
    "        end\n",
    "        norm = dt * cumsum(v_.^2)\n",
    "        #norm[1] = 1E-3\n",
    "        gv[i] = -v_./sqrt.(norm)\n",
    "        #i > 1 ? gv[i][1] = 0 : nothing\n",
    "        extrap = cubic_spline_interpolation(0:dt:t_fin, gv[i]; extrapolation_bc=0)\n",
    "        push!(gv_f, extrap)\n",
    "    end\n",
    "    \n",
    "    return gv_f, alpha\n",
    "end"
   ]
  },
  {
   "cell_type": "code",
   "execution_count": 23,
   "metadata": {},
   "outputs": [
    {
     "data": {
      "text/plain": [
       "g2_ (generic function with 1 method)"
      ]
     },
     "metadata": {},
     "output_type": "display_data"
    }
   ],
   "source": [
    "#make a g2 function, outputs the cavity functions\n",
    "\n",
    "function g2_(gamma, deph, t_fin, dt, no_cavs; reverse=false)\n",
    "\n",
    "    \n",
    "    basis = SpinBasis(1//2)\n",
    "    a = sigmam(basis)\n",
    "    at = sigmap(basis)\n",
    "    H =  identityoperator(basis)\n",
    "    J = [sqrt(gamma)*a, sqrt(deph)*sigmaz(basis)]\n",
    "\n",
    "    t_list = [0:dt:t_fin;]\n",
    "    t_size = length(t_list)\n",
    "    corel_m = fill(0.0, (t_size,t_size))\n",
    "    \n",
    "    ρ₀ = spinup(basis) ⊗ dagger(spinup(basis))\n",
    "    \n",
    "    tout, ρt_master = timeevolution.master(t_list, ρ₀, H, J; dt=dt)\n",
    "    for i=1:t_size-1\n",
    "        rhot = ρt_master[i]\n",
    "        corel_m[i,i:end] = timecorrelations.correlation(t_list[1:(t_size-i+1)], rhot, H, J, at, a)\n",
    "    end\n",
    "    corel_m[t_size,t_size] = 0.0\n",
    "    corel_m = -diagm((diag(corel_m))) + corel_m + conj(corel_m)'\n",
    "    corel_m = real(corel_m)\n",
    "    eigenvals, eigens = eigen(corel_m; sortby=-)\n",
    "\n",
    "    if reverse\n",
    "        eigens2 = deepcopy(eigens)\n",
    "        for i=1:Int(no_cavs)\n",
    "            eigens2[:,no_cavs-i+1] = deepcopy(eigens[:,i])\n",
    "        end\n",
    "        eigens = eigens2\n",
    "    end\n",
    "    \n",
    "    v_0 = [cubic_spline_interpolation(0:dt:t_fin, eigens[:,i]; extrapolation_bc=0) for i in 1:no_cavs]\n",
    "    gv = Dict()\n",
    "    alpha = Dict()\n",
    "    gv_f = [;]\n",
    "\n",
    "    function a_(a, p, t)\n",
    "        i, j = p\n",
    "        da = -(v_0[i](t)*gv_f[j](t))-(a * 0.5 * gv_f[j](t)^2)\n",
    "        for k=1:j-1\n",
    "            da -= gv_f[j](t) * gv_f[k](t) * alpha[[i,k]](t)\n",
    "        end\n",
    "        return da\n",
    "    end\n",
    "\n",
    "    for i=1:Int(no_cavs)\n",
    "        for j=1:Int(i-1)\n",
    "            a0 = 0\n",
    "            tspan = (0.0, t_fin)\n",
    "            prob = ODEProblem(a_, a0, tspan, (i,j))\n",
    "            sol = solve(prob, saveat=dt)\n",
    "            alpha[[i,j]] = cubic_spline_interpolation(0:dt:t_fin, sol.u; extrapolation_bc=0)\n",
    "            #alpha[[i,j]] = interpolate(sol.t,sol.u,FritschCarlsonMonotonicInterpolation())\n",
    "            #@show sol.t\n",
    "        end\n",
    "        v_i = deepcopy(eigens[:,i])\n",
    "        for k=1:Int(i-1)\n",
    "            v_i += (gv_f[k].(0:dt:t_fin) .* alpha[[i,k]].(0:dt:t_fin))\n",
    "        end\n",
    "        norm = dt * cumsum(v_i.^2)\n",
    "        #norm == 0 ? norm = 1 : nothing\n",
    "        gv[i] = -v_i./sqrt.(norm)\n",
    "        i > 1 ? gv[i][1] = 0 : nothing\n",
    "        # if deph == 0\n",
    "        #     if reverse\n",
    "        #         if i<no_cavs\n",
    "        #             gv[i] .*= 0\n",
    "        #             gv[i] .+= 1\n",
    "        #         end\n",
    "        #     else\n",
    "        #         if i>1\n",
    "        #             gv[i] .*= 0\n",
    "        #             # gv[i] .+= 100\n",
    "        #         end\n",
    "        #     end\n",
    "        # end \n",
    "        extrap = cubic_spline_interpolation(0:dt:t_fin, gv[i]; extrapolation_bc=0)\n",
    "        push!(gv_f, extrap)\n",
    "    end\n",
    "\n",
    "\n",
    "    return gv_f\n",
    "end"
   ]
  },
  {
   "cell_type": "code",
   "execution_count": 24,
   "metadata": {},
   "outputs": [
    {
     "data": {
      "text/plain": [
       "g2_2 (generic function with 1 method)"
      ]
     },
     "metadata": {},
     "output_type": "display_data"
    }
   ],
   "source": [
    "function g2_2(gamma, deph, t_fin, dt, no_cavs; reverse=false)\n",
    "\n",
    "    basis = SpinBasis(1//2)\n",
    "    a = sigmam(basis)\n",
    "    at = sigmap(basis)\n",
    "    H =  identityoperator(basis)\n",
    "    J = [sqrt(gamma)*a, sqrt(deph)*sigmaz(basis)]\n",
    "\n",
    "    t_list = [0:dt:t_fin;]\n",
    "    t_size = length(t_list)\n",
    "    # corel_m = Array{ComplexF64}(undef, t_size, t_size)\n",
    "    # corel_m *= 0\n",
    "    corel_m = fill(0.0, (t_size,t_size))\n",
    "\n",
    "    ρ₀ = spinup(basis) ⊗ dagger(spinup(basis))\n",
    "\n",
    "    tout, ρt_master = timeevolution.master(t_list, ρ₀, H, J; dt=dt)\n",
    "    for i=1:t_size-1\n",
    "        rhot = ρt_master[i]\n",
    "        corel_m[i,i:end] = timecorrelations.correlation(t_list[1:(t_size-i+1)], rhot, H, J, at, a)\n",
    "    end\n",
    "    corel_m[t_size,t_size] = 0.0\n",
    "    corel_m = -diagm((diag(corel_m))) + corel_m + conj(corel_m)'\n",
    "    corel_m = real(corel_m)\n",
    "    # println(any(isnan.(corel_m)))\n",
    "    eigenvals, eigens = eigen(corel_m; sortby=-)\n",
    "\n",
    "    v_0 = [cubic_spline_interpolation(0:dt:t_fin, eigens[:,i]; extrapolation_bc=0) for i in 1:no_cavs]\n",
    "    gv = Dict()\n",
    "    alpha = Dict()\n",
    "    gv_f = [;]\n",
    "\n",
    "    function a_(a, p, t)\n",
    "        i, j = deepcopy(p)\n",
    "        da = -(v_0[i](t)*gv_f[j](t))-(a * 0.5 * gv_f[j](t)^2)\n",
    "        for k=1:j-1\n",
    "            da -= gv_f[j](t) * gv_f[k](t) * alpha[[i,k]](t)\n",
    "        end\n",
    "        return da\n",
    "    end\n",
    "\n",
    "    function vᵢⁱ⁻¹(i,t)\n",
    "        v = v_0[i](t)\n",
    "        for k=1:i-1\n",
    "            v += gv_f[k](t) * alpha[[i,k]](t)\n",
    "        end\n",
    "        return v\n",
    "    end\n",
    "\n",
    "    # function cum_int(vᵢⁱ⁻¹, i, t)\n",
    "\n",
    "    #     sol.u == 0 ? (return 10^-8) : (return sqrt(sol.u))\n",
    "    #     return sol.u\n",
    "    # end\n",
    "\n",
    "    for i=1:Int(no_cavs)\n",
    "        for j=1:Int(i-1)\n",
    "            # a0 = 0\n",
    "            # tspan = (0, t_fin)\n",
    "            prob = ODEProblem(a_, 0, (0,t_fin), [i,j])\n",
    "            sol = solve(prob, saveat=dt)\n",
    "            alpha[[i,j]] = cubic_spline_interpolation(0:dt:t_fin, sol.u; extrapolation_bc=Line())\n",
    "        end\n",
    "        cum_int_list = [0.0,]\n",
    "        for t=dt:dt:t_fin;\n",
    "            f(u, p) =  conj(vᵢⁱ⁻¹(p, u)) * vᵢⁱ⁻¹(p, u)\n",
    "            domain = (t-dt, t) # (lb, ub)\n",
    "            prob = IntegralProblem(f, domain, i)\n",
    "            sol = solve(prob, HCubatureJL(); reltol = 1e-3, abstol = 1e-3)\n",
    "            push!(cum_int_list, cum_int_list[end]+sol.u)\n",
    "        end\n",
    "        cum_int_list = sqrt.(cum_int_list)\n",
    "        cum_int_list[1] = cum_int_list[2]\n",
    "        # println(vᵢⁱ⁻¹(1,0))\n",
    "        cum_int_extrap = cubic_spline_interpolation(0:dt:t_fin, cum_int_list;extrapolation_bc=Line())\n",
    "        gᵥ(t) = - conj(vᵢⁱ⁻¹(i,t))/cum_int_extrap(t)\n",
    "        push!(gv_f, gᵥ)\n",
    "    end\n",
    "    return gv_f\n",
    "end"
   ]
  },
  {
   "cell_type": "markdown",
   "metadata": {},
   "source": [
    "# RK4 etc"
   ]
  },
  {
   "cell_type": "code",
   "execution_count": 25,
   "metadata": {},
   "outputs": [
    {
     "data": {
      "text/plain": [
       "cash_karppe (generic function with 1 method)"
      ]
     },
     "metadata": {},
     "output_type": "display_data"
    }
   ],
   "source": [
    "#returns weighted d rho acc some adaptive step algo by cash and karp with fifth order RK4\n",
    "function cash_karppe(sys, sys_sites, d_rho, t, dt; tol=0.1, p_ = nothing, max_dt=nothing)\n",
    "\n",
    "    function k_gen(sys, d_rho, t, dt, a, b ; p=nothing)\n",
    "        # p = (sites, gv_f, rg, deph)\n",
    "        k_list = [ ; ]\n",
    "        kₙ = dt *  d_rho(sys, p, t)\n",
    "        push!( k_list, kₙ)\n",
    "        for i=2:6\n",
    "            sys⁻ = sys + sum(k_list .* b[i])\n",
    "            t⁻ = t + a[i]*dt\n",
    "            kₙ = dt *  d_rho(sys⁻, p, t⁻)\n",
    "            push!( k_list, kₙ)\n",
    "        end\n",
    "        return k_list\n",
    "    end\n",
    "    # yn\n",
    "\n",
    "    a = [0, 0.2, 0.3, 0.6, 1, 7/8]\n",
    "    b = [[1,],[1/5,],[3/40, 9/40], [3/10, -9/10, 6/5], [-11/54, 5/2, -70/27, 35/27], \n",
    "        [1631/55296, 175/512, 575/13824, 44275/110592, 253/4096]]\n",
    "    c = [37/378, 0, 250/621, 125/594, 0, 512/1771]\n",
    "    cꜛ = [2825/27648, 0, 18575/48384, 13525/55296, 277/14336, 1/4]\n",
    "\n",
    "    k_s = k_gen(sys, d_rho, t, dt, a, b, p=p_)\n",
    "    # println(\"Step1\")\n",
    "    new_sys = sys + sum(c.*k_s)\n",
    "    new_sysꜛ = sys + sum(cꜛ.*k_s)\n",
    "    error = abs(norm(new_sysꜛ- new_sys))\n",
    "\n",
    "    new_dt = dt * (tol/error)^0.2\n",
    "    # new_dt > dt ? new_dt = dt : nothing\n",
    "    # println(new_dt)\n",
    "    max_dt == nothing ? nothing : ((new_dt>max_dt) && (new_dt=max_dt; true) )\n",
    "    ks_new = k_gen(sys, d_rho, t, new_dt, a, b, p=p_)\n",
    "    # print(ks_new)\n",
    "    better_sys = sys + sum(c.*ks_new)\n",
    "\n",
    "    return better_sys, new_dt\n",
    "    # return sys, new_dt\n",
    "end"
   ]
  },
  {
   "cell_type": "code",
   "execution_count": 26,
   "metadata": {},
   "outputs": [
    {
     "data": {
      "text/plain": [
       "cash_karppe_evolve (generic function with 1 method)"
      ]
     },
     "metadata": {},
     "output_type": "display_data"
    }
   ],
   "source": [
    "function cash_karppe_evolve(no_cavs, depha, gamma, dt, t_final)\n",
    "    g_f = g2_2(gamma, depha, t_final, dt/2, no_cavs)\n",
    "\n",
    "    sys_sites = siteinds(\"Qudit\", no_cavs+1, dim=3)\n",
    "    input_list = repeat([\"Ground\",],no_cavs+1)\n",
    "    input_list[1] = \"Excite1\"\n",
    "    sys = MPO(sys_sites, input_list)\n",
    "\n",
    "    t = 0.0\n",
    "    expect_list=[]\n",
    "    # t_list = [t,]\n",
    "\n",
    "    while t<t_final\n",
    "        sys_, dt_ = cash_karppe(sys, sys_sites, drho3, t, dt; tol=1E-4, p_= (sys_sites, g_f, sqrt(gamma), depha), max_dt = dt*10)\n",
    "        t += dt_\n",
    "        sys = sys_/trace(sys_, sys_sites)\n",
    "        push!(expect_list, ITensors.expect(sys, sys_sites))\n",
    "        # push!(t_list, t)\n",
    "    end\n",
    "\n",
    "    copy_sys = MPO(no_cavs)\n",
    "    copy_sys[1] = sys[1] * delta(sys_sites[1], sys_sites[1]') * sys[2]\n",
    "    for i=2:no_cavs\n",
    "        copy_sys[i] = deepcopy(sys[i+1]) \n",
    "    end\n",
    "    copy_sys /= trace(copy_sys, sys_sites[2:end])\n",
    "\n",
    "    return copy_sys, sys_sites[2:end], expect_list\n",
    "    # , t_list\n",
    "end"
   ]
  },
  {
   "cell_type": "markdown",
   "metadata": {},
   "source": [
    "# Running Cash Karppe Distinguishability graph"
   ]
  },
  {
   "cell_type": "code",
   "execution_count": 30,
   "metadata": {},
   "outputs": [
    {
     "name": "stdout",
     "output_type": "stream",
     "text": [
      "0.0125\n",
      "161.233552 seconds (228.75 M allocations: 108.106 GiB, 3.95% gc time, 41.94% compilation time: 7% of which was recompilation)\n",
      "1.0000000000000002 - 1.1496642957559557e-16im\n"
     ]
    }
   ],
   "source": [
    "# g34_list10 =  [;]\n",
    "gamma = 1\n",
    "no_cavs = 5\n",
    "dt = 0.02\n",
    "t_final = 10\n",
    "dep=0.0125\n",
    "println(dep)\n",
    "@time mpo, sites = cash_karppe_evolve(no_cavs, dep, gamma, dt, t_final)\n",
    "println(trace(mpo,sites))\n"
   ]
  },
  {
   "cell_type": "code",
   "execution_count": 33,
   "metadata": {},
   "outputs": [
    {
     "name": "stdout",
     "output_type": "stream",
     "text": [
      "  0.006201 seconds (26.44 k allocations: 10.584 MiB)\n",
      "0.9999999999999987 - 4.0798543623790164e-17im\n"
     ]
    }
   ],
   "source": [
    "@time double, double_sites = n_copy_mpo(2, mpo, sites)\n",
    "# println(double, double_sites)\n",
    "println(trace(double, double_sites))"
   ]
  },
  {
   "cell_type": "code",
   "execution_count": 34,
   "metadata": {},
   "outputs": [
    {
     "name": "stdout",
     "output_type": "stream",
     "text": [
      "  7.305107 seconds (9.32 M allocations: 853.112 MiB, 1.29% gc time, 96.02% compilation time)\n",
      "-0.9438658508170772 + 9.15940777529063e-11im\n",
      " 12.230259 seconds (3.59 M allocations: 2.968 GiB, 4.78% gc time, 13.37% compilation time)\n",
      "-0.9445964122406167 + 8.828373443852594e-11im\n",
      " 40.326531 seconds (77.52 k allocations: 7.694 GiB, 2.28% gc time, 0.17% compilation time)\n",
      "-0.944724144282225 + 8.454730631706606e-11im\n",
      " 82.522984 seconds (65.35 k allocations: 12.533 GiB, 1.52% gc time)\n",
      "-0.944780679980777 + 8.672238298875775e-11im\n",
      "135.230266 seconds (1.23 M allocations: 14.629 GiB, 1.64% gc time, 1.15% compilation time)\n",
      "-0.9448243743738992 + 8.245712151492606e-11im\n"
     ]
    }
   ],
   "source": [
    "for i=1:no_cavs\n",
    "    @time beamsplitter!(double, i, i+no_cavs, double_sites)\n",
    "    println(trace(double, double_sites))\n",
    "end"
   ]
  },
  {
   "cell_type": "code",
   "execution_count": 35,
   "metadata": {},
   "outputs": [
    {
     "data": {
      "text/plain": [
       "(MPO\n",
       "[1] ((dim=3|id=997|\"Qudit,Site,n=1\")', (dim=3|id=997|\"Qudit,Site,n=1\"), (dim=4|id=61|\"Link,l=1\"))\n",
       "[2] ((dim=3|id=985|\"Qudit,Site,n=2\")', (dim=3|id=985|\"Qudit,Site,n=2\"), (dim=6|id=249|\"Link,l=2\"), (dim=4|id=61|\"Link,l=1\"))\n",
       "[3] ((dim=3|id=898|\"Qudit,Site,n=3\")', (dim=3|id=898|\"Qudit,Site,n=3\"), (dim=6|id=863|\"Link,l=3\"), (dim=6|id=249|\"Link,l=2\"))\n",
       "[4] ((dim=3|id=138|\"Qudit,Site,n=4\")', (dim=3|id=138|\"Qudit,Site,n=4\"), (dim=4|id=758|\"Link,l=4\"), (dim=6|id=863|\"Link,l=3\"))\n",
       "[5] ((dim=3|id=525|\"Qudit,Site,n=5\")', (dim=3|id=525|\"Qudit,Site,n=5\"), (dim=1|id=750|\"Link,l=5\"), (dim=4|id=758|\"Link,l=4\"))\n",
       "[6] ((dim=3|id=603|\"Qudit,Site,n=6\")', (dim=3|id=603|\"Qudit,Site,n=6\"), (dim=4|id=934|\"Link,l=6\"), (dim=1|id=750|\"Link,l=5\"))\n",
       "[7] ((dim=3|id=788|\"Qudit,Site,n=7\")', (dim=3|id=788|\"Qudit,Site,n=7\"), (dim=6|id=743|\"Link,l=7\"), (dim=4|id=934|\"Link,l=6\"))\n",
       "[8] ((dim=3|id=199|\"Qudit,Site,n=8\")', (dim=3|id=199|\"Qudit,Site,n=8\"), (dim=6|id=585|\"Link,l=8\"), (dim=6|id=743|\"Link,l=7\"))\n",
       "[9] ((dim=3|id=81|\"Qudit,Site,n=9\")', (dim=3|id=81|\"Qudit,Site,n=9\"), (dim=4|id=114|\"Link,l=9\"), (dim=6|id=585|\"Link,l=8\"))\n",
       "[10] ((dim=3|id=712|\"Qudit,Site,n=10\")', (dim=3|id=712|\"Qudit,Site,n=10\"), (dim=4|id=114|\"Link,l=9\"))\n",
       ", Index{Int64}[(dim=3|id=997|\"Qudit,Site,n=1\"), (dim=3|id=985|\"Qudit,Site,n=2\"), (dim=3|id=898|\"Qudit,Site,n=3\"), (dim=3|id=138|\"Qudit,Site,n=4\"), (dim=3|id=525|\"Qudit,Site,n=5\"), (dim=3|id=603|\"Qudit,Site,n=6\"), (dim=3|id=788|\"Qudit,Site,n=7\"), (dim=3|id=199|\"Qudit,Site,n=8\"), (dim=3|id=81|\"Qudit,Site,n=9\"), (dim=3|id=712|\"Qudit,Site,n=10\")])"
      ]
     },
     "metadata": {},
     "output_type": "display_data"
    }
   ],
   "source": [
    "d2, dsites2 = n_copy_mpo(2, mpo, sites)"
   ]
  },
  {
   "cell_type": "code",
   "execution_count": null,
   "metadata": {},
   "outputs": [],
   "source": []
  },
  {
   "cell_type": "code",
   "execution_count": 128,
   "metadata": {},
   "outputs": [
    {
     "data": {
      "text/plain": [
       "20-element Vector{Tuple{Int64, Int64, Int64, Vararg{Int64}}}:\n",
       " (3, 3, 9)\n",
       " (3, 3, 20, 9)\n",
       " (3, 3, 35, 20)\n",
       " (3, 3, 54, 35)\n",
       " (3, 3, 77, 54)\n",
       " (3, 3, 100, 77)\n",
       " (3, 3, 127, 100)\n",
       " (3, 3, 158, 127)\n",
       " (3, 3, 193, 158)\n",
       " (3, 3, 609, 193)\n",
       " (3, 3, 678, 609)\n",
       " (3, 3, 556, 678)\n",
       " (3, 3, 439, 556)\n",
       " (3, 3, 332, 439)\n",
       " (3, 3, 242, 332)\n",
       " (3, 3, 167, 242)\n",
       " (3, 3, 109, 167)\n",
       " (3, 3, 68, 109)\n",
       " (3, 3, 8, 68)\n",
       " (3, 3, 8)"
      ]
     },
     "metadata": {},
     "output_type": "display_data"
    }
   ],
   "source": [
    "dims.(double)"
   ]
  },
  {
   "cell_type": "code",
   "execution_count": 123,
   "metadata": {},
   "outputs": [
    {
     "data": {
      "image/png": "[encoded data removed]",
      "image/svg+xml": [
       "<?xml version=\"1.0\" encoding=\"utf-8\"?>\n",
       "<svg xmlns=\"http://www.w3.org/2000/svg\" xmlns:xlink=\"http://www.w3.org/1999/xlink\" width=\"600\" height=\"400\" viewBox=\"0 0 2400 1600\">\n",
       "<defs>\n",
       "  <clipPath id=\"clip120\">\n",
       "    <rect x=\"0\" y=\"0\" width=\"2400\" height=\"1600\"/>\n",
       "  </clipPath>\n",
       "</defs>\n",
       "<path clip-path=\"url(#clip120)\" d=\"M0 1600 L2400 1600 L2400 0 L0 0  Z\" fill=\"#ffffff\" fill-rule=\"evenodd\" fill-opacity=\"1\"/>\n",
       "<defs>\n",
       "  <clipPath id=\"clip121\">\n",
       "    <rect x=\"480\" y=\"0\" width=\"1681\" height=\"1600\"/>\n",
       "  </clipPath>\n",
       "</defs>\n",
       "<path clip-path=\"url(#clip120)\" d=\"M186.274 1486.45 L2352.76 1486.45 L2352.76 47.2441 L186.274 47.2441  Z\" fill=\"#ffffff\" fill-rule=\"evenodd\" fill-opacity=\"1\"/>\n",
       "<defs>\n",
       "  <clipPath id=\"clip122\">\n",
       "    <rect x=\"186\" y=\"47\" width=\"2167\" height=\"1440\"/>\n",
       "  </clipPath>\n",
       "</defs>\n",
       "<polyline clip-path=\"url(#clip122)\" style=\"stroke:#000000; stroke-linecap:round; stroke-linejoin:round; stroke-width:2; stroke-opacity:0.1; fill:none\" points=\"247.59,1486.45 247.59,47.2441 \"/>\n",
       "<polyline clip-path=\"url(#clip122)\" style=\"stroke:#000000; stroke-linecap:round; stroke-linejoin:round; stroke-width:2; stroke-opacity:0.1; fill:none\" points=\"758.552,1486.45 758.552,47.2441 \"/>\n",
       "<polyline clip-path=\"url(#clip122)\" style=\"stroke:#000000; stroke-linecap:round; stroke-linejoin:round; stroke-width:2; stroke-opacity:0.1; fill:none\" points=\"1269.51,1486.45 1269.51,47.2441 \"/>\n",
       "<polyline clip-path=\"url(#clip122)\" style=\"stroke:#000000; stroke-linecap:round; stroke-linejoin:round; stroke-width:2; stroke-opacity:0.1; fill:none\" points=\"1780.48,1486.45 1780.48,47.2441 \"/>\n",
       "<polyline clip-path=\"url(#clip122)\" style=\"stroke:#000000; stroke-linecap:round; stroke-linejoin:round; stroke-width:2; stroke-opacity:0.1; fill:none\" points=\"2291.44,1486.45 2291.44,47.2441 \"/>\n",
       "<polyline clip-path=\"url(#clip120)\" style=\"stroke:#000000; stroke-linecap:round; stroke-linejoin:round; stroke-width:4; stroke-opacity:1; fill:none\" points=\"186.274,1486.45 2352.76,1486.45 \"/>\n",
       "<polyline clip-path=\"url(#clip120)\" style=\"stroke:#000000; stroke-linecap:round; stroke-linejoin:round; stroke-width:4; stroke-opacity:1; fill:none\" points=\"247.59,1486.45 247.59,1467.55 \"/>\n",
       "<polyline clip-path=\"url(#clip120)\" style=\"stroke:#000000; stroke-linecap:round; stroke-linejoin:round; stroke-width:4; stroke-opacity:1; fill:none\" points=\"758.552,1486.45 758.552,1467.55 \"/>\n",
       "<polyline clip-path=\"url(#clip120)\" style=\"stroke:#000000; stroke-linecap:round; stroke-linejoin:round; stroke-width:4; stroke-opacity:1; fill:none\" points=\"1269.51,1486.45 1269.51,1467.55 \"/>\n",
       "<polyline clip-path=\"url(#clip120)\" style=\"stroke:#000000; stroke-linecap:round; stroke-linejoin:round; stroke-width:4; stroke-opacity:1; fill:none\" points=\"1780.48,1486.45 1780.48,1467.55 \"/>\n",
       "<polyline clip-path=\"url(#clip120)\" style=\"stroke:#000000; stroke-linecap:round; stroke-linejoin:round; stroke-width:4; stroke-opacity:1; fill:none\" points=\"2291.44,1486.45 2291.44,1467.55 \"/>\n",
       "<path clip-path=\"url(#clip120)\" d=\"M194.812 1517.37 Q191.201 1517.37 189.372 1520.93 Q187.567 1524.47 187.567 1531.6 Q187.567 1538.71 189.372 1542.27 Q191.201 1545.82 194.812 1545.82 Q198.446 1545.82 200.252 1542.27 Q202.081 1538.71 202.081 1531.6 Q202.081 1524.47 200.252 1520.93 Q198.446 1517.37 194.812 1517.37 M194.812 1513.66 Q200.622 1513.66 203.678 1518.27 Q206.756 1522.85 206.756 1531.6 Q206.756 1540.33 203.678 1544.94 Q200.622 1549.52 194.812 1549.52 Q189.002 1549.52 185.923 1544.94 Q182.868 1540.33 182.868 1531.6 Q182.868 1522.85 185.923 1518.27 Q189.002 1513.66 194.812 1513.66 Z\" fill=\"#000000\" fill-rule=\"nonzero\" fill-opacity=\"1\" /><path clip-path=\"url(#clip120)\" d=\"M214.974 1542.97 L219.858 1542.97 L219.858 1548.85 L214.974 1548.85 L214.974 1542.97 Z\" fill=\"#000000\" fill-rule=\"nonzero\" fill-opacity=\"1\" /><path clip-path=\"url(#clip120)\" d=\"M240.043 1517.37 Q236.432 1517.37 234.603 1520.93 Q232.798 1524.47 232.798 1531.6 Q232.798 1538.71 234.603 1542.27 Q236.432 1545.82 240.043 1545.82 Q243.678 1545.82 245.483 1542.27 Q247.312 1538.71 247.312 1531.6 Q247.312 1524.47 245.483 1520.93 Q243.678 1517.37 240.043 1517.37 M240.043 1513.66 Q245.853 1513.66 248.909 1518.27 Q251.988 1522.85 251.988 1531.6 Q251.988 1540.33 248.909 1544.94 Q245.853 1549.52 240.043 1549.52 Q234.233 1549.52 231.154 1544.94 Q228.099 1540.33 228.099 1531.6 Q228.099 1522.85 231.154 1518.27 Q234.233 1513.66 240.043 1513.66 Z\" fill=\"#000000\" fill-rule=\"nonzero\" fill-opacity=\"1\" /><path clip-path=\"url(#clip120)\" d=\"M270.205 1517.37 Q266.594 1517.37 264.765 1520.93 Q262.96 1524.47 262.96 1531.6 Q262.96 1538.71 264.765 1542.27 Q266.594 1545.82 270.205 1545.82 Q273.839 1545.82 275.645 1542.27 Q277.474 1538.71 277.474 1531.6 Q277.474 1524.47 275.645 1520.93 Q273.839 1517.37 270.205 1517.37 M270.205 1513.66 Q276.015 1513.66 279.071 1518.27 Q282.15 1522.85 282.15 1531.6 Q282.15 1540.33 279.071 1544.94 Q276.015 1549.52 270.205 1549.52 Q264.395 1549.52 261.316 1544.94 Q258.261 1540.33 258.261 1531.6 Q258.261 1522.85 261.316 1518.27 Q264.395 1513.66 270.205 1513.66 Z\" fill=\"#000000\" fill-rule=\"nonzero\" fill-opacity=\"1\" /><path clip-path=\"url(#clip120)\" d=\"M300.367 1517.37 Q296.756 1517.37 294.927 1520.93 Q293.122 1524.47 293.122 1531.6 Q293.122 1538.71 294.927 1542.27 Q296.756 1545.82 300.367 1545.82 Q304.001 1545.82 305.807 1542.27 Q307.636 1538.71 307.636 1531.6 Q307.636 1524.47 305.807 1520.93 Q304.001 1517.37 300.367 1517.37 M300.367 1513.66 Q306.177 1513.66 309.233 1518.27 Q312.311 1522.85 312.311 1531.6 Q312.311 1540.33 309.233 1544.94 Q306.177 1549.52 300.367 1549.52 Q294.557 1549.52 291.478 1544.94 Q288.423 1540.33 288.423 1531.6 Q288.423 1522.85 291.478 1518.27 Q294.557 1513.66 300.367 1513.66 Z\" fill=\"#000000\" fill-rule=\"nonzero\" fill-opacity=\"1\" /><path clip-path=\"url(#clip120)\" d=\"M706.272 1517.37 Q702.661 1517.37 700.833 1520.93 Q699.027 1524.47 699.027 1531.6 Q699.027 1538.71 700.833 1542.27 Q702.661 1545.82 706.272 1545.82 Q709.907 1545.82 711.712 1542.27 Q713.541 1538.71 713.541 1531.6 Q713.541 1524.47 711.712 1520.93 Q709.907 1517.37 706.272 1517.37 M706.272 1513.66 Q712.083 1513.66 715.138 1518.27 Q718.217 1522.85 718.217 1531.6 Q718.217 1540.33 715.138 1544.94 Q712.083 1549.52 706.272 1549.52 Q700.462 1549.52 697.384 1544.94 Q694.328 1540.33 694.328 1531.6 Q694.328 1522.85 697.384 1518.27 Q700.462 1513.66 706.272 1513.66 Z\" fill=\"#000000\" fill-rule=\"nonzero\" fill-opacity=\"1\" /><path clip-path=\"url(#clip120)\" d=\"M726.434 1542.97 L731.319 1542.97 L731.319 1548.85 L726.434 1548.85 L726.434 1542.97 Z\" fill=\"#000000\" fill-rule=\"nonzero\" fill-opacity=\"1\" /><path clip-path=\"url(#clip120)\" d=\"M751.504 1517.37 Q747.893 1517.37 746.064 1520.93 Q744.258 1524.47 744.258 1531.6 Q744.258 1538.71 746.064 1542.27 Q747.893 1545.82 751.504 1545.82 Q755.138 1545.82 756.943 1542.27 Q758.772 1538.71 758.772 1531.6 Q758.772 1524.47 756.943 1520.93 Q755.138 1517.37 751.504 1517.37 M751.504 1513.66 Q757.314 1513.66 760.369 1518.27 Q763.448 1522.85 763.448 1531.6 Q763.448 1540.33 760.369 1544.94 Q757.314 1549.52 751.504 1549.52 Q745.694 1549.52 742.615 1544.94 Q739.559 1540.33 739.559 1531.6 Q739.559 1522.85 742.615 1518.27 Q745.694 1513.66 751.504 1513.66 Z\" fill=\"#000000\" fill-rule=\"nonzero\" fill-opacity=\"1\" /><path clip-path=\"url(#clip120)\" d=\"M781.666 1517.37 Q778.054 1517.37 776.226 1520.93 Q774.42 1524.47 774.42 1531.6 Q774.42 1538.71 776.226 1542.27 Q778.054 1545.82 781.666 1545.82 Q785.3 1545.82 787.105 1542.27 Q788.934 1538.71 788.934 1531.6 Q788.934 1524.47 787.105 1520.93 Q785.3 1517.37 781.666 1517.37 M781.666 1513.66 Q787.476 1513.66 790.531 1518.27 Q793.61 1522.85 793.61 1531.6 Q793.61 1540.33 790.531 1544.94 Q787.476 1549.52 781.666 1549.52 Q775.855 1549.52 772.777 1544.94 Q769.721 1540.33 769.721 1531.6 Q769.721 1522.85 772.777 1518.27 Q775.855 1513.66 781.666 1513.66 Z\" fill=\"#000000\" fill-rule=\"nonzero\" fill-opacity=\"1\" /><path clip-path=\"url(#clip120)\" d=\"M801.874 1514.29 L820.23 1514.29 L820.23 1518.22 L806.156 1518.22 L806.156 1526.7 Q807.175 1526.35 808.193 1526.19 Q809.212 1526 810.23 1526 Q816.017 1526 819.397 1529.17 Q822.776 1532.34 822.776 1537.76 Q822.776 1543.34 819.304 1546.44 Q815.832 1549.52 809.513 1549.52 Q807.337 1549.52 805.068 1549.15 Q802.823 1548.78 800.415 1548.04 L800.415 1543.34 Q802.499 1544.47 804.721 1545.03 Q806.943 1545.58 809.42 1545.58 Q813.425 1545.58 815.763 1543.48 Q818.101 1541.37 818.101 1537.76 Q818.101 1534.15 815.763 1532.04 Q813.425 1529.94 809.42 1529.94 Q807.545 1529.94 805.67 1530.35 Q803.818 1530.77 801.874 1531.65 L801.874 1514.29 Z\" fill=\"#000000\" fill-rule=\"nonzero\" fill-opacity=\"1\" /><path clip-path=\"url(#clip120)\" d=\"M1216.74 1517.37 Q1213.13 1517.37 1211.3 1520.93 Q1209.49 1524.47 1209.49 1531.6 Q1209.49 1538.71 1211.3 1542.27 Q1213.13 1545.82 1216.74 1545.82 Q1220.37 1545.82 1222.18 1542.27 Q1224.01 1538.71 1224.01 1531.6 Q1224.01 1524.47 1222.18 1520.93 Q1220.37 1517.37 1216.74 1517.37 M1216.74 1513.66 Q1222.55 1513.66 1225.6 1518.27 Q1228.68 1522.85 1228.68 1531.6 Q1228.68 1540.33 1225.6 1544.94 Q1222.55 1549.52 1216.74 1549.52 Q1210.93 1549.52 1207.85 1544.94 Q1204.79 1540.33 1204.79 1531.6 Q1204.79 1522.85 1207.85 1518.27 Q1210.93 1513.66 1216.74 1513.66 Z\" fill=\"#000000\" fill-rule=\"nonzero\" fill-opacity=\"1\" /><path clip-path=\"url(#clip120)\" d=\"M1236.9 1542.97 L1241.78 1542.97 L1241.78 1548.85 L1236.9 1548.85 L1236.9 1542.97 Z\" fill=\"#000000\" fill-rule=\"nonzero\" fill-opacity=\"1\" /><path clip-path=\"url(#clip120)\" d=\"M1261.97 1517.37 Q1258.36 1517.37 1256.53 1520.93 Q1254.72 1524.47 1254.72 1531.6 Q1254.72 1538.71 1256.53 1542.27 Q1258.36 1545.82 1261.97 1545.82 Q1265.6 1545.82 1267.41 1542.27 Q1269.24 1538.71 1269.24 1531.6 Q1269.24 1524.47 1267.41 1520.93 Q1265.6 1517.37 1261.97 1517.37 M1261.97 1513.66 Q1267.78 1513.66 1270.83 1518.27 Q1273.91 1522.85 1273.91 1531.6 Q1273.91 1540.33 1270.83 1544.94 Q1267.78 1549.52 1261.97 1549.52 Q1256.16 1549.52 1253.08 1544.94 Q1250.02 1540.33 1250.02 1531.6 Q1250.02 1522.85 1253.08 1518.27 Q1256.16 1513.66 1261.97 1513.66 Z\" fill=\"#000000\" fill-rule=\"nonzero\" fill-opacity=\"1\" /><path clip-path=\"url(#clip120)\" d=\"M1282.94 1544.91 L1290.58 1544.91 L1290.58 1518.55 L1282.27 1520.21 L1282.27 1515.95 L1290.53 1514.29 L1295.21 1514.29 L1295.21 1544.91 L1302.85 1544.91 L1302.85 1548.85 L1282.94 1548.85 L1282.94 1544.91 Z\" fill=\"#000000\" fill-rule=\"nonzero\" fill-opacity=\"1\" /><path clip-path=\"url(#clip120)\" d=\"M1322.29 1517.37 Q1318.68 1517.37 1316.85 1520.93 Q1315.05 1524.47 1315.05 1531.6 Q1315.05 1538.71 1316.85 1542.27 Q1318.68 1545.82 1322.29 1545.82 Q1325.93 1545.82 1327.73 1542.27 Q1329.56 1538.71 1329.56 1531.6 Q1329.56 1524.47 1327.73 1520.93 Q1325.93 1517.37 1322.29 1517.37 M1322.29 1513.66 Q1328.1 1513.66 1331.16 1518.27 Q1334.24 1522.85 1334.24 1531.6 Q1334.24 1540.33 1331.16 1544.94 Q1328.1 1549.52 1322.29 1549.52 Q1316.48 1549.52 1313.4 1544.94 Q1310.35 1540.33 1310.35 1531.6 Q1310.35 1522.85 1313.4 1518.27 Q1316.48 1513.66 1322.29 1513.66 Z\" fill=\"#000000\" fill-rule=\"nonzero\" fill-opacity=\"1\" /><path clip-path=\"url(#clip120)\" d=\"M1728.2 1517.37 Q1724.59 1517.37 1722.76 1520.93 Q1720.95 1524.47 1720.95 1531.6 Q1720.95 1538.71 1722.76 1542.27 Q1724.59 1545.82 1728.2 1545.82 Q1731.83 1545.82 1733.64 1542.27 Q1735.47 1538.71 1735.47 1531.6 Q1735.47 1524.47 1733.64 1520.93 Q1731.83 1517.37 1728.2 1517.37 M1728.2 1513.66 Q1734.01 1513.66 1737.06 1518.27 Q1740.14 1522.85 1740.14 1531.6 Q1740.14 1540.33 1737.06 1544.94 Q1734.01 1549.52 1728.2 1549.52 Q1722.39 1549.52 1719.31 1544.94 Q1716.25 1540.33 1716.25 1531.6 Q1716.25 1522.85 1719.31 1518.27 Q1722.39 1513.66 1728.2 1513.66 Z\" fill=\"#000000\" fill-rule=\"nonzero\" fill-opacity=\"1\" /><path clip-path=\"url(#clip120)\" d=\"M1748.36 1542.97 L1753.24 1542.97 L1753.24 1548.85 L1748.36 1548.85 L1748.36 1542.97 Z\" fill=\"#000000\" fill-rule=\"nonzero\" fill-opacity=\"1\" /><path clip-path=\"url(#clip120)\" d=\"M1773.43 1517.37 Q1769.82 1517.37 1767.99 1520.93 Q1766.18 1524.47 1766.18 1531.6 Q1766.18 1538.71 1767.99 1542.27 Q1769.82 1545.82 1773.43 1545.82 Q1777.06 1545.82 1778.87 1542.27 Q1780.7 1538.71 1780.7 1531.6 Q1780.7 1524.47 1778.87 1520.93 Q1777.06 1517.37 1773.43 1517.37 M1773.43 1513.66 Q1779.24 1513.66 1782.29 1518.27 Q1785.37 1522.85 1785.37 1531.6 Q1785.37 1540.33 1782.29 1544.94 Q1779.24 1549.52 1773.43 1549.52 Q1767.62 1549.52 1764.54 1544.94 Q1761.48 1540.33 1761.48 1531.6 Q1761.48 1522.85 1764.54 1518.27 Q1767.62 1513.66 1773.43 1513.66 Z\" fill=\"#000000\" fill-rule=\"nonzero\" fill-opacity=\"1\" /><path clip-path=\"url(#clip120)\" d=\"M1794.4 1544.91 L1802.04 1544.91 L1802.04 1518.55 L1793.73 1520.21 L1793.73 1515.95 L1801.99 1514.29 L1806.67 1514.29 L1806.67 1544.91 L1814.31 1544.91 L1814.31 1548.85 L1794.4 1548.85 L1794.4 1544.91 Z\" fill=\"#000000\" fill-rule=\"nonzero\" fill-opacity=\"1\" /><path clip-path=\"url(#clip120)\" d=\"M1823.8 1514.29 L1842.16 1514.29 L1842.16 1518.22 L1828.08 1518.22 L1828.08 1526.7 Q1829.1 1526.35 1830.12 1526.19 Q1831.14 1526 1832.16 1526 Q1837.94 1526 1841.32 1529.17 Q1844.7 1532.34 1844.7 1537.76 Q1844.7 1543.34 1841.23 1546.44 Q1837.76 1549.52 1831.44 1549.52 Q1829.26 1549.52 1826.99 1549.15 Q1824.75 1548.78 1822.34 1548.04 L1822.34 1543.34 Q1824.42 1544.47 1826.65 1545.03 Q1828.87 1545.58 1831.35 1545.58 Q1835.35 1545.58 1837.69 1543.48 Q1840.03 1541.37 1840.03 1537.76 Q1840.03 1534.15 1837.69 1532.04 Q1835.35 1529.94 1831.35 1529.94 Q1829.47 1529.94 1827.6 1530.35 Q1825.74 1530.77 1823.8 1531.65 L1823.8 1514.29 Z\" fill=\"#000000\" fill-rule=\"nonzero\" fill-opacity=\"1\" /><path clip-path=\"url(#clip120)\" d=\"M2238.66 1517.37 Q2235.05 1517.37 2233.22 1520.93 Q2231.42 1524.47 2231.42 1531.6 Q2231.42 1538.71 2233.22 1542.27 Q2235.05 1545.82 2238.66 1545.82 Q2242.3 1545.82 2244.1 1542.27 Q2245.93 1538.71 2245.93 1531.6 Q2245.93 1524.47 2244.1 1520.93 Q2242.3 1517.37 2238.66 1517.37 M2238.66 1513.66 Q2244.47 1513.66 2247.53 1518.27 Q2250.61 1522.85 2250.61 1531.6 Q2250.61 1540.33 2247.53 1544.94 Q2244.47 1549.52 2238.66 1549.52 Q2232.85 1549.52 2229.77 1544.94 Q2226.72 1540.33 2226.72 1531.6 Q2226.72 1522.85 2229.77 1518.27 Q2232.85 1513.66 2238.66 1513.66 Z\" fill=\"#000000\" fill-rule=\"nonzero\" fill-opacity=\"1\" /><path clip-path=\"url(#clip120)\" d=\"M2258.82 1542.97 L2263.71 1542.97 L2263.71 1548.85 L2258.82 1548.85 L2258.82 1542.97 Z\" fill=\"#000000\" fill-rule=\"nonzero\" fill-opacity=\"1\" /><path clip-path=\"url(#clip120)\" d=\"M2283.89 1517.37 Q2280.28 1517.37 2278.45 1520.93 Q2276.65 1524.47 2276.65 1531.6 Q2276.65 1538.71 2278.45 1542.27 Q2280.28 1545.82 2283.89 1545.82 Q2287.53 1545.82 2289.33 1542.27 Q2291.16 1538.71 2291.16 1531.6 Q2291.16 1524.47 2289.33 1520.93 Q2287.53 1517.37 2283.89 1517.37 M2283.89 1513.66 Q2289.7 1513.66 2292.76 1518.27 Q2295.84 1522.85 2295.84 1531.6 Q2295.84 1540.33 2292.76 1544.94 Q2289.7 1549.52 2283.89 1549.52 Q2278.08 1549.52 2275.01 1544.94 Q2271.95 1540.33 2271.95 1531.6 Q2271.95 1522.85 2275.01 1518.27 Q2278.08 1513.66 2283.89 1513.66 Z\" fill=\"#000000\" fill-rule=\"nonzero\" fill-opacity=\"1\" /><path clip-path=\"url(#clip120)\" d=\"M2308.08 1544.91 L2324.4 1544.91 L2324.4 1548.85 L2302.46 1548.85 L2302.46 1544.91 Q2305.12 1542.16 2309.7 1537.53 Q2314.31 1532.88 2315.49 1531.53 Q2317.74 1529.01 2318.62 1527.27 Q2319.52 1525.51 2319.52 1523.82 Q2319.52 1521.07 2317.57 1519.33 Q2315.65 1517.6 2312.55 1517.6 Q2310.35 1517.6 2307.9 1518.36 Q2305.47 1519.13 2302.69 1520.68 L2302.69 1515.95 Q2305.51 1514.82 2307.97 1514.24 Q2310.42 1513.66 2312.46 1513.66 Q2317.83 1513.66 2321.02 1516.35 Q2324.22 1519.03 2324.22 1523.52 Q2324.22 1525.65 2323.41 1527.57 Q2322.62 1529.47 2320.51 1532.07 Q2319.94 1532.74 2316.83 1535.95 Q2313.73 1539.15 2308.08 1544.91 Z\" fill=\"#000000\" fill-rule=\"nonzero\" fill-opacity=\"1\" /><path clip-path=\"url(#clip120)\" d=\"M2344.22 1517.37 Q2340.61 1517.37 2338.78 1520.93 Q2336.97 1524.47 2336.97 1531.6 Q2336.97 1538.71 2338.78 1542.27 Q2340.61 1545.82 2344.22 1545.82 Q2347.85 1545.82 2349.66 1542.27 Q2351.49 1538.71 2351.49 1531.6 Q2351.49 1524.47 2349.66 1520.93 Q2347.85 1517.37 2344.22 1517.37 M2344.22 1513.66 Q2350.03 1513.66 2353.08 1518.27 Q2356.16 1522.85 2356.16 1531.6 Q2356.16 1540.33 2353.08 1544.94 Q2350.03 1549.52 2344.22 1549.52 Q2338.41 1549.52 2335.33 1544.94 Q2332.27 1540.33 2332.27 1531.6 Q2332.27 1522.85 2335.33 1518.27 Q2338.41 1513.66 2344.22 1513.66 Z\" fill=\"#000000\" fill-rule=\"nonzero\" fill-opacity=\"1\" /><polyline clip-path=\"url(#clip122)\" style=\"stroke:#000000; stroke-linecap:round; stroke-linejoin:round; stroke-width:2; stroke-opacity:0.1; fill:none\" points=\"186.274,1445.72 2352.76,1445.72 \"/>\n",
       "<polyline clip-path=\"url(#clip122)\" style=\"stroke:#000000; stroke-linecap:round; stroke-linejoin:round; stroke-width:2; stroke-opacity:0.1; fill:none\" points=\"186.274,1079.13 2352.76,1079.13 \"/>\n",
       "<polyline clip-path=\"url(#clip122)\" style=\"stroke:#000000; stroke-linecap:round; stroke-linejoin:round; stroke-width:2; stroke-opacity:0.1; fill:none\" points=\"186.274,712.536 2352.76,712.536 \"/>\n",
       "<polyline clip-path=\"url(#clip122)\" style=\"stroke:#000000; stroke-linecap:round; stroke-linejoin:round; stroke-width:2; stroke-opacity:0.1; fill:none\" points=\"186.274,345.947 2352.76,345.947 \"/>\n",
       "<polyline clip-path=\"url(#clip120)\" style=\"stroke:#000000; stroke-linecap:round; stroke-linejoin:round; stroke-width:4; stroke-opacity:1; fill:none\" points=\"186.274,1486.45 186.274,47.2441 \"/>\n",
       "<polyline clip-path=\"url(#clip120)\" style=\"stroke:#000000; stroke-linecap:round; stroke-linejoin:round; stroke-width:4; stroke-opacity:1; fill:none\" points=\"186.274,1445.72 205.172,1445.72 \"/>\n",
       "<polyline clip-path=\"url(#clip120)\" style=\"stroke:#000000; stroke-linecap:round; stroke-linejoin:round; stroke-width:4; stroke-opacity:1; fill:none\" points=\"186.274,1079.13 205.172,1079.13 \"/>\n",
       "<polyline clip-path=\"url(#clip120)\" style=\"stroke:#000000; stroke-linecap:round; stroke-linejoin:round; stroke-width:4; stroke-opacity:1; fill:none\" points=\"186.274,712.536 205.172,712.536 \"/>\n",
       "<polyline clip-path=\"url(#clip120)\" style=\"stroke:#000000; stroke-linecap:round; stroke-linejoin:round; stroke-width:4; stroke-opacity:1; fill:none\" points=\"186.274,345.947 205.172,345.947 \"/>\n",
       "<path clip-path=\"url(#clip120)\" d=\"M62.9365 1431.51 Q59.3254 1431.51 57.4967 1435.08 Q55.6912 1438.62 55.6912 1445.75 Q55.6912 1452.86 57.4967 1456.42 Q59.3254 1459.96 62.9365 1459.96 Q66.5707 1459.96 68.3763 1456.42 Q70.205 1452.86 70.205 1445.75 Q70.205 1438.62 68.3763 1435.08 Q66.5707 1431.51 62.9365 1431.51 M62.9365 1427.81 Q68.7467 1427.81 71.8022 1432.42 Q74.8809 1437 74.8809 1445.75 Q74.8809 1454.48 71.8022 1459.08 Q68.7467 1463.67 62.9365 1463.67 Q57.1264 1463.67 54.0477 1459.08 Q50.9921 1454.48 50.9921 1445.75 Q50.9921 1437 54.0477 1432.42 Q57.1264 1427.81 62.9365 1427.81 Z\" fill=\"#000000\" fill-rule=\"nonzero\" fill-opacity=\"1\" /><path clip-path=\"url(#clip120)\" d=\"M83.0984 1457.12 L87.9827 1457.12 L87.9827 1463 L83.0984 1463 L83.0984 1457.12 Z\" fill=\"#000000\" fill-rule=\"nonzero\" fill-opacity=\"1\" /><path clip-path=\"url(#clip120)\" d=\"M108.168 1431.51 Q104.557 1431.51 102.728 1435.08 Q100.922 1438.62 100.922 1445.75 Q100.922 1452.86 102.728 1456.42 Q104.557 1459.96 108.168 1459.96 Q111.802 1459.96 113.608 1456.42 Q115.436 1452.86 115.436 1445.75 Q115.436 1438.62 113.608 1435.08 Q111.802 1431.51 108.168 1431.51 M108.168 1427.81 Q113.978 1427.81 117.033 1432.42 Q120.112 1437 120.112 1445.75 Q120.112 1454.48 117.033 1459.08 Q113.978 1463.67 108.168 1463.67 Q102.358 1463.67 99.2789 1459.08 Q96.2234 1454.48 96.2234 1445.75 Q96.2234 1437 99.2789 1432.42 Q102.358 1427.81 108.168 1427.81 Z\" fill=\"#000000\" fill-rule=\"nonzero\" fill-opacity=\"1\" /><path clip-path=\"url(#clip120)\" d=\"M138.33 1431.51 Q134.719 1431.51 132.89 1435.08 Q131.084 1438.62 131.084 1445.75 Q131.084 1452.86 132.89 1456.42 Q134.719 1459.96 138.33 1459.96 Q141.964 1459.96 143.769 1456.42 Q145.598 1452.86 145.598 1445.75 Q145.598 1438.62 143.769 1435.08 Q141.964 1431.51 138.33 1431.51 M138.33 1427.81 Q144.14 1427.81 147.195 1432.42 Q150.274 1437 150.274 1445.75 Q150.274 1454.48 147.195 1459.08 Q144.14 1463.67 138.33 1463.67 Q132.519 1463.67 129.441 1459.08 Q126.385 1454.48 126.385 1445.75 Q126.385 1437 129.441 1432.42 Q132.519 1427.81 138.33 1427.81 Z\" fill=\"#000000\" fill-rule=\"nonzero\" fill-opacity=\"1\" /><path clip-path=\"url(#clip120)\" d=\"M64.1634 1064.92 Q60.5523 1064.92 58.7236 1068.49 Q56.918 1072.03 56.918 1079.16 Q56.918 1086.27 58.7236 1089.83 Q60.5523 1093.37 64.1634 1093.37 Q67.7976 1093.37 69.6031 1089.83 Q71.4318 1086.27 71.4318 1079.16 Q71.4318 1072.03 69.6031 1068.49 Q67.7976 1064.92 64.1634 1064.92 M64.1634 1061.22 Q69.9735 1061.22 73.029 1065.83 Q76.1077 1070.41 76.1077 1079.16 Q76.1077 1087.89 73.029 1092.49 Q69.9735 1097.08 64.1634 1097.08 Q58.3532 1097.08 55.2745 1092.49 Q52.219 1087.89 52.219 1079.16 Q52.219 1070.41 55.2745 1065.83 Q58.3532 1061.22 64.1634 1061.22 Z\" fill=\"#000000\" fill-rule=\"nonzero\" fill-opacity=\"1\" /><path clip-path=\"url(#clip120)\" d=\"M84.3253 1090.53 L89.2095 1090.53 L89.2095 1096.41 L84.3253 1096.41 L84.3253 1090.53 Z\" fill=\"#000000\" fill-rule=\"nonzero\" fill-opacity=\"1\" /><path clip-path=\"url(#clip120)\" d=\"M109.395 1064.92 Q105.783 1064.92 103.955 1068.49 Q102.149 1072.03 102.149 1079.16 Q102.149 1086.27 103.955 1089.83 Q105.783 1093.37 109.395 1093.37 Q113.029 1093.37 114.834 1089.83 Q116.663 1086.27 116.663 1079.16 Q116.663 1072.03 114.834 1068.49 Q113.029 1064.92 109.395 1064.92 M109.395 1061.22 Q115.205 1061.22 118.26 1065.83 Q121.339 1070.41 121.339 1079.16 Q121.339 1087.89 118.26 1092.49 Q115.205 1097.08 109.395 1097.08 Q103.584 1097.08 100.506 1092.49 Q97.4502 1087.89 97.4502 1079.16 Q97.4502 1070.41 100.506 1065.83 Q103.584 1061.22 109.395 1061.22 Z\" fill=\"#000000\" fill-rule=\"nonzero\" fill-opacity=\"1\" /><path clip-path=\"url(#clip120)\" d=\"M130.367 1092.47 L138.006 1092.47 L138.006 1066.11 L129.695 1067.77 L129.695 1063.51 L137.959 1061.85 L142.635 1061.85 L142.635 1092.47 L150.274 1092.47 L150.274 1096.41 L130.367 1096.41 L130.367 1092.47 Z\" fill=\"#000000\" fill-rule=\"nonzero\" fill-opacity=\"1\" /><path clip-path=\"url(#clip120)\" d=\"M64.5337 698.335 Q60.9226 698.335 59.0939 701.9 Q57.2884 705.442 57.2884 712.571 Q57.2884 719.678 59.0939 723.242 Q60.9226 726.784 64.5337 726.784 Q68.168 726.784 69.9735 723.242 Q71.8022 719.678 71.8022 712.571 Q71.8022 705.442 69.9735 701.9 Q68.168 698.335 64.5337 698.335 M64.5337 694.631 Q70.3439 694.631 73.3994 699.238 Q76.4781 703.821 76.4781 712.571 Q76.4781 721.298 73.3994 725.904 Q70.3439 730.488 64.5337 730.488 Q58.7236 730.488 55.6449 725.904 Q52.5893 721.298 52.5893 712.571 Q52.5893 703.821 55.6449 699.238 Q58.7236 694.631 64.5337 694.631 Z\" fill=\"#000000\" fill-rule=\"nonzero\" fill-opacity=\"1\" /><path clip-path=\"url(#clip120)\" d=\"M84.6956 723.937 L89.5799 723.937 L89.5799 729.816 L84.6956 729.816 L84.6956 723.937 Z\" fill=\"#000000\" fill-rule=\"nonzero\" fill-opacity=\"1\" /><path clip-path=\"url(#clip120)\" d=\"M109.765 698.335 Q106.154 698.335 104.325 701.9 Q102.52 705.442 102.52 712.571 Q102.52 719.678 104.325 723.242 Q106.154 726.784 109.765 726.784 Q113.399 726.784 115.205 723.242 Q117.033 719.678 117.033 712.571 Q117.033 705.442 115.205 701.9 Q113.399 698.335 109.765 698.335 M109.765 694.631 Q115.575 694.631 118.631 699.238 Q121.709 703.821 121.709 712.571 Q121.709 721.298 118.631 725.904 Q115.575 730.488 109.765 730.488 Q103.955 730.488 100.876 725.904 Q97.8206 721.298 97.8206 712.571 Q97.8206 703.821 100.876 699.238 Q103.955 694.631 109.765 694.631 Z\" fill=\"#000000\" fill-rule=\"nonzero\" fill-opacity=\"1\" /><path clip-path=\"url(#clip120)\" d=\"M133.955 725.881 L150.274 725.881 L150.274 729.816 L128.33 729.816 L128.33 725.881 Q130.992 723.127 135.575 718.497 Q140.181 713.844 141.362 712.502 Q143.607 709.979 144.487 708.242 Q145.39 706.483 145.39 704.793 Q145.39 702.039 143.445 700.303 Q141.524 698.567 138.422 698.567 Q136.223 698.567 133.769 699.33 Q131.339 700.094 128.561 701.645 L128.561 696.923 Q131.385 695.789 133.839 695.21 Q136.293 694.631 138.33 694.631 Q143.7 694.631 146.894 697.317 Q150.089 700.002 150.089 704.492 Q150.089 706.622 149.279 708.543 Q148.492 710.442 146.385 713.034 Q145.806 713.705 142.705 716.923 Q139.603 720.117 133.955 725.881 Z\" fill=\"#000000\" fill-rule=\"nonzero\" fill-opacity=\"1\" /><path clip-path=\"url(#clip120)\" d=\"M63.5847 331.745 Q59.9736 331.745 58.1449 335.31 Q56.3393 338.852 56.3393 345.981 Q56.3393 353.088 58.1449 356.653 Q59.9736 360.194 63.5847 360.194 Q67.2189 360.194 69.0244 356.653 Q70.8531 353.088 70.8531 345.981 Q70.8531 338.852 69.0244 335.31 Q67.2189 331.745 63.5847 331.745 M63.5847 328.042 Q69.3948 328.042 72.4503 332.648 Q75.529 337.232 75.529 345.981 Q75.529 354.708 72.4503 359.315 Q69.3948 363.898 63.5847 363.898 Q57.7745 363.898 54.6958 359.315 Q51.6403 354.708 51.6403 345.981 Q51.6403 337.232 54.6958 332.648 Q57.7745 328.042 63.5847 328.042 Z\" fill=\"#000000\" fill-rule=\"nonzero\" fill-opacity=\"1\" /><path clip-path=\"url(#clip120)\" d=\"M83.7466 357.347 L88.6308 357.347 L88.6308 363.227 L83.7466 363.227 L83.7466 357.347 Z\" fill=\"#000000\" fill-rule=\"nonzero\" fill-opacity=\"1\" /><path clip-path=\"url(#clip120)\" d=\"M108.816 331.745 Q105.205 331.745 103.376 335.31 Q101.571 338.852 101.571 345.981 Q101.571 353.088 103.376 356.653 Q105.205 360.194 108.816 360.194 Q112.45 360.194 114.256 356.653 Q116.084 353.088 116.084 345.981 Q116.084 338.852 114.256 335.31 Q112.45 331.745 108.816 331.745 M108.816 328.042 Q114.626 328.042 117.682 332.648 Q120.76 337.232 120.76 345.981 Q120.76 354.708 117.682 359.315 Q114.626 363.898 108.816 363.898 Q103.006 363.898 99.927 359.315 Q96.8715 354.708 96.8715 345.981 Q96.8715 337.232 99.927 332.648 Q103.006 328.042 108.816 328.042 Z\" fill=\"#000000\" fill-rule=\"nonzero\" fill-opacity=\"1\" /><path clip-path=\"url(#clip120)\" d=\"M143.144 344.593 Q146.501 345.31 148.376 347.579 Q150.274 349.847 150.274 353.181 Q150.274 358.296 146.756 361.097 Q143.237 363.898 136.756 363.898 Q134.58 363.898 132.265 363.458 Q129.973 363.042 127.519 362.185 L127.519 357.671 Q129.464 358.805 131.779 359.384 Q134.094 359.963 136.617 359.963 Q141.015 359.963 143.306 358.227 Q145.621 356.491 145.621 353.181 Q145.621 350.125 143.468 348.412 Q141.339 346.676 137.519 346.676 L133.492 346.676 L133.492 342.833 L137.705 342.833 Q141.154 342.833 142.982 341.468 Q144.811 340.079 144.811 337.486 Q144.811 334.824 142.913 333.412 Q141.038 331.977 137.519 331.977 Q135.598 331.977 133.399 332.394 Q131.2 332.81 128.561 333.69 L128.561 329.523 Q131.223 328.783 133.538 328.412 Q135.876 328.042 137.936 328.042 Q143.26 328.042 146.362 330.472 Q149.464 332.88 149.464 337 Q149.464 339.87 147.82 341.861 Q146.177 343.829 143.144 344.593 Z\" fill=\"#000000\" fill-rule=\"nonzero\" fill-opacity=\"1\" /><circle clip-path=\"url(#clip122)\" cx=\"1525\" cy=\"567.214\" r=\"14.4\" fill=\"#009af9\" fill-rule=\"evenodd\" fill-opacity=\"1\" stroke=\"#000000\" stroke-opacity=\"1\" stroke-width=\"3.2\"/>\n",
       "<polyline clip-path=\"url(#clip122)\" style=\"stroke:#e26f46; stroke-linecap:round; stroke-linejoin:round; stroke-width:4; stroke-opacity:1; fill:none\" points=\"247.59,1445.72 503.071,1264.24 758.552,1086.31 1014.03,911.847 1269.51,740.736 1525,572.883 1780.48,408.198 2035.96,246.591 2291.44,87.9763 \"/>\n",
       "<path clip-path=\"url(#clip120)\" d=\"M258.49 250.738 L581.503 250.738 L581.503 95.2176 L258.49 95.2176  Z\" fill=\"#ffffff\" fill-rule=\"evenodd\" fill-opacity=\"1\"/>\n",
       "<polyline clip-path=\"url(#clip120)\" style=\"stroke:#000000; stroke-linecap:round; stroke-linejoin:round; stroke-width:4; stroke-opacity:1; fill:none\" points=\"258.49,250.738 581.503,250.738 581.503,95.2176 258.49,95.2176 258.49,250.738 \"/>\n",
       "<circle clip-path=\"url(#clip120)\" cx=\"354.778\" cy=\"147.058\" r=\"20.48\" fill=\"#009af9\" fill-rule=\"evenodd\" fill-opacity=\"1\" stroke=\"#000000\" stroke-opacity=\"1\" stroke-width=\"4.55111\"/>\n",
       "<path clip-path=\"url(#clip120)\" d=\"M464.909 166.745 Q463.103 171.375 461.39 172.787 Q459.677 174.199 456.807 174.199 L453.404 174.199 L453.404 170.634 L455.904 170.634 Q457.663 170.634 458.636 169.8 Q459.608 168.967 460.788 165.865 L461.552 163.921 L451.066 138.412 L455.58 138.412 L463.682 158.689 L471.784 138.412 L476.298 138.412 L464.909 166.745 Z\" fill=\"#000000\" fill-rule=\"nonzero\" fill-opacity=\"1\" /><path clip-path=\"url(#clip120)\" d=\"M483.589 160.402 L491.228 160.402 L491.228 134.037 L482.918 135.703 L482.918 131.444 L491.182 129.778 L495.858 129.778 L495.858 160.402 L503.497 160.402 L503.497 164.338 L483.589 164.338 L483.589 160.402 Z\" fill=\"#000000\" fill-rule=\"nonzero\" fill-opacity=\"1\" /><polyline clip-path=\"url(#clip120)\" style=\"stroke:#e26f46; stroke-linecap:round; stroke-linejoin:round; stroke-width:4; stroke-opacity:1; fill:none\" points=\"282.562,198.898 426.994,198.898 \"/>\n",
       "<path clip-path=\"url(#clip120)\" d=\"M451.066 181.618 L455.742 181.618 L455.742 216.178 L451.066 216.178 L451.066 181.618 Z\" fill=\"#000000\" fill-rule=\"nonzero\" fill-opacity=\"1\" /><path clip-path=\"url(#clip120)\" d=\"M481.923 194.187 L481.923 180.159 L486.182 180.159 L486.182 216.178 L481.923 216.178 L481.923 212.289 Q480.58 214.603 478.52 215.738 Q476.483 216.849 473.612 216.849 Q468.913 216.849 465.95 213.099 Q463.011 209.349 463.011 203.238 Q463.011 197.127 465.95 193.377 Q468.913 189.627 473.612 189.627 Q476.483 189.627 478.52 190.761 Q480.58 191.872 481.923 194.187 M467.409 203.238 Q467.409 207.937 469.33 210.622 Q471.274 213.284 474.654 213.284 Q478.034 213.284 479.978 210.622 Q481.923 207.937 481.923 203.238 Q481.923 198.539 479.978 195.877 Q478.034 193.192 474.654 193.192 Q471.274 193.192 469.33 195.877 Q467.409 198.539 467.409 203.238 Z\" fill=\"#000000\" fill-rule=\"nonzero\" fill-opacity=\"1\" /><path clip-path=\"url(#clip120)\" d=\"M517.131 202.15 L517.131 204.233 L497.547 204.233 Q497.825 208.631 500.186 210.946 Q502.571 213.238 506.807 213.238 Q509.26 213.238 511.552 212.636 Q513.867 212.034 516.135 210.83 L516.135 214.858 Q513.844 215.83 511.436 216.34 Q509.029 216.849 506.552 216.849 Q500.348 216.849 496.714 213.238 Q493.103 209.627 493.103 203.469 Q493.103 197.104 496.529 193.377 Q499.978 189.627 505.811 189.627 Q511.043 189.627 514.075 193.006 Q517.131 196.363 517.131 202.15 M512.871 200.9 Q512.825 197.405 510.904 195.321 Q509.006 193.238 505.858 193.238 Q502.293 193.238 500.14 195.252 Q498.01 197.266 497.686 200.923 L512.871 200.9 Z\" fill=\"#000000\" fill-rule=\"nonzero\" fill-opacity=\"1\" /><path clip-path=\"url(#clip120)\" d=\"M535.904 203.145 Q530.742 203.145 528.751 204.326 Q526.76 205.506 526.76 208.354 Q526.76 210.622 528.242 211.965 Q529.746 213.284 532.316 213.284 Q535.857 213.284 537.987 210.784 Q540.14 208.261 540.14 204.094 L540.14 203.145 L535.904 203.145 M544.399 201.386 L544.399 216.178 L540.14 216.178 L540.14 212.242 Q538.682 214.603 536.506 215.738 Q534.33 216.849 531.182 216.849 Q527.2 216.849 524.839 214.627 Q522.501 212.381 522.501 208.631 Q522.501 204.256 525.418 202.034 Q528.357 199.812 534.168 199.812 L540.14 199.812 L540.14 199.395 Q540.14 196.455 538.195 194.858 Q536.274 193.238 532.779 193.238 Q530.557 193.238 528.45 193.77 Q526.344 194.303 524.399 195.367 L524.399 191.432 Q526.737 190.53 528.936 190.09 Q531.135 189.627 533.219 189.627 Q538.844 189.627 541.621 192.543 Q544.399 195.46 544.399 201.386 Z\" fill=\"#000000\" fill-rule=\"nonzero\" fill-opacity=\"1\" /><path clip-path=\"url(#clip120)\" d=\"M553.172 180.159 L557.431 180.159 L557.431 216.178 L553.172 216.178 L553.172 180.159 Z\" fill=\"#000000\" fill-rule=\"nonzero\" fill-opacity=\"1\" /></svg>\n"
      ],
      "text/html": [
       "<?xml version=\"1.0\" encoding=\"utf-8\"?>\n",
       "<svg xmlns=\"http://www.w3.org/2000/svg\" xmlns:xlink=\"http://www.w3.org/1999/xlink\" width=\"600\" height=\"400\" viewBox=\"0 0 2400 1600\">\n",
       "<defs>\n",
       "  <clipPath id=\"clip170\">\n",
       "    <rect x=\"0\" y=\"0\" width=\"2400\" height=\"1600\"/>\n",
       "  </clipPath>\n",
       "</defs>\n",
       "<path clip-path=\"url(#clip170)\" d=\"M0 1600 L2400 1600 L2400 0 L0 0  Z\" fill=\"#ffffff\" fill-rule=\"evenodd\" fill-opacity=\"1\"/>\n",
       "<defs>\n",
       "  <clipPath id=\"clip171\">\n",
       "    <rect x=\"480\" y=\"0\" width=\"1681\" height=\"1600\"/>\n",
       "  </clipPath>\n",
       "</defs>\n",
       "<path clip-path=\"url(#clip170)\" d=\"M186.274 1486.45 L2352.76 1486.45 L2352.76 47.2441 L186.274 47.2441  Z\" fill=\"#ffffff\" fill-rule=\"evenodd\" fill-opacity=\"1\"/>\n",
       "<defs>\n",
       "  <clipPath id=\"clip172\">\n",
       "    <rect x=\"186\" y=\"47\" width=\"2167\" height=\"1440\"/>\n",
       "  </clipPath>\n",
       "</defs>\n",
       "<polyline clip-path=\"url(#clip172)\" style=\"stroke:#000000; stroke-linecap:round; stroke-linejoin:round; stroke-width:2; stroke-opacity:0.1; fill:none\" points=\"247.59,1486.45 247.59,47.2441 \"/>\n",
       "<polyline clip-path=\"url(#clip172)\" style=\"stroke:#000000; stroke-linecap:round; stroke-linejoin:round; stroke-width:2; stroke-opacity:0.1; fill:none\" points=\"758.552,1486.45 758.552,47.2441 \"/>\n",
       "<polyline clip-path=\"url(#clip172)\" style=\"stroke:#000000; stroke-linecap:round; stroke-linejoin:round; stroke-width:2; stroke-opacity:0.1; fill:none\" points=\"1269.51,1486.45 1269.51,47.2441 \"/>\n",
       "<polyline clip-path=\"url(#clip172)\" style=\"stroke:#000000; stroke-linecap:round; stroke-linejoin:round; stroke-width:2; stroke-opacity:0.1; fill:none\" points=\"1780.48,1486.45 1780.48,47.2441 \"/>\n",
       "<polyline clip-path=\"url(#clip172)\" style=\"stroke:#000000; stroke-linecap:round; stroke-linejoin:round; stroke-width:2; stroke-opacity:0.1; fill:none\" points=\"2291.44,1486.45 2291.44,47.2441 \"/>\n",
       "<polyline clip-path=\"url(#clip170)\" style=\"stroke:#000000; stroke-linecap:round; stroke-linejoin:round; stroke-width:4; stroke-opacity:1; fill:none\" points=\"186.274,1486.45 2352.76,1486.45 \"/>\n",
       "<polyline clip-path=\"url(#clip170)\" style=\"stroke:#000000; stroke-linecap:round; stroke-linejoin:round; stroke-width:4; stroke-opacity:1; fill:none\" points=\"247.59,1486.45 247.59,1467.55 \"/>\n",
       "<polyline clip-path=\"url(#clip170)\" style=\"stroke:#000000; stroke-linecap:round; stroke-linejoin:round; stroke-width:4; stroke-opacity:1; fill:none\" points=\"758.552,1486.45 758.552,1467.55 \"/>\n",
       "<polyline clip-path=\"url(#clip170)\" style=\"stroke:#000000; stroke-linecap:round; stroke-linejoin:round; stroke-width:4; stroke-opacity:1; fill:none\" points=\"1269.51,1486.45 1269.51,1467.55 \"/>\n",
       "<polyline clip-path=\"url(#clip170)\" style=\"stroke:#000000; stroke-linecap:round; stroke-linejoin:round; stroke-width:4; stroke-opacity:1; fill:none\" points=\"1780.48,1486.45 1780.48,1467.55 \"/>\n",
       "<polyline clip-path=\"url(#clip170)\" style=\"stroke:#000000; stroke-linecap:round; stroke-linejoin:round; stroke-width:4; stroke-opacity:1; fill:none\" points=\"2291.44,1486.45 2291.44,1467.55 \"/>\n",
       "<path clip-path=\"url(#clip170)\" d=\"M194.812 1517.37 Q191.201 1517.37 189.372 1520.93 Q187.567 1524.47 187.567 1531.6 Q187.567 1538.71 189.372 1542.27 Q191.201 1545.82 194.812 1545.82 Q198.446 1545.82 200.252 1542.27 Q202.081 1538.71 202.081 1531.6 Q202.081 1524.47 200.252 1520.93 Q198.446 1517.37 194.812 1517.37 M194.812 1513.66 Q200.622 1513.66 203.678 1518.27 Q206.756 1522.85 206.756 1531.6 Q206.756 1540.33 203.678 1544.94 Q200.622 1549.52 194.812 1549.52 Q189.002 1549.52 185.923 1544.94 Q182.868 1540.33 182.868 1531.6 Q182.868 1522.85 185.923 1518.27 Q189.002 1513.66 194.812 1513.66 Z\" fill=\"#000000\" fill-rule=\"nonzero\" fill-opacity=\"1\" /><path clip-path=\"url(#clip170)\" d=\"M214.974 1542.97 L219.858 1542.97 L219.858 1548.85 L214.974 1548.85 L214.974 1542.97 Z\" fill=\"#000000\" fill-rule=\"nonzero\" fill-opacity=\"1\" /><path clip-path=\"url(#clip170)\" d=\"M240.043 1517.37 Q236.432 1517.37 234.603 1520.93 Q232.798 1524.47 232.798 1531.6 Q232.798 1538.71 234.603 1542.27 Q236.432 1545.82 240.043 1545.82 Q243.678 1545.82 245.483 1542.27 Q247.312 1538.71 247.312 1531.6 Q247.312 1524.47 245.483 1520.93 Q243.678 1517.37 240.043 1517.37 M240.043 1513.66 Q245.853 1513.66 248.909 1518.27 Q251.988 1522.85 251.988 1531.6 Q251.988 1540.33 248.909 1544.94 Q245.853 1549.52 240.043 1549.52 Q234.233 1549.52 231.154 1544.94 Q228.099 1540.33 228.099 1531.6 Q228.099 1522.85 231.154 1518.27 Q234.233 1513.66 240.043 1513.66 Z\" fill=\"#000000\" fill-rule=\"nonzero\" fill-opacity=\"1\" /><path clip-path=\"url(#clip170)\" d=\"M270.205 1517.37 Q266.594 1517.37 264.765 1520.93 Q262.96 1524.47 262.96 1531.6 Q262.96 1538.71 264.765 1542.27 Q266.594 1545.82 270.205 1545.82 Q273.839 1545.82 275.645 1542.27 Q277.474 1538.71 277.474 1531.6 Q277.474 1524.47 275.645 1520.93 Q273.839 1517.37 270.205 1517.37 M270.205 1513.66 Q276.015 1513.66 279.071 1518.27 Q282.15 1522.85 282.15 1531.6 Q282.15 1540.33 279.071 1544.94 Q276.015 1549.52 270.205 1549.52 Q264.395 1549.52 261.316 1544.94 Q258.261 1540.33 258.261 1531.6 Q258.261 1522.85 261.316 1518.27 Q264.395 1513.66 270.205 1513.66 Z\" fill=\"#000000\" fill-rule=\"nonzero\" fill-opacity=\"1\" /><path clip-path=\"url(#clip170)\" d=\"M300.367 1517.37 Q296.756 1517.37 294.927 1520.93 Q293.122 1524.47 293.122 1531.6 Q293.122 1538.71 294.927 1542.27 Q296.756 1545.82 300.367 1545.82 Q304.001 1545.82 305.807 1542.27 Q307.636 1538.71 307.636 1531.6 Q307.636 1524.47 305.807 1520.93 Q304.001 1517.37 300.367 1517.37 M300.367 1513.66 Q306.177 1513.66 309.233 1518.27 Q312.311 1522.85 312.311 1531.6 Q312.311 1540.33 309.233 1544.94 Q306.177 1549.52 300.367 1549.52 Q294.557 1549.52 291.478 1544.94 Q288.423 1540.33 288.423 1531.6 Q288.423 1522.85 291.478 1518.27 Q294.557 1513.66 300.367 1513.66 Z\" fill=\"#000000\" fill-rule=\"nonzero\" fill-opacity=\"1\" /><path clip-path=\"url(#clip170)\" d=\"M706.272 1517.37 Q702.661 1517.37 700.833 1520.93 Q699.027 1524.47 699.027 1531.6 Q699.027 1538.71 700.833 1542.27 Q702.661 1545.82 706.272 1545.82 Q709.907 1545.82 711.712 1542.27 Q713.541 1538.71 713.541 1531.6 Q713.541 1524.47 711.712 1520.93 Q709.907 1517.37 706.272 1517.37 M706.272 1513.66 Q712.083 1513.66 715.138 1518.27 Q718.217 1522.85 718.217 1531.6 Q718.217 1540.33 715.138 1544.94 Q712.083 1549.52 706.272 1549.52 Q700.462 1549.52 697.384 1544.94 Q694.328 1540.33 694.328 1531.6 Q694.328 1522.85 697.384 1518.27 Q700.462 1513.66 706.272 1513.66 Z\" fill=\"#000000\" fill-rule=\"nonzero\" fill-opacity=\"1\" /><path clip-path=\"url(#clip170)\" d=\"M726.434 1542.97 L731.319 1542.97 L731.319 1548.85 L726.434 1548.85 L726.434 1542.97 Z\" fill=\"#000000\" fill-rule=\"nonzero\" fill-opacity=\"1\" /><path clip-path=\"url(#clip170)\" d=\"M751.504 1517.37 Q747.893 1517.37 746.064 1520.93 Q744.258 1524.47 744.258 1531.6 Q744.258 1538.71 746.064 1542.27 Q747.893 1545.82 751.504 1545.82 Q755.138 1545.82 756.943 1542.27 Q758.772 1538.71 758.772 1531.6 Q758.772 1524.47 756.943 1520.93 Q755.138 1517.37 751.504 1517.37 M751.504 1513.66 Q757.314 1513.66 760.369 1518.27 Q763.448 1522.85 763.448 1531.6 Q763.448 1540.33 760.369 1544.94 Q757.314 1549.52 751.504 1549.52 Q745.694 1549.52 742.615 1544.94 Q739.559 1540.33 739.559 1531.6 Q739.559 1522.85 742.615 1518.27 Q745.694 1513.66 751.504 1513.66 Z\" fill=\"#000000\" fill-rule=\"nonzero\" fill-opacity=\"1\" /><path clip-path=\"url(#clip170)\" d=\"M781.666 1517.37 Q778.054 1517.37 776.226 1520.93 Q774.42 1524.47 774.42 1531.6 Q774.42 1538.71 776.226 1542.27 Q778.054 1545.82 781.666 1545.82 Q785.3 1545.82 787.105 1542.27 Q788.934 1538.71 788.934 1531.6 Q788.934 1524.47 787.105 1520.93 Q785.3 1517.37 781.666 1517.37 M781.666 1513.66 Q787.476 1513.66 790.531 1518.27 Q793.61 1522.85 793.61 1531.6 Q793.61 1540.33 790.531 1544.94 Q787.476 1549.52 781.666 1549.52 Q775.855 1549.52 772.777 1544.94 Q769.721 1540.33 769.721 1531.6 Q769.721 1522.85 772.777 1518.27 Q775.855 1513.66 781.666 1513.66 Z\" fill=\"#000000\" fill-rule=\"nonzero\" fill-opacity=\"1\" /><path clip-path=\"url(#clip170)\" d=\"M801.874 1514.29 L820.23 1514.29 L820.23 1518.22 L806.156 1518.22 L806.156 1526.7 Q807.175 1526.35 808.193 1526.19 Q809.212 1526 810.23 1526 Q816.017 1526 819.397 1529.17 Q822.776 1532.34 822.776 1537.76 Q822.776 1543.34 819.304 1546.44 Q815.832 1549.52 809.513 1549.52 Q807.337 1549.52 805.068 1549.15 Q802.823 1548.78 800.415 1548.04 L800.415 1543.34 Q802.499 1544.47 804.721 1545.03 Q806.943 1545.58 809.42 1545.58 Q813.425 1545.58 815.763 1543.48 Q818.101 1541.37 818.101 1537.76 Q818.101 1534.15 815.763 1532.04 Q813.425 1529.94 809.42 1529.94 Q807.545 1529.94 805.67 1530.35 Q803.818 1530.77 801.874 1531.65 L801.874 1514.29 Z\" fill=\"#000000\" fill-rule=\"nonzero\" fill-opacity=\"1\" /><path clip-path=\"url(#clip170)\" d=\"M1216.74 1517.37 Q1213.13 1517.37 1211.3 1520.93 Q1209.49 1524.47 1209.49 1531.6 Q1209.49 1538.71 1211.3 1542.27 Q1213.13 1545.82 1216.74 1545.82 Q1220.37 1545.82 1222.18 1542.27 Q1224.01 1538.71 1224.01 1531.6 Q1224.01 1524.47 1222.18 1520.93 Q1220.37 1517.37 1216.74 1517.37 M1216.74 1513.66 Q1222.55 1513.66 1225.6 1518.27 Q1228.68 1522.85 1228.68 1531.6 Q1228.68 1540.33 1225.6 1544.94 Q1222.55 1549.52 1216.74 1549.52 Q1210.93 1549.52 1207.85 1544.94 Q1204.79 1540.33 1204.79 1531.6 Q1204.79 1522.85 1207.85 1518.27 Q1210.93 1513.66 1216.74 1513.66 Z\" fill=\"#000000\" fill-rule=\"nonzero\" fill-opacity=\"1\" /><path clip-path=\"url(#clip170)\" d=\"M1236.9 1542.97 L1241.78 1542.97 L1241.78 1548.85 L1236.9 1548.85 L1236.9 1542.97 Z\" fill=\"#000000\" fill-rule=\"nonzero\" fill-opacity=\"1\" /><path clip-path=\"url(#clip170)\" d=\"M1261.97 1517.37 Q1258.36 1517.37 1256.53 1520.93 Q1254.72 1524.47 1254.72 1531.6 Q1254.72 1538.71 1256.53 1542.27 Q1258.36 1545.82 1261.97 1545.82 Q1265.6 1545.82 1267.41 1542.27 Q1269.24 1538.71 1269.24 1531.6 Q1269.24 1524.47 1267.41 1520.93 Q1265.6 1517.37 1261.97 1517.37 M1261.97 1513.66 Q1267.78 1513.66 1270.83 1518.27 Q1273.91 1522.85 1273.91 1531.6 Q1273.91 1540.33 1270.83 1544.94 Q1267.78 1549.52 1261.97 1549.52 Q1256.16 1549.52 1253.08 1544.94 Q1250.02 1540.33 1250.02 1531.6 Q1250.02 1522.85 1253.08 1518.27 Q1256.16 1513.66 1261.97 1513.66 Z\" fill=\"#000000\" fill-rule=\"nonzero\" fill-opacity=\"1\" /><path clip-path=\"url(#clip170)\" d=\"M1282.94 1544.91 L1290.58 1544.91 L1290.58 1518.55 L1282.27 1520.21 L1282.27 1515.95 L1290.53 1514.29 L1295.21 1514.29 L1295.21 1544.91 L1302.85 1544.91 L1302.85 1548.85 L1282.94 1548.85 L1282.94 1544.91 Z\" fill=\"#000000\" fill-rule=\"nonzero\" fill-opacity=\"1\" /><path clip-path=\"url(#clip170)\" d=\"M1322.29 1517.37 Q1318.68 1517.37 1316.85 1520.93 Q1315.05 1524.47 1315.05 1531.6 Q1315.05 1538.71 1316.85 1542.27 Q1318.68 1545.82 1322.29 1545.82 Q1325.93 1545.82 1327.73 1542.27 Q1329.56 1538.71 1329.56 1531.6 Q1329.56 1524.47 1327.73 1520.93 Q1325.93 1517.37 1322.29 1517.37 M1322.29 1513.66 Q1328.1 1513.66 1331.16 1518.27 Q1334.24 1522.85 1334.24 1531.6 Q1334.24 1540.33 1331.16 1544.94 Q1328.1 1549.52 1322.29 1549.52 Q1316.48 1549.52 1313.4 1544.94 Q1310.35 1540.33 1310.35 1531.6 Q1310.35 1522.85 1313.4 1518.27 Q1316.48 1513.66 1322.29 1513.66 Z\" fill=\"#000000\" fill-rule=\"nonzero\" fill-opacity=\"1\" /><path clip-path=\"url(#clip170)\" d=\"M1728.2 1517.37 Q1724.59 1517.37 1722.76 1520.93 Q1720.95 1524.47 1720.95 1531.6 Q1720.95 1538.71 1722.76 1542.27 Q1724.59 1545.82 1728.2 1545.82 Q1731.83 1545.82 1733.64 1542.27 Q1735.47 1538.71 1735.47 1531.6 Q1735.47 1524.47 1733.64 1520.93 Q1731.83 1517.37 1728.2 1517.37 M1728.2 1513.66 Q1734.01 1513.66 1737.06 1518.27 Q1740.14 1522.85 1740.14 1531.6 Q1740.14 1540.33 1737.06 1544.94 Q1734.01 1549.52 1728.2 1549.52 Q1722.39 1549.52 1719.31 1544.94 Q1716.25 1540.33 1716.25 1531.6 Q1716.25 1522.85 1719.31 1518.27 Q1722.39 1513.66 1728.2 1513.66 Z\" fill=\"#000000\" fill-rule=\"nonzero\" fill-opacity=\"1\" /><path clip-path=\"url(#clip170)\" d=\"M1748.36 1542.97 L1753.24 1542.97 L1753.24 1548.85 L1748.36 1548.85 L1748.36 1542.97 Z\" fill=\"#000000\" fill-rule=\"nonzero\" fill-opacity=\"1\" /><path clip-path=\"url(#clip170)\" d=\"M1773.43 1517.37 Q1769.82 1517.37 1767.99 1520.93 Q1766.18 1524.47 1766.18 1531.6 Q1766.18 1538.71 1767.99 1542.27 Q1769.82 1545.82 1773.43 1545.82 Q1777.06 1545.82 1778.87 1542.27 Q1780.7 1538.71 1780.7 1531.6 Q1780.7 1524.47 1778.87 1520.93 Q1777.06 1517.37 1773.43 1517.37 M1773.43 1513.66 Q1779.24 1513.66 1782.29 1518.27 Q1785.37 1522.85 1785.37 1531.6 Q1785.37 1540.33 1782.29 1544.94 Q1779.24 1549.52 1773.43 1549.52 Q1767.62 1549.52 1764.54 1544.94 Q1761.48 1540.33 1761.48 1531.6 Q1761.48 1522.85 1764.54 1518.27 Q1767.62 1513.66 1773.43 1513.66 Z\" fill=\"#000000\" fill-rule=\"nonzero\" fill-opacity=\"1\" /><path clip-path=\"url(#clip170)\" d=\"M1794.4 1544.91 L1802.04 1544.91 L1802.04 1518.55 L1793.73 1520.21 L1793.73 1515.95 L1801.99 1514.29 L1806.67 1514.29 L1806.67 1544.91 L1814.31 1544.91 L1814.31 1548.85 L1794.4 1548.85 L1794.4 1544.91 Z\" fill=\"#000000\" fill-rule=\"nonzero\" fill-opacity=\"1\" /><path clip-path=\"url(#clip170)\" d=\"M1823.8 1514.29 L1842.16 1514.29 L1842.16 1518.22 L1828.08 1518.22 L1828.08 1526.7 Q1829.1 1526.35 1830.12 1526.19 Q1831.14 1526 1832.16 1526 Q1837.94 1526 1841.32 1529.17 Q1844.7 1532.34 1844.7 1537.76 Q1844.7 1543.34 1841.23 1546.44 Q1837.76 1549.52 1831.44 1549.52 Q1829.26 1549.52 1826.99 1549.15 Q1824.75 1548.78 1822.34 1548.04 L1822.34 1543.34 Q1824.42 1544.47 1826.65 1545.03 Q1828.87 1545.58 1831.35 1545.58 Q1835.35 1545.58 1837.69 1543.48 Q1840.03 1541.37 1840.03 1537.76 Q1840.03 1534.15 1837.69 1532.04 Q1835.35 1529.94 1831.35 1529.94 Q1829.47 1529.94 1827.6 1530.35 Q1825.74 1530.77 1823.8 1531.65 L1823.8 1514.29 Z\" fill=\"#000000\" fill-rule=\"nonzero\" fill-opacity=\"1\" /><path clip-path=\"url(#clip170)\" d=\"M2238.66 1517.37 Q2235.05 1517.37 2233.22 1520.93 Q2231.42 1524.47 2231.42 1531.6 Q2231.42 1538.71 2233.22 1542.27 Q2235.05 1545.82 2238.66 1545.82 Q2242.3 1545.82 2244.1 1542.27 Q2245.93 1538.71 2245.93 1531.6 Q2245.93 1524.47 2244.1 1520.93 Q2242.3 1517.37 2238.66 1517.37 M2238.66 1513.66 Q2244.47 1513.66 2247.53 1518.27 Q2250.61 1522.85 2250.61 1531.6 Q2250.61 1540.33 2247.53 1544.94 Q2244.47 1549.52 2238.66 1549.52 Q2232.85 1549.52 2229.77 1544.94 Q2226.72 1540.33 2226.72 1531.6 Q2226.72 1522.85 2229.77 1518.27 Q2232.85 1513.66 2238.66 1513.66 Z\" fill=\"#000000\" fill-rule=\"nonzero\" fill-opacity=\"1\" /><path clip-path=\"url(#clip170)\" d=\"M2258.82 1542.97 L2263.71 1542.97 L2263.71 1548.85 L2258.82 1548.85 L2258.82 1542.97 Z\" fill=\"#000000\" fill-rule=\"nonzero\" fill-opacity=\"1\" /><path clip-path=\"url(#clip170)\" d=\"M2283.89 1517.37 Q2280.28 1517.37 2278.45 1520.93 Q2276.65 1524.47 2276.65 1531.6 Q2276.65 1538.71 2278.45 1542.27 Q2280.28 1545.82 2283.89 1545.82 Q2287.53 1545.82 2289.33 1542.27 Q2291.16 1538.71 2291.16 1531.6 Q2291.16 1524.47 2289.33 1520.93 Q2287.53 1517.37 2283.89 1517.37 M2283.89 1513.66 Q2289.7 1513.66 2292.76 1518.27 Q2295.84 1522.85 2295.84 1531.6 Q2295.84 1540.33 2292.76 1544.94 Q2289.7 1549.52 2283.89 1549.52 Q2278.08 1549.52 2275.01 1544.94 Q2271.95 1540.33 2271.95 1531.6 Q2271.95 1522.85 2275.01 1518.27 Q2278.08 1513.66 2283.89 1513.66 Z\" fill=\"#000000\" fill-rule=\"nonzero\" fill-opacity=\"1\" /><path clip-path=\"url(#clip170)\" d=\"M2308.08 1544.91 L2324.4 1544.91 L2324.4 1548.85 L2302.46 1548.85 L2302.46 1544.91 Q2305.12 1542.16 2309.7 1537.53 Q2314.31 1532.88 2315.49 1531.53 Q2317.74 1529.01 2318.62 1527.27 Q2319.52 1525.51 2319.52 1523.82 Q2319.52 1521.07 2317.57 1519.33 Q2315.65 1517.6 2312.55 1517.6 Q2310.35 1517.6 2307.9 1518.36 Q2305.47 1519.13 2302.69 1520.68 L2302.69 1515.95 Q2305.51 1514.82 2307.97 1514.24 Q2310.42 1513.66 2312.46 1513.66 Q2317.83 1513.66 2321.02 1516.35 Q2324.22 1519.03 2324.22 1523.52 Q2324.22 1525.65 2323.41 1527.57 Q2322.62 1529.47 2320.51 1532.07 Q2319.94 1532.74 2316.83 1535.95 Q2313.73 1539.15 2308.08 1544.91 Z\" fill=\"#000000\" fill-rule=\"nonzero\" fill-opacity=\"1\" /><path clip-path=\"url(#clip170)\" d=\"M2344.22 1517.37 Q2340.61 1517.37 2338.78 1520.93 Q2336.97 1524.47 2336.97 1531.6 Q2336.97 1538.71 2338.78 1542.27 Q2340.61 1545.82 2344.22 1545.82 Q2347.85 1545.82 2349.66 1542.27 Q2351.49 1538.71 2351.49 1531.6 Q2351.49 1524.47 2349.66 1520.93 Q2347.85 1517.37 2344.22 1517.37 M2344.22 1513.66 Q2350.03 1513.66 2353.08 1518.27 Q2356.16 1522.85 2356.16 1531.6 Q2356.16 1540.33 2353.08 1544.94 Q2350.03 1549.52 2344.22 1549.52 Q2338.41 1549.52 2335.33 1544.94 Q2332.27 1540.33 2332.27 1531.6 Q2332.27 1522.85 2335.33 1518.27 Q2338.41 1513.66 2344.22 1513.66 Z\" fill=\"#000000\" fill-rule=\"nonzero\" fill-opacity=\"1\" /><polyline clip-path=\"url(#clip172)\" style=\"stroke:#000000; stroke-linecap:round; stroke-linejoin:round; stroke-width:2; stroke-opacity:0.1; fill:none\" points=\"186.274,1445.72 2352.76,1445.72 \"/>\n",
       "<polyline clip-path=\"url(#clip172)\" style=\"stroke:#000000; stroke-linecap:round; stroke-linejoin:round; stroke-width:2; stroke-opacity:0.1; fill:none\" points=\"186.274,1079.13 2352.76,1079.13 \"/>\n",
       "<polyline clip-path=\"url(#clip172)\" style=\"stroke:#000000; stroke-linecap:round; stroke-linejoin:round; stroke-width:2; stroke-opacity:0.1; fill:none\" points=\"186.274,712.536 2352.76,712.536 \"/>\n",
       "<polyline clip-path=\"url(#clip172)\" style=\"stroke:#000000; stroke-linecap:round; stroke-linejoin:round; stroke-width:2; stroke-opacity:0.1; fill:none\" points=\"186.274,345.947 2352.76,345.947 \"/>\n",
       "<polyline clip-path=\"url(#clip170)\" style=\"stroke:#000000; stroke-linecap:round; stroke-linejoin:round; stroke-width:4; stroke-opacity:1; fill:none\" points=\"186.274,1486.45 186.274,47.2441 \"/>\n",
       "<polyline clip-path=\"url(#clip170)\" style=\"stroke:#000000; stroke-linecap:round; stroke-linejoin:round; stroke-width:4; stroke-opacity:1; fill:none\" points=\"186.274,1445.72 205.172,1445.72 \"/>\n",
       "<polyline clip-path=\"url(#clip170)\" style=\"stroke:#000000; stroke-linecap:round; stroke-linejoin:round; stroke-width:4; stroke-opacity:1; fill:none\" points=\"186.274,1079.13 205.172,1079.13 \"/>\n",
       "<polyline clip-path=\"url(#clip170)\" style=\"stroke:#000000; stroke-linecap:round; stroke-linejoin:round; stroke-width:4; stroke-opacity:1; fill:none\" points=\"186.274,712.536 205.172,712.536 \"/>\n",
       "<polyline clip-path=\"url(#clip170)\" style=\"stroke:#000000; stroke-linecap:round; stroke-linejoin:round; stroke-width:4; stroke-opacity:1; fill:none\" points=\"186.274,345.947 205.172,345.947 \"/>\n",
       "<path clip-path=\"url(#clip170)\" d=\"M62.9365 1431.51 Q59.3254 1431.51 57.4967 1435.08 Q55.6912 1438.62 55.6912 1445.75 Q55.6912 1452.86 57.4967 1456.42 Q59.3254 1459.96 62.9365 1459.96 Q66.5707 1459.96 68.3763 1456.42 Q70.205 1452.86 70.205 1445.75 Q70.205 1438.62 68.3763 1435.08 Q66.5707 1431.51 62.9365 1431.51 M62.9365 1427.81 Q68.7467 1427.81 71.8022 1432.42 Q74.8809 1437 74.8809 1445.75 Q74.8809 1454.48 71.8022 1459.08 Q68.7467 1463.67 62.9365 1463.67 Q57.1264 1463.67 54.0477 1459.08 Q50.9921 1454.48 50.9921 1445.75 Q50.9921 1437 54.0477 1432.42 Q57.1264 1427.81 62.9365 1427.81 Z\" fill=\"#000000\" fill-rule=\"nonzero\" fill-opacity=\"1\" /><path clip-path=\"url(#clip170)\" d=\"M83.0984 1457.12 L87.9827 1457.12 L87.9827 1463 L83.0984 1463 L83.0984 1457.12 Z\" fill=\"#000000\" fill-rule=\"nonzero\" fill-opacity=\"1\" /><path clip-path=\"url(#clip170)\" d=\"M108.168 1431.51 Q104.557 1431.51 102.728 1435.08 Q100.922 1438.62 100.922 1445.75 Q100.922 1452.86 102.728 1456.42 Q104.557 1459.96 108.168 1459.96 Q111.802 1459.96 113.608 1456.42 Q115.436 1452.86 115.436 1445.75 Q115.436 1438.62 113.608 1435.08 Q111.802 1431.51 108.168 1431.51 M108.168 1427.81 Q113.978 1427.81 117.033 1432.42 Q120.112 1437 120.112 1445.75 Q120.112 1454.48 117.033 1459.08 Q113.978 1463.67 108.168 1463.67 Q102.358 1463.67 99.2789 1459.08 Q96.2234 1454.48 96.2234 1445.75 Q96.2234 1437 99.2789 1432.42 Q102.358 1427.81 108.168 1427.81 Z\" fill=\"#000000\" fill-rule=\"nonzero\" fill-opacity=\"1\" /><path clip-path=\"url(#clip170)\" d=\"M138.33 1431.51 Q134.719 1431.51 132.89 1435.08 Q131.084 1438.62 131.084 1445.75 Q131.084 1452.86 132.89 1456.42 Q134.719 1459.96 138.33 1459.96 Q141.964 1459.96 143.769 1456.42 Q145.598 1452.86 145.598 1445.75 Q145.598 1438.62 143.769 1435.08 Q141.964 1431.51 138.33 1431.51 M138.33 1427.81 Q144.14 1427.81 147.195 1432.42 Q150.274 1437 150.274 1445.75 Q150.274 1454.48 147.195 1459.08 Q144.14 1463.67 138.33 1463.67 Q132.519 1463.67 129.441 1459.08 Q126.385 1454.48 126.385 1445.75 Q126.385 1437 129.441 1432.42 Q132.519 1427.81 138.33 1427.81 Z\" fill=\"#000000\" fill-rule=\"nonzero\" fill-opacity=\"1\" /><path clip-path=\"url(#clip170)\" d=\"M64.1634 1064.92 Q60.5523 1064.92 58.7236 1068.49 Q56.918 1072.03 56.918 1079.16 Q56.918 1086.27 58.7236 1089.83 Q60.5523 1093.37 64.1634 1093.37 Q67.7976 1093.37 69.6031 1089.83 Q71.4318 1086.27 71.4318 1079.16 Q71.4318 1072.03 69.6031 1068.49 Q67.7976 1064.92 64.1634 1064.92 M64.1634 1061.22 Q69.9735 1061.22 73.029 1065.83 Q76.1077 1070.41 76.1077 1079.16 Q76.1077 1087.89 73.029 1092.49 Q69.9735 1097.08 64.1634 1097.08 Q58.3532 1097.08 55.2745 1092.49 Q52.219 1087.89 52.219 1079.16 Q52.219 1070.41 55.2745 1065.83 Q58.3532 1061.22 64.1634 1061.22 Z\" fill=\"#000000\" fill-rule=\"nonzero\" fill-opacity=\"1\" /><path clip-path=\"url(#clip170)\" d=\"M84.3253 1090.53 L89.2095 1090.53 L89.2095 1096.41 L84.3253 1096.41 L84.3253 1090.53 Z\" fill=\"#000000\" fill-rule=\"nonzero\" fill-opacity=\"1\" /><path clip-path=\"url(#clip170)\" d=\"M109.395 1064.92 Q105.783 1064.92 103.955 1068.49 Q102.149 1072.03 102.149 1079.16 Q102.149 1086.27 103.955 1089.83 Q105.783 1093.37 109.395 1093.37 Q113.029 1093.37 114.834 1089.83 Q116.663 1086.27 116.663 1079.16 Q116.663 1072.03 114.834 1068.49 Q113.029 1064.92 109.395 1064.92 M109.395 1061.22 Q115.205 1061.22 118.26 1065.83 Q121.339 1070.41 121.339 1079.16 Q121.339 1087.89 118.26 1092.49 Q115.205 1097.08 109.395 1097.08 Q103.584 1097.08 100.506 1092.49 Q97.4502 1087.89 97.4502 1079.16 Q97.4502 1070.41 100.506 1065.83 Q103.584 1061.22 109.395 1061.22 Z\" fill=\"#000000\" fill-rule=\"nonzero\" fill-opacity=\"1\" /><path clip-path=\"url(#clip170)\" d=\"M130.367 1092.47 L138.006 1092.47 L138.006 1066.11 L129.695 1067.77 L129.695 1063.51 L137.959 1061.85 L142.635 1061.85 L142.635 1092.47 L150.274 1092.47 L150.274 1096.41 L130.367 1096.41 L130.367 1092.47 Z\" fill=\"#000000\" fill-rule=\"nonzero\" fill-opacity=\"1\" /><path clip-path=\"url(#clip170)\" d=\"M64.5337 698.335 Q60.9226 698.335 59.0939 701.9 Q57.2884 705.442 57.2884 712.571 Q57.2884 719.678 59.0939 723.242 Q60.9226 726.784 64.5337 726.784 Q68.168 726.784 69.9735 723.242 Q71.8022 719.678 71.8022 712.571 Q71.8022 705.442 69.9735 701.9 Q68.168 698.335 64.5337 698.335 M64.5337 694.631 Q70.3439 694.631 73.3994 699.238 Q76.4781 703.821 76.4781 712.571 Q76.4781 721.298 73.3994 725.904 Q70.3439 730.488 64.5337 730.488 Q58.7236 730.488 55.6449 725.904 Q52.5893 721.298 52.5893 712.571 Q52.5893 703.821 55.6449 699.238 Q58.7236 694.631 64.5337 694.631 Z\" fill=\"#000000\" fill-rule=\"nonzero\" fill-opacity=\"1\" /><path clip-path=\"url(#clip170)\" d=\"M84.6956 723.937 L89.5799 723.937 L89.5799 729.816 L84.6956 729.816 L84.6956 723.937 Z\" fill=\"#000000\" fill-rule=\"nonzero\" fill-opacity=\"1\" /><path clip-path=\"url(#clip170)\" d=\"M109.765 698.335 Q106.154 698.335 104.325 701.9 Q102.52 705.442 102.52 712.571 Q102.52 719.678 104.325 723.242 Q106.154 726.784 109.765 726.784 Q113.399 726.784 115.205 723.242 Q117.033 719.678 117.033 712.571 Q117.033 705.442 115.205 701.9 Q113.399 698.335 109.765 698.335 M109.765 694.631 Q115.575 694.631 118.631 699.238 Q121.709 703.821 121.709 712.571 Q121.709 721.298 118.631 725.904 Q115.575 730.488 109.765 730.488 Q103.955 730.488 100.876 725.904 Q97.8206 721.298 97.8206 712.571 Q97.8206 703.821 100.876 699.238 Q103.955 694.631 109.765 694.631 Z\" fill=\"#000000\" fill-rule=\"nonzero\" fill-opacity=\"1\" /><path clip-path=\"url(#clip170)\" d=\"M133.955 725.881 L150.274 725.881 L150.274 729.816 L128.33 729.816 L128.33 725.881 Q130.992 723.127 135.575 718.497 Q140.181 713.844 141.362 712.502 Q143.607 709.979 144.487 708.242 Q145.39 706.483 145.39 704.793 Q145.39 702.039 143.445 700.303 Q141.524 698.567 138.422 698.567 Q136.223 698.567 133.769 699.33 Q131.339 700.094 128.561 701.645 L128.561 696.923 Q131.385 695.789 133.839 695.21 Q136.293 694.631 138.33 694.631 Q143.7 694.631 146.894 697.317 Q150.089 700.002 150.089 704.492 Q150.089 706.622 149.279 708.543 Q148.492 710.442 146.385 713.034 Q145.806 713.705 142.705 716.923 Q139.603 720.117 133.955 725.881 Z\" fill=\"#000000\" fill-rule=\"nonzero\" fill-opacity=\"1\" /><path clip-path=\"url(#clip170)\" d=\"M63.5847 331.745 Q59.9736 331.745 58.1449 335.31 Q56.3393 338.852 56.3393 345.981 Q56.3393 353.088 58.1449 356.653 Q59.9736 360.194 63.5847 360.194 Q67.2189 360.194 69.0244 356.653 Q70.8531 353.088 70.8531 345.981 Q70.8531 338.852 69.0244 335.31 Q67.2189 331.745 63.5847 331.745 M63.5847 328.042 Q69.3948 328.042 72.4503 332.648 Q75.529 337.232 75.529 345.981 Q75.529 354.708 72.4503 359.315 Q69.3948 363.898 63.5847 363.898 Q57.7745 363.898 54.6958 359.315 Q51.6403 354.708 51.6403 345.981 Q51.6403 337.232 54.6958 332.648 Q57.7745 328.042 63.5847 328.042 Z\" fill=\"#000000\" fill-rule=\"nonzero\" fill-opacity=\"1\" /><path clip-path=\"url(#clip170)\" d=\"M83.7466 357.347 L88.6308 357.347 L88.6308 363.227 L83.7466 363.227 L83.7466 357.347 Z\" fill=\"#000000\" fill-rule=\"nonzero\" fill-opacity=\"1\" /><path clip-path=\"url(#clip170)\" d=\"M108.816 331.745 Q105.205 331.745 103.376 335.31 Q101.571 338.852 101.571 345.981 Q101.571 353.088 103.376 356.653 Q105.205 360.194 108.816 360.194 Q112.45 360.194 114.256 356.653 Q116.084 353.088 116.084 345.981 Q116.084 338.852 114.256 335.31 Q112.45 331.745 108.816 331.745 M108.816 328.042 Q114.626 328.042 117.682 332.648 Q120.76 337.232 120.76 345.981 Q120.76 354.708 117.682 359.315 Q114.626 363.898 108.816 363.898 Q103.006 363.898 99.927 359.315 Q96.8715 354.708 96.8715 345.981 Q96.8715 337.232 99.927 332.648 Q103.006 328.042 108.816 328.042 Z\" fill=\"#000000\" fill-rule=\"nonzero\" fill-opacity=\"1\" /><path clip-path=\"url(#clip170)\" d=\"M143.144 344.593 Q146.501 345.31 148.376 347.579 Q150.274 349.847 150.274 353.181 Q150.274 358.296 146.756 361.097 Q143.237 363.898 136.756 363.898 Q134.58 363.898 132.265 363.458 Q129.973 363.042 127.519 362.185 L127.519 357.671 Q129.464 358.805 131.779 359.384 Q134.094 359.963 136.617 359.963 Q141.015 359.963 143.306 358.227 Q145.621 356.491 145.621 353.181 Q145.621 350.125 143.468 348.412 Q141.339 346.676 137.519 346.676 L133.492 346.676 L133.492 342.833 L137.705 342.833 Q141.154 342.833 142.982 341.468 Q144.811 340.079 144.811 337.486 Q144.811 334.824 142.913 333.412 Q141.038 331.977 137.519 331.977 Q135.598 331.977 133.399 332.394 Q131.2 332.81 128.561 333.69 L128.561 329.523 Q131.223 328.783 133.538 328.412 Q135.876 328.042 137.936 328.042 Q143.26 328.042 146.362 330.472 Q149.464 332.88 149.464 337 Q149.464 339.87 147.82 341.861 Q146.177 343.829 143.144 344.593 Z\" fill=\"#000000\" fill-rule=\"nonzero\" fill-opacity=\"1\" /><circle clip-path=\"url(#clip172)\" cx=\"1525\" cy=\"567.214\" r=\"14.4\" fill=\"#009af9\" fill-rule=\"evenodd\" fill-opacity=\"1\" stroke=\"#000000\" stroke-opacity=\"1\" stroke-width=\"3.2\"/>\n",
       "<polyline clip-path=\"url(#clip172)\" style=\"stroke:#e26f46; stroke-linecap:round; stroke-linejoin:round; stroke-width:4; stroke-opacity:1; fill:none\" points=\"247.59,1445.72 503.071,1264.24 758.552,1086.31 1014.03,911.847 1269.51,740.736 1525,572.883 1780.48,408.198 2035.96,246.591 2291.44,87.9763 \"/>\n",
       "<path clip-path=\"url(#clip170)\" d=\"M258.49 250.738 L581.503 250.738 L581.503 95.2176 L258.49 95.2176  Z\" fill=\"#ffffff\" fill-rule=\"evenodd\" fill-opacity=\"1\"/>\n",
       "<polyline clip-path=\"url(#clip170)\" style=\"stroke:#000000; stroke-linecap:round; stroke-linejoin:round; stroke-width:4; stroke-opacity:1; fill:none\" points=\"258.49,250.738 581.503,250.738 581.503,95.2176 258.49,95.2176 258.49,250.738 \"/>\n",
       "<circle clip-path=\"url(#clip170)\" cx=\"354.778\" cy=\"147.058\" r=\"20.48\" fill=\"#009af9\" fill-rule=\"evenodd\" fill-opacity=\"1\" stroke=\"#000000\" stroke-opacity=\"1\" stroke-width=\"4.55111\"/>\n",
       "<path clip-path=\"url(#clip170)\" d=\"M464.909 166.745 Q463.103 171.375 461.39 172.787 Q459.677 174.199 456.807 174.199 L453.404 174.199 L453.404 170.634 L455.904 170.634 Q457.663 170.634 458.636 169.8 Q459.608 168.967 460.788 165.865 L461.552 163.921 L451.066 138.412 L455.58 138.412 L463.682 158.689 L471.784 138.412 L476.298 138.412 L464.909 166.745 Z\" fill=\"#000000\" fill-rule=\"nonzero\" fill-opacity=\"1\" /><path clip-path=\"url(#clip170)\" d=\"M483.589 160.402 L491.228 160.402 L491.228 134.037 L482.918 135.703 L482.918 131.444 L491.182 129.778 L495.858 129.778 L495.858 160.402 L503.497 160.402 L503.497 164.338 L483.589 164.338 L483.589 160.402 Z\" fill=\"#000000\" fill-rule=\"nonzero\" fill-opacity=\"1\" /><polyline clip-path=\"url(#clip170)\" style=\"stroke:#e26f46; stroke-linecap:round; stroke-linejoin:round; stroke-width:4; stroke-opacity:1; fill:none\" points=\"282.562,198.898 426.994,198.898 \"/>\n",
       "<path clip-path=\"url(#clip170)\" d=\"M451.066 181.618 L455.742 181.618 L455.742 216.178 L451.066 216.178 L451.066 181.618 Z\" fill=\"#000000\" fill-rule=\"nonzero\" fill-opacity=\"1\" /><path clip-path=\"url(#clip170)\" d=\"M481.923 194.187 L481.923 180.159 L486.182 180.159 L486.182 216.178 L481.923 216.178 L481.923 212.289 Q480.58 214.603 478.52 215.738 Q476.483 216.849 473.612 216.849 Q468.913 216.849 465.95 213.099 Q463.011 209.349 463.011 203.238 Q463.011 197.127 465.95 193.377 Q468.913 189.627 473.612 189.627 Q476.483 189.627 478.52 190.761 Q480.58 191.872 481.923 194.187 M467.409 203.238 Q467.409 207.937 469.33 210.622 Q471.274 213.284 474.654 213.284 Q478.034 213.284 479.978 210.622 Q481.923 207.937 481.923 203.238 Q481.923 198.539 479.978 195.877 Q478.034 193.192 474.654 193.192 Q471.274 193.192 469.33 195.877 Q467.409 198.539 467.409 203.238 Z\" fill=\"#000000\" fill-rule=\"nonzero\" fill-opacity=\"1\" /><path clip-path=\"url(#clip170)\" d=\"M517.131 202.15 L517.131 204.233 L497.547 204.233 Q497.825 208.631 500.186 210.946 Q502.571 213.238 506.807 213.238 Q509.26 213.238 511.552 212.636 Q513.867 212.034 516.135 210.83 L516.135 214.858 Q513.844 215.83 511.436 216.34 Q509.029 216.849 506.552 216.849 Q500.348 216.849 496.714 213.238 Q493.103 209.627 493.103 203.469 Q493.103 197.104 496.529 193.377 Q499.978 189.627 505.811 189.627 Q511.043 189.627 514.075 193.006 Q517.131 196.363 517.131 202.15 M512.871 200.9 Q512.825 197.405 510.904 195.321 Q509.006 193.238 505.858 193.238 Q502.293 193.238 500.14 195.252 Q498.01 197.266 497.686 200.923 L512.871 200.9 Z\" fill=\"#000000\" fill-rule=\"nonzero\" fill-opacity=\"1\" /><path clip-path=\"url(#clip170)\" d=\"M535.904 203.145 Q530.742 203.145 528.751 204.326 Q526.76 205.506 526.76 208.354 Q526.76 210.622 528.242 211.965 Q529.746 213.284 532.316 213.284 Q535.857 213.284 537.987 210.784 Q540.14 208.261 540.14 204.094 L540.14 203.145 L535.904 203.145 M544.399 201.386 L544.399 216.178 L540.14 216.178 L540.14 212.242 Q538.682 214.603 536.506 215.738 Q534.33 216.849 531.182 216.849 Q527.2 216.849 524.839 214.627 Q522.501 212.381 522.501 208.631 Q522.501 204.256 525.418 202.034 Q528.357 199.812 534.168 199.812 L540.14 199.812 L540.14 199.395 Q540.14 196.455 538.195 194.858 Q536.274 193.238 532.779 193.238 Q530.557 193.238 528.45 193.77 Q526.344 194.303 524.399 195.367 L524.399 191.432 Q526.737 190.53 528.936 190.09 Q531.135 189.627 533.219 189.627 Q538.844 189.627 541.621 192.543 Q544.399 195.46 544.399 201.386 Z\" fill=\"#000000\" fill-rule=\"nonzero\" fill-opacity=\"1\" /><path clip-path=\"url(#clip170)\" d=\"M553.172 180.159 L557.431 180.159 L557.431 216.178 L553.172 216.178 L553.172 180.159 Z\" fill=\"#000000\" fill-rule=\"nonzero\" fill-opacity=\"1\" /></svg>\n"
      ]
     },
     "metadata": {},
     "output_type": "display_data"
    }
   ],
   "source": [
    "plot([dep,], [real(g_val),], seriestype=\"scatter\")\n",
    "plot!([0:0.0025:0.02;], [2*i/(1+4*i) for i=0:0.0025:0.02], label=\"Ideal\")"
   ]
  },
  {
   "cell_type": "code",
   "execution_count": 37,
   "metadata": {},
   "outputs": [
    {
     "name": "stdout",
     "output_type": "stream",
     "text": [
      "0.0025\n",
      "0.005\n",
      "0.0075\n",
      "0.01\n",
      "0.0125\n",
      "0.015\n",
      "0.0175\n",
      "0.02\n"
     ]
    }
   ],
   "source": [
    "g34_list8 =  [;]\n",
    "gamma = 1\n",
    "no_cavs = 8\n",
    "dt = 0.01\n",
    "t_final = 10\n",
    "for dep=0.0025:0.0025:0.02\n",
    "    println(dep)\n",
    "    mpo, sites = cash_karppe_evolve(no_cavs, dep, gamma, dt, t_final)\n",
    "    double, double_sites = n_copy_mpo(2, mpo, sites)\n",
    "    for i=1:no_cavs\n",
    "        beamsplitter!(double, i, i+no_cavs, double_sites)\n",
    "    end\n",
    "    push!(g34_list8, g_34(double, double_sites, no_cavs))\n",
    "end"
   ]
  },
  {
   "cell_type": "code",
   "execution_count": 95,
   "metadata": {},
   "outputs": [],
   "source": [
    "# f = jldopen(\"g3.jld2\", \"r\")\n",
    "# g34_list3old = f[\"g34_list3\"]\n",
    "# close(f)"
   ]
  },
  {
   "cell_type": "code",
   "execution_count": 116,
   "metadata": {},
   "outputs": [
    {
     "data": {
      "text/plain": [
       "\"Distinguishability_plot.pdf\""
      ]
     },
     "metadata": {},
     "output_type": "display_data"
    }
   ],
   "source": [
    "p = plot([0:0.0025:0.01;], append!([0.0,],real(g34_list10[1:end-1])), label=\"\")\n",
    "plot!([0:0.0025:0.01;], append!([0.0,],real(g34_list10[1:end-1])),  seriestype=\"scatter\", label=\"Truncated Simulation\")\n",
    "# plot!([0.0025:0.0025:0.02;], real(g34_list8), label=\"8 cav\")\n",
    "# plot!([0.0025:0.0025:0.02;], real(g34_list8), seriestype=\"scatter\")\n",
    "# plot!([0.0025,], real(g34_list3old), seriestype=\"scatter\")\n",
    "plot!([0:0.0025:0.01;], [2*i/(1+4*i) for i=0:0.0025:0.01], label=\"Ideal\")\n",
    "plot!(xlabel=\"Dephasing Error\", ylabel=\"Distinguishability\")\n",
    "Plots.pdf(p, \"Distinguishability_plot.pdf\")"
   ]
  },
  {
   "cell_type": "code",
   "execution_count": 232,
   "metadata": {},
   "outputs": [
    {
     "data": {
      "text/plain": [
       "retcode: Success\n",
       "Interpolation: 1st order linear\n",
       "t: 7-element Vector{Float64}:\n",
       " 0.0\n",
       " 0.023787176019345987\n",
       " 0.0898170419682707\n",
       " 0.26101793451240834\n",
       " 0.6789993898990099\n",
       " 1.6469579859738244\n",
       " 3.7884277896807528\n",
       "u: 7-element Vector{Float64}:\n",
       " 0.1\n",
       " 0.2398597509195167\n",
       " 0.43542176370697744\n",
       " 0.72937901101907\n",
       " 1.1695988254436376\n",
       " 1.8176541929302128\n",
       " 2.7544182327344866"
      ]
     },
     "metadata": {},
     "output_type": "display_data"
    }
   ],
   "source": [
    "prob_test = ODEProblem(dx, 0.1, (0,5))\n",
    "sol = solve(prob_test, saveat=cumsum(list_t))"
   ]
  },
  {
   "cell_type": "markdown",
   "metadata": {},
   "source": [
    "# \n",
    "---"
   ]
  },
  {
   "cell_type": "markdown",
   "metadata": {},
   "source": [
    "# Diff eqn test"
   ]
  },
  {
   "cell_type": "code",
   "execution_count": 81,
   "metadata": {},
   "outputs": [
    {
     "name": "stdout",
     "output_type": "stream",
     "text": [
      "genfunctions\n"
     ]
    },
    {
     "name": "stderr",
     "output_type": "stream",
     "text": [
      "┌ Warning: Using arrays or dicts to store parameters of different types can hurt performance.\n",
      "│ Consider using tuples instead.\n",
      "└ @ SciMLBase /Users/ygup3491/.julia/packages/SciMLBase/2HZ5m/src/performance_warnings.jl:32\n"
     ]
    },
    {
     "data": {
      "text/plain": [
       "\u001b[38;2;86;182;194mODEProblem\u001b[0m with uType \u001b[38;2;86;182;194mMPO\u001b[0m and tType \u001b[38;2;86;182;194mFloat64\u001b[0m. In-place: \u001b[38;2;86;182;194mfalse\u001b[0m\n",
       "timespan: (0.0, 10.0)\n",
       "u0: MPO\n",
       "[1] ((dim=3|id=501|\"Qudit,Site,n=1\")', (dim=3|id=501|\"Qudit,Site,n=1\"), (dim=1|id=742|\"Link,l=1\"))\n",
       "[2] ((dim=3|id=289|\"Qudit,Site,n=2\")', (dim=3|id=289|\"Qudit,Site,n=2\"), (dim=1|id=131|\"Link,l=2\"), (dim=1|id=742|\"Link,l=1\"))\n",
       "[3] ((dim=3|id=479|\"Qudit,Site,n=3\")', (dim=3|id=479|\"Qudit,Site,n=3\"), (dim=1|id=131|\"Link,l=2\"))\n"
      ]
     },
     "metadata": {},
     "output_type": "display_data"
    }
   ],
   "source": [
    "no_cavs = 2\n",
    "sys_sites = siteinds(\"Qudit\", no_cavs+1, dim=3)\n",
    "input_list = repeat([\"Ground\",],no_cavs+1)\n",
    "input_list[1] = \"Excite1\"\n",
    "sys = MPO(sys_sites, input_list)\n",
    "\n",
    "#Generating G2\n",
    "gamma = 1\n",
    "t_final = 10\n",
    "depha = 0\n",
    "\n",
    "g_f = g2_(gamma, depha, t_final, dt/2, no_cavs)\n",
    "println(\"genfunctions\")\n",
    "\n",
    "p = (sys_sites, g_f, sqrt(gamma), depha)\n",
    "prob = ODEProblem(drho3, sys, (0.0,t_final), p)"
   ]
  },
  {
   "cell_type": "code",
   "execution_count": 82,
   "metadata": {},
   "outputs": [
    {
     "data": {
      "text/plain": [
       "\u001b[38;2;86;182;194mODEProblem\u001b[0m with uType \u001b[38;2;86;182;194mMPO\u001b[0m and tType \u001b[38;2;86;182;194mFloat64\u001b[0m. In-place: \u001b[38;2;86;182;194mtrue\u001b[0m\n",
       "timespan: (0.0, 10.0)\n",
       "u0: MPO\n",
       "[1] ((dim=3|id=501|\"Qudit,Site,n=1\")', (dim=3|id=501|\"Qudit,Site,n=1\"), (dim=1|id=742|\"Link,l=1\"))\n",
       "[2] ((dim=3|id=289|\"Qudit,Site,n=2\")', (dim=3|id=289|\"Qudit,Site,n=2\"), (dim=1|id=131|\"Link,l=2\"), (dim=1|id=742|\"Link,l=1\"))\n",
       "[3] ((dim=3|id=479|\"Qudit,Site,n=3\")', (dim=3|id=479|\"Qudit,Site,n=3\"), (dim=1|id=131|\"Link,l=2\"))\n"
      ]
     },
     "metadata": {},
     "output_type": "display_data"
    }
   ],
   "source": [
    "prob2 = ODEProblem(dmpo_test!, sys, (0.0,t_final), p)"
   ]
  },
  {
   "cell_type": "code",
   "execution_count": 79,
   "metadata": {},
   "outputs": [
    {
     "data": {
      "text/plain": [
       "dmpo_test! (generic function with 1 method)"
      ]
     },
     "metadata": {},
     "output_type": "display_data"
    }
   ],
   "source": [
    "function dmpo_test!(drho, rho, p, t)\n",
    "    sites = p[1]\n",
    "    drho .= 0* MPO(sites, \"I\")\n",
    "    \n",
    "end"
   ]
  },
  {
   "cell_type": "code",
   "execution_count": null,
   "metadata": {},
   "outputs": [],
   "source": [
    "function get_sites(mpo_i)\n",
    "    no_sites = length(mpo_i)\n",
    "    site_list = [;]\n",
    "    for i=1:no_sites-1\n",
    "        println(uniqueinds(mpo_i[i], mpo_i[i+1]))\n",
    "        append!( site_list, uniqueinds(mpo_i[i], mpo_i[i+1]))\n",
    "    end\n",
    "    noprime!(site_list)\n",
    "    union!(site_list)\n",
    "    return site_list\n",
    "end"
   ]
  },
  {
   "cell_type": "code",
   "execution_count": 77,
   "metadata": {},
   "outputs": [],
   "source": [
    "function ITensors.oneunit(mpo_i::MPO)\n",
    "    mpo_sites = siteinds(mpo_i)\n",
    "    site_list = Index{Int64}[;]\n",
    "    for i in mpo_sites\n",
    "        plev(i[1]) == 0 ? push!(site_list, i[1]) : push!(site_list, i[2])\n",
    "    end\n",
    "    iden_mpo = MPO(site_list, \"I\")\n",
    "    return iden_mpo\n",
    "end"
   ]
  },
  {
   "cell_type": "code",
   "execution_count": 100,
   "metadata": {},
   "outputs": [
    {
     "data": {
      "text/plain": [
       "5-element Vector{Any}:\n",
       " 0.004456372553084757 + 6.8661973589071875e-12im\n",
       " 0.009212752913508215 + 3.0330706532980973e-9im\n",
       " 0.014052481148312554 - 4.686498151937339e-10im\n",
       " 0.018977736501179093 + 1.453050723863959e-9im\n",
       " 0.024000385345919372 + 1.8609515342444433e-9im"
      ]
     },
     "metadata": {},
     "output_type": "display_data"
    }
   ],
   "source": [
    "g34_list10"
   ]
  },
  {
   "cell_type": "code",
   "execution_count": 101,
   "metadata": {},
   "outputs": [
    {
     "data": {
      "text/plain": [
       "3-element Vector{Int64}:\n",
       " 3\n",
       " 5\n",
       " 6"
      ]
     },
     "metadata": {},
     "output_type": "display_data"
    }
   ],
   "source": [
    "a = [3,5,6]"
   ]
  },
  {
   "cell_type": "code",
   "execution_count": 104,
   "metadata": {},
   "outputs": [
    {
     "data": {
      "text/plain": [
       "3-element Vector{Int64}:\n",
       " 3\n",
       " 5\n",
       " 6"
      ]
     },
     "metadata": {},
     "output_type": "display_data"
    }
   ],
   "source": [
    "a"
   ]
  },
  {
   "cell_type": "code",
   "execution_count": 103,
   "metadata": {},
   "outputs": [
    {
     "data": {
      "text/plain": [
       "4-element Vector{Int64}:\n",
       " 0\n",
       " 3\n",
       " 5\n",
       " 6"
      ]
     },
     "metadata": {},
     "output_type": "display_data"
    }
   ],
   "source": [
    "append!([0,], a)"
   ]
  },
  {
   "cell_type": "code",
   "execution_count": 78,
   "metadata": {},
   "outputs": [
    {
     "data": {
      "text/plain": [
       "MPO\n",
       "[1] ((dim=3|id=64|\"Qudit,Site,n=1\")', (dim=3|id=64|\"Qudit,Site,n=1\"), (dim=1|id=96|\"Link,l=1\"))\n",
       "[2] ((dim=3|id=355|\"Qudit,Site,n=2\")', (dim=3|id=355|\"Qudit,Site,n=2\"), (dim=1|id=133|\"Link,l=2\"), (dim=1|id=96|\"Link,l=1\"))\n",
       "[3] ((dim=3|id=714|\"Qudit,Site,n=3\")', (dim=3|id=714|\"Qudit,Site,n=3\"), (dim=1|id=133|\"Link,l=2\"))\n"
      ]
     },
     "metadata": {},
     "output_type": "display_data"
    }
   ],
   "source": [
    "oneunit(sys)"
   ]
  },
  {
   "cell_type": "code",
   "execution_count": null,
   "metadata": {},
   "outputs": [],
   "source": [
    "typeof(sys)"
   ]
  },
  {
   "cell_type": "code",
   "execution_count": 85,
   "metadata": {},
   "outputs": [],
   "source": [
    "import Base.oneunit"
   ]
  },
  {
   "cell_type": "code",
   "execution_count": 94,
   "metadata": {},
   "outputs": [
    {
     "data": {
      "text/plain": [
       "oneunit (generic function with 34 methods)"
      ]
     },
     "metadata": {},
     "output_type": "display_data"
    }
   ],
   "source": [
    "function oneunit(a::Type{Any})\n",
    "    if typeof(a) == MPO\n",
    "        return oneunit(a)\n",
    "    else\n",
    "        println(a)\n",
    "        throw(\"what\")\n",
    "    end\n",
    "end"
   ]
  },
  {
   "cell_type": "code",
   "execution_count": 95,
   "metadata": {},
   "outputs": [],
   "source": []
  },
  {
   "cell_type": "code",
   "execution_count": 96,
   "metadata": {},
   "outputs": [
    {
     "name": "stdout",
     "output_type": "stream",
     "text": [
      "Any\n"
     ]
    },
    {
     "ename": "String",
     "evalue": "\"what\"",
     "output_type": "error",
     "traceback": [
      "\"what\"\n",
      "\n",
      "Stacktrace:\n",
      "  [1] oneunit(a::Type{Any})\n",
      "    @ Main ~/Documents/FBQC_Cavity_codes/Errors-in-FBQC-Code/BellStateGenerator.ipynb:6\n",
      "  [2] __init(prob::ODEProblem{MPO, Tuple{Float64, Float64}, true, Tuple{Vector{Index{Int64}}, Vector{Any}, Float64, Int64}, ODEFunction{true, SciMLBase.AutoSpecialize, typeof(dmpo_test!), UniformScaling{Bool}, Nothing, Nothing, Nothing, Nothing, Nothing, Nothing, Nothing, Nothing, Nothing, Nothing, Nothing, typeof(SciMLBase.DEFAULT_OBSERVED), Nothing, SymbolicIndexingInterface.SymbolCache{Nothing, Nothing, Nothing}}, @Kwargs{}, SciMLBase.StandardODEProblem}, alg::CompositeAlgorithm{Tuple{Vern7{typeof(OrdinaryDiffEq.trivial_limiter!), typeof(OrdinaryDiffEq.trivial_limiter!), Static.False}, Rodas5P{0, false, Nothing, typeof(OrdinaryDiffEq.DEFAULT_PRECS), Val{:forward}, true, nothing}}, AutoSwitch{Vern7{typeof(OrdinaryDiffEq.trivial_limiter!), typeof(OrdinaryDiffEq.trivial_limiter!), Static.False}, Rodas5P{0, false, Nothing, typeof(OrdinaryDiffEq.DEFAULT_PRECS), Val{:forward}, true, nothing}, Rational{Int64}, Int64}}, timeseries_init::Tuple{}, ts_init::Tuple{}, ks_init::Tuple{}, recompile::Type{Val{true}}; saveat::Tuple{}, tstops::Tuple{}, d_discontinuities::Tuple{}, save_idxs::Nothing, save_everystep::Bool, save_on::Bool, save_start::Bool, save_end::Nothing, callback::Nothing, dense::Bool, calck::Bool, dt::Float64, dtmin::Float64, dtmax::Float64, force_dtmin::Bool, adaptive::Bool, gamma::Rational{Int64}, abstol::Nothing, reltol::Nothing, qmin::Rational{Int64}, qmax::Int64, qsteady_min::Int64, qsteady_max::Int64, beta1::Nothing, beta2::Nothing, qoldinit::Rational{Int64}, controller::Nothing, fullnormalize::Bool, failfactor::Int64, maxiters::Int64, internalnorm::typeof(DiffEqBase.ODE_DEFAULT_NORM), internalopnorm::typeof(opnorm), isoutofdomain::typeof(DiffEqBase.ODE_DEFAULT_ISOUTOFDOMAIN), unstable_check::typeof(DiffEqBase.ODE_DEFAULT_UNSTABLE_CHECK), verbose::Bool, timeseries_errors::Bool, dense_errors::Bool, advance_to_tstop::Bool, stop_at_next_tstop::Bool, initialize_save::Bool, progress::Bool, progress_steps::Int64, progress_name::String, progress_message::typeof(DiffEqBase.ODE_DEFAULT_PROG_MESSAGE), progress_id::Symbol, userdata::Nothing, allow_extrapolation::Bool, initialize_integrator::Bool, alias_u0::Bool, alias_du0::Bool, initializealg::OrdinaryDiffEq.DefaultInit, kwargs::@Kwargs{default_set::Bool, second_time::Bool})\n",
      "    @ OrdinaryDiffEq ~/.julia/packages/OrdinaryDiffEq/NBaQM/src/solve.jl:184\n",
      "  [3] __solve(::ODEProblem{MPO, Tuple{Float64, Float64}, true, Tuple{Vector{Index{Int64}}, Vector{Any}, Float64, Int64}, ODEFunction{true, SciMLBase.AutoSpecialize, typeof(dmpo_test!), UniformScaling{Bool}, Nothing, Nothing, Nothing, Nothing, Nothing, Nothing, Nothing, Nothing, Nothing, Nothing, Nothing, typeof(SciMLBase.DEFAULT_OBSERVED), Nothing, SymbolicIndexingInterface.SymbolCache{Nothing, Nothing, Nothing}}, @Kwargs{}, SciMLBase.StandardODEProblem}, ::CompositeAlgorithm{Tuple{Vern7{typeof(OrdinaryDiffEq.trivial_limiter!), typeof(OrdinaryDiffEq.trivial_limiter!), Static.False}, Rodas5P{0, false, Nothing, typeof(OrdinaryDiffEq.DEFAULT_PRECS), Val{:forward}, true, nothing}}, AutoSwitch{Vern7{typeof(OrdinaryDiffEq.trivial_limiter!), typeof(OrdinaryDiffEq.trivial_limiter!), Static.False}, Rodas5P{0, false, Nothing, typeof(OrdinaryDiffEq.DEFAULT_PRECS), Val{:forward}, true, nothing}, Rational{Int64}, Int64}}; kwargs::@Kwargs{default_set::Bool, second_time::Bool})\n",
      "    @ OrdinaryDiffEq ~/.julia/packages/OrdinaryDiffEq/NBaQM/src/solve.jl:5\n",
      "  [4] solve_call(_prob::ODEProblem{MPO, Tuple{Float64, Float64}, true, Tuple{Vector{Index{Int64}}, Vector{Any}, Float64, Int64}, ODEFunction{true, SciMLBase.AutoSpecialize, typeof(dmpo_test!), UniformScaling{Bool}, Nothing, Nothing, Nothing, Nothing, Nothing, Nothing, Nothing, Nothing, Nothing, Nothing, Nothing, typeof(SciMLBase.DEFAULT_OBSERVED), Nothing, SymbolicIndexingInterface.SymbolCache{Nothing, Nothing, Nothing}}, @Kwargs{}, SciMLBase.StandardODEProblem}, args::CompositeAlgorithm{Tuple{Vern7{typeof(OrdinaryDiffEq.trivial_limiter!), typeof(OrdinaryDiffEq.trivial_limiter!), Static.False}, Rodas5P{0, false, Nothing, typeof(OrdinaryDiffEq.DEFAULT_PRECS), Val{:forward}, true, nothing}}, AutoSwitch{Vern7{typeof(OrdinaryDiffEq.trivial_limiter!), typeof(OrdinaryDiffEq.trivial_limiter!), Static.False}, Rodas5P{0, false, Nothing, typeof(OrdinaryDiffEq.DEFAULT_PRECS), Val{:forward}, true, nothing}, Rational{Int64}, Int64}}; merge_callbacks::Bool, kwargshandle::Nothing, kwargs::@Kwargs{default_set::Bool, second_time::Bool})\n",
      "    @ DiffEqBase ~/.julia/packages/DiffEqBase/eTCPy/src/solve.jl:608\n",
      "  [5] solve_up(prob::ODEProblem{MPO, Tuple{Float64, Float64}, true, Tuple{Vector{Index{Int64}}, Vector{Any}, Float64, Int64}, ODEFunction{true, SciMLBase.AutoSpecialize, typeof(dmpo_test!), UniformScaling{Bool}, Nothing, Nothing, Nothing, Nothing, Nothing, Nothing, Nothing, Nothing, Nothing, Nothing, Nothing, typeof(SciMLBase.DEFAULT_OBSERVED), Nothing, SymbolicIndexingInterface.SymbolCache{Nothing, Nothing, Nothing}}, @Kwargs{}, SciMLBase.StandardODEProblem}, sensealg::Nothing, u0::MPO, p::Tuple{Vector{Index{Int64}}, Vector{Any}, Float64, Int64}, args::CompositeAlgorithm{Tuple{Vern7{typeof(OrdinaryDiffEq.trivial_limiter!), typeof(OrdinaryDiffEq.trivial_limiter!), Static.False}, Rodas5P{0, false, Nothing, typeof(OrdinaryDiffEq.DEFAULT_PRECS), Val{:forward}, true, nothing}}, AutoSwitch{Vern7{typeof(OrdinaryDiffEq.trivial_limiter!), typeof(OrdinaryDiffEq.trivial_limiter!), Static.False}, Rodas5P{0, false, Nothing, typeof(OrdinaryDiffEq.DEFAULT_PRECS), Val{:forward}, true, nothing}, Rational{Int64}, Int64}}; kwargs::@Kwargs{default_set::Bool, second_time::Bool})\n",
      "    @ DiffEqBase ~/.julia/packages/DiffEqBase/eTCPy/src/solve.jl:1057\n",
      "  [6] solve_up\n",
      "    @ ~/.julia/packages/DiffEqBase/eTCPy/src/solve.jl:1043 [inlined]\n",
      "  [7] solve(prob::ODEProblem{MPO, Tuple{Float64, Float64}, true, Tuple{Vector{Index{Int64}}, Vector{Any}, Float64, Int64}, ODEFunction{true, SciMLBase.AutoSpecialize, typeof(dmpo_test!), UniformScaling{Bool}, Nothing, Nothing, Nothing, Nothing, Nothing, Nothing, Nothing, Nothing, Nothing, Nothing, Nothing, typeof(SciMLBase.DEFAULT_OBSERVED), Nothing, SymbolicIndexingInterface.SymbolCache{Nothing, Nothing, Nothing}}, @Kwargs{}, SciMLBase.StandardODEProblem}, args::CompositeAlgorithm{Tuple{Vern7{typeof(OrdinaryDiffEq.trivial_limiter!), typeof(OrdinaryDiffEq.trivial_limiter!), Static.False}, Rodas5P{0, false, Nothing, typeof(OrdinaryDiffEq.DEFAULT_PRECS), Val{:forward}, true, nothing}}, AutoSwitch{Vern7{typeof(OrdinaryDiffEq.trivial_limiter!), typeof(OrdinaryDiffEq.trivial_limiter!), Static.False}, Rodas5P{0, false, Nothing, typeof(OrdinaryDiffEq.DEFAULT_PRECS), Val{:forward}, true, nothing}, Rational{Int64}, Int64}}; sensealg::Nothing, u0::Nothing, p::Nothing, wrap::Val{true}, kwargs::@Kwargs{default_set::Bool, second_time::Bool})\n",
      "    @ DiffEqBase ~/.julia/packages/DiffEqBase/eTCPy/src/solve.jl:980\n",
      "  [8] __solve(::ODEProblem{MPO, Tuple{Float64, Float64}, true, Tuple{Vector{Index{Int64}}, Vector{Any}, Float64, Int64}, ODEFunction{true, SciMLBase.AutoSpecialize, typeof(dmpo_test!), UniformScaling{Bool}, Nothing, Nothing, Nothing, Nothing, Nothing, Nothing, Nothing, Nothing, Nothing, Nothing, Nothing, typeof(SciMLBase.DEFAULT_OBSERVED), Nothing, SymbolicIndexingInterface.SymbolCache{Nothing, Nothing, Nothing}}, @Kwargs{}, SciMLBase.StandardODEProblem}, ::Nothing; default_set::Bool, kwargs::@Kwargs{second_time::Bool})\n",
      "    @ DifferentialEquations ~/.julia/packages/DifferentialEquations/zEcqZ/src/default_solve.jl:14\n",
      "  [9] __solve\n",
      "    @ ~/.julia/packages/DifferentialEquations/zEcqZ/src/default_solve.jl:1 [inlined]\n",
      " [10] #__solve#61\n",
      "    @ ~/.julia/packages/DiffEqBase/eTCPy/src/solve.jl:1370 [inlined]\n",
      " [11] __solve\n",
      "    @ ~/.julia/packages/DiffEqBase/eTCPy/src/solve.jl:1363 [inlined]\n",
      " [12] solve_call(::ODEProblem{MPO, Tuple{Float64, Float64}, true, Tuple{Vector{Index{Int64}}, Vector{Any}, Float64, Int64}, ODEFunction{true, SciMLBase.AutoSpecialize, typeof(dmpo_test!), UniformScaling{Bool}, Nothing, Nothing, Nothing, Nothing, Nothing, Nothing, Nothing, Nothing, Nothing, Nothing, Nothing, typeof(SciMLBase.DEFAULT_OBSERVED), Nothing, SymbolicIndexingInterface.SymbolCache{Nothing, Nothing, Nothing}}, @Kwargs{}, SciMLBase.StandardODEProblem}; merge_callbacks::Bool, kwargshandle::Nothing, kwargs::@Kwargs{})\n",
      "    @ DiffEqBase ~/.julia/packages/DiffEqBase/eTCPy/src/solve.jl:608\n",
      " [13] solve_call(::ODEProblem{MPO, Tuple{Float64, Float64}, true, Tuple{Vector{Index{Int64}}, Vector{Any}, Float64, Int64}, ODEFunction{true, SciMLBase.AutoSpecialize, typeof(dmpo_test!), UniformScaling{Bool}, Nothing, Nothing, Nothing, Nothing, Nothing, Nothing, Nothing, Nothing, Nothing, Nothing, Nothing, typeof(SciMLBase.DEFAULT_OBSERVED), Nothing, SymbolicIndexingInterface.SymbolCache{Nothing, Nothing, Nothing}}, @Kwargs{}, SciMLBase.StandardODEProblem})\n",
      "    @ DiffEqBase ~/.julia/packages/DiffEqBase/eTCPy/src/solve.jl:566\n",
      " [14] solve_up(::ODEProblem{MPO, Tuple{Float64, Float64}, true, Tuple{Vector{Index{Int64}}, Vector{Any}, Float64, Int64}, ODEFunction{true, SciMLBase.AutoSpecialize, typeof(dmpo_test!), UniformScaling{Bool}, Nothing, Nothing, Nothing, Nothing, Nothing, Nothing, Nothing, Nothing, Nothing, Nothing, Nothing, typeof(SciMLBase.DEFAULT_OBSERVED), Nothing, SymbolicIndexingInterface.SymbolCache{Nothing, Nothing, Nothing}}, @Kwargs{}, SciMLBase.StandardODEProblem}, ::Nothing, ::MPO, ::Tuple{Vector{Index{Int64}}, Vector{Any}, Float64, Int64}; kwargs::@Kwargs{})\n",
      "    @ DiffEqBase ~/.julia/packages/DiffEqBase/eTCPy/src/solve.jl:1049\n",
      " [15] solve_up\n",
      "    @ ~/.julia/packages/DiffEqBase/eTCPy/src/solve.jl:1043 [inlined]\n",
      " [16] solve(::ODEProblem{MPO, Tuple{Float64, Float64}, true, Tuple{Vector{Index{Int64}}, Vector{Any}, Float64, Int64}, ODEFunction{true, SciMLBase.AutoSpecialize, typeof(dmpo_test!), UniformScaling{Bool}, Nothing, Nothing, Nothing, Nothing, Nothing, Nothing, Nothing, Nothing, Nothing, Nothing, Nothing, typeof(SciMLBase.DEFAULT_OBSERVED), Nothing, SymbolicIndexingInterface.SymbolCache{Nothing, Nothing, Nothing}}, @Kwargs{}, SciMLBase.StandardODEProblem}; sensealg::Nothing, u0::Nothing, p::Nothing, wrap::Val{true}, kwargs::@Kwargs{})\n",
      "    @ DiffEqBase ~/.julia/packages/DiffEqBase/eTCPy/src/solve.jl:980\n",
      " [17] solve(::ODEProblem{MPO, Tuple{Float64, Float64}, true, Tuple{Vector{Index{Int64}}, Vector{Any}, Float64, Int64}, ODEFunction{true, SciMLBase.AutoSpecialize, typeof(dmpo_test!), UniformScaling{Bool}, Nothing, Nothing, Nothing, Nothing, Nothing, Nothing, Nothing, Nothing, Nothing, Nothing, Nothing, typeof(SciMLBase.DEFAULT_OBSERVED), Nothing, SymbolicIndexingInterface.SymbolCache{Nothing, Nothing, Nothing}}, @Kwargs{}, SciMLBase.StandardODEProblem})\n",
      "    @ DiffEqBase ~/.julia/packages/DiffEqBase/eTCPy/src/solve.jl:970\n",
      " [18] top-level scope\n",
      "    @ ~/Documents/FBQC_Cavity_codes/Errors-in-FBQC-Code/BellStateGenerator.ipynb:1"
     ]
    }
   ],
   "source": [
    "sol = solve(prob2)"
   ]
  },
  {
   "cell_type": "markdown",
   "metadata": {},
   "source": [
    "# Integ test"
   ]
  },
  {
   "cell_type": "code",
   "execution_count": null,
   "metadata": {},
   "outputs": [],
   "source": [
    "# handling the beginning still issue"
   ]
  },
  {
   "cell_type": "code",
   "execution_count": null,
   "metadata": {},
   "outputs": [],
   "source": [
    "#make a g2 function, outputs the cavity functions\n",
    "\n",
    "gamma = 1\n",
    "deph = 0.1\n",
    "t_fin = 10\n",
    "dt = 0.01 \n",
    "no_cavs = 2\n",
    "\n",
    "# gf1 = g2_(gamma, deph, t_fin, dt, no_cavs; reverse=false)\n",
    "# gf2 = g2_2(gamma, deph, t_fin, dt, no_cavs; reverse=false)\n",
    "expect2 = create_MPO(no_cavs, deph, gamma, dt, t_fin)\n",
    "# gf1"
   ]
  },
  {
   "cell_type": "code",
   "execution_count": null,
   "metadata": {},
   "outputs": [],
   "source": [
    "expect1 = create_MPO(no_cavs, deph, gamma, dt, t_fin)"
   ]
  },
  {
   "cell_type": "code",
   "execution_count": null,
   "metadata": {},
   "outputs": [],
   "source": [
    "plot(expect1[:,1] .- expect2[:,1])\n",
    "plot!(expect1[:,2] .- expect2[:,2])\n",
    "plot!(expect1[:,3] .- expect2[:,3])\n",
    "# plot!(expect1[:,4] .- expect2[:,4])\n",
    "# plot!(expect1[:,5] .- expect2[:,5])\n",
    "\n",
    "# plot!(expect2[:,1])"
   ]
  },
  {
   "cell_type": "code",
   "execution_count": null,
   "metadata": {},
   "outputs": [],
   "source": [
    "sum(expect2[end,2:end])"
   ]
  },
  {
   "cell_type": "code",
   "execution_count": null,
   "metadata": {},
   "outputs": [],
   "source": [
    "sum(expect1[end,2:end])"
   ]
  },
  {
   "cell_type": "code",
   "execution_count": null,
   "metadata": {},
   "outputs": [],
   "source": [
    "plot(gf1[2].([0:dt:t_fin;]) .- gf2[2].([0:dt:t_fin;]))\n",
    "plot!(gf1[2].([0:dt:t_fin;]) )\n",
    "plot!(gf2[2].([0:dt:t_fin;]))\n",
    "# plot!(gf1[2].([0:dt:t_fin;]) .- gf2[2].([0:dt:t_fin;]))\n",
    "# plot!(gf1[3].([0:dt:t_fin;]) .- gf2[3].([0:dt:t_fin;]))\n",
    "# plot!(gf1[4].([0:dt:t_fin;]) .- gf2[4].([0:dt:t_fin;]))\n",
    "# plot!(gf1[5].([0:dt:t_fin;]) .- gf2[5].([0:dt:t_fin;]))\n"
   ]
  },
  {
   "cell_type": "code",
   "execution_count": null,
   "metadata": {},
   "outputs": [],
   "source": [
    "t = [0:0.01:10;]\n",
    "plot(f.(t))\n",
    "plot!(sqrt(3)*cum_int.(f,t))\n",
    "plot!(t.^1.5, seriestype = \"scatter\")"
   ]
  },
  {
   "cell_type": "markdown",
   "metadata": {},
   "source": [
    "# Metal GPU speedup"
   ]
  },
  {
   "cell_type": "code",
   "execution_count": null,
   "metadata": {},
   "outputs": [],
   "source": [
    "    #creating initial state and sites\n",
    "    no_cavs = 2\n",
    "    sys_sites = siteinds(\"Qudit\", no_cavs+1, dim=3)\n",
    "    input_list = repeat([\"Ground\",],no_cavs+1)\n",
    "    input_list[1] = \"Excite1\"\n",
    "    sys = MPO(sys_sites, input_list)\n",
    "    met_sys = mtl(sys)"
   ]
  },
  {
   "cell_type": "code",
   "execution_count": null,
   "metadata": {},
   "outputs": [],
   "source": [
    "#sparse matrices in julia are in Float64, GPU works on Float32"
   ]
  },
  {
   "cell_type": "code",
   "execution_count": null,
   "metadata": {},
   "outputs": [],
   "source": [
    "mtl(op(\"I\", sys_sites[1]))"
   ]
  },
  {
   "cell_type": "code",
   "execution_count": null,
   "metadata": {},
   "outputs": [],
   "source": [
    "del = ITensor(identity(3), sys_sites[1], sys_sites[1]')"
   ]
  },
  {
   "cell_type": "code",
   "execution_count": null,
   "metadata": {},
   "outputs": [],
   "source": [
    "ITensor([[1,2,3],[3,4,5]]; dtype=Float32)"
   ]
  },
  {
   "cell_type": "code",
   "execution_count": null,
   "metadata": {},
   "outputs": [],
   "source": [
    "swapprime(met_sys[1], 1, 0)"
   ]
  },
  {
   "cell_type": "code",
   "execution_count": null,
   "metadata": {},
   "outputs": [],
   "source": [
    "a = ITensor(met_sys[1])"
   ]
  },
  {
   "cell_type": "markdown",
   "metadata": {},
   "source": [
    "# checking fidelity reversed "
   ]
  },
  {
   "cell_type": "code",
   "execution_count": null,
   "metadata": {},
   "outputs": [],
   "source": [
    "fidelity_list =  [;]\n",
    "self_fidelity_list =  [;]\n",
    "expect_list = [;]\n",
    "gamma = 1\n",
    "no_cavs = 2\n",
    "dt = 0.02\n",
    "t_final = 10\n",
    "depa = 0:0.001:0.1\n",
    "\n",
    "# for dep in depa\n",
    "    \n",
    "#     mpo, sites = create_MPO(no_cavs, dep, gamma, dt, t_final)\n",
    "#     mpo2, sites2 = create_MPO(no_cavs, dep, gamma, dt, t_final; sites_provided = sites, reverse=true)\n",
    "\n",
    "#     swapinds!(mpo2[end], sites[end], sites[1])\n",
    "#     swapinds!(mpo2[end], sites[end]', sites[1]')\n",
    "#     swapinds!(mpo2[1], sites[2], sites[end])\n",
    "#     swapinds!(mpo2[1], sites[2]', sites[end]')\n",
    "#     swapinds!(mpo2[end], sites[1], sites[2])\n",
    "#     swapinds!(mpo2[end], sites[1]', sites[2]')\n",
    "\n",
    "#     # swapinds!(mpo2[end-1], sites[end-1], sites[1])\n",
    "#     # swapinds!(mpo2[end-1], sites[end-1]', sites[1]')\n",
    "#     # swapinds!(mpo2[2], sites[3], sites[end-1])\n",
    "#     # swapinds!(mpo2[2], sites[3]', sites[end-1]')\n",
    "#     # swapinds!(mpo2[end-1], sites[1], sites[3])\n",
    "#     # swapinds!(mpo2[end-1], sites[1]', sites[3]')\n",
    "\n",
    "\n",
    "#     row = combiner(sites[2:end], tags=\"row\")\n",
    "#     ri = combinedind(row)\n",
    "#     column = combiner(sites[2:end]', tags=\"column\")\n",
    "#     ci = combinedind(column)\n",
    "\n",
    "#     ρ = row * prod(mpo) * column\n",
    "#     ρ = Matrix(ρ, ri, ci)\n",
    "\n",
    "#     σ = row * prod(mpo2) * column\n",
    "#     σ = Matrix(σ, ri, ci)\n",
    "#     σ_2 = σ ^ 0.5\n",
    "\n",
    "#     push!(fidelity_list, tr(((σ_2) * ρ * (σ_2) ) ^0.5))\n",
    "#     push!(self_fidelity_list, tr(((σ_2) * σ * (σ_2) ) ^0.5))\n",
    "#     push!(expect_list, norm(ITensors.expect(mpo, sites[2:end])-ITensors.expect(mpo2, sites[2:end])))\n",
    "# end\n",
    "# # mpo, sites = create_MPO(no_cavs, dep, gamma, dt, t_final)\n",
    "# 0\n"
   ]
  },
  {
   "cell_type": "code",
   "execution_count": null,
   "metadata": {},
   "outputs": [],
   "source": [
    "var_list = [;]\n",
    "for dep in depa\n",
    "    push!(var_list, var(g2_(gamma, dep, t_final, dt, 20; reverse=false)))\n",
    "end"
   ]
  },
  {
   "cell_type": "code",
   "execution_count": null,
   "metadata": {},
   "outputs": [],
   "source": [
    "# plot(var_list)\n",
    "plot(g2_(gamma, 1, t_final, dt, 20))"
   ]
  },
  {
   "cell_type": "code",
   "execution_count": null,
   "metadata": {},
   "outputs": [],
   "source": [
    "var(g2_(gamma, 1, t_final, dt, 20))"
   ]
  },
  {
   "cell_type": "code",
   "execution_count": null,
   "metadata": {},
   "outputs": [],
   "source": [
    "gv = g2_(gamma, 0, 10, dt, 4; reverse=false)\n",
    "0"
   ]
  },
  {
   "cell_type": "code",
   "execution_count": null,
   "metadata": {},
   "outputs": [],
   "source": [
    "plot(gv[1].([0:dt:t_final;]))"
   ]
  },
  {
   "cell_type": "code",
   "execution_count": null,
   "metadata": {},
   "outputs": [],
   "source": [
    "# concern is that swap is not super accurate\n",
    "# also can look at change in expectation value\n",
    "# cuurently just exchanging indices\n",
    "\n",
    "# just unrelated, should prob do many to one as opposed to bus"
   ]
  },
  {
   "cell_type": "code",
   "execution_count": null,
   "metadata": {},
   "outputs": [],
   "source": [
    "#zeroth case sucks"
   ]
  },
  {
   "cell_type": "code",
   "execution_count": null,
   "metadata": {},
   "outputs": [],
   "source": [
    "import Statistics"
   ]
  },
  {
   "cell_type": "code",
   "execution_count": null,
   "metadata": {},
   "outputs": [],
   "source": [
    "var([1,2,0.0])"
   ]
  },
  {
   "cell_type": "code",
   "execution_count": null,
   "metadata": {},
   "outputs": [],
   "source": [
    "p=plot(depa, real(fidelity_list), title=\"2 Cavs switched \", layout = (2,1), label=\"fidelity switch\", seriestype=\"scatter\")\n",
    "plot!(depa, real(self_fidelity_list), label=\"ideal\", seriestype=\"scatter\")\n",
    "plot!(depa, expect_list, subplot=2, label=\"difference norm\", xlabel=\"Dephasing\", seriestype=\"scatter\")\n",
    "# Plots.pdf(p, \"fidelity_check_2cav_fine.pdf\")\n",
    "# xlabel!(\"Dephasing\")\n",
    "# title!(\"2 Cav switch\")"
   ]
  },
  {
   "cell_type": "code",
   "execution_count": null,
   "metadata": {},
   "outputs": [],
   "source": [
    "dep = 0.0001\n",
    "no_cavs = 2\n",
    "dt = 0.01\n",
    "mpo, sites, expect = create_MPO(no_cavs, dep, gamma, dt, t_final)\n",
    "mpo2, sites2, expect2 = create_MPO(no_cavs, dep, gamma, dt, t_final; sites_provided = sites, reverse=true)"
   ]
  },
  {
   "cell_type": "code",
   "execution_count": null,
   "metadata": {},
   "outputs": [],
   "source": [
    "expect[end,2] - expect2[end,3]"
   ]
  },
  {
   "cell_type": "code",
   "execution_count": null,
   "metadata": {},
   "outputs": [],
   "source": [
    "plot(expect[:,1])\n",
    "plot!(expect[:,2])\n",
    "plot!(expect2[:,3])"
   ]
  },
  {
   "cell_type": "markdown",
   "metadata": {},
   "source": [
    "# Cavity Beamsplitter"
   ]
  },
  {
   "cell_type": "code",
   "execution_count": null,
   "metadata": {},
   "outputs": [],
   "source": [
    "g34_list6 =  [;]\n",
    "gamma = 1\n",
    "no_cavs = 10\n",
    "dt = 0.02\n",
    "t_final = 10\n",
    "for dep=0.0025:0.0025:0.0025\n",
    "    #println(dep)\n",
    "    mpo, sites = create_MPO(no_cavs, dep, gamma, dt, t_final)\n",
    "    #println(ldl_lidt[end])\n",
    "    # println(ITensors.expect(mpo, sites))\n",
    "    double, double_sites = n_copy_mpo(2, mpo, sites)\n",
    "    #println(sum(ITensors.expect(double, double_sites)))\n",
    "    #normalize!(double)\n",
    "    for i=1:no_cavs\n",
    "        beamsplitter!(double, i, i+no_cavs, double_sites)\n",
    "        #println(tr(double))\n",
    "    end\n",
    "    push!(g34_list6, g_34(double, double_sites, no_cavs))\n",
    "end"
   ]
  },
  {
   "cell_type": "code",
   "execution_count": null,
   "metadata": {},
   "outputs": [],
   "source": [
    "g34_list6 =  [;]\n",
    "gamma = 1\n",
    "no_cavs = 5\n",
    "dt = 0.02\n",
    "t_final = 10\n",
    "mpo, sites = create_MPO(no_cavs, 0.005, gamma, dt, t_final)\n",
    "double, double_sites = n_copy_mpo(2, mpo, sites)\n",
    "for i=1:no_cavs\n",
    "    @btime beamsplitter!(double, $i, $i+no_cavs, double_sites)\n",
    "    #println(tr(double))\n",
    "end"
   ]
  },
  {
   "cell_type": "code",
   "execution_count": null,
   "metadata": {},
   "outputs": [],
   "source": [
    "g34_list6 =  [;]\n",
    "gamma = 1\n",
    "no_cavs = 5\n",
    "dt = 0.02\n",
    "t_final = 10\n",
    "mpo, sites = create_MPO(no_cavs, 0.005, gamma, dt, t_final)\n",
    "double, double_sites = n_copy_mpo(2, mpo, sites)\n",
    "for i=1:no_cavs\n",
    "    @btime beamsplitter_tensor!(double, $i, $i+no_cavs, double_sites)\n",
    "    #println(tr(double))\n",
    "end"
   ]
  },
  {
   "cell_type": "code",
   "execution_count": null,
   "metadata": {},
   "outputs": [],
   "source": [
    "jldsave(\"g3.jld2\"; g34_list3)"
   ]
  },
  {
   "cell_type": "code",
   "execution_count": null,
   "metadata": {},
   "outputs": [],
   "source": [
    "f = jldopen(\"g5.jld2\", \"r\")\n",
    "g34_list5 = f[\"g34_list5\"]\n",
    "close(f)\n",
    "f = jldopen(\"g5_pt2.jld2\", \"r\")\n",
    "g34_list5_2 = f[\"g34_list5\"]\n",
    "close(f)\n",
    "f = jldopen(\"g8.jld2\", \"r\")\n",
    "g34_list8 = f[\"g34_list8\"]\n",
    "close(f)\n",
    "f = jldopen(\"g3.jld2\", \"r\")\n",
    "g34_list3 = f[\"g34_list3\"]\n",
    "close(f)"
   ]
  },
  {
   "cell_type": "code",
   "execution_count": null,
   "metadata": {},
   "outputs": [],
   "source": [
    "plot([0:0.0025:0.03;][1:11], [real(g34_list8)]; seriestype=\"scatter\", label=\"Simulated 8\")\n",
    "plot!([0:0.0025:0.03;][1:11], [real(g34_list8)]; label=\"\")\n",
    "\n",
    "plot!([0:0.0025:0.03;], [real(g34_list5)]; seriestype=\"scatter\", label=\"Simulated 5\")\n",
    "plot!([0:0.0025:0.03;], [real(g34_list5)]; label=\"\")\n",
    "\n",
    "# plot!([0:0.0025:0.0025;], [real(g34_list5_2)]; seriestype=\"scatter\", label=\"Simulated 5 new\")\n",
    "# plot!([0:0.0025:0.0025;], [real(g34_list5_2)]; label=\"\")\n",
    "\n",
    "#plot!([0:0.0025:0.02;], [real(g34_list2)], label=\"\")\n",
    "plot!([0:0.0025:0.03;], [2*i/(1+4*i) for i=0:0.0025:0.03], label=\"ideal\")\n",
    "xlabel!(\"Dephasing\")\n",
    "ylabel!(\"Distinguishability\")"
   ]
  },
  {
   "cell_type": "code",
   "execution_count": null,
   "metadata": {},
   "outputs": [],
   "source": [
    "plot([0:0.0025:0.03;][1:11], (ideal_list[1:11]-real(g34_list8)); seriestype=\"scatter\", label=\"Simulated 8\")\n",
    "\n",
    "\n",
    "plot!([0:0.0025:0.03;], (ideal_list-real(g34_list5)); seriestype=\"scatter\", label=\"Simulated 5\")\n",
    "\n",
    "ylabel!(\"Absolute error\")"
   ]
  },
  {
   "cell_type": "code",
   "execution_count": null,
   "metadata": {},
   "outputs": [],
   "source": [
    "plot([0:0.0025:0.03;][1:11], (ideal_list[1:11]-real(g34_list8))./ideal_list[1:11]; label=\"Simulated 8\")\n",
    "\n",
    "\n",
    "plot!([0:0.0025:0.03;], (ideal_list-real(g34_list5))./ideal_list;  label=\"Simulated 5\")\n",
    "\n",
    "ylabel!(\"Relative error\")"
   ]
  },
  {
   "cell_type": "markdown",
   "metadata": {},
   "source": [
    "# Checking Bond Dim change with Beamsplitter"
   ]
  },
  {
   "cell_type": "markdown",
   "metadata": {},
   "source": [
    "- Normalise doesn't reduce bond dimension\n",
    "-Can use zip up in apply, i think automatically reduces the bond dim vs doing naive and putting truncate true, which still didnt get to min bond d\n",
    "- Addition doesnt affect bond dim, (automatically reduced)\n",
    "- naively using apply in the evolution loop wasn't blowing up the bond dim to something absurd (max was around 27 or 21, and mostly stayed around 10) but maybe using zip up will make it better \n",
    "- normalise doesnt do much for mpos, avoid"
   ]
  },
  {
   "cell_type": "markdown",
   "metadata": {},
   "source": [
    "\n",
    "current to do : check negative case see when happ, recreate with atom, compare to analytic\n",
    "change code to do apply differently, add garbage collection, make sure im making appropriate copies\n",
    "make an alt gpu code"
   ]
  },
  {
   "cell_type": "markdown",
   "metadata": {},
   "source": [
    "30/4/24\n",
    "~ error in atoms evolution is like 10^-10, but the error in the cavitites is way higher , 10^-3 it is 10^-4 for empty cavities, g2 improve doesnt help that much, as compared to time step. "
   ]
  },
  {
   "cell_type": "code",
   "execution_count": null,
   "metadata": {},
   "outputs": [],
   "source": [
    "later: convergence"
   ]
  },
  {
   "cell_type": "code",
   "execution_count": null,
   "metadata": {},
   "outputs": [],
   "source": [
    "function svdize!(mpo_i, sites_i)\n",
    "    for i=1:length(sites_i)-1\n",
    "        mul_term = mpo_i[i] * mpo_i[i+1]\n",
    "        if i==1\n",
    "            mpo_i[i], mpo_i[i+1] = qr(mul_term,(sites_i[i],sites_i[i]') )\n",
    "        else\n",
    "            mpo_i[i], mpo_i[i+1] = qr(mul_term,(sites_i[i],sites_i[i]',commonind(mpo_i[i-1], mpo_i[i])) )\n",
    "        end\n",
    "    end\n",
    "end"
   ]
  },
  {
   "cell_type": "markdown",
   "metadata": {},
   "source": [
    "# Dephasing cavities graph"
   ]
  },
  {
   "cell_type": "code",
   "execution_count": null,
   "metadata": {},
   "outputs": [],
   "source": [
    "no_cav_needed_999 = [;]\n",
    "no_cav_needed_9999 = [;]\n",
    "\n",
    "for i=0:0.00001:0.02\n",
    "    dt = 0.01\n",
    "    gamma = 1\n",
    "    t_fin = 10\n",
    "    eigenvals =  g2_(gamma, i, t_fin, dt, 20)\n",
    "    eigenvals /= sum(eigenvals)\n",
    "    eigenvals = cumsum(eigenvals)\n",
    "    push!(no_cav_needed_999, findall(>(0.999), eigenvals)[1])\n",
    "    push!(no_cav_needed_9999, findall(>(0.9995), eigenvals)[1])\n",
    "end"
   ]
  },
  {
   "cell_type": "code",
   "execution_count": null,
   "metadata": {},
   "outputs": [],
   "source": [
    "p = plot(0:0.001:2, no_cav_needed_999, linetype=:steppre, label=\"99.9% Capture\", linewidth=3)\n",
    "plot!(0:0.001:2, no_cav_needed_9999, linetype=:steppre, label=\"99.95% Capture\", linewidth=3)\n",
    "ylabel!(\"Cavities\")\n",
    "xlabel!(\"Dephasing (% of γ)\")\n",
    "plot!(title=\"Cavities needed to capture Photon Wavefuntion\")\n",
    "Plots.pdf(p, \"cav_needed.pdf\")"
   ]
  },
  {
   "cell_type": "code",
   "execution_count": null,
   "metadata": {},
   "outputs": [],
   "source": [
    "dt = 0.01\n",
    "gamma = 1\n",
    "t_fin = 10\n",
    "eigenvals =  g2_(gamma, 0, t_fin, dt, 20)"
   ]
  },
  {
   "cell_type": "code",
   "execution_count": null,
   "metadata": {},
   "outputs": [],
   "source": [
    "sum(eigenvals)"
   ]
  },
  {
   "cell_type": "code",
   "execution_count": null,
   "metadata": {},
   "outputs": [],
   "source": [
    "findall(>(6), eigenvals)"
   ]
  }
 ],
 "metadata": {
  "kernelspec": {
   "display_name": "Julia 1.10.4",
   "language": "julia",
   "name": "julia-1.10"
  },
  "language_info": {
   "file_extension": ".jl",
   "mimetype": "application/julia",
   "name": "julia",
   "version": "1.10.4"
  }
 },
 "nbformat": 4,
 "nbformat_minor": 2
}
