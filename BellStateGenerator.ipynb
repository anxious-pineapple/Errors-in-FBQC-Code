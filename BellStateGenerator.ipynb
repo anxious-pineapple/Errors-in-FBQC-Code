{
 "cells": [
  {
   "cell_type": "code",
   "execution_count": 1,
   "metadata": {},
   "outputs": [],
   "source": [
    "using ITensors"
   ]
  },
  {
   "cell_type": "markdown",
   "metadata": {},
   "source": [
    "# To Do \n",
    "\n",
    "- Add comments explaining stuff\n",
    "- combine swap and beamsplitter into one function\n",
    "- Maybe not destroy the original MPO when taking a projection ✅\n",
    "- Finally actually check if we are getting the excpected state (bell state of sorts)✅(we are)\n",
    "- write out measuring the stabalisers\n",
    "- think about how to add noise cavities\n"
   ]
  },
  {
   "cell_type": "markdown",
   "metadata": {},
   "source": [
    "When with a simple just beamsplitter case, the partial trace multiplies in the probability of the projection into the density matrix\n",
    "<br/> (Confirming what we already knew)"
   ]
  },
  {
   "cell_type": "markdown",
   "metadata": {},
   "source": [
    "# Functions"
   ]
  },
  {
   "cell_type": "code",
   "execution_count": 2,
   "metadata": {},
   "outputs": [],
   "source": [
    "function ITensors.op(::OpName\"Ground\" , ::SiteType\"Qudit\" , d::Int)\n",
    "    mat = zeros(d, d)\n",
    "    mat[1,1] = 1\n",
    "    return mat\n",
    "end"
   ]
  },
  {
   "cell_type": "code",
   "execution_count": 3,
   "metadata": {},
   "outputs": [],
   "source": [
    "function ITensors.op(::OpName\"Excite1\" , ::SiteType\"Qudit\" , d::Int)\n",
    "    mat = zeros(d, d)\n",
    "    mat[2,2] = 1\n",
    "    return mat\n",
    "end"
   ]
  },
  {
   "cell_type": "code",
   "execution_count": 27,
   "metadata": {},
   "outputs": [],
   "source": [
    "function ITensors.expect(MPO_i, sites_i)\n",
    "    list_exp = []\n",
    "    for i in 1:length(sites_i)\n",
    "        append!(list_exp, tr(apply( op(\"N\", sites_i[i]), MPO_i)))\n",
    "    end\n",
    "    return list_exp\n",
    "end"
   ]
  },
  {
   "cell_type": "code",
   "execution_count": 28,
   "metadata": {},
   "outputs": [
    {
     "data": {
      "text/plain": [
       "beamsplitter (generic function with 1 method)"
      ]
     },
     "metadata": {},
     "output_type": "display_data"
    }
   ],
   "source": [
    "function beamsplitter(MPO_i, index_1, index_2, site_list)\n",
    "\n",
    "    op_1 = ((op(\"A\",site_list[index_1]) * op(\"Adag\",site_list[index_2])) + (op(\"A\",site_list[index_2]) * op(\"Adag\",site_list[index_1])))\n",
    "    H_ = exp((-im/4) * pi * op_1)\n",
    "\n",
    "    H2 = apply(H_, MPO_i ; cutoff)\n",
    "    H3 = conj(swapprime( apply( H_, swapprime(conj(H2), 1,0); cutoff ), 1,0))\n",
    "\n",
    "    MPO_i[:] = H3\n",
    "    return nothing\n",
    "end"
   ]
  },
  {
   "cell_type": "code",
   "execution_count": 29,
   "metadata": {},
   "outputs": [
    {
     "data": {
      "text/plain": [
       "swap (generic function with 1 method)"
      ]
     },
     "metadata": {},
     "output_type": "display_data"
    }
   ],
   "source": [
    "function swap(MPO_i, index_1, index_2, site_list)\n",
    "\n",
    "    op_1 = ((op(\"A\",site_list[index_1]) * op(\"Adag\",site_list[index_2])) + (op(\"A\",site_list[index_2]) * op(\"Adag\",site_list[index_1])))\n",
    "    H_ = exp((-im/2) * pi * op_1)\n",
    "\n",
    "    H2 = apply(H_, MPO_i ; cutoff, maxdim)\n",
    "    H3 = conj(swapprime( apply( H_, swapprime(conj(H2), 1,0); cutoff, maxdim ), 1,0))\n",
    "\n",
    "    MPO_i[:] = H3\n",
    "    return nothing\n",
    "end"
   ]
  },
  {
   "cell_type": "markdown",
   "metadata": {},
   "source": [
    "# Main Code"
   ]
  },
  {
   "cell_type": "code",
   "execution_count": 49,
   "metadata": {},
   "outputs": [
    {
     "data": {
      "text/plain": [
       "100"
      ]
     },
     "metadata": {},
     "output_type": "display_data"
    }
   ],
   "source": [
    "N = 8\n",
    "sites = siteinds(\"Qudit\", N, dim=3)\n",
    "cutoff = 1E-8\n",
    "maxdim = 100"
   ]
  },
  {
   "cell_type": "code",
   "execution_count": 50,
   "metadata": {},
   "outputs": [
    {
     "data": {
      "text/plain": [
       "8-element Vector{String}:\n",
       " \"Excite1\"\n",
       " \"Excite1\"\n",
       " \"Excite1\"\n",
       " \"Excite1\"\n",
       " \"Ground\"\n",
       " \"Ground\"\n",
       " \"Ground\"\n",
       " \"Ground\""
      ]
     },
     "metadata": {},
     "output_type": "display_data"
    }
   ],
   "source": [
    "input_list = [  repeat([\"Excite1\",], trunc(Int, N/2)) ; repeat([\"Ground\",], trunc(Int, N/2)) ]\n"
   ]
  },
  {
   "cell_type": "code",
   "execution_count": 149,
   "metadata": {},
   "outputs": [
    {
     "data": {
      "text/plain": [
       "MPO\n",
       "[1] ((dim=3|id=697|\"Qudit,Site,n=1\")', (dim=3|id=697|\"Qudit,Site,n=1\"), (dim=1|id=854|\"Link,l=1\"))\n",
       "[2] ((dim=3|id=125|\"Qudit,Site,n=2\")', (dim=3|id=125|\"Qudit,Site,n=2\"), (dim=1|id=821|\"Link,l=2\"), (dim=1|id=854|\"Link,l=1\"))\n",
       "[3] ((dim=3|id=102|\"Qudit,Site,n=3\")', (dim=3|id=102|\"Qudit,Site,n=3\"), (dim=1|id=555|\"Link,l=3\"), (dim=1|id=821|\"Link,l=2\"))\n",
       "[4] ((dim=3|id=451|\"Qudit,Site,n=4\")', (dim=3|id=451|\"Qudit,Site,n=4\"), (dim=1|id=672|\"Link,l=4\"), (dim=1|id=555|\"Link,l=3\"))\n",
       "[5] ((dim=3|id=913|\"Qudit,Site,n=5\")', (dim=3|id=913|\"Qudit,Site,n=5\"), (dim=1|id=761|\"Link,l=5\"), (dim=1|id=672|\"Link,l=4\"))\n",
       "[6] ((dim=3|id=823|\"Qudit,Site,n=6\")', (dim=3|id=823|\"Qudit,Site,n=6\"), (dim=1|id=884|\"Link,l=6\"), (dim=1|id=761|\"Link,l=5\"))\n",
       "[7] ((dim=3|id=96|\"Qudit,Site,n=7\")', (dim=3|id=96|\"Qudit,Site,n=7\"), (dim=1|id=484|\"Link,l=7\"), (dim=1|id=884|\"Link,l=6\"))\n",
       "[8] ((dim=3|id=767|\"Qudit,Site,n=8\")', (dim=3|id=767|\"Qudit,Site,n=8\"), (dim=1|id=484|\"Link,l=7\"))\n"
      ]
     },
     "metadata": {},
     "output_type": "display_data"
    }
   ],
   "source": [
    "rails😄 = MPO(sites, input_list)\n",
    "rails🤪 = MPO(sites, [  repeat([\"Ground\",], trunc(Int, N/2)) ; repeat([\"Excite1\",], trunc(Int, N/2)) ])"
   ]
  },
  {
   "cell_type": "code",
   "execution_count": 150,
   "metadata": {},
   "outputs": [
    {
     "data": {
      "text/plain": [
       "8-element Vector{Any}:\n",
       " 0.9\n",
       " 0.9\n",
       " 0.9\n",
       " 0.9\n",
       " 0.1\n",
       " 0.1\n",
       " 0.1\n",
       " 0.1"
      ]
     },
     "metadata": {},
     "output_type": "display_data"
    }
   ],
   "source": [
    "expect((0.9*rails😄 + 0.1rails🤪), sites)"
   ]
  },
  {
   "cell_type": "code",
   "execution_count": 145,
   "metadata": {},
   "outputs": [
    {
     "data": {
      "text/plain": [
       "8-element Vector{Any}:\n",
       " 2.0\n",
       " 2.0\n",
       " 2.0\n",
       " 2.0\n",
       " 0.0\n",
       " 0.0\n",
       " 0.0\n",
       " 0.0"
      ]
     },
     "metadata": {},
     "output_type": "display_data"
    }
   ],
   "source": [
    "expect(rails😄 + rails🤪 , sites)"
   ]
  },
  {
   "cell_type": "code",
   "execution_count": 51,
   "metadata": {},
   "outputs": [
    {
     "data": {
      "text/plain": [
       "8-element Vector{Any}:\n",
       " 1.0\n",
       " 1.0\n",
       " 1.0\n",
       " 1.0\n",
       " 0.0\n",
       " 0.0\n",
       " 0.0\n",
       " 0.0"
      ]
     },
     "metadata": {},
     "output_type": "display_data"
    }
   ],
   "source": [
    "rails = MPO(sites, input_list)\n",
    "expect(rails, sites)"
   ]
  },
  {
   "cell_type": "code",
   "execution_count": 52,
   "metadata": {},
   "outputs": [
    {
     "name": "stdout",
     "output_type": "stream",
     "text": [
      "1.0 + 0.0im\n",
      "0.9999999999999998 + 1.8169632348103397e-16im\n"
     ]
    },
    {
     "name": "stdout",
     "output_type": "stream",
     "text": [
      "0.9999999999999982 - 1.3671525712072973e-16im\n",
      "0.9999999999999978"
     ]
    },
    {
     "name": "stdout",
     "output_type": "stream",
     "text": [
      " + 1.5006352874974966e-16im\n"
     ]
    }
   ],
   "source": [
    "beamsplitter(rails, 2, 6, sites)\n",
    "normalize!(rails)\n",
    "println(tr(rails))\n",
    "beamsplitter(rails, 3, 7, sites)\n",
    "normalize!(rails)\n",
    "println(tr(rails))\n",
    "beamsplitter(rails, 4, 8, sites)\n",
    "normalize!(rails)\n",
    "println(tr(rails))\n",
    "beamsplitter(rails, 1, 5, sites)\n",
    "normalize!(rails)\n",
    "println(tr(rails))\n",
    "#cutoff = 20\n"
   ]
  },
  {
   "cell_type": "code",
   "execution_count": 53,
   "metadata": {},
   "outputs": [
    {
     "name": "stdout",
     "output_type": "stream",
     "text": [
      "0.9999999999999961 + 5.173483756631972e-16im\n",
      "0.9999999999999967"
     ]
    },
    {
     "name": "stdout",
     "output_type": "stream",
     "text": [
      " + 2.089064435542515e-16im\n"
     ]
    },
    {
     "name": "stdout",
     "output_type": "stream",
     "text": [
      "0.9999999999999977 - 6.908616133495565e-16im\n",
      "0.9999999999999977"
     ]
    },
    {
     "name": "stdout",
     "output_type": "stream",
     "text": [
      " - 6.848952571757802e-16im\n"
     ]
    }
   ],
   "source": [
    "beamsplitter(rails, 5, 6, sites)\n",
    "normalize!(rails)\n",
    "println(tr(rails))\n",
    "beamsplitter(rails, 7, 8, sites)\n",
    "normalize!(rails)\n",
    "println(tr(rails))\n",
    "beamsplitter(rails, 5, 8, sites)\n",
    "normalize!(rails)\n",
    "println(tr(rails))\n",
    "beamsplitter(rails, 6, 7, sites)\n",
    "normalize!(rails)\n",
    "println(tr(rails))"
   ]
  },
  {
   "cell_type": "code",
   "execution_count": 54,
   "metadata": {},
   "outputs": [
    {
     "data": {
      "text/plain": [
       "0.9999999999999958 - 7.601258468329633e-16im"
      ]
     },
     "metadata": {},
     "output_type": "display_data"
    }
   ],
   "source": [
    "swap(rails, 6, 8, sites)\n",
    "tr(rails)"
   ]
  },
  {
   "cell_type": "code",
   "execution_count": 55,
   "metadata": {},
   "outputs": [
    {
     "data": {
      "text/plain": [
       "8-element Vector{Any}:\n",
       " 0.49999999999999756 + 1.7086618990255425e-15im\n",
       " 0.49999999999999983 - 2.9665435239763894e-16im\n",
       "   0.499999999999998 - 2.1609130341488255e-15im\n",
       "  0.4999999999999973 - 2.596139802751989e-16im\n",
       " 0.49999999999999817 - 9.896315565777421e-16im\n",
       "  0.4999999999999978 - 1.0683120365144473e-16im\n",
       " 0.49999999999999717 - 6.319558775774343e-16im\n",
       "                 0.5 - 2.268520505831791e-15im"
      ]
     },
     "metadata": {},
     "output_type": "display_data"
    }
   ],
   "source": [
    "expect(rails, sites)"
   ]
  },
  {
   "cell_type": "markdown",
   "metadata": {},
   "source": [
    "# Checking BS works"
   ]
  },
  {
   "cell_type": "code",
   "execution_count": 56,
   "metadata": {},
   "outputs": [
    {
     "data": {
      "text/plain": [
       "4-element Vector{Index{Int64}}:\n",
       " (dim=3|id=697|\"Qudit,Site,n=1\")\n",
       " (dim=3|id=125|\"Qudit,Site,n=2\")\n",
       " (dim=3|id=102|\"Qudit,Site,n=3\")\n",
       " (dim=3|id=451|\"Qudit,Site,n=4\")"
      ]
     },
     "metadata": {},
     "output_type": "display_data"
    }
   ],
   "source": [
    "el = [2,2,1,1]\n",
    "\n",
    "V = ITensor(1.)\n",
    "for j=8:-1:5\n",
    "  V *= ( state(sites[j],el[j-4])) * prime(state(sites[j],el[j-4])) * rails[j]\n",
    "end\n",
    "\n",
    "tensor = rails[1]*rails[2]*rails[3] *rails[4] * V\n",
    "sub_sites = sites[1:4]\n"
   ]
  },
  {
   "cell_type": "code",
   "execution_count": 58,
   "metadata": {},
   "outputs": [
    {
     "name": "stdout",
     "output_type": "stream",
     "text": [
      "0.031249999999999726 - 2.6611312111079014e-16im\n"
     ]
    },
    {
     "data": {
      "text/plain": [
       "1.0 - 1.821639842903674e-18im"
      ]
     },
     "metadata": {},
     "output_type": "display_data"
    }
   ],
   "source": [
    "baby_MPO = MPO( tensor ,sub_sites)\n",
    "println(tr(baby_MPO))\n",
    "baby_MPO /= (tr(baby_MPO))\n",
    "#normalize!(baby_MPO)\n",
    "tr(baby_MPO)"
   ]
  },
  {
   "cell_type": "code",
   "execution_count": 59,
   "metadata": {},
   "outputs": [
    {
     "data": {
      "text/plain": [
       "4-element Vector{Any}:\n",
       " 0.4999999999999998 + 2.9863051220046367e-15im\n",
       "  0.500000000000001 + 4.1456688776065435e-15im\n",
       "                0.5 - 2.5119786659353158e-15im\n",
       "  0.499999999999999 + 1.9030854459973667e-15im"
      ]
     },
     "metadata": {},
     "output_type": "display_data"
    }
   ],
   "source": [
    "expect(baby_MPO,sub_sites)"
   ]
  },
  {
   "cell_type": "code",
   "execution_count": null,
   "metadata": {},
   "outputs": [],
   "source": []
  },
  {
   "cell_type": "code",
   "execution_count": 65,
   "metadata": {},
   "outputs": [
    {
     "data": {
      "text/plain": [
       "1.0 - 1.821639842903674e-18im"
      ]
     },
     "metadata": {},
     "output_type": "display_data"
    }
   ],
   "source": [
    "tr(baby_MPO)"
   ]
  },
  {
   "cell_type": "code",
   "execution_count": 140,
   "metadata": {},
   "outputs": [],
   "source": [
    "el_2 = [2,2,1,1]\n",
    "el_3 = [1,1,2,2]\n",
    "\n",
    "V_2 = ITensor(1.)\n",
    "for j=1:4\n",
    "  V_2 *= ( state(sub_sites[j],el_3[j])) * prime(state(sub_sites[j],el_2[j])) * baby_MPO[j]\n",
    "end\n",
    "\n"
   ]
  },
  {
   "cell_type": "code",
   "execution_count": 141,
   "metadata": {},
   "outputs": [
    {
     "data": {
      "text/plain": [
       "4-element Vector{Any}:\n",
       " 0.4999999999999998 + 2.9863051220046367e-15im\n",
       "  0.500000000000001 + 4.1456688776065435e-15im\n",
       "                0.5 - 2.5119786659353158e-15im\n",
       "  0.499999999999999 + 1.9030854459973667e-15im"
      ]
     },
     "metadata": {},
     "output_type": "display_data"
    }
   ],
   "source": [
    "expect(baby_MPO, sub_sites)"
   ]
  },
  {
   "cell_type": "code",
   "execution_count": 142,
   "metadata": {},
   "outputs": [
    {
     "name": "stdout",
     "output_type": "stream",
     "text": [
      "V_2 = ITensor ord=0\n",
      "NDTensors.Dense{ComplexF64, Vector{ComplexF64}}\n",
      " 0-dimensional\n",
      "0.5000000000000046 + 4.633935013109655e-15im\n"
     ]
    },
    {
     "data": {
      "text/plain": [
       "ITensor ord=0\n",
       "NDTensors.Dense{ComplexF64, Vector{ComplexF64}}"
      ]
     },
     "metadata": {},
     "output_type": "display_data"
    }
   ],
   "source": [
    "@show V_2"
   ]
  },
  {
   "cell_type": "markdown",
   "metadata": {},
   "source": [
    "# Cavities beamsplitter"
   ]
  },
  {
   "cell_type": "code",
   "execution_count": 206,
   "metadata": {},
   "outputs": [
    {
     "data": {
      "text/plain": [
       "6-element Vector{Index{Int64}}:\n",
       " (dim=3|id=375|\"Qudit,Site,n=1\")\n",
       " (dim=3|id=732|\"Qudit,Site,n=2\")\n",
       " (dim=3|id=254|\"Qudit,Site,n=3\")\n",
       " (dim=3|id=551|\"Qudit,Site,n=4\")\n",
       " (dim=3|id=863|\"Qudit,Site,n=5\")\n",
       " (dim=3|id=78|\"Qudit,Site,n=6\")"
      ]
     },
     "metadata": {},
     "output_type": "display_data"
    }
   ],
   "source": [
    "no_cav = 3\n",
    "cav_sites = siteinds(\"Qudit\", 2*no_cav , dim=3)"
   ]
  },
  {
   "cell_type": "code",
   "execution_count": 207,
   "metadata": {},
   "outputs": [],
   "source": [
    "mode_mpo = []\n",
    "for i in 1:no_cav\n",
    "    ground_list = repeat([\"Ground\",], 2*no_cav)\n",
    "    ground_list[i] = \"Excite1\"\n",
    "    ground_list[i+no_cav] = \"Excite1\"\n",
    "    push!(mode_mpo, MPO(cav_sites, ground_list))\n",
    "end"
   ]
  },
  {
   "cell_type": "code",
   "execution_count": 208,
   "metadata": {},
   "outputs": [
    {
     "data": {
      "text/plain": [
       "MPO\n",
       "[1] ((dim=3|id=375|\"Qudit,Site,n=1\")', (dim=3|id=375|\"Qudit,Site,n=1\"), (dim=3|id=698|\"Link,l=1\"))\n",
       "[2] ((dim=3|id=732|\"Qudit,Site,n=2\")', (dim=3|id=732|\"Qudit,Site,n=2\"), (dim=3|id=49|\"Link,l=2\"), (dim=3|id=698|\"Link,l=1\"))\n",
       "[3] ((dim=3|id=254|\"Qudit,Site,n=3\")', (dim=3|id=254|\"Qudit,Site,n=3\"), (dim=3|id=246|\"Link,l=3\"), (dim=3|id=49|\"Link,l=2\"))\n",
       "[4] ((dim=3|id=551|\"Qudit,Site,n=4\")', (dim=3|id=551|\"Qudit,Site,n=4\"), (dim=3|id=911|\"Link,l=4\"), (dim=3|id=246|\"Link,l=3\"))\n",
       "[5] ((dim=3|id=863|\"Qudit,Site,n=5\")', (dim=3|id=863|\"Qudit,Site,n=5\"), (dim=2|id=468|\"Link,l=5\"), (dim=3|id=911|\"Link,l=4\"))\n",
       "[6] ((dim=3|id=78|\"Qudit,Site,n=6\")', (dim=3|id=78|\"Qudit,Site,n=6\"), (dim=2|id=468|\"Link,l=5\"))\n"
      ]
     },
     "metadata": {},
     "output_type": "display_data"
    }
   ],
   "source": [
    "cav_MPO = 0.95*mode_mpo[1] + 0.04*mode_mpo[2] + 0.01*mode_mpo[3]"
   ]
  },
  {
   "cell_type": "code",
   "execution_count": 197,
   "metadata": {},
   "outputs": [
    {
     "data": {
      "text/plain": [
       "MPO\n",
       "[1] ((dim=3|id=148|\"Qudit,Site,n=1\")', (dim=3|id=148|\"Qudit,Site,n=1\"), (dim=1|id=110|\"Link,l=1\"))\n",
       "[2] ((dim=3|id=386|\"Qudit,Site,n=2\")', (dim=3|id=386|\"Qudit,Site,n=2\"), (dim=1|id=110|\"Link,l=1\"))\n"
      ]
     },
     "metadata": {},
     "output_type": "display_data"
    }
   ],
   "source": [
    "cav_MPO = mode_mpo[1]"
   ]
  },
  {
   "cell_type": "code",
   "execution_count": 209,
   "metadata": {},
   "outputs": [
    {
     "data": {
      "text/plain": [
       "6-element Vector{Any}:\n",
       " 0.9499999999999997\n",
       " 0.04\n",
       " 0.01\n",
       " 0.9499999999999997\n",
       " 0.04\n",
       " 0.01"
      ]
     },
     "metadata": {},
     "output_type": "display_data"
    }
   ],
   "source": [
    "expect(cav_MPO, cav_sites)"
   ]
  },
  {
   "cell_type": "code",
   "execution_count": 210,
   "metadata": {},
   "outputs": [],
   "source": [
    "# Beamsplitter\n",
    "\n",
    "for i in 1:no_cav\n",
    "    beamsplitter(cav_MPO, i, i+no_cav, cav_sites)\n",
    "end"
   ]
  },
  {
   "cell_type": "code",
   "execution_count": 212,
   "metadata": {},
   "outputs": [],
   "source": [
    "el_2 = [3,1,1,1,1,1]\n",
    "#el_3 = [1,1,2,2]\n",
    "\n",
    "V_2 = ITensor(1.)\n",
    "for j=1:no_cav*2\n",
    "  V_2 *= ( state(cav_sites[j],el_2[j])) * prime(state(cav_sites[j],el_2[j])) * cav_MPO[j]\n",
    "end"
   ]
  },
  {
   "cell_type": "code",
   "execution_count": 213,
   "metadata": {},
   "outputs": [
    {
     "name": "stdout",
     "output_type": "stream",
     "text": [
      "V_2 = ITensor ord=0\n",
      "NDTensors.Dense{ComplexF64, Vector{ComplexF64}}\n",
      " 0-dimensional\n",
      "0.47499999999999887 + 1.0953910847812693e-16im\n"
     ]
    },
    {
     "data": {
      "text/plain": [
       "ITensor ord=0\n",
       "NDTensors.Dense{ComplexF64, Vector{ComplexF64}}"
      ]
     },
     "metadata": {},
     "output_type": "display_data"
    }
   ],
   "source": [
    "@show V_2"
   ]
  },
  {
   "cell_type": "markdown",
   "metadata": {},
   "source": [
    "# Appendix"
   ]
  },
  {
   "cell_type": "markdown",
   "metadata": {},
   "source": [
    "function beamsplitter(MPO_i, index_1, index_2, site_list)\n",
    "    #op_1 = op(\"Id\",site_list[1])\n",
    "    #op_1 = sqrt(0.5)* ((op(\"A\",site_list[index_1]) * op(\"Adag\",site_list[index_2])) + (op(\"A\",site_list[index_2]) * op(\"Adag\",site_list[index_1])))\n",
    "    op_1 = ((op(\"A\",site_list[index_1]) * op(\"Adag\",site_list[index_2])) + (op(\"A\",site_list[index_2]) * op(\"Adag\",site_list[index_1])))\n",
    "    #op_1 *= op(\"Id\", site_list[3])\n",
    "    #op_1 *= op(\"Id\", site_list[2])\n",
    "\n",
    "    #for i in 2:length(site_list)\n",
    "    #    if i == index_1 || i==index_2\n",
    "    #        nothing\n",
    "    #    else\n",
    "    #        op_1 *= op(\"Id\",site_list[i])\n",
    "    #    end\n",
    "    #end\n",
    "    #op_2 = op(\"A\",site_list[index_2]) * op(\"Adag\",site_list[index_1])\n",
    "    #for i in 1:length(site_list)\n",
    "    #    if i == index_1 || i==index_2\n",
    "    #        nothing\n",
    "    #    else\n",
    "    #        op_2 *= op(\"Id\",site_list[i])\n",
    "    #    end\n",
    "    #end\n",
    "    #os = op_1 + op_2\n",
    "    H_bs = exp((-im/4) * pi * op_1)\n",
    "    #term2 = MPO(H_bs, site_list)\n",
    "\n",
    "    c = cutoff\n",
    "    d = maxdim\n",
    "\n",
    "    #MPO_i[:] = apply(apply(term2, MPO_i ; cutoff= c , maxdim = d ),term2 ; cutoff= c , maxdim= d)\n",
    "    return op_1\n",
    "end"
   ]
  },
  {
   "cell_type": "markdown",
   "metadata": {},
   "source": [
    "\n",
    "#Notes; \n",
    "#1. Product still works with one common index\n",
    "#1.1 Order of MPO/A matters\n",
    "#2. Apply needs common index with zero prime at least\n",
    "#3. A(0,1) and rails(0,x) works\n",
    "#4. A(0,x) and rails(0,x) or A(0,x) and rails(0,1) dont work\n",
    "\n",
    "#Apply is complicated"
   ]
  },
  {
   "cell_type": "markdown",
   "metadata": {},
   "source": []
  },
  {
   "cell_type": "code",
   "execution_count": 804,
   "metadata": {},
   "outputs": [
    {
     "name": "stdout",
     "output_type": "stream",
     "text": [
      "A[1, 1] = 1.0\n"
     ]
    },
    {
     "data": {
      "text/plain": [
       "1.0"
      ]
     },
     "metadata": {},
     "output_type": "display_data"
    }
   ],
   "source": [
    "A = randomITensor(sites[5:8]) * 0\n",
    "A[1, 1] = 1\n",
    "rails_MPS = MPS(A ,sites[5:8] ; cutoff = cutoff, maxdim = maxdim )"
   ]
  },
  {
   "cell_type": "code",
   "execution_count": 801,
   "metadata": {},
   "outputs": [
    {
     "data": {
      "text/plain": [
       "8-element Vector{Float64}:\n",
       " 1.0\n",
       " 0.0\n",
       " 0.0\n",
       " 0.0\n",
       " 0.0\n",
       " 0.0\n",
       " 0.0\n",
       " 0.0"
      ]
     },
     "metadata": {},
     "output_type": "display_data"
    }
   ],
   "source": [
    "Nvals = expect(rails_MPS,\"N\")"
   ]
  }
 ],
 "metadata": {
  "kernelspec": {
   "display_name": "Julia 1.9.3",
   "language": "julia",
   "name": "julia-1.9"
  },
  "language_info": {
   "file_extension": ".jl",
   "mimetype": "application/julia",
   "name": "julia",
   "version": "1.9.3"
  }
 },
 "nbformat": 4,
 "nbformat_minor": 2
}
