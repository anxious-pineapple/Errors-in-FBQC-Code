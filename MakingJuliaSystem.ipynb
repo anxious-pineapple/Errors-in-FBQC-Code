{
 "cells": [
  {
   "cell_type": "code",
   "execution_count": 1,
   "metadata": {},
   "outputs": [],
   "source": [
    "using ITensors"
   ]
  },
  {
   "cell_type": "markdown",
   "metadata": {},
   "source": [
    "# To Do \n",
    "\n",
    "- Add comments explaining stuff\n",
    "- combine swap and beamsplitter into one function\n",
    "- Maybe not destroy the original MPO when taking a projection ✅\n",
    "- Finally actually check if we are getting the excpected state (bell state of sorts)\n",
    "- write out measuring the stabalisers\n",
    "- think about how to add noise cavities\n"
   ]
  },
  {
   "cell_type": "markdown",
   "metadata": {},
   "source": [
    "# Functions"
   ]
  },
  {
   "cell_type": "code",
   "execution_count": 884,
   "metadata": {},
   "outputs": [],
   "source": [
    "function ITensors.op(::OpName\"Ground\" , ::SiteType\"Qudit\" , d::Int)\n",
    "    mat = zeros(d, d)\n",
    "    mat[1,1] = 1\n",
    "    return mat\n",
    "end"
   ]
  },
  {
   "cell_type": "code",
   "execution_count": 885,
   "metadata": {},
   "outputs": [],
   "source": [
    "function ITensors.op(::OpName\"Excite1\" , ::SiteType\"Qudit\" , d::Int)\n",
    "    mat = zeros(d, d)\n",
    "    mat[2,2] = 1\n",
    "    return mat\n",
    "end"
   ]
  },
  {
   "cell_type": "code",
   "execution_count": 886,
   "metadata": {},
   "outputs": [],
   "source": [
    "function ITensors.expect(MPO_i, sites_i, N)\n",
    "    list_exp = []\n",
    "    for i in 1:N\n",
    "        append!(list_exp, tr(apply( op(\"N\", sites_i[i]), MPO_i)))\n",
    "    end\n",
    "    return list_exp\n",
    "end"
   ]
  },
  {
   "cell_type": "code",
   "execution_count": 887,
   "metadata": {},
   "outputs": [
    {
     "data": {
      "text/plain": [
       "beamsplitter (generic function with 1 method)"
      ]
     },
     "metadata": {},
     "output_type": "display_data"
    }
   ],
   "source": [
    "function beamsplitter(MPO_i, index_1, index_2, site_list)\n",
    "\n",
    "    op_1 = ((op(\"A\",site_list[index_1]) * op(\"Adag\",site_list[index_2])) + (op(\"A\",site_list[index_2]) * op(\"Adag\",site_list[index_1])))\n",
    "    H_ = exp((-im/4) * pi * op_1)\n",
    "\n",
    "    H2 = apply(H_, MPO_i ; cutoff)\n",
    "    H3 = conj(swapprime( apply( H_, swapprime(conj(H2), 1,0); cutoff ), 1,0))\n",
    "\n",
    "    MPO_i[:] = H3\n",
    "    return nothing\n",
    "end"
   ]
  },
  {
   "cell_type": "code",
   "execution_count": 888,
   "metadata": {},
   "outputs": [
    {
     "data": {
      "text/plain": [
       "swap (generic function with 1 method)"
      ]
     },
     "metadata": {},
     "output_type": "display_data"
    }
   ],
   "source": [
    "function swap(MPO_i, index_1, index_2, site_list)\n",
    "\n",
    "    op_1 = ((op(\"A\",site_list[index_1]) * op(\"Adag\",site_list[index_2])) + (op(\"A\",site_list[index_2]) * op(\"Adag\",site_list[index_1])))\n",
    "    H_ = exp((-im/2) * pi * op_1)\n",
    "\n",
    "    H2 = apply(H_, MPO_i ; cutoff, maxdim)\n",
    "    H3 = conj(swapprime( apply( H_, swapprime(conj(H2), 1,0); cutoff, maxdim ), 1,0))\n",
    "\n",
    "    MPO_i[:] = H3\n",
    "    return nothing\n",
    "end"
   ]
  },
  {
   "cell_type": "markdown",
   "metadata": {},
   "source": [
    "# Main Code"
   ]
  },
  {
   "cell_type": "code",
   "execution_count": 889,
   "metadata": {},
   "outputs": [
    {
     "data": {
      "text/plain": [
       "100"
      ]
     },
     "metadata": {},
     "output_type": "display_data"
    }
   ],
   "source": [
    "N = 8\n",
    "sites = siteinds(\"Qudit\", N, dim=3)\n",
    "cutoff = 1E-8\n",
    "maxdim = 100"
   ]
  },
  {
   "cell_type": "code",
   "execution_count": 890,
   "metadata": {},
   "outputs": [
    {
     "data": {
      "text/plain": [
       "8-element Vector{String}:\n",
       " \"Excite1\"\n",
       " \"Excite1\"\n",
       " \"Excite1\"\n",
       " \"Excite1\"\n",
       " \"Excite1\"\n",
       " \"Excite1\"\n",
       " \"Excite1\"\n",
       " \"Excite1\""
      ]
     },
     "metadata": {},
     "output_type": "display_data"
    }
   ],
   "source": [
    "input_list = [  repeat([\"Excite1\",], trunc(Int, N/2)) ; repeat([\"Excite1\",], trunc(Int, N/2)) ]\n"
   ]
  },
  {
   "cell_type": "code",
   "execution_count": 891,
   "metadata": {},
   "outputs": [
    {
     "data": {
      "text/plain": [
       "MPO\n",
       "[1] ((dim=3|id=53|\"Qudit,Site,n=1\")', (dim=3|id=53|\"Qudit,Site,n=1\"), (dim=1|id=250|\"Link,l=1\"))\n",
       "[2] ((dim=3|id=316|\"Qudit,Site,n=2\")', (dim=3|id=316|\"Qudit,Site,n=2\"), (dim=1|id=649|\"Link,l=2\"), (dim=1|id=250|\"Link,l=1\"))\n",
       "[3] ((dim=3|id=245|\"Qudit,Site,n=3\")', (dim=3|id=245|\"Qudit,Site,n=3\"), (dim=1|id=107|\"Link,l=3\"), (dim=1|id=649|\"Link,l=2\"))\n",
       "[4] ((dim=3|id=883|\"Qudit,Site,n=4\")', (dim=3|id=883|\"Qudit,Site,n=4\"), (dim=1|id=629|\"Link,l=4\"), (dim=1|id=107|\"Link,l=3\"))\n",
       "[5] ((dim=3|id=919|\"Qudit,Site,n=5\")', (dim=3|id=919|\"Qudit,Site,n=5\"), (dim=1|id=961|\"Link,l=5\"), (dim=1|id=629|\"Link,l=4\"))\n",
       "[6] ((dim=3|id=269|\"Qudit,Site,n=6\")', (dim=3|id=269|\"Qudit,Site,n=6\"), (dim=1|id=481|\"Link,l=6\"), (dim=1|id=961|\"Link,l=5\"))\n",
       "[7] ((dim=3|id=944|\"Qudit,Site,n=7\")', (dim=3|id=944|\"Qudit,Site,n=7\"), (dim=1|id=493|\"Link,l=7\"), (dim=1|id=481|\"Link,l=6\"))\n",
       "[8] ((dim=3|id=830|\"Qudit,Site,n=8\")', (dim=3|id=830|\"Qudit,Site,n=8\"), (dim=1|id=493|\"Link,l=7\"))\n"
      ]
     },
     "metadata": {},
     "output_type": "display_data"
    }
   ],
   "source": [
    "rails = MPO(sites, input_list)\n",
    "excited_rail = MPO(sites, \"Ground\")"
   ]
  },
  {
   "cell_type": "code",
   "execution_count": 892,
   "metadata": {},
   "outputs": [
    {
     "data": {
      "text/plain": [
       "8-element Vector{Any}:\n",
       " 1.0\n",
       " 1.0\n",
       " 1.0\n",
       " 1.0\n",
       " 1.0\n",
       " 1.0\n",
       " 1.0\n",
       " 1.0"
      ]
     },
     "metadata": {},
     "output_type": "display_data"
    }
   ],
   "source": [
    "expect(rails, sites)"
   ]
  },
  {
   "cell_type": "code",
   "execution_count": 782,
   "metadata": {},
   "outputs": [
    {
     "name": "stdout",
     "output_type": "stream",
     "text": [
      "1.0 + 0.0im\n"
     ]
    }
   ],
   "source": [
    "beamsplitter(rails, 2, 6, sites)\n",
    "normalize!(rails)\n",
    "println(tr(rails))"
   ]
  },
  {
   "cell_type": "code",
   "execution_count": 783,
   "metadata": {},
   "outputs": [
    {
     "name": "stdout",
     "output_type": "stream",
     "text": [
      "0.9999999999999998 + 1.8169632348103397e-16im\n",
      "0.9999999999999982"
     ]
    },
    {
     "name": "stdout",
     "output_type": "stream",
     "text": [
      " - 1.3671525712072973e-16im\n"
     ]
    },
    {
     "name": "stdout",
     "output_type": "stream",
     "text": [
      "0.9999999999999978 + 1.5006352874974966e-16im\n"
     ]
    }
   ],
   "source": [
    "\n",
    "beamsplitter(rails, 3, 7, sites)\n",
    "normalize!(rails)\n",
    "println(tr(rails))\n",
    "beamsplitter(rails, 4, 8, sites)\n",
    "normalize!(rails)\n",
    "println(tr(rails))\n",
    "beamsplitter(rails, 1, 5, sites)\n",
    "normalize!(rails)\n",
    "println(tr(rails))\n",
    "#cutoff = 20\n"
   ]
  },
  {
   "cell_type": "code",
   "execution_count": 784,
   "metadata": {},
   "outputs": [
    {
     "name": "stdout",
     "output_type": "stream",
     "text": [
      "0.9999999999999961 + 5.173483756631972e-16im\n",
      "0.9999999999999967"
     ]
    },
    {
     "name": "stdout",
     "output_type": "stream",
     "text": [
      " + 2.089064435542515e-16im\n"
     ]
    },
    {
     "name": "stdout",
     "output_type": "stream",
     "text": [
      "0.9999999999999977 - 6.908616133495565e-16im\n",
      "0.9999999999999977"
     ]
    },
    {
     "name": "stdout",
     "output_type": "stream",
     "text": [
      " - 6.848952571757802e-16im\n"
     ]
    }
   ],
   "source": [
    "beamsplitter(rails, 5, 6, sites)\n",
    "normalize!(rails)\n",
    "println(tr(rails))\n",
    "beamsplitter(rails, 7, 8, sites)\n",
    "normalize!(rails)\n",
    "println(tr(rails))\n",
    "beamsplitter(rails, 5, 8, sites)\n",
    "normalize!(rails)\n",
    "println(tr(rails))\n",
    "beamsplitter(rails, 6, 7, sites)\n",
    "normalize!(rails)\n",
    "println(tr(rails))"
   ]
  },
  {
   "cell_type": "code",
   "execution_count": 785,
   "metadata": {},
   "outputs": [
    {
     "data": {
      "text/plain": [
       "0.9999999999999977 - 6.848952571757802e-16im"
      ]
     },
     "metadata": {},
     "output_type": "display_data"
    }
   ],
   "source": [
    "tr(rails)"
   ]
  },
  {
   "cell_type": "code",
   "execution_count": 786,
   "metadata": {},
   "outputs": [],
   "source": [
    "swap(rails, 6, 8, sites)"
   ]
  },
  {
   "cell_type": "code",
   "execution_count": 787,
   "metadata": {},
   "outputs": [
    {
     "data": {
      "text/plain": [
       "0.9999999999999958 - 7.601258468329633e-16im"
      ]
     },
     "metadata": {},
     "output_type": "display_data"
    }
   ],
   "source": [
    "tr(rails)"
   ]
  },
  {
   "cell_type": "code",
   "execution_count": 788,
   "metadata": {},
   "outputs": [
    {
     "data": {
      "text/plain": [
       "8-element Vector{ComplexF64}:\n",
       " 0.49999999999999967 + 2.0887248224420326e-15im\n",
       "  0.5000000000000019 + 8.340857101884456e-17im\n",
       "  0.5000000000000001 - 1.7808501107323514e-15im\n",
       "  0.4999999999999994 + 1.204489431412828e-16im\n",
       "  0.5000000000000002 - 6.095686331612628e-16im\n",
       "  0.4999999999999999 + 2.73231719765038e-16im\n",
       "  0.4999999999999993 - 2.5189295416095423e-16im\n",
       "  0.5000000000000021 - 1.8884575824153157e-15im"
      ]
     },
     "metadata": {},
     "output_type": "display_data"
    }
   ],
   "source": [
    "expect(rails, sites)/tr(rails)"
   ]
  },
  {
   "cell_type": "markdown",
   "metadata": {},
   "source": [
    "# Checking BS works"
   ]
  },
  {
   "cell_type": "code",
   "execution_count": 893,
   "metadata": {},
   "outputs": [
    {
     "data": {
      "text/plain": [
       "4-element Vector{Index{Int64}}:\n",
       " (dim=3|id=53|\"Qudit,Site,n=1\")\n",
       " (dim=3|id=316|\"Qudit,Site,n=2\")\n",
       " (dim=3|id=245|\"Qudit,Site,n=3\")\n",
       " (dim=3|id=883|\"Qudit,Site,n=4\")"
      ]
     },
     "metadata": {},
     "output_type": "display_data"
    }
   ],
   "source": [
    "el = [2,2,2,2]\n",
    "\n",
    "V = ITensor(1.)\n",
    "for j=8:-1:5\n",
    "  V *= ( state(sites[j],el[j-4])) * prime(state(sites[j],el[j-4])) * rails[j]\n",
    "end\n",
    "\n",
    "tensor = rails[1]*rails[2]*rails[3] *rails[4] * V\n",
    "sub_sites = sites[1:4]\n"
   ]
  },
  {
   "cell_type": "code",
   "execution_count": 896,
   "metadata": {},
   "outputs": [
    {
     "data": {
      "text/plain": [
       "1.0"
      ]
     },
     "metadata": {},
     "output_type": "display_data"
    }
   ],
   "source": [
    "tr(MPO( tensor ,sites[1:4]))"
   ]
  },
  {
   "cell_type": "code",
   "execution_count": 897,
   "metadata": {},
   "outputs": [
    {
     "data": {
      "text/plain": [
       "4-element Vector{Any}:\n",
       " 1.0\n",
       " 1.0\n",
       " 1.0\n",
       " 1.0"
      ]
     },
     "metadata": {},
     "output_type": "display_data"
    }
   ],
   "source": [
    "expect(MPO( tensor ,sites[1:4]),sub_sites, 4)"
   ]
  },
  {
   "cell_type": "markdown",
   "metadata": {},
   "source": [
    "# Appendix"
   ]
  },
  {
   "cell_type": "markdown",
   "metadata": {},
   "source": [
    "function beamsplitter(MPO_i, index_1, index_2, site_list)\n",
    "    #op_1 = op(\"Id\",site_list[1])\n",
    "    #op_1 = sqrt(0.5)* ((op(\"A\",site_list[index_1]) * op(\"Adag\",site_list[index_2])) + (op(\"A\",site_list[index_2]) * op(\"Adag\",site_list[index_1])))\n",
    "    op_1 = ((op(\"A\",site_list[index_1]) * op(\"Adag\",site_list[index_2])) + (op(\"A\",site_list[index_2]) * op(\"Adag\",site_list[index_1])))\n",
    "    #op_1 *= op(\"Id\", site_list[3])\n",
    "    #op_1 *= op(\"Id\", site_list[2])\n",
    "\n",
    "    #for i in 2:length(site_list)\n",
    "    #    if i == index_1 || i==index_2\n",
    "    #        nothing\n",
    "    #    else\n",
    "    #        op_1 *= op(\"Id\",site_list[i])\n",
    "    #    end\n",
    "    #end\n",
    "    #op_2 = op(\"A\",site_list[index_2]) * op(\"Adag\",site_list[index_1])\n",
    "    #for i in 1:length(site_list)\n",
    "    #    if i == index_1 || i==index_2\n",
    "    #        nothing\n",
    "    #    else\n",
    "    #        op_2 *= op(\"Id\",site_list[i])\n",
    "    #    end\n",
    "    #end\n",
    "    #os = op_1 + op_2\n",
    "    H_bs = exp((-im/4) * pi * op_1)\n",
    "    #term2 = MPO(H_bs, site_list)\n",
    "\n",
    "    c = cutoff\n",
    "    d = maxdim\n",
    "\n",
    "    #MPO_i[:] = apply(apply(term2, MPO_i ; cutoff= c , maxdim = d ),term2 ; cutoff= c , maxdim= d)\n",
    "    return op_1\n",
    "end"
   ]
  },
  {
   "cell_type": "markdown",
   "metadata": {},
   "source": [
    "\n",
    "#Notes; \n",
    "#1. Product still works with one common index\n",
    "#1.1 Order of MPO/A matters\n",
    "#2. Apply needs common index with zero prime at least\n",
    "#3. A(0,1) and rails(0,x) works\n",
    "#4. A(0,x) and rails(0,x) or A(0,x) and rails(0,1) dont work\n",
    "\n",
    "#Apply is complicated"
   ]
  },
  {
   "cell_type": "markdown",
   "metadata": {},
   "source": []
  },
  {
   "cell_type": "code",
   "execution_count": 804,
   "metadata": {},
   "outputs": [
    {
     "name": "stdout",
     "output_type": "stream",
     "text": [
      "A[1, 1] = 1.0\n"
     ]
    },
    {
     "data": {
      "text/plain": [
       "1.0"
      ]
     },
     "metadata": {},
     "output_type": "display_data"
    }
   ],
   "source": [
    "A = randomITensor(sites[5:8]) * 0\n",
    "A[1, 1] = 1\n",
    "rails_MPS = MPS(A ,sites[5:8] ; cutoff = cutoff, maxdim = maxdim )"
   ]
  },
  {
   "cell_type": "code",
   "execution_count": 801,
   "metadata": {},
   "outputs": [
    {
     "data": {
      "text/plain": [
       "8-element Vector{Float64}:\n",
       " 1.0\n",
       " 0.0\n",
       " 0.0\n",
       " 0.0\n",
       " 0.0\n",
       " 0.0\n",
       " 0.0\n",
       " 0.0"
      ]
     },
     "metadata": {},
     "output_type": "display_data"
    }
   ],
   "source": [
    "Nvals = expect(rails_MPS,\"N\")"
   ]
  }
 ],
 "metadata": {
  "kernelspec": {
   "display_name": "Julia 1.9.3",
   "language": "julia",
   "name": "julia-1.9"
  },
  "language_info": {
   "file_extension": ".jl",
   "mimetype": "application/julia",
   "name": "julia",
   "version": "1.9.3"
  }
 },
 "nbformat": 4,
 "nbformat_minor": 2
}
