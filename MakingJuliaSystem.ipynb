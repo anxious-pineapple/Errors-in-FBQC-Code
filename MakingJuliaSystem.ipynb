{
 "cells": [
  {
   "cell_type": "code",
   "execution_count": 1,
   "metadata": {},
   "outputs": [],
   "source": [
    "using ITensors"
   ]
  },
  {
   "cell_type": "code",
   "execution_count": 10,
   "metadata": {},
   "outputs": [
    {
     "data": {
      "text/plain": [
       "MPO\n",
       "[1] IndexSet{3} (dim=4|id=211|\"i\")' (dim=4|id=211|\"i\") (dim=16|id=742|\"Link,fact\")\n",
       "[2] IndexSet{3} (dim=4|id=653|\"j\")' (dim=4|id=653|\"j\") (dim=16|id=742|\"Link,fact\")\n"
      ]
     },
     "metadata": {},
     "output_type": "display_data"
    }
   ],
   "source": [
    "i = Index(4,\"i\")\n",
    "j = Index(4,\"j\")\n",
    "k = Index(4,\"k\")\n",
    "\n",
    "D_tens = randomITensor(i,j)\n",
    "D = MPS(D_tens, (i,j))\n",
    "D_try = MPO(D)"
   ]
  },
  {
   "cell_type": "code",
   "execution_count": 5,
   "metadata": {},
   "outputs": [
    {
     "data": {
      "text/plain": [
       "ITensor ord=2 (dim=4|id=788|\"i\") (dim=4|id=378|\"j\")\n",
       "NDTensors.Dense{Float64, Vector{Float64}}"
      ]
     },
     "metadata": {},
     "output_type": "display_data"
    }
   ],
   "source": [
    "tr(D)"
   ]
  },
  {
   "cell_type": "code",
   "execution_count": 3,
   "metadata": {},
   "outputs": [
    {
     "name": "stdout",
     "output_type": "stream",
     "text": [
      "tr(D_tens) = ITensor ord=2\n",
      "Dim 1: (dim=4|id=788|\"i\")\n",
      "Dim 2: (dim=4|id=378|\"j\")\n",
      "NDTensors.Dense{Float64, Vector{Float64}}\n",
      " 4×4\n",
      " -0.19512149681793506  -0.21451910331345977  -1.411000318293565     1.9927103103527184\n",
      " -2.9968175129429784   -1.044526872020702     0.7201166322544937   -0.5006942029161836\n",
      "  0.4697451838771531    0.04029689289372212   0.4647816660379396   -0.1979614024264305\n",
      "  0.4093376083484511    0.1964754666247093   -0.11202958977030755   1.8304774046539942\n"
     ]
    },
    {
     "data": {
      "text/plain": [
       "ITensor ord=2 (dim=4|id=788|\"i\") (dim=4|id=378|\"j\")\n",
       "NDTensors.Dense{Float64, Vector{Float64}}"
      ]
     },
     "metadata": {},
     "output_type": "display_data"
    }
   ],
   "source": [
    "@show tr(D_tens)"
   ]
  },
  {
   "cell_type": "code",
   "execution_count": 7,
   "metadata": {},
   "outputs": [
    {
     "data": {
      "text/plain": [
       "(dim=4|id=562|\"j\")"
      ]
     },
     "metadata": {},
     "output_type": "display_data"
    }
   ],
   "source": [
    "s = siteinds(\"S=1/2\", 2)\n",
    "#psi = MPO(4)\n",
    "j = Index(4,\"j\")"
   ]
  },
  {
   "cell_type": "code",
   "execution_count": 8,
   "metadata": {},
   "outputs": [
    {
     "data": {
      "text/plain": [
       "3-element Vector{Index{Int64}}:\n",
       " (dim=2|id=433|\"S=1/2,Site,n=1\")\n",
       " (dim=2|id=245|\"S=1/2,Site,n=2\")\n",
       " (dim=4|id=562|\"j\")"
      ]
     },
     "metadata": {},
     "output_type": "display_data"
    }
   ],
   "source": [
    "push!(s, j)"
   ]
  },
  {
   "cell_type": "code",
   "execution_count": 9,
   "metadata": {},
   "outputs": [
    {
     "data": {
      "text/plain": [
       "MPO\n",
       "[1] IndexSet{3} (dim=2|id=433|\"S=1/2,Site,n=1\")' (dim=2|id=433|\"S=1/2,Site,n=1\") (dim=1|id=896|\"Link,l=1\")\n",
       "[2] IndexSet{4} (dim=2|id=245|\"S=1/2,Site,n=2\")' (dim=2|id=245|\"S=1/2,Site,n=2\") (dim=1|id=504|\"Link,l=2\") (dim=1|id=896|\"Link,l=1\")\n",
       "[3] IndexSet{3} (dim=4|id=562|\"j\")' (dim=4|id=562|\"j\") (dim=1|id=504|\"Link,l=2\")\n"
      ]
     },
     "metadata": {},
     "output_type": "display_data"
    }
   ],
   "source": [
    "A = MPO(s,\"Id\")\n",
    "# identity operation?"
   ]
  },
  {
   "cell_type": "code",
   "execution_count": null,
   "metadata": {},
   "outputs": [],
   "source": [
    "A .*= 0"
   ]
  },
  {
   "cell_type": "code",
   "execution_count": null,
   "metadata": {},
   "outputs": [],
   "source": [
    "tr(A)"
   ]
  },
  {
   "cell_type": "code",
   "execution_count": null,
   "metadata": {},
   "outputs": [],
   "source": [
    "@show A[1] * A[2]"
   ]
  },
  {
   "cell_type": "code",
   "execution_count": null,
   "metadata": {},
   "outputs": [],
   "source": [
    "one"
   ]
  },
  {
   "cell_type": "code",
   "execution_count": null,
   "metadata": {},
   "outputs": [],
   "source": [
    "A * delta(s[1],s[1'])"
   ]
  },
  {
   "cell_type": "code",
   "execution_count": null,
   "metadata": {},
   "outputs": [],
   "source": [
    "@show A[5]"
   ]
  },
  {
   "cell_type": "code",
   "execution_count": null,
   "metadata": {},
   "outputs": [],
   "source": [
    "M = [0.0 1.0;\n",
    "     0.0 0.0]\n",
    "\n",
    "i = Index(2,\"S=1/2,Site,n=1\")\n",
    "\n",
    "\n",
    "B = ITensor(M,s[1],j)\n"
   ]
  },
  {
   "cell_type": "code",
   "execution_count": null,
   "metadata": {},
   "outputs": [],
   "source": [
    "A_ = B * A[1]"
   ]
  },
  {
   "cell_type": "code",
   "execution_count": null,
   "metadata": {},
   "outputs": [],
   "source": [
    "@show A_"
   ]
  },
  {
   "cell_type": "code",
   "execution_count": null,
   "metadata": {},
   "outputs": [],
   "source": [
    "?op"
   ]
  },
  {
   "cell_type": "code",
   "execution_count": null,
   "metadata": {},
   "outputs": [],
   "source": []
  }
 ],
 "metadata": {
  "kernelspec": {
   "display_name": "Julia 1.9.3",
   "language": "julia",
   "name": "julia-1.9"
  },
  "language_info": {
   "file_extension": ".jl",
   "mimetype": "application/julia",
   "name": "julia",
   "version": "1.9.3"
  }
 },
 "nbformat": 4,
 "nbformat_minor": 2
}
